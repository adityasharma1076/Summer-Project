{
 "cells": [
  {
   "cell_type": "code",
   "execution_count": 1,
   "metadata": {},
   "outputs": [],
   "source": [
    "import requests\n",
    "import bs4\n",
    "import pandas as pd"
   ]
  },
  {
   "cell_type": "code",
   "execution_count": 2,
   "metadata": {},
   "outputs": [],
   "source": [
    "link = 'https://www.hindustantimes.com/education/'\n",
    "res = requests.get(link)\n"
   ]
  },
  {
   "cell_type": "code",
   "execution_count": 3,
   "metadata": {},
   "outputs": [],
   "source": [
    "soup = bs4.BeautifulSoup(res.text,'lxml')"
   ]
  },
  {
   "cell_type": "code",
   "execution_count": 10,
   "metadata": {},
   "outputs": [],
   "source": [
    "content = soup.select('.media-body')\n"
   ]
  },
  {
   "cell_type": "code",
   "execution_count": 12,
   "metadata": {},
   "outputs": [
    {
     "data": {
      "text/plain": [
       "<div class=\"media-body\">\n",
       "<div class=\"media-heading headingfive\">\n",
       "<a href=\"https://www.hindustantimes.com/education/show-cause-to-teachers-of-delhi-government-schools-over-poor-performance-of-students/story-TWNtiTAHGLoDhiJC5zb1MM.html\">Show- cause to teachers of Delhi government schools over poor performance of students</a>\n",
       "</div>\n",
       "<span class=\"time-dt mb-5\">May 19, 2019 09:45</span>\n",
       "</div>"
      ]
     },
     "execution_count": 12,
     "metadata": {},
     "output_type": "execute_result"
    }
   ],
   "source": [
    "content[0]"
   ]
  },
  {
   "cell_type": "code",
   "execution_count": 15,
   "metadata": {},
   "outputs": [
    {
     "data": {
      "text/plain": [
       "'Show- cause to teachers of Delhi government schools over poor performance of students'"
      ]
     },
     "execution_count": 15,
     "metadata": {},
     "output_type": "execute_result"
    }
   ],
   "source": [
    "content[0].find('a').text"
   ]
  },
  {
   "cell_type": "code",
   "execution_count": 16,
   "metadata": {},
   "outputs": [
    {
     "data": {
      "text/plain": [
       "'https://www.hindustantimes.com/education/show-cause-to-teachers-of-delhi-government-schools-over-poor-performance-of-students/story-TWNtiTAHGLoDhiJC5zb1MM.html'"
      ]
     },
     "execution_count": 16,
     "metadata": {},
     "output_type": "execute_result"
    }
   ],
   "source": [
    "content[0].find('a')['href']"
   ]
  },
  {
   "cell_type": "code",
   "execution_count": 20,
   "metadata": {},
   "outputs": [
    {
     "data": {
      "text/plain": [
       "'May 19, 2019'"
      ]
     },
     "execution_count": 20,
     "metadata": {},
     "output_type": "execute_result"
    }
   ],
   "source": [
    "content[0].find('span').text[:12]"
   ]
  },
  {
   "cell_type": "code",
   "execution_count": 22,
   "metadata": {},
   "outputs": [],
   "source": [
    "records=[]\n",
    "for record in content:\n",
    "    Heading = record.find('a').text\n",
    "    URL = record.find('a')['href']\n",
    "    date = record.find('span').text[:12]\n",
    "    \n",
    "    records.append((Heading,date,URL))"
   ]
  },
  {
   "cell_type": "code",
   "execution_count": 26,
   "metadata": {},
   "outputs": [],
   "source": [
    "df=pd.DataFrame(records,columns=['Heading','Date','URL'])\n",
    "df['Date'] = pd.to_datetime(df['Date'])"
   ]
  },
  {
   "cell_type": "code",
   "execution_count": 27,
   "metadata": {},
   "outputs": [
    {
     "data": {
      "text/html": [
       "<div>\n",
       "<style scoped>\n",
       "    .dataframe tbody tr th:only-of-type {\n",
       "        vertical-align: middle;\n",
       "    }\n",
       "\n",
       "    .dataframe tbody tr th {\n",
       "        vertical-align: top;\n",
       "    }\n",
       "\n",
       "    .dataframe thead th {\n",
       "        text-align: right;\n",
       "    }\n",
       "</style>\n",
       "<table border=\"1\" class=\"dataframe\">\n",
       "  <thead>\n",
       "    <tr style=\"text-align: right;\">\n",
       "      <th></th>\n",
       "      <th>Heading</th>\n",
       "      <th>Date</th>\n",
       "      <th>URL</th>\n",
       "    </tr>\n",
       "  </thead>\n",
       "  <tbody>\n",
       "    <tr>\n",
       "      <th>0</th>\n",
       "      <td>Show- cause to teachers of Delhi government sc...</td>\n",
       "      <td>2019-05-19</td>\n",
       "      <td>https://www.hindustantimes.com/education/show-...</td>\n",
       "    </tr>\n",
       "    <tr>\n",
       "      <th>1</th>\n",
       "      <td>UGC asks Kolhan University to start diploma co...</td>\n",
       "      <td>2019-05-19</td>\n",
       "      <td>https://www.hindustantimes.com/education/ugc-a...</td>\n",
       "    </tr>\n",
       "    <tr>\n",
       "      <th>2</th>\n",
       "      <td>Upset over marks, Class 12 Sonepat boy who sco...</td>\n",
       "      <td>2019-05-19</td>\n",
       "      <td>https://www.hindustantimes.com/india-news/upse...</td>\n",
       "    </tr>\n",
       "    <tr>\n",
       "      <th>3</th>\n",
       "      <td>BSE Odisha 10th Result 2019 to be declared on ...</td>\n",
       "      <td>2019-05-19</td>\n",
       "      <td>https://www.hindustantimes.com/education/bse-o...</td>\n",
       "    </tr>\n",
       "    <tr>\n",
       "      <th>4</th>\n",
       "      <td>Jauhar textbook row reaches Rajasthan CM’s office</td>\n",
       "      <td>2019-05-19</td>\n",
       "      <td>https://www.hindustantimes.com/education/jauha...</td>\n",
       "    </tr>\n",
       "  </tbody>\n",
       "</table>\n",
       "</div>"
      ],
      "text/plain": [
       "                                             Heading       Date  \\\n",
       "0  Show- cause to teachers of Delhi government sc... 2019-05-19   \n",
       "1  UGC asks Kolhan University to start diploma co... 2019-05-19   \n",
       "2  Upset over marks, Class 12 Sonepat boy who sco... 2019-05-19   \n",
       "3  BSE Odisha 10th Result 2019 to be declared on ... 2019-05-19   \n",
       "4  Jauhar textbook row reaches Rajasthan CM’s office 2019-05-19   \n",
       "\n",
       "                                                 URL  \n",
       "0  https://www.hindustantimes.com/education/show-...  \n",
       "1  https://www.hindustantimes.com/education/ugc-a...  \n",
       "2  https://www.hindustantimes.com/india-news/upse...  \n",
       "3  https://www.hindustantimes.com/education/bse-o...  \n",
       "4  https://www.hindustantimes.com/education/jauha...  "
      ]
     },
     "execution_count": 27,
     "metadata": {},
     "output_type": "execute_result"
    }
   ],
   "source": [
    "df.head()"
   ]
  },
  {
   "cell_type": "code",
   "execution_count": 28,
   "metadata": {},
   "outputs": [],
   "source": [
    "df.to_csv('HT_education.csv',index=False,encoding='utf-8')"
   ]
  },
  {
   "cell_type": "code",
   "execution_count": null,
   "metadata": {},
   "outputs": [],
   "source": []
  },
  {
   "cell_type": "code",
   "execution_count": null,
   "metadata": {},
   "outputs": [],
   "source": []
  }
 ],
 "metadata": {
  "kernelspec": {
   "display_name": "Python 3",
   "language": "python",
   "name": "python3"
  },
  "language_info": {
   "codemirror_mode": {
    "name": "ipython",
    "version": 3
   },
   "file_extension": ".py",
   "mimetype": "text/x-python",
   "name": "python",
   "nbconvert_exporter": "python",
   "pygments_lexer": "ipython3",
   "version": "3.6.5"
  }
 },
 "nbformat": 4,
 "nbformat_minor": 2
}

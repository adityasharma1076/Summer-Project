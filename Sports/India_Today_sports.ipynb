{
 "cells": [
  {
   "cell_type": "code",
   "execution_count": 1,
   "metadata": {},
   "outputs": [],
   "source": [
    "import requests\n",
    "import bs4\n",
    "import pandas as pd\n",
    "import os"
   ]
  },
  {
   "cell_type": "code",
   "execution_count": 2,
   "metadata": {},
   "outputs": [],
   "source": [
    "import datetime\n",
    "\n",
    "now = datetime.datetime.now()\n",
    "\n",
    "\n",
    "Today_time = now.strftime(\"%H:%M\")\n",
    "\n",
    "Today_date = now.strftime(\"%Y-%m-%d\")\n"
   ]
  },
  {
   "cell_type": "code",
   "execution_count": 3,
   "metadata": {},
   "outputs": [],
   "source": [
    "link = 'https://www.indiatoday.in/sports'"
   ]
  },
  {
   "cell_type": "code",
   "execution_count": 4,
   "metadata": {},
   "outputs": [],
   "source": [
    "res = requests.get(link)\n",
    "soup = bs4.BeautifulSoup(res.text,'lxml')"
   ]
  },
  {
   "cell_type": "code",
   "execution_count": 5,
   "metadata": {},
   "outputs": [],
   "source": [
    "content = soup.select(\".itg-listing\")"
   ]
  },
  {
   "cell_type": "code",
   "execution_count": null,
   "metadata": {},
   "outputs": [],
   "source": []
  },
  {
   "cell_type": "code",
   "execution_count": 6,
   "metadata": {},
   "outputs": [],
   "source": [
    "top_news=content[0].findAll('li')"
   ]
  },
  {
   "cell_type": "code",
   "execution_count": 7,
   "metadata": {},
   "outputs": [],
   "source": [
    "def record_URL(x):\n",
    "    y='https://www.indiatoday.in'\n",
    "    url = y+x \n",
    "    return url"
   ]
  },
  {
   "cell_type": "code",
   "execution_count": 8,
   "metadata": {},
   "outputs": [],
   "source": [
    "records=[]\n",
    "for i in content:\n",
    "    section = i.findAll('li')\n",
    "    for record in section:\n",
    "\n",
    "        Heading = record.text\n",
    "        URL= record_URL(record.find('a')['href'])\n",
    "        Date = Today_date\n",
    "        Time = Today_time\n",
    "        Newspaper = 'India Today'\n",
    "        records.append((Newspaper,Heading,Date,Time,URL))"
   ]
  },
  {
   "cell_type": "code",
   "execution_count": null,
   "metadata": {},
   "outputs": [],
   "source": []
  },
  {
   "cell_type": "code",
   "execution_count": 9,
   "metadata": {},
   "outputs": [],
   "source": [
    "sports_videos = soup.find(\"ul\",{\"class\":\"trending-videos\"})"
   ]
  },
  {
   "cell_type": "code",
   "execution_count": 10,
   "metadata": {},
   "outputs": [],
   "source": [
    "sports_videos_list = sports_videos.findAll('li')"
   ]
  },
  {
   "cell_type": "code",
   "execution_count": 11,
   "metadata": {},
   "outputs": [],
   "source": [
    "for record in sports_videos_list:\n",
    "        Heading = record.text\n",
    "        URL= record.find('a')['href']\n",
    "        Date = Today_date\n",
    "        Time = Today_time\n",
    "        Newspaper = 'India Today'\n",
    "        records.append((Newspaper,Heading,Date,Time,URL))"
   ]
  },
  {
   "cell_type": "code",
   "execution_count": null,
   "metadata": {},
   "outputs": [],
   "source": []
  },
  {
   "cell_type": "code",
   "execution_count": 12,
   "metadata": {},
   "outputs": [],
   "source": [
    "section_news = soup.select(\".section-ordering\")"
   ]
  },
  {
   "cell_type": "code",
   "execution_count": 13,
   "metadata": {},
   "outputs": [],
   "source": [
    "p = section_news[0].findAll('p')"
   ]
  },
  {
   "cell_type": "code",
   "execution_count": 14,
   "metadata": {},
   "outputs": [],
   "source": [
    "for record in p:\n",
    "    Heading = record.text\n",
    "    URL= record_URL(record.find('a')['href'])\n",
    "    Date = Today_date\n",
    "    Time = Today_time\n",
    "    Newspaper = 'India Today'\n",
    "    records.append((Newspaper,Heading,Date,Time,URL))"
   ]
  },
  {
   "cell_type": "code",
   "execution_count": 15,
   "metadata": {},
   "outputs": [],
   "source": [
    "for i in section_news:\n",
    "    li = i.findAll('p')\n",
    "    for record in li:\n",
    "        Heading = record.text\n",
    "        URL= record_URL(record.find('a')['href'])\n",
    "        Date = Today_date\n",
    "        Time = Today_time\n",
    "        Newspaper = 'India Today'\n",
    "        records.append((Newspaper,Heading,Date,Time,URL))"
   ]
  },
  {
   "cell_type": "code",
   "execution_count": 16,
   "metadata": {},
   "outputs": [],
   "source": [
    "import pandas as pd\n",
    "df=pd.DataFrame(records,columns=['Newspaper','Heading','Date','Time','URL'])\n",
    "df['Date'] = pd.to_datetime(df['Date'])"
   ]
  },
  {
   "cell_type": "code",
   "execution_count": 17,
   "metadata": {},
   "outputs": [
    {
     "data": {
      "text/html": [
       "<div>\n",
       "<style scoped>\n",
       "    .dataframe tbody tr th:only-of-type {\n",
       "        vertical-align: middle;\n",
       "    }\n",
       "\n",
       "    .dataframe tbody tr th {\n",
       "        vertical-align: top;\n",
       "    }\n",
       "\n",
       "    .dataframe thead th {\n",
       "        text-align: right;\n",
       "    }\n",
       "</style>\n",
       "<table border=\"1\" class=\"dataframe\">\n",
       "  <thead>\n",
       "    <tr style=\"text-align: right;\">\n",
       "      <th></th>\n",
       "      <th>Newspaper</th>\n",
       "      <th>Heading</th>\n",
       "      <th>Date</th>\n",
       "      <th>Time</th>\n",
       "      <th>URL</th>\n",
       "    </tr>\n",
       "  </thead>\n",
       "  <tbody>\n",
       "    <tr>\n",
       "      <th>0</th>\n",
       "      <td>India Today</td>\n",
       "      <td>No regrets about 2007 World T20 final scoop s...</td>\n",
       "      <td>2019-06-02</td>\n",
       "      <td>20:29</td>\n",
       "      <td>https://www.indiatoday.in/sports/cricket-world...</td>\n",
       "    </tr>\n",
       "    <tr>\n",
       "      <th>1</th>\n",
       "      <td>India Today</td>\n",
       "      <td>Salaam Cricket 2019: India's bowling attack b...</td>\n",
       "      <td>2019-06-02</td>\n",
       "      <td>20:29</td>\n",
       "      <td>https://www.indiatoday.in/sports/cricket-world...</td>\n",
       "    </tr>\n",
       "    <tr>\n",
       "      <th>2</th>\n",
       "      <td>India Today</td>\n",
       "      <td>Salaam Cricket 2019: Harbhajan, Misbah talk a...</td>\n",
       "      <td>2019-06-02</td>\n",
       "      <td>20:29</td>\n",
       "      <td>https://www.indiatoday.in/sports/photo/salaam-...</td>\n",
       "    </tr>\n",
       "    <tr>\n",
       "      <th>3</th>\n",
       "      <td>India Today</td>\n",
       "      <td>Virat Kohli’s hunger to perform great positiv...</td>\n",
       "      <td>2019-06-02</td>\n",
       "      <td>20:29</td>\n",
       "      <td>https://www.indiatoday.in/sports/cricket-world...</td>\n",
       "    </tr>\n",
       "    <tr>\n",
       "      <th>4</th>\n",
       "      <td>India Today</td>\n",
       "      <td>Salaam Cricket 2019: R Ashwin predicts India ...</td>\n",
       "      <td>2019-06-02</td>\n",
       "      <td>20:29</td>\n",
       "      <td>https://www.indiatoday.in/sports/cricket-world...</td>\n",
       "    </tr>\n",
       "    <tr>\n",
       "      <th>5</th>\n",
       "      <td>India Today</td>\n",
       "      <td>It is a real honour to be here: Ranveer Singh...</td>\n",
       "      <td>2019-06-02</td>\n",
       "      <td>20:29</td>\n",
       "      <td>https://www.indiatoday.in/sports/video/salaam-...</td>\n",
       "    </tr>\n",
       "    <tr>\n",
       "      <th>6</th>\n",
       "      <td>India Today</td>\n",
       "      <td>Salaam Cricket 2019: Michael Clarke and Nasse...</td>\n",
       "      <td>2019-06-02</td>\n",
       "      <td>20:29</td>\n",
       "      <td>https://www.indiatoday.in/sports/photo/salaam-...</td>\n",
       "    </tr>\n",
       "    <tr>\n",
       "      <th>7</th>\n",
       "      <td>India Today</td>\n",
       "      <td>Salaam Cricket 2019: When Shoaib Akhtar asked...</td>\n",
       "      <td>2019-06-02</td>\n",
       "      <td>20:29</td>\n",
       "      <td>https://www.indiatoday.in/sports/cricket-world...</td>\n",
       "    </tr>\n",
       "    <tr>\n",
       "      <th>8</th>\n",
       "      <td>India Today</td>\n",
       "      <td>Salaam Cricket 2019 Live: Sachin Tendulkar, W...</td>\n",
       "      <td>2019-06-02</td>\n",
       "      <td>20:29</td>\n",
       "      <td>https://www.indiatoday.in/sports/story/salaam-...</td>\n",
       "    </tr>\n",
       "    <tr>\n",
       "      <th>9</th>\n",
       "      <td>India Today</td>\n",
       "      <td>Sourav Ganguly changed India into a ruthless ...</td>\n",
       "      <td>2019-06-02</td>\n",
       "      <td>20:29</td>\n",
       "      <td>https://www.indiatoday.in/sports/story/salaam-...</td>\n",
       "    </tr>\n",
       "    <tr>\n",
       "      <th>10</th>\n",
       "      <td>India Today</td>\n",
       "      <td>Salaam Cricket 2019: Warne refuses to pick hi...</td>\n",
       "      <td>2019-06-02</td>\n",
       "      <td>20:29</td>\n",
       "      <td>https://www.indiatoday.in/sports/video/salaam-...</td>\n",
       "    </tr>\n",
       "    <tr>\n",
       "      <th>11</th>\n",
       "      <td>India Today</td>\n",
       "      <td>Salaam Cricket 2019: Gavaskar clarifies 1983 ...</td>\n",
       "      <td>2019-06-02</td>\n",
       "      <td>20:29</td>\n",
       "      <td>https://www.indiatoday.in/sports/video/salaam-...</td>\n",
       "    </tr>\n",
       "    <tr>\n",
       "      <th>12</th>\n",
       "      <td>India Today</td>\n",
       "      <td>India will be under pressure, Pakistan have n...</td>\n",
       "      <td>2019-06-02</td>\n",
       "      <td>20:29</td>\n",
       "      <td>https://www.indiatoday.in/sports/cricket-world...</td>\n",
       "    </tr>\n",
       "    <tr>\n",
       "      <th>13</th>\n",
       "      <td>India Today</td>\n",
       "      <td>Salaam Cricket 2019: Shane Warne, Sunil Gavas...</td>\n",
       "      <td>2019-06-02</td>\n",
       "      <td>20:29</td>\n",
       "      <td>https://www.indiatoday.in/sports/photo/salaam-...</td>\n",
       "    </tr>\n",
       "    <tr>\n",
       "      <th>14</th>\n",
       "      <td>India Today</td>\n",
       "      <td>Salaam Cricket 2019: Pakistan do not have the...</td>\n",
       "      <td>2019-06-02</td>\n",
       "      <td>20:29</td>\n",
       "      <td>https://www.indiatoday.in/sports/cricket-world...</td>\n",
       "    </tr>\n",
       "    <tr>\n",
       "      <th>15</th>\n",
       "      <td>India Today</td>\n",
       "      <td>Salaam Cricket 2019: Shane Warne picks his dr...</td>\n",
       "      <td>2019-06-02</td>\n",
       "      <td>20:29</td>\n",
       "      <td>https://www.indiatoday.in/sports/cricket-world...</td>\n",
       "    </tr>\n",
       "    <tr>\n",
       "      <th>16</th>\n",
       "      <td>India Today</td>\n",
       "      <td>Salaam Cricket 2019: Kapil Dev greatest India...</td>\n",
       "      <td>2019-06-02</td>\n",
       "      <td>20:29</td>\n",
       "      <td>https://www.indiatoday.in/sports/story/salaam-...</td>\n",
       "    </tr>\n",
       "    <tr>\n",
       "      <th>17</th>\n",
       "      <td>India Today</td>\n",
       "      <td>Salaam Cricket 2019: Full guest list, se...</td>\n",
       "      <td>2019-06-02</td>\n",
       "      <td>20:29</td>\n",
       "      <td>https://www.indiatoday.in/sports/story/salaam-...</td>\n",
       "    </tr>\n",
       "    <tr>\n",
       "      <th>18</th>\n",
       "      <td>India Today</td>\n",
       "      <td>Rohit Sharma and Shikhar Dhawan reveal t...</td>\n",
       "      <td>2019-06-02</td>\n",
       "      <td>20:29</td>\n",
       "      <td>https://www.indiatoday.in/sports/cricket/story...</td>\n",
       "    </tr>\n",
       "    <tr>\n",
       "      <th>19</th>\n",
       "      <td>India Today</td>\n",
       "      <td>NZ vs SL Highlights, ICC World Cup 2019:...</td>\n",
       "      <td>2019-06-02</td>\n",
       "      <td>20:29</td>\n",
       "      <td>https://www.indiatoday.in/sports/story/new-zea...</td>\n",
       "    </tr>\n",
       "    <tr>\n",
       "      <th>20</th>\n",
       "      <td>India Today</td>\n",
       "      <td>Former first-class players request BCCI ...</td>\n",
       "      <td>2019-06-02</td>\n",
       "      <td>20:29</td>\n",
       "      <td>https://www.indiatoday.in/sports/cricket/story...</td>\n",
       "    </tr>\n",
       "    <tr>\n",
       "      <th>21</th>\n",
       "      <td>India Today</td>\n",
       "      <td>IPL 2019: After historic triumph, Rohit Sharm...</td>\n",
       "      <td>2019-06-02</td>\n",
       "      <td>20:29</td>\n",
       "      <td>https://www.indiatoday.in/sports/story/ipl-201...</td>\n",
       "    </tr>\n",
       "    <tr>\n",
       "      <th>22</th>\n",
       "      <td>India Today</td>\n",
       "      <td>IPL 2019: Shane Watson touched by CSK fans' s...</td>\n",
       "      <td>2019-06-02</td>\n",
       "      <td>20:29</td>\n",
       "      <td>https://www.indiatoday.in/sports/story/shane-w...</td>\n",
       "    </tr>\n",
       "    <tr>\n",
       "      <th>23</th>\n",
       "      <td>India Today</td>\n",
       "      <td>IPL 2019: After historic triumph, Rohit Sharm...</td>\n",
       "      <td>2019-06-02</td>\n",
       "      <td>20:29</td>\n",
       "      <td>https://www.indiatoday.in/sports/story/ipl-201...</td>\n",
       "    </tr>\n",
       "    <tr>\n",
       "      <th>24</th>\n",
       "      <td>India Today</td>\n",
       "      <td>IPL 2019: Shane Watson touched by CSK fans' s...</td>\n",
       "      <td>2019-06-02</td>\n",
       "      <td>20:29</td>\n",
       "      <td>https://www.indiatoday.in/sports/story/shane-w...</td>\n",
       "    </tr>\n",
       "  </tbody>\n",
       "</table>\n",
       "</div>"
      ],
      "text/plain": [
       "      Newspaper                                            Heading       Date  \\\n",
       "0   India Today   No regrets about 2007 World T20 final scoop s... 2019-06-02   \n",
       "1   India Today   Salaam Cricket 2019: India's bowling attack b... 2019-06-02   \n",
       "2   India Today   Salaam Cricket 2019: Harbhajan, Misbah talk a... 2019-06-02   \n",
       "3   India Today   Virat Kohli’s hunger to perform great positiv... 2019-06-02   \n",
       "4   India Today   Salaam Cricket 2019: R Ashwin predicts India ... 2019-06-02   \n",
       "5   India Today   It is a real honour to be here: Ranveer Singh... 2019-06-02   \n",
       "6   India Today   Salaam Cricket 2019: Michael Clarke and Nasse... 2019-06-02   \n",
       "7   India Today   Salaam Cricket 2019: When Shoaib Akhtar asked... 2019-06-02   \n",
       "8   India Today   Salaam Cricket 2019 Live: Sachin Tendulkar, W... 2019-06-02   \n",
       "9   India Today   Sourav Ganguly changed India into a ruthless ... 2019-06-02   \n",
       "10  India Today   Salaam Cricket 2019: Warne refuses to pick hi... 2019-06-02   \n",
       "11  India Today   Salaam Cricket 2019: Gavaskar clarifies 1983 ... 2019-06-02   \n",
       "12  India Today   India will be under pressure, Pakistan have n... 2019-06-02   \n",
       "13  India Today   Salaam Cricket 2019: Shane Warne, Sunil Gavas... 2019-06-02   \n",
       "14  India Today   Salaam Cricket 2019: Pakistan do not have the... 2019-06-02   \n",
       "15  India Today   Salaam Cricket 2019: Shane Warne picks his dr... 2019-06-02   \n",
       "16  India Today   Salaam Cricket 2019: Kapil Dev greatest India... 2019-06-02   \n",
       "17  India Today        Salaam Cricket 2019: Full guest list, se... 2019-06-02   \n",
       "18  India Today        Rohit Sharma and Shikhar Dhawan reveal t... 2019-06-02   \n",
       "19  India Today        NZ vs SL Highlights, ICC World Cup 2019:... 2019-06-02   \n",
       "20  India Today        Former first-class players request BCCI ... 2019-06-02   \n",
       "21  India Today   IPL 2019: After historic triumph, Rohit Sharm... 2019-06-02   \n",
       "22  India Today   IPL 2019: Shane Watson touched by CSK fans' s... 2019-06-02   \n",
       "23  India Today   IPL 2019: After historic triumph, Rohit Sharm... 2019-06-02   \n",
       "24  India Today   IPL 2019: Shane Watson touched by CSK fans' s... 2019-06-02   \n",
       "\n",
       "     Time                                                URL  \n",
       "0   20:29  https://www.indiatoday.in/sports/cricket-world...  \n",
       "1   20:29  https://www.indiatoday.in/sports/cricket-world...  \n",
       "2   20:29  https://www.indiatoday.in/sports/photo/salaam-...  \n",
       "3   20:29  https://www.indiatoday.in/sports/cricket-world...  \n",
       "4   20:29  https://www.indiatoday.in/sports/cricket-world...  \n",
       "5   20:29  https://www.indiatoday.in/sports/video/salaam-...  \n",
       "6   20:29  https://www.indiatoday.in/sports/photo/salaam-...  \n",
       "7   20:29  https://www.indiatoday.in/sports/cricket-world...  \n",
       "8   20:29  https://www.indiatoday.in/sports/story/salaam-...  \n",
       "9   20:29  https://www.indiatoday.in/sports/story/salaam-...  \n",
       "10  20:29  https://www.indiatoday.in/sports/video/salaam-...  \n",
       "11  20:29  https://www.indiatoday.in/sports/video/salaam-...  \n",
       "12  20:29  https://www.indiatoday.in/sports/cricket-world...  \n",
       "13  20:29  https://www.indiatoday.in/sports/photo/salaam-...  \n",
       "14  20:29  https://www.indiatoday.in/sports/cricket-world...  \n",
       "15  20:29  https://www.indiatoday.in/sports/cricket-world...  \n",
       "16  20:29  https://www.indiatoday.in/sports/story/salaam-...  \n",
       "17  20:29  https://www.indiatoday.in/sports/story/salaam-...  \n",
       "18  20:29  https://www.indiatoday.in/sports/cricket/story...  \n",
       "19  20:29  https://www.indiatoday.in/sports/story/new-zea...  \n",
       "20  20:29  https://www.indiatoday.in/sports/cricket/story...  \n",
       "21  20:29  https://www.indiatoday.in/sports/story/ipl-201...  \n",
       "22  20:29  https://www.indiatoday.in/sports/story/shane-w...  \n",
       "23  20:29  https://www.indiatoday.in/sports/story/ipl-201...  \n",
       "24  20:29  https://www.indiatoday.in/sports/story/shane-w...  "
      ]
     },
     "execution_count": 17,
     "metadata": {},
     "output_type": "execute_result"
    }
   ],
   "source": [
    "df"
   ]
  },
  {
   "cell_type": "code",
   "execution_count": 18,
   "metadata": {},
   "outputs": [],
   "source": [
    "outname ='IT_sports-'+str(Today_date)+'.csv'\n",
    "x=r\"C:\\Users\\drago\\Documents\\GitHub\\Summer-Project\\Sports\\CSV\\ \"\n",
    "if not os.path.exists(x[:-1]):\n",
    "    os.mkdir(x[:-1])\n",
    "date_today= Today_date +'\\ '\n",
    "outdir=x[:-1]+ date_today[:-1]\n",
    "if not os.path.exists(outdir):\n",
    "    os.mkdir(outdir)\n",
    "fullname = os.path.join(outdir, outname) "
   ]
  },
  {
   "cell_type": "code",
   "execution_count": 19,
   "metadata": {},
   "outputs": [
    {
     "data": {
      "text/plain": [
       "'C:\\\\Users\\\\drago\\\\Documents\\\\GitHub\\\\Summer-Project\\\\Sports\\\\CSV\\\\2019-06-02\\\\'"
      ]
     },
     "execution_count": 19,
     "metadata": {},
     "output_type": "execute_result"
    }
   ],
   "source": [
    "outdir"
   ]
  },
  {
   "cell_type": "code",
   "execution_count": 20,
   "metadata": {},
   "outputs": [],
   "source": [
    "df.to_csv(fullname,index=False,encoding='utf-8')"
   ]
  },
  {
   "cell_type": "code",
   "execution_count": null,
   "metadata": {},
   "outputs": [],
   "source": []
  }
 ],
 "metadata": {
  "kernelspec": {
   "display_name": "Python 3",
   "language": "python",
   "name": "python3"
  },
  "language_info": {
   "codemirror_mode": {
    "name": "ipython",
    "version": 3
   },
   "file_extension": ".py",
   "mimetype": "text/x-python",
   "name": "python",
   "nbconvert_exporter": "python",
   "pygments_lexer": "ipython3",
   "version": "3.6.5"
  }
 },
 "nbformat": 4,
 "nbformat_minor": 2
}

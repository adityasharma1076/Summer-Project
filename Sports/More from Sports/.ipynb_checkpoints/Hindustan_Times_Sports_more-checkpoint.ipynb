{
 "cells": [
  {
   "cell_type": "code",
   "execution_count": 1,
   "metadata": {},
   "outputs": [],
   "source": [
    "import requests\n",
    "import bs4\n",
    "import pandas as pd\n",
    "import os"
   ]
  },
  {
   "cell_type": "code",
   "execution_count": 2,
   "metadata": {},
   "outputs": [],
   "source": [
    "import datetime\n",
    "\n",
    "now = datetime.datetime.now()\n",
    "\n",
    "\n",
    "Today_time = now.strftime(\"%H:%M\")\n",
    "\n",
    "Today_date = now.strftime(\"%Y-%m-%d\")"
   ]
  },
  {
   "cell_type": "code",
   "execution_count": 3,
   "metadata": {},
   "outputs": [],
   "source": [
    "link = 'https://www.hindustantimes.com/entertainment/'"
   ]
  },
  {
   "cell_type": "code",
   "execution_count": 4,
   "metadata": {},
   "outputs": [],
   "source": [
    "res = requests.get(link)\n",
    "soup = bs4.BeautifulSoup(res.text,'lxml')"
   ]
  },
  {
   "cell_type": "code",
   "execution_count": 5,
   "metadata": {},
   "outputs": [],
   "source": [
    "List = soup.select('.row.pb-20')"
   ]
  },
  {
   "cell_type": "code",
   "execution_count": 6,
   "metadata": {},
   "outputs": [
    {
     "data": {
      "text/plain": [
       "'Bollywood News'"
      ]
     },
     "execution_count": 6,
     "metadata": {},
     "output_type": "execute_result"
    }
   ],
   "source": [
    "links = List[0].findAll('h2')\n",
    "links[0].text[1:-1]"
   ]
  },
  {
   "cell_type": "code",
   "execution_count": 7,
   "metadata": {},
   "outputs": [],
   "source": [
    "def fix_category(x):\n",
    "    x=x[1:-1]\n",
    "    if (x=='Bollywood News'):\n",
    "        return 'bollywood'\n",
    "    elif(x =='Hollywood News'):\n",
    "        return 'hollywood'\n",
    "    elif(x =='Movie Reviews'):\n",
    "        return 'movie-review'\n",
    "    elif(x =='Regional Movies'):\n",
    "        return 'regional'\n",
    "    elif(x =='World Cinema News'):\n",
    "        return 'hollywood'\n",
    "    elif(x=='TV News'):\n",
    "        return 'television'\n",
    "    elif(x=='Music News'):\n",
    "        return 'music'\n",
    "    else:\n",
    "        return 'other'"
   ]
  },
  {
   "cell_type": "code",
   "execution_count": null,
   "metadata": {},
   "outputs": [],
   "source": [
    "records = []\n",
    "for link in links:\n",
    "    url = link.find('a')['href']\n",
    "    category = fix_category(link.text)\n",
    "    res = requests.get(url)\n",
    "    soup = bs4.BeautifulSoup(res.text,'lxml')\n",
    "    content = soup.findAll('div',{'class':'media-body'})\n",
    "    for record in content:\n",
    "        Heading = record.find('a').text\n",
    "        URL = record.find('a')['href']\n",
    "        Newspaper = 'Hindiustan Times'\n",
    "        dt=str.split(record.find('span').text)\n",
    "        Date = dt[0]+' '+dt[1]+' '+dt[2]\n",
    "        Time = dt[3]+':00'\n",
    "        Category = category\n",
    "        records.append((Newspaper,Heading,Category,Date,Time,URL))\n",
    "    "
   ]
  },
  {
   "cell_type": "code",
   "execution_count": null,
   "metadata": {},
   "outputs": [],
   "source": [
    "df=pd.DataFrame(records,columns=['Newspaper','Heading','Category','Date','Time','URL'])\n",
    "df['Date'] = pd.to_datetime(df['Date'])\n"
   ]
  },
  {
   "cell_type": "code",
   "execution_count": null,
   "metadata": {},
   "outputs": [],
   "source": [
    "df"
   ]
  },
  {
   "cell_type": "code",
   "execution_count": null,
   "metadata": {},
   "outputs": [],
   "source": [
    "outname ='HT_sports-'+str(Today_date)+'.csv'\n",
    "x=r\"C:\\Users\\drago\\Documents\\GitHub\\Summer-Project\\Sports\\More from Sports\\CSV\\ \"\n",
    "if not os.path.exists(x[:-1]):\n",
    "    os.mkdir(x[:-1])\n",
    "date_today= Today_date +'\\ '\n",
    "outdir=x[:-1]+ date_today[:-1]\n",
    "if not os.path.exists(outdir):\n",
    "    os.mkdir(outdir)\n",
    "fullname = os.path.join(outdir, outname)"
   ]
  },
  {
   "cell_type": "code",
   "execution_count": null,
   "metadata": {},
   "outputs": [],
   "source": [
    "df.to_csv(fullname,index=False,encoding='utf-8')\n"
   ]
  }
 ],
 "metadata": {
  "kernelspec": {
   "display_name": "Python 3",
   "language": "python",
   "name": "python3"
  },
  "language_info": {
   "codemirror_mode": {
    "name": "ipython",
    "version": 3
   },
   "file_extension": ".py",
   "mimetype": "text/x-python",
   "name": "python",
   "nbconvert_exporter": "python",
   "pygments_lexer": "ipython3",
   "version": "3.6.5"
  }
 },
 "nbformat": 4,
 "nbformat_minor": 2
}

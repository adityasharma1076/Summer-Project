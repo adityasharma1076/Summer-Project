{
 "cells": [
  {
   "cell_type": "code",
   "execution_count": 1,
   "metadata": {},
   "outputs": [],
   "source": [
    "import requests\n",
    "import bs4\n",
    "import pandas as pd\n",
    "import os"
   ]
  },
  {
   "cell_type": "code",
   "execution_count": 2,
   "metadata": {},
   "outputs": [],
   "source": [
    "import datetime\n",
    "\n",
    "now = datetime.datetime.now()\n",
    "\n",
    "\n",
    "Today_time = now.strftime(\"%H:%M\")\n",
    "\n",
    "Today_date = now.strftime(\"%Y-%m-%d\")\n"
   ]
  },
  {
   "cell_type": "code",
   "execution_count": 3,
   "metadata": {},
   "outputs": [],
   "source": [
    "def get_date_time(URL):\n",
    "    req = requests.get(URL)\n",
    "    soup_date = bs4.BeautifulSoup(req.text,'lxml')\n",
    "    temp = soup_date.select(\".m-story-meta__credit\")\n",
    "    time_date = temp[0].findAll('span')[-1].text\n",
    "    x=str.split(time_date)\n",
    "    date = x[1]+' '+x[2]+' '+x[3]\n",
    "    time = x[4]+' '+x[5]\n",
    "    return date,time\n"
   ]
  },
  {
   "cell_type": "code",
   "execution_count": 4,
   "metadata": {},
   "outputs": [],
   "source": [
    "link = 'https://indianexpress.com/section/sports/'"
   ]
  },
  {
   "cell_type": "code",
   "execution_count": 5,
   "metadata": {},
   "outputs": [],
   "source": [
    "res = requests.get(link)\n",
    "soup = bs4.BeautifulSoup(res.text,'lxml')"
   ]
  },
  {
   "cell_type": "code",
   "execution_count": null,
   "metadata": {},
   "outputs": [],
   "source": []
  },
  {
   "cell_type": "code",
   "execution_count": 6,
   "metadata": {},
   "outputs": [],
   "source": [
    "h1 = soup.select('.m-article-featured__title')"
   ]
  },
  {
   "cell_type": "code",
   "execution_count": 7,
   "metadata": {},
   "outputs": [],
   "source": [
    "records=[]\n",
    "h1_newspaper='Indian Express'\n",
    "h1_heading = h1[0].text\n",
    "h1_url = h1[0].find('a')['href']\n",
    "h1_date,h1_time = get_date_time(h1_url)\n",
    "\n",
    "\n",
    "records.append((h1_newspaper,h1_heading,h1_date,h1_time,h1_url))"
   ]
  },
  {
   "cell_type": "code",
   "execution_count": null,
   "metadata": {},
   "outputs": [],
   "source": []
  },
  {
   "cell_type": "code",
   "execution_count": 8,
   "metadata": {},
   "outputs": [],
   "source": [
    "h2=soup.findAll('h2')"
   ]
  },
  {
   "cell_type": "code",
   "execution_count": 9,
   "metadata": {},
   "outputs": [
    {
     "ename": "IndexError",
     "evalue": "list index out of range",
     "output_type": "error",
     "traceback": [
      "\u001b[1;31m---------------------------------------------------------------------------\u001b[0m",
      "\u001b[1;31mIndexError\u001b[0m                                Traceback (most recent call last)",
      "\u001b[1;32m<ipython-input-9-628a7c81a1bd>\u001b[0m in \u001b[0;36m<module>\u001b[1;34m()\u001b[0m\n\u001b[0;32m      2\u001b[0m     \u001b[0mHeading\u001b[0m \u001b[1;33m=\u001b[0m \u001b[0mrecord\u001b[0m\u001b[1;33m.\u001b[0m\u001b[0mtext\u001b[0m\u001b[1;33m\u001b[0m\u001b[0m\n\u001b[0;32m      3\u001b[0m     \u001b[0mURL\u001b[0m \u001b[1;33m=\u001b[0m \u001b[0mrecord\u001b[0m\u001b[1;33m.\u001b[0m\u001b[0mfind\u001b[0m\u001b[1;33m(\u001b[0m\u001b[1;34m'a'\u001b[0m\u001b[1;33m)\u001b[0m\u001b[1;33m[\u001b[0m\u001b[1;34m'href'\u001b[0m\u001b[1;33m]\u001b[0m\u001b[1;33m\u001b[0m\u001b[0m\n\u001b[1;32m----> 4\u001b[1;33m     \u001b[0mDate\u001b[0m\u001b[1;33m,\u001b[0m\u001b[0mTime\u001b[0m \u001b[1;33m=\u001b[0m \u001b[0mget_date_time\u001b[0m\u001b[1;33m(\u001b[0m\u001b[0mURL\u001b[0m\u001b[1;33m)\u001b[0m\u001b[1;33m\u001b[0m\u001b[0m\n\u001b[0m\u001b[0;32m      5\u001b[0m     \u001b[1;31m#Time = get_time(URL)\u001b[0m\u001b[1;33m\u001b[0m\u001b[1;33m\u001b[0m\u001b[0m\n\u001b[0;32m      6\u001b[0m     \u001b[0mNewspaper\u001b[0m\u001b[1;33m=\u001b[0m\u001b[1;34m'Indian Express'\u001b[0m\u001b[1;33m\u001b[0m\u001b[0m\n",
      "\u001b[1;32m<ipython-input-3-5372eca06704>\u001b[0m in \u001b[0;36mget_date_time\u001b[1;34m(URL)\u001b[0m\n\u001b[0;32m      3\u001b[0m     \u001b[0msoup_date\u001b[0m \u001b[1;33m=\u001b[0m \u001b[0mbs4\u001b[0m\u001b[1;33m.\u001b[0m\u001b[0mBeautifulSoup\u001b[0m\u001b[1;33m(\u001b[0m\u001b[0mreq\u001b[0m\u001b[1;33m.\u001b[0m\u001b[0mtext\u001b[0m\u001b[1;33m,\u001b[0m\u001b[1;34m'lxml'\u001b[0m\u001b[1;33m)\u001b[0m\u001b[1;33m\u001b[0m\u001b[0m\n\u001b[0;32m      4\u001b[0m     \u001b[0mtemp\u001b[0m \u001b[1;33m=\u001b[0m \u001b[0msoup_date\u001b[0m\u001b[1;33m.\u001b[0m\u001b[0mselect\u001b[0m\u001b[1;33m(\u001b[0m\u001b[1;34m\".m-story-meta__credit\"\u001b[0m\u001b[1;33m)\u001b[0m\u001b[1;33m\u001b[0m\u001b[0m\n\u001b[1;32m----> 5\u001b[1;33m     \u001b[0mtime_date\u001b[0m \u001b[1;33m=\u001b[0m \u001b[0mtemp\u001b[0m\u001b[1;33m[\u001b[0m\u001b[1;36m0\u001b[0m\u001b[1;33m]\u001b[0m\u001b[1;33m.\u001b[0m\u001b[0mfindAll\u001b[0m\u001b[1;33m(\u001b[0m\u001b[1;34m'span'\u001b[0m\u001b[1;33m)\u001b[0m\u001b[1;33m[\u001b[0m\u001b[1;33m-\u001b[0m\u001b[1;36m1\u001b[0m\u001b[1;33m]\u001b[0m\u001b[1;33m.\u001b[0m\u001b[0mtext\u001b[0m\u001b[1;33m\u001b[0m\u001b[0m\n\u001b[0m\u001b[0;32m      6\u001b[0m     \u001b[0mx\u001b[0m\u001b[1;33m=\u001b[0m\u001b[0mstr\u001b[0m\u001b[1;33m.\u001b[0m\u001b[0msplit\u001b[0m\u001b[1;33m(\u001b[0m\u001b[0mtime_date\u001b[0m\u001b[1;33m)\u001b[0m\u001b[1;33m\u001b[0m\u001b[0m\n\u001b[0;32m      7\u001b[0m     \u001b[0mdate\u001b[0m \u001b[1;33m=\u001b[0m \u001b[0mx\u001b[0m\u001b[1;33m[\u001b[0m\u001b[1;36m1\u001b[0m\u001b[1;33m]\u001b[0m\u001b[1;33m+\u001b[0m\u001b[1;34m' '\u001b[0m\u001b[1;33m+\u001b[0m\u001b[0mx\u001b[0m\u001b[1;33m[\u001b[0m\u001b[1;36m2\u001b[0m\u001b[1;33m]\u001b[0m\u001b[1;33m+\u001b[0m\u001b[1;34m' '\u001b[0m\u001b[1;33m+\u001b[0m\u001b[0mx\u001b[0m\u001b[1;33m[\u001b[0m\u001b[1;36m3\u001b[0m\u001b[1;33m]\u001b[0m\u001b[1;33m\u001b[0m\u001b[0m\n",
      "\u001b[1;31mIndexError\u001b[0m: list index out of range"
     ]
    }
   ],
   "source": [
    "for record in h2[1:-2]:\n",
    "    Heading = record.text\n",
    "    URL = record.find('a')['href']\n",
    "    Date,Time = get_date_time(URL)\n",
    "    #Time = get_time(URL)\n",
    "    Newspaper='Indian Express'\n",
    "    records.append((Newspaper,Heading,Date,Time,URL))"
   ]
  },
  {
   "cell_type": "code",
   "execution_count": null,
   "metadata": {},
   "outputs": [],
   "source": []
  },
  {
   "cell_type": "code",
   "execution_count": 10,
   "metadata": {},
   "outputs": [],
   "source": [
    "h3=soup.select('.m-article-landing__inner')"
   ]
  },
  {
   "cell_type": "code",
   "execution_count": 11,
   "metadata": {},
   "outputs": [],
   "source": [
    "for record in h3:\n",
    "    content = record.select(\".m-article-landing__title\")[0]\n",
    "    datetime = record.time.attrs['datetime']\n",
    "\n",
    "    Heading = content.text\n",
    "    URL = content.find('a')['href']\n",
    "    x=str.split(datetime,' ')\n",
    "    Date = x[0]\n",
    "    Time = str.split(x[1],'+')[0]+':00'\n",
    "    Newspaper = 'Indian Express'\n",
    "    records.append((Newspaper,Heading,Date,Time,URL))"
   ]
  },
  {
   "cell_type": "code",
   "execution_count": null,
   "metadata": {},
   "outputs": [],
   "source": []
  },
  {
   "cell_type": "code",
   "execution_count": 12,
   "metadata": {},
   "outputs": [],
   "source": [
    "df=pd.DataFrame(records,columns=['Newspaper','Heading','Date','Time','URL'])\n",
    "df['Date'] = pd.to_datetime(df['Date'])"
   ]
  },
  {
   "cell_type": "code",
   "execution_count": 13,
   "metadata": {},
   "outputs": [
    {
     "data": {
      "text/html": [
       "<div>\n",
       "<style scoped>\n",
       "    .dataframe tbody tr th:only-of-type {\n",
       "        vertical-align: middle;\n",
       "    }\n",
       "\n",
       "    .dataframe tbody tr th {\n",
       "        vertical-align: top;\n",
       "    }\n",
       "\n",
       "    .dataframe thead th {\n",
       "        text-align: right;\n",
       "    }\n",
       "</style>\n",
       "<table border=\"1\" class=\"dataframe\">\n",
       "  <thead>\n",
       "    <tr style=\"text-align: right;\">\n",
       "      <th></th>\n",
       "      <th>Newspaper</th>\n",
       "      <th>Heading</th>\n",
       "      <th>Date</th>\n",
       "      <th>Time</th>\n",
       "      <th>URL</th>\n",
       "    </tr>\n",
       "  </thead>\n",
       "  <tbody>\n",
       "    <tr>\n",
       "      <th>0</th>\n",
       "      <td>Indian Express</td>\n",
       "      <td>LiveWorld Cup, SA vs BAN: Shakib, Rahim strike...</td>\n",
       "      <td>2019-06-02</td>\n",
       "      <td>5:34:25 pm</td>\n",
       "      <td>https://indianexpress.com/article/sports/crick...</td>\n",
       "    </tr>\n",
       "    <tr>\n",
       "      <th>1</th>\n",
       "      <td>Indian Express</td>\n",
       "      <td>Virat Kohli hurts thumb during nets but 'doing...</td>\n",
       "      <td>2019-06-02</td>\n",
       "      <td>4:35:48 pm</td>\n",
       "      <td>https://indianexpress.com/article/sports/crick...</td>\n",
       "    </tr>\n",
       "    <tr>\n",
       "      <th>2</th>\n",
       "      <td>Indian Express</td>\n",
       "      <td>Neymar accused of rape, father says player set up</td>\n",
       "      <td>2019-06-02</td>\n",
       "      <td>10:56:10 am</td>\n",
       "      <td>https://indianexpress.com/article/sports/footb...</td>\n",
       "    </tr>\n",
       "    <tr>\n",
       "      <th>3</th>\n",
       "      <td>Indian Express</td>\n",
       "      <td>Liverpool coach Jurgen Klopp wins Champions Le...</td>\n",
       "      <td>2019-06-02</td>\n",
       "      <td>11:47:40 am</td>\n",
       "      <td>https://indianexpress.com/article/sports/footb...</td>\n",
       "    </tr>\n",
       "    <tr>\n",
       "      <th>4</th>\n",
       "      <td>Indian Express</td>\n",
       "      <td>LiveSouth Africa vs Bangladesh Live Cricket Sc...</td>\n",
       "      <td>2019-06-02</td>\n",
       "      <td>17:38:12:00</td>\n",
       "      <td>https://indianexpress.com/article/sports/crick...</td>\n",
       "    </tr>\n",
       "    <tr>\n",
       "      <th>5</th>\n",
       "      <td>Indian Express</td>\n",
       "      <td>World Cup 2019: Skipper Virat Kohli hurts thum...</td>\n",
       "      <td>2019-06-02</td>\n",
       "      <td>16:35:48:00</td>\n",
       "      <td>https://indianexpress.com/article/sports/crick...</td>\n",
       "    </tr>\n",
       "    <tr>\n",
       "      <th>6</th>\n",
       "      <td>Indian Express</td>\n",
       "      <td>South Africa vs Bangladesh, World Cup 2019 Bui...</td>\n",
       "      <td>2019-06-02</td>\n",
       "      <td>15:19:27:00</td>\n",
       "      <td>https://indianexpress.com/article/sports/crick...</td>\n",
       "    </tr>\n",
       "    <tr>\n",
       "      <th>7</th>\n",
       "      <td>Indian Express</td>\n",
       "      <td>South Africa vs Bangladesh Live Cricket Score ...</td>\n",
       "      <td>2019-06-02</td>\n",
       "      <td>14:25:31:00</td>\n",
       "      <td>https://indianexpress.com/article/sports/crick...</td>\n",
       "    </tr>\n",
       "    <tr>\n",
       "      <th>8</th>\n",
       "      <td>Indian Express</td>\n",
       "      <td>Champions League final: Harry Kane not a facto...</td>\n",
       "      <td>2019-06-02</td>\n",
       "      <td>13:00:05:00</td>\n",
       "      <td>https://indianexpress.com/article/sports/footb...</td>\n",
       "    </tr>\n",
       "    <tr>\n",
       "      <th>9</th>\n",
       "      <td>Indian Express</td>\n",
       "      <td>Champions League glory impossible without Jurg...</td>\n",
       "      <td>2019-06-02</td>\n",
       "      <td>12:35:47:00</td>\n",
       "      <td>https://indianexpress.com/article/sports/footb...</td>\n",
       "    </tr>\n",
       "    <tr>\n",
       "      <th>10</th>\n",
       "      <td>Indian Express</td>\n",
       "      <td>World Cup 2019: Nathan Coulter-Nile warns Wind...</td>\n",
       "      <td>2019-06-02</td>\n",
       "      <td>12:15:18:00</td>\n",
       "      <td>https://indianexpress.com/article/sports/crick...</td>\n",
       "    </tr>\n",
       "    <tr>\n",
       "      <th>11</th>\n",
       "      <td>Indian Express</td>\n",
       "      <td>World Cup 2019: David Warner, Steve Smith endu...</td>\n",
       "      <td>2019-06-02</td>\n",
       "      <td>12:01:23:00</td>\n",
       "      <td>https://indianexpress.com/article/sports/crick...</td>\n",
       "    </tr>\n",
       "    <tr>\n",
       "      <th>12</th>\n",
       "      <td>Indian Express</td>\n",
       "      <td>Liverpool coach Jurgen Klopp wins Champions Le...</td>\n",
       "      <td>2019-06-02</td>\n",
       "      <td>11:47:40:00</td>\n",
       "      <td>https://indianexpress.com/article/sports/footb...</td>\n",
       "    </tr>\n",
       "    <tr>\n",
       "      <th>13</th>\n",
       "      <td>Indian Express</td>\n",
       "      <td>Virat Kohli is immature, can’t take abuse: Kag...</td>\n",
       "      <td>2019-06-02</td>\n",
       "      <td>11:31:04:00</td>\n",
       "      <td>https://indianexpress.com/article/sports/crick...</td>\n",
       "    </tr>\n",
       "    <tr>\n",
       "      <th>14</th>\n",
       "      <td>Indian Express</td>\n",
       "      <td>World Cup 2019: Bangladesh worry about lack of...</td>\n",
       "      <td>2019-06-02</td>\n",
       "      <td>11:30:20:00</td>\n",
       "      <td>https://indianexpress.com/article/sports/crick...</td>\n",
       "    </tr>\n",
       "    <tr>\n",
       "      <th>15</th>\n",
       "      <td>Indian Express</td>\n",
       "      <td>World Cup 2019: Can bat, can bowl, will poll, ...</td>\n",
       "      <td>2019-06-02</td>\n",
       "      <td>11:30:05:00</td>\n",
       "      <td>https://indianexpress.com/article/sports/crick...</td>\n",
       "    </tr>\n",
       "  </tbody>\n",
       "</table>\n",
       "</div>"
      ],
      "text/plain": [
       "         Newspaper                                            Heading  \\\n",
       "0   Indian Express  LiveWorld Cup, SA vs BAN: Shakib, Rahim strike...   \n",
       "1   Indian Express  Virat Kohli hurts thumb during nets but 'doing...   \n",
       "2   Indian Express  Neymar accused of rape, father says player set up   \n",
       "3   Indian Express  Liverpool coach Jurgen Klopp wins Champions Le...   \n",
       "4   Indian Express  LiveSouth Africa vs Bangladesh Live Cricket Sc...   \n",
       "5   Indian Express  World Cup 2019: Skipper Virat Kohli hurts thum...   \n",
       "6   Indian Express  South Africa vs Bangladesh, World Cup 2019 Bui...   \n",
       "7   Indian Express  South Africa vs Bangladesh Live Cricket Score ...   \n",
       "8   Indian Express  Champions League final: Harry Kane not a facto...   \n",
       "9   Indian Express  Champions League glory impossible without Jurg...   \n",
       "10  Indian Express  World Cup 2019: Nathan Coulter-Nile warns Wind...   \n",
       "11  Indian Express  World Cup 2019: David Warner, Steve Smith endu...   \n",
       "12  Indian Express  Liverpool coach Jurgen Klopp wins Champions Le...   \n",
       "13  Indian Express  Virat Kohli is immature, can’t take abuse: Kag...   \n",
       "14  Indian Express  World Cup 2019: Bangladesh worry about lack of...   \n",
       "15  Indian Express  World Cup 2019: Can bat, can bowl, will poll, ...   \n",
       "\n",
       "         Date         Time                                                URL  \n",
       "0  2019-06-02   5:34:25 pm  https://indianexpress.com/article/sports/crick...  \n",
       "1  2019-06-02   4:35:48 pm  https://indianexpress.com/article/sports/crick...  \n",
       "2  2019-06-02  10:56:10 am  https://indianexpress.com/article/sports/footb...  \n",
       "3  2019-06-02  11:47:40 am  https://indianexpress.com/article/sports/footb...  \n",
       "4  2019-06-02  17:38:12:00  https://indianexpress.com/article/sports/crick...  \n",
       "5  2019-06-02  16:35:48:00  https://indianexpress.com/article/sports/crick...  \n",
       "6  2019-06-02  15:19:27:00  https://indianexpress.com/article/sports/crick...  \n",
       "7  2019-06-02  14:25:31:00  https://indianexpress.com/article/sports/crick...  \n",
       "8  2019-06-02  13:00:05:00  https://indianexpress.com/article/sports/footb...  \n",
       "9  2019-06-02  12:35:47:00  https://indianexpress.com/article/sports/footb...  \n",
       "10 2019-06-02  12:15:18:00  https://indianexpress.com/article/sports/crick...  \n",
       "11 2019-06-02  12:01:23:00  https://indianexpress.com/article/sports/crick...  \n",
       "12 2019-06-02  11:47:40:00  https://indianexpress.com/article/sports/footb...  \n",
       "13 2019-06-02  11:31:04:00  https://indianexpress.com/article/sports/crick...  \n",
       "14 2019-06-02  11:30:20:00  https://indianexpress.com/article/sports/crick...  \n",
       "15 2019-06-02  11:30:05:00  https://indianexpress.com/article/sports/crick...  "
      ]
     },
     "execution_count": 13,
     "metadata": {},
     "output_type": "execute_result"
    }
   ],
   "source": [
    "df"
   ]
  },
  {
   "cell_type": "code",
   "execution_count": null,
   "metadata": {},
   "outputs": [],
   "source": []
  },
  {
   "cell_type": "code",
   "execution_count": 14,
   "metadata": {},
   "outputs": [],
   "source": [
    "outname ='IE_education-'+str(Today_date)+'.csv'\n",
    "x=r\"C:\\Users\\drago\\Documents\\GitHub\\Summer-Project\\Education\\CSV\\ \"\n",
    "date_today= Today_date +'\\ '\n",
    "outdir=x[:-1]+ date_today[:-1]\n",
    "if not os.path.exists(outdir):\n",
    "    os.mkdir(outdir)\n",
    "fullname = os.path.join(outdir, outname) "
   ]
  },
  {
   "cell_type": "code",
   "execution_count": 15,
   "metadata": {},
   "outputs": [],
   "source": [
    "df.to_csv(fullname,index=False,encoding='utf-8')"
   ]
  }
 ],
 "metadata": {
  "kernelspec": {
   "display_name": "Python 3",
   "language": "python",
   "name": "python3"
  },
  "language_info": {
   "codemirror_mode": {
    "name": "ipython",
    "version": 3
   },
   "file_extension": ".py",
   "mimetype": "text/x-python",
   "name": "python",
   "nbconvert_exporter": "python",
   "pygments_lexer": "ipython3",
   "version": "3.6.5"
  }
 },
 "nbformat": 4,
 "nbformat_minor": 2
}

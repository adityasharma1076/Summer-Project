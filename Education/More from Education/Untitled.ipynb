{
 "cells": [
  {
   "cell_type": "code",
   "execution_count": 1,
   "metadata": {},
   "outputs": [],
   "source": [
    "import pandas as pd\n",
    "import numpy as np\n",
    "import warnings\n",
    "warnings.filterwarnings(\"ignore\")\n",
    "import random\n",
    "import os\n",
    "from nltk.tokenize import word_tokenize\n",
    "from sklearn.metrics.pairwise import cosine_similarity\n",
    "from sklearn.cluster import KMeans\n",
    "from sklearn.metrics import silhouette_score"
   ]
  },
  {
   "cell_type": "code",
   "execution_count": 2,
   "metadata": {},
   "outputs": [],
   "source": [
    "%run ./Combine_csv.ipynb"
   ]
  },
  {
   "cell_type": "code",
   "execution_count": 3,
   "metadata": {},
   "outputs": [],
   "source": [
    "import datetime\n",
    "\n",
    "now = datetime.datetime.now()\n",
    "\n",
    "\n",
    "Today_time = now.strftime(\"%H:%M\")\n",
    "\n",
    "Today_date = now.strftime(\"%Y-%m-%d\")"
   ]
  },
  {
   "cell_type": "code",
   "execution_count": 4,
   "metadata": {},
   "outputs": [],
   "source": [
    "prefix_dir ='Combined CSV/'\n",
    "suffix_dir = 'combined_education-'+Today_date+'.csv'\n",
    "today_csv=os.path.join(prefix_dir+suffix_dir)"
   ]
  },
  {
   "cell_type": "code",
   "execution_count": 5,
   "metadata": {},
   "outputs": [],
   "source": [
    "education = pd.read_csv(today_csv)"
   ]
  },
  {
   "cell_type": "code",
   "execution_count": 6,
   "metadata": {},
   "outputs": [
    {
     "data": {
      "text/html": [
       "<div>\n",
       "<style scoped>\n",
       "    .dataframe tbody tr th:only-of-type {\n",
       "        vertical-align: middle;\n",
       "    }\n",
       "\n",
       "    .dataframe tbody tr th {\n",
       "        vertical-align: top;\n",
       "    }\n",
       "\n",
       "    .dataframe thead th {\n",
       "        text-align: right;\n",
       "    }\n",
       "</style>\n",
       "<table border=\"1\" class=\"dataframe\">\n",
       "  <thead>\n",
       "    <tr style=\"text-align: right;\">\n",
       "      <th></th>\n",
       "      <th>Source</th>\n",
       "      <th>Heading</th>\n",
       "      <th>Category</th>\n",
       "      <th>Date</th>\n",
       "      <th>Time</th>\n",
       "      <th>URL</th>\n",
       "    </tr>\n",
       "  </thead>\n",
       "  <tbody>\n",
       "    <tr>\n",
       "      <th>0</th>\n",
       "      <td>Hindiustan Times</td>\n",
       "      <td>ICAR AIEEA 2019 admit card to be released by N...</td>\n",
       "      <td>news</td>\n",
       "      <td>2019-06-17</td>\n",
       "      <td>14:16:00</td>\n",
       "      <td>https://www.hindustantimes.com/education/icar-...</td>\n",
       "    </tr>\n",
       "    <tr>\n",
       "      <th>1</th>\n",
       "      <td>Hindiustan Times</td>\n",
       "      <td>UGC move to thwart ‘pay and publish trash’ cul...</td>\n",
       "      <td>news</td>\n",
       "      <td>2019-06-17</td>\n",
       "      <td>13:03:00</td>\n",
       "      <td>https://www.hindustantimes.com/education/ugc-m...</td>\n",
       "    </tr>\n",
       "    <tr>\n",
       "      <th>2</th>\n",
       "      <td>Hindiustan Times</td>\n",
       "      <td>NEST Result 2019 to be declared today at neste...</td>\n",
       "      <td>news</td>\n",
       "      <td>2019-06-17</td>\n",
       "      <td>12:42:00</td>\n",
       "      <td>https://www.hindustantimes.com/education/nest-...</td>\n",
       "    </tr>\n",
       "    <tr>\n",
       "      <th>3</th>\n",
       "      <td>Hindiustan Times</td>\n",
       "      <td>Government gives 3-month grant to 28 DU colleges</td>\n",
       "      <td>news</td>\n",
       "      <td>2019-06-17</td>\n",
       "      <td>12:08:00</td>\n",
       "      <td>https://www.hindustantimes.com/education/gover...</td>\n",
       "    </tr>\n",
       "    <tr>\n",
       "      <th>4</th>\n",
       "      <td>Hindiustan Times</td>\n",
       "      <td>Lack of BSc courses in evening colleges disapp...</td>\n",
       "      <td>news</td>\n",
       "      <td>2019-06-17</td>\n",
       "      <td>12:06:00</td>\n",
       "      <td>https://www.hindustantimes.com/education/lack-...</td>\n",
       "    </tr>\n",
       "  </tbody>\n",
       "</table>\n",
       "</div>"
      ],
      "text/plain": [
       "             Source                                            Heading  \\\n",
       "0  Hindiustan Times  ICAR AIEEA 2019 admit card to be released by N...   \n",
       "1  Hindiustan Times  UGC move to thwart ‘pay and publish trash’ cul...   \n",
       "2  Hindiustan Times  NEST Result 2019 to be declared today at neste...   \n",
       "3  Hindiustan Times   Government gives 3-month grant to 28 DU colleges   \n",
       "4  Hindiustan Times  Lack of BSc courses in evening colleges disapp...   \n",
       "\n",
       "  Category        Date      Time  \\\n",
       "0     news  2019-06-17  14:16:00   \n",
       "1     news  2019-06-17  13:03:00   \n",
       "2     news  2019-06-17  12:42:00   \n",
       "3     news  2019-06-17  12:08:00   \n",
       "4     news  2019-06-17  12:06:00   \n",
       "\n",
       "                                                 URL  \n",
       "0  https://www.hindustantimes.com/education/icar-...  \n",
       "1  https://www.hindustantimes.com/education/ugc-m...  \n",
       "2  https://www.hindustantimes.com/education/nest-...  \n",
       "3  https://www.hindustantimes.com/education/gover...  \n",
       "4  https://www.hindustantimes.com/education/lack-...  "
      ]
     },
     "execution_count": 6,
     "metadata": {},
     "output_type": "execute_result"
    }
   ],
   "source": [
    "education.head()"
   ]
  },
  {
   "cell_type": "code",
   "execution_count": 7,
   "metadata": {},
   "outputs": [
    {
     "data": {
      "text/plain": [
       "(577, 6)"
      ]
     },
     "execution_count": 7,
     "metadata": {},
     "output_type": "execute_result"
    }
   ],
   "source": [
    "education.shape"
   ]
  },
  {
   "cell_type": "code",
   "execution_count": 8,
   "metadata": {},
   "outputs": [],
   "source": [
    "df=education\n",
    "\n",
    "Heading = df['Heading']"
   ]
  },
  {
   "cell_type": "code",
   "execution_count": 9,
   "metadata": {},
   "outputs": [
    {
     "data": {
      "text/plain": [
       "news                      104\n",
       "jobs-and-careers           89\n",
       "exams result news          43\n",
       "entrance exams             43\n",
       "board exams                43\n",
       "admission news             43\n",
       "study-abroad               24\n",
       "grammar-and-vocabulary     24\n",
       "notification               24\n",
       "sample-papers              24\n",
       "tips-and-tricks            24\n",
       "worldly-science            24\n",
       "government-jobs            24\n",
       "colleges                   22\n",
       "schools                    22\n",
       "Name: Category, dtype: int64"
      ]
     },
     "execution_count": 9,
     "metadata": {},
     "output_type": "execute_result"
    }
   ],
   "source": [
    "df['Category'].value_counts()"
   ]
  },
  {
   "cell_type": "markdown",
   "metadata": {},
   "source": [
    "### Tokenizing and Stemming"
   ]
  },
  {
   "cell_type": "code",
   "execution_count": 10,
   "metadata": {},
   "outputs": [],
   "source": [
    "from bs4 import BeautifulSoup\n",
    "import nltk\n",
    "from nltk.corpus import stopwords\n",
    "from sklearn.feature_extraction.text import TfidfVectorizer\n",
    "import nltk\n",
    "import re\n"
   ]
  },
  {
   "cell_type": "code",
   "execution_count": 11,
   "metadata": {},
   "outputs": [
    {
     "name": "stdout",
     "output_type": "stream",
     "text": [
      "[nltk_data] Downloading package stopwords to\n",
      "[nltk_data]     C:\\Users\\drago\\AppData\\Roaming\\nltk_data...\n",
      "[nltk_data]   Package stopwords is already up-to-date!\n",
      "[nltk_data] Downloading package punkt to\n",
      "[nltk_data]     C:\\Users\\drago\\AppData\\Roaming\\nltk_data...\n",
      "[nltk_data]   Package punkt is already up-to-date!\n"
     ]
    },
    {
     "data": {
      "text/plain": [
       "True"
      ]
     },
     "execution_count": 11,
     "metadata": {},
     "output_type": "execute_result"
    }
   ],
   "source": [
    "nltk.download('stopwords')\n",
    "nltk.download('punkt')"
   ]
  },
  {
   "cell_type": "code",
   "execution_count": 12,
   "metadata": {},
   "outputs": [],
   "source": [
    "stopset = set(stopwords.words('english'))"
   ]
  },
  {
   "cell_type": "code",
   "execution_count": 13,
   "metadata": {},
   "outputs": [],
   "source": [
    "def remove_apostrophe(data):\n",
    "    return np.char.replace(data, \"'\", \"\")\n",
    "\n",
    "def remove_punctuation(data):\n",
    "    symbols = \"!\\\"#$%&()*+-./:;<=>?@[\\]^_`{|}~\\n\"\n",
    "    for i in range(len(symbols)):\n",
    "        data = np.char.replace(data, symbols[i], ' ')\n",
    "        data = np.char.replace(data, \"  \", \" \")\n",
    "    data = np.char.replace(data, ',', '')\n",
    "    return data\n",
    "\n",
    "def convert_numbers(data):\n",
    "    tokens = word_tokenize(str(data))\n",
    "    new_text = \"\"\n",
    "    for w in tokens:\n",
    "        try:\n",
    "            w = num2words(int(w))\n",
    "        except:\n",
    "            a = 0\n",
    "        new_text = new_text + \" \" + w\n",
    "    new_text = np.char.replace(new_text, \"-\", \" \")\n",
    "    return new_text"
   ]
  },
  {
   "cell_type": "code",
   "execution_count": 14,
   "metadata": {},
   "outputs": [],
   "source": [
    "df['Heading'] = df['Heading'].apply(remove_apostrophe)\n",
    "df['Heading'] = df['Heading'].apply(remove_punctuation)\n",
    "df['Heading'] = df['Heading'].apply(convert_numbers)"
   ]
  },
  {
   "cell_type": "code",
   "execution_count": 15,
   "metadata": {},
   "outputs": [],
   "source": [
    "from nltk.stem.snowball import SnowballStemmer\n",
    "stemmer = SnowballStemmer(\"english\")"
   ]
  },
  {
   "cell_type": "code",
   "execution_count": 16,
   "metadata": {},
   "outputs": [],
   "source": [
    "def tokenize_and_stem(text):\n",
    "   \n",
    "    tokens = [word for sent in nltk.sent_tokenize(text) for word in nltk.word_tokenize(sent)]\n",
    "    filtered_tokens = []\n",
    "\n",
    "    for token in tokens:\n",
    "        if re.search('[a-zA-Z]', token):\n",
    "            filtered_tokens.append(token)\n",
    "    stems = [stemmer.stem(t) for t in filtered_tokens]\n",
    "    return stems\n",
    "\n",
    "\n",
    "def tokenize_only(text):\n",
    "\n",
    "    tokens = [word.lower() for sent in nltk.sent_tokenize(text) for word in nltk.word_tokenize(sent)]\n",
    "    filtered_tokens = []\n",
    "   \n",
    "    for token in tokens:\n",
    "        if re.search('[a-zA-Z]', token):\n",
    "            filtered_tokens.append(token)\n",
    "    return filtered_tokens"
   ]
  },
  {
   "cell_type": "code",
   "execution_count": 17,
   "metadata": {},
   "outputs": [],
   "source": [
    "Heading_stemmed = []\n",
    "Heading_tokenized = []\n",
    "for i in Heading:\n",
    "    allwords_stemmed = tokenize_and_stem(i) #for each item in 'Heading', tokenize/stem\n",
    "    Heading_stemmed.extend(allwords_stemmed) #extend the 'Heading_stemmed' list\n",
    "    \n",
    "    allwords_tokenized = tokenize_only(i)\n",
    "    Heading_tokenized.extend(allwords_tokenized)"
   ]
  },
  {
   "cell_type": "markdown",
   "metadata": {},
   "source": [
    "## Algo"
   ]
  },
  {
   "cell_type": "code",
   "execution_count": 18,
   "metadata": {},
   "outputs": [],
   "source": [
    "Z = df[df['Category']=='news']\n",
    "X = df.drop(Z.index)\n",
    "\n",
    "#Y = Y.reset_index().drop(['index'],axis=1)"
   ]
  },
  {
   "cell_type": "code",
   "execution_count": 19,
   "metadata": {},
   "outputs": [],
   "source": [
    "X_train = X['Heading']\n",
    "Y_train = X['Category']"
   ]
  },
  {
   "cell_type": "code",
   "execution_count": 20,
   "metadata": {},
   "outputs": [],
   "source": [
    "Test = Z['Heading']"
   ]
  },
  {
   "cell_type": "code",
   "execution_count": 21,
   "metadata": {},
   "outputs": [],
   "source": [
    "from sklearn.feature_extraction.text import TfidfTransformer\n",
    "from sklearn.feature_extraction.text import TfidfVectorizer"
   ]
  },
  {
   "cell_type": "code",
   "execution_count": 22,
   "metadata": {},
   "outputs": [
    {
     "name": "stdout",
     "output_type": "stream",
     "text": [
      "(473, 2235) (104, 2235)\n"
     ]
    }
   ],
   "source": [
    "vectorizer = TfidfVectorizer()\n",
    "train_vectors = vectorizer.fit_transform(X_train)\n",
    "test_vectors = vectorizer.transform(Test)\n",
    "print(train_vectors.shape, test_vectors.shape)"
   ]
  },
  {
   "cell_type": "code",
   "execution_count": 23,
   "metadata": {},
   "outputs": [],
   "source": [
    "from sklearn.naive_bayes import MultinomialNB\n",
    "clf = MultinomialNB().fit(train_vectors, Y_train)"
   ]
  },
  {
   "cell_type": "code",
   "execution_count": 24,
   "metadata": {},
   "outputs": [],
   "source": [
    "predicted = clf.predict(test_vectors)"
   ]
  },
  {
   "cell_type": "code",
   "execution_count": 25,
   "metadata": {},
   "outputs": [
    {
     "data": {
      "text/plain": [
       "array(['jobs-and-careers', 'jobs-and-careers', 'jobs-and-careers',\n",
       "       'admission news', 'admission news', 'jobs-and-careers',\n",
       "       'jobs-and-careers', 'admission news', 'jobs-and-careers',\n",
       "       'jobs-and-careers', 'jobs-and-careers', 'jobs-and-careers',\n",
       "       'jobs-and-careers', 'admission news', 'jobs-and-careers',\n",
       "       'admission news', 'jobs-and-careers', 'jobs-and-careers',\n",
       "       'jobs-and-careers', 'entrance exams', 'entrance exams',\n",
       "       'jobs-and-careers', 'jobs-and-careers', 'jobs-and-careers',\n",
       "       'admission news', 'jobs-and-careers', 'jobs-and-careers',\n",
       "       'exams result news', 'exams result news', 'jobs-and-careers',\n",
       "       'jobs-and-careers', 'entrance exams', 'jobs-and-careers',\n",
       "       'jobs-and-careers', 'admission news', 'jobs-and-careers',\n",
       "       'exams result news', 'admission news', 'entrance exams',\n",
       "       'exams result news', 'jobs-and-careers', 'jobs-and-careers',\n",
       "       'jobs-and-careers', 'exams result news', 'jobs-and-careers',\n",
       "       'jobs-and-careers', 'jobs-and-careers', 'jobs-and-careers',\n",
       "       'exams result news', 'admission news', 'jobs-and-careers',\n",
       "       'exams result news', 'exams result news', 'jobs-and-careers',\n",
       "       'admission news', 'jobs-and-careers', 'admission news',\n",
       "       'jobs-and-careers', 'jobs-and-careers', 'jobs-and-careers',\n",
       "       'jobs-and-careers', 'jobs-and-careers', 'jobs-and-careers',\n",
       "       'admission news', 'jobs-and-careers', 'jobs-and-careers',\n",
       "       'admission news', 'jobs-and-careers', 'jobs-and-careers',\n",
       "       'admission news', 'jobs-and-careers', 'jobs-and-careers',\n",
       "       'jobs-and-careers', 'jobs-and-careers', 'jobs-and-careers',\n",
       "       'jobs-and-careers', 'jobs-and-careers', 'jobs-and-careers',\n",
       "       'jobs-and-careers', 'jobs-and-careers', 'jobs-and-careers',\n",
       "       'jobs-and-careers', 'jobs-and-careers', 'jobs-and-careers',\n",
       "       'jobs-and-careers', 'jobs-and-careers', 'jobs-and-careers',\n",
       "       'jobs-and-careers', 'jobs-and-careers', 'jobs-and-careers',\n",
       "       'jobs-and-careers', 'jobs-and-careers', 'jobs-and-careers',\n",
       "       'jobs-and-careers', 'jobs-and-careers', 'entrance exams',\n",
       "       'jobs-and-careers', 'sample-papers', 'jobs-and-careers',\n",
       "       'jobs-and-careers', 'jobs-and-careers', 'jobs-and-careers',\n",
       "       'admission news', 'jobs-and-careers'], dtype='<U22')"
      ]
     },
     "execution_count": 25,
     "metadata": {},
     "output_type": "execute_result"
    }
   ],
   "source": [
    "predicted"
   ]
  },
  {
   "cell_type": "code",
   "execution_count": 26,
   "metadata": {},
   "outputs": [
    {
     "data": {
      "text/plain": [
       "0       ICAR AIEEA 2019 admit card to be released by ...\n",
       "1       UGC move to thwart ‘ pay and publish trash ’ ...\n",
       "2       NEST Result 2019 to be declared today at nest...\n",
       "3       Government gives 3 month grant to 28 DU colleges\n",
       "4       Lack of BSc courses in evening colleges disap...\n",
       "5       Delhi government schools to invite parents fo...\n",
       "6       IGNOU to offer Yoga certification course from...\n",
       "7       Delhi University ’ s revised admission bullet...\n",
       "8       HSSC Junior Engineers Recruitment 2019 1624 v...\n",
       "9       IBPS RRB Recruitment 2019 Application begins ...\n",
       "10      Private schools still a pipe dream for poor i...\n",
       "11      Yog to be a subject at school level AYUSH sec...\n",
       "12      Space Education Centre and Innovation Hub ina...\n",
       "13      DU registrations closed despite high court ’ ...\n",
       "14      A friend in need Two friends secure second an...\n",
       "15        DU likely to release first cut off by June end\n",
       "16      College of Vocational Studies may soon offer ...\n",
       "17      DU Admissions 2019 HC orders to extend last d...\n",
       "18      15 out of 21 students of Abhayanand Super 30 ...\n",
       "19      Jamshedpur ’ s Aniket emerges state topper Ra...\n",
       "20      Pawan Kumar Aakriti emerge as Bihar JEE advan...\n",
       "21      HSSC Recruitment 2019 1100 vacancies for cana...\n",
       "22      SLPRB Assam Police Recruitment 2019 Apply for...\n",
       "23      CLAT 2019 Result Four UP students among top 1...\n",
       "24      Cut offs lowered more students qualify for ad...\n",
       "25      Registration for IITs other engineering insti...\n",
       "26      JEE Advanced Result 2019 Kota institutes shin...\n",
       "27      Announced CLAT Result 2019 declared here ’ s ...\n",
       "28      TS ICET Result 2019 declared here ’ s direct ...\n",
       "29      TNPSC Group 4 recruitment 2019 Notification o...\n",
       "                             ...                        \n",
       "74      Microsoft launches AI labs in India collabora...\n",
       "75      IGNOU introduces certificate programme in Yog...\n",
       "76      Punjab education ministers directions to priv...\n",
       "77      Nepal makes teaching Mandarin compulsory in s...\n",
       "78      HRD minister congratulates JEE Advanced toppe...\n",
       "79      Muslim students bag 80 of government scholars...\n",
       "80      Anand Kumars Super 30 achieves commendable su...\n",
       "81      IIT Madras Avishkar Hyperloop unveils pod for...\n",
       "82      Gujarat born students dont need to produce de...\n",
       "83      IIT Mandi researchers develop nano capsules t...\n",
       "84      Meet JEE Advanced topper Kartikey Gupta who u...\n",
       "85      Follow last years criteria extend registratio...\n",
       "86      DUs new admission norms to UG courses could h...\n",
       "87      IIT Advanced 3rd rank holder Archit Bubna sha...\n",
       "88      Heres why Supreme Court refused to hear NEET ...\n",
       "89      5 important things we all should learn from J...\n",
       "282     08 16INSV Tarini 6 women one boat and a voyag...\n",
       "283     16 05This small town school in Bengal teaches...\n",
       "284     04 19 WATCH Nipah virus can be transmitted th...\n",
       "285     04 49Parents protest against fee hike of some...\n",
       "286     01 00This Earth Day we pledge to SAVE EARTH W...\n",
       "287     02 13IIT JEE Main clash with Board Exams Here...\n",
       "288     00 50Delhi youth clueless about Budget 2017 G...\n",
       "289     01 22CBSE Class 12 Chemistry exam tomorrow Im...\n",
       "290     03 47CBSE Class 12 English Board Exam 2017 St...\n",
       "291     01 3730 common English mistakes Indians makeA...\n",
       "292     01 4920 spelling mistakes we often makeEven t...\n",
       "293     02 15Gaurav Maa changing Lives of RAG Pickers...\n",
       "294     05 53Delhi University Reactions to high cut o...\n",
       "295     02 25Free education for Children in Dallupura...\n",
       "Name: Heading, Length: 104, dtype: object"
      ]
     },
     "execution_count": 26,
     "metadata": {},
     "output_type": "execute_result"
    }
   ],
   "source": [
    "Test"
   ]
  },
  {
   "cell_type": "code",
   "execution_count": null,
   "metadata": {},
   "outputs": [],
   "source": []
  },
  {
   "cell_type": "code",
   "execution_count": null,
   "metadata": {},
   "outputs": [],
   "source": []
  }
 ],
 "metadata": {
  "kernelspec": {
   "display_name": "Python 3",
   "language": "python",
   "name": "python3"
  },
  "language_info": {
   "codemirror_mode": {
    "name": "ipython",
    "version": 3
   },
   "file_extension": ".py",
   "mimetype": "text/x-python",
   "name": "python",
   "nbconvert_exporter": "python",
   "pygments_lexer": "ipython3",
   "version": "3.6.5"
  }
 },
 "nbformat": 4,
 "nbformat_minor": 2
}

{
 "cells": [
  {
   "cell_type": "code",
   "execution_count": 1,
   "metadata": {},
   "outputs": [],
   "source": [
    "import requests\n",
    "import bs4\n",
    "import pandas as pd\n",
    "import os"
   ]
  },
  {
   "cell_type": "code",
   "execution_count": 2,
   "metadata": {},
   "outputs": [],
   "source": [
    "import datetime\n",
    "\n",
    "now = datetime.datetime.now()\n",
    "\n",
    "\n",
    "Today_time = now.strftime(\"%H:%M\")\n",
    "\n",
    "Today_date = now.strftime(\"%Y-%m-%d\")\n"
   ]
  },
  {
   "cell_type": "code",
   "execution_count": 3,
   "metadata": {},
   "outputs": [],
   "source": [
    "def get_date_time(URL):\n",
    "    req = requests.get(URL)\n",
    "    soup_date = bs4.BeautifulSoup(req.text,'lxml')\n",
    "    temp = soup_date.select(\".m-story-meta__credit\")\n",
    "    time_date = temp[0].findAll('span')[-1].text\n",
    "    x=str.split(time_date)\n",
    "    date = x[1]+' '+x[2]+' '+x[3]\n",
    "    time = x[4]+' '+x[5]\n",
    "    return date,time\n"
   ]
  },
  {
   "cell_type": "code",
   "execution_count": 4,
   "metadata": {},
   "outputs": [],
   "source": [
    "link = 'https://indianexpress.com/section/education/'"
   ]
  },
  {
   "cell_type": "code",
   "execution_count": 5,
   "metadata": {},
   "outputs": [],
   "source": [
    "res = requests.get(link)\n",
    "soup = bs4.BeautifulSoup(res.text,'lxml')"
   ]
  },
  {
   "cell_type": "code",
   "execution_count": null,
   "metadata": {},
   "outputs": [],
   "source": []
  },
  {
   "cell_type": "code",
   "execution_count": 6,
   "metadata": {},
   "outputs": [],
   "source": [
    "h1 = soup.select('.m-article-featured__title')"
   ]
  },
  {
   "cell_type": "code",
   "execution_count": 7,
   "metadata": {},
   "outputs": [],
   "source": [
    "records=[]\n",
    "h1_newspaper='Indian Express'\n",
    "h1_heading = h1[0].text\n",
    "h1_url = h1[0].find('a')['href']\n",
    "h1_date,h1_time = get_date_time(h1_url)\n",
    "\n",
    "\n",
    "records.append((h1_newspaper,h1_heading,h1_date,h1_time,h1_url))"
   ]
  },
  {
   "cell_type": "code",
   "execution_count": null,
   "metadata": {},
   "outputs": [],
   "source": []
  },
  {
   "cell_type": "code",
   "execution_count": 8,
   "metadata": {},
   "outputs": [],
   "source": [
    "h2=soup.findAll('h2')"
   ]
  },
  {
   "cell_type": "code",
   "execution_count": 9,
   "metadata": {},
   "outputs": [],
   "source": [
    "for record in h2[1:-2]:\n",
    "    Heading = record.text\n",
    "    URL = record.find('a')['href']\n",
    "    Date,Time = get_date_time(URL)\n",
    "    #Time = get_time(URL)\n",
    "    Newspaper='Indian Express'\n",
    "    records.append((Newspaper,Heading,Date,Time,URL))"
   ]
  },
  {
   "cell_type": "code",
   "execution_count": null,
   "metadata": {},
   "outputs": [],
   "source": []
  },
  {
   "cell_type": "code",
   "execution_count": 10,
   "metadata": {},
   "outputs": [],
   "source": [
    "h3=soup.select('.m-article-landing__inner')"
   ]
  },
  {
   "cell_type": "code",
   "execution_count": 11,
   "metadata": {},
   "outputs": [],
   "source": [
    "for record in h3:\n",
    "    content = record.select(\".m-article-landing__title\")[0]\n",
    "    datetime = record.time.attrs['datetime']\n",
    "\n",
    "    Heading = content.text\n",
    "    URL = content.find('a')['href']\n",
    "    x=str.split(datetime,' ')\n",
    "    Date = x[0]\n",
    "    Time = str.split(x[1],'+')[0]+':00'\n",
    "    Newspaper = 'Indian Express'\n",
    "    records.append((Newspaper,Heading,Date,Time,URL))"
   ]
  },
  {
   "cell_type": "code",
   "execution_count": null,
   "metadata": {},
   "outputs": [],
   "source": []
  },
  {
   "cell_type": "code",
   "execution_count": 12,
   "metadata": {},
   "outputs": [],
   "source": [
    "df=pd.DataFrame(records,columns=['Newspaper','Heading','Date','Time','URL'])\n",
    "df['Date'] = pd.to_datetime(df['Date'])"
   ]
  },
  {
   "cell_type": "code",
   "execution_count": 13,
   "metadata": {},
   "outputs": [
    {
     "data": {
      "text/html": [
       "<div>\n",
       "<style scoped>\n",
       "    .dataframe tbody tr th:only-of-type {\n",
       "        vertical-align: middle;\n",
       "    }\n",
       "\n",
       "    .dataframe tbody tr th {\n",
       "        vertical-align: top;\n",
       "    }\n",
       "\n",
       "    .dataframe thead th {\n",
       "        text-align: right;\n",
       "    }\n",
       "</style>\n",
       "<table border=\"1\" class=\"dataframe\">\n",
       "  <thead>\n",
       "    <tr style=\"text-align: right;\">\n",
       "      <th></th>\n",
       "      <th>Newspaper</th>\n",
       "      <th>Heading</th>\n",
       "      <th>Date</th>\n",
       "      <th>Time</th>\n",
       "      <th>URL</th>\n",
       "    </tr>\n",
       "  </thead>\n",
       "  <tbody>\n",
       "    <tr>\n",
       "      <th>0</th>\n",
       "      <td>Indian Express</td>\n",
       "      <td>Queries about new EWS category dominate first ...</td>\n",
       "      <td>2019-05-31</td>\n",
       "      <td>8:33:49 pm</td>\n",
       "      <td>https://indianexpress.com/article/education/qu...</td>\n",
       "    </tr>\n",
       "    <tr>\n",
       "      <th>1</th>\n",
       "      <td>Indian Express</td>\n",
       "      <td>HRD panel wants national education commission,...</td>\n",
       "      <td>2019-05-31</td>\n",
       "      <td>8:20:51 pm</td>\n",
       "      <td>https://indianexpress.com/article/education/hr...</td>\n",
       "    </tr>\n",
       "    <tr>\n",
       "      <th>2</th>\n",
       "      <td>Indian Express</td>\n",
       "      <td>DU brings changes in admission process: ‘No re...</td>\n",
       "      <td>2019-05-31</td>\n",
       "      <td>8:06:11 pm</td>\n",
       "      <td>https://indianexpress.com/article/education/ne...</td>\n",
       "    </tr>\n",
       "    <tr>\n",
       "      <th>3</th>\n",
       "      <td>Indian Express</td>\n",
       "      <td>CBSE Class 12th re-evaluation result 2019 befo...</td>\n",
       "      <td>2019-05-31</td>\n",
       "      <td>7:58:49 pm</td>\n",
       "      <td>https://indianexpress.com/article/education/cb...</td>\n",
       "    </tr>\n",
       "    <tr>\n",
       "      <th>4</th>\n",
       "      <td>Indian Express</td>\n",
       "      <td>Haryana BSEH D.El.Ed datesheet for first, seco...</td>\n",
       "      <td>2019-05-31</td>\n",
       "      <td>19:52:35:00</td>\n",
       "      <td>https://indianexpress.com/article/education/ha...</td>\n",
       "    </tr>\n",
       "    <tr>\n",
       "      <th>5</th>\n",
       "      <td>Indian Express</td>\n",
       "      <td>Students demand rollback as DU changes eligibi...</td>\n",
       "      <td>2019-05-31</td>\n",
       "      <td>19:48:48:00</td>\n",
       "      <td>https://indianexpress.com/article/education/st...</td>\n",
       "    </tr>\n",
       "    <tr>\n",
       "      <th>6</th>\n",
       "      <td>Indian Express</td>\n",
       "      <td>RBSE BSER Rajasthan Board 10th result 2019 not...</td>\n",
       "      <td>2019-05-31</td>\n",
       "      <td>18:53:37:00</td>\n",
       "      <td>https://indianexpress.com/article/education/rb...</td>\n",
       "    </tr>\n",
       "    <tr>\n",
       "      <th>7</th>\n",
       "      <td>Indian Express</td>\n",
       "      <td>RBSE Rajasthan Board 10th result 2019 to relea...</td>\n",
       "      <td>2019-05-31</td>\n",
       "      <td>18:53:13:00</td>\n",
       "      <td>https://indianexpress.com/article/education/bs...</td>\n",
       "    </tr>\n",
       "    <tr>\n",
       "      <th>8</th>\n",
       "      <td>Indian Express</td>\n",
       "      <td>Meet the new HRD minister Ramesh Pokhriyal Nis...</td>\n",
       "      <td>2019-05-31</td>\n",
       "      <td>18:19:22:00</td>\n",
       "      <td>https://indianexpress.com/article/education/me...</td>\n",
       "    </tr>\n",
       "    <tr>\n",
       "      <th>9</th>\n",
       "      <td>Indian Express</td>\n",
       "      <td>MHT CET result to be declared in June first we...</td>\n",
       "      <td>2019-05-31</td>\n",
       "      <td>17:14:16:00</td>\n",
       "      <td>https://indianexpress.com/article/education/mh...</td>\n",
       "    </tr>\n",
       "    <tr>\n",
       "      <th>10</th>\n",
       "      <td>Indian Express</td>\n",
       "      <td>Bihar Board declares Class 10th compartment ex...</td>\n",
       "      <td>2019-05-31</td>\n",
       "      <td>16:55:44:00</td>\n",
       "      <td>https://indianexpress.com/article/education/bi...</td>\n",
       "    </tr>\n",
       "    <tr>\n",
       "      <th>11</th>\n",
       "      <td>Indian Express</td>\n",
       "      <td>NEET 2019 result on June 5, last date to raise...</td>\n",
       "      <td>2019-05-31</td>\n",
       "      <td>16:21:24:00</td>\n",
       "      <td>https://indianexpress.com/article/education/ne...</td>\n",
       "    </tr>\n",
       "    <tr>\n",
       "      <th>12</th>\n",
       "      <td>Indian Express</td>\n",
       "      <td>Bihar Board BSEB 10th Compartmental Result 201...</td>\n",
       "      <td>2019-05-31</td>\n",
       "      <td>20:42:13:00</td>\n",
       "      <td>https://indianexpress.com/article/education/bi...</td>\n",
       "    </tr>\n",
       "    <tr>\n",
       "      <th>13</th>\n",
       "      <td>Indian Express</td>\n",
       "      <td>Bihar Board BSEB 10th Compartmental Result 201...</td>\n",
       "      <td>2019-05-31</td>\n",
       "      <td>15:24:26:00</td>\n",
       "      <td>https://indianexpress.com/article/education/bi...</td>\n",
       "    </tr>\n",
       "    <tr>\n",
       "      <th>14</th>\n",
       "      <td>Indian Express</td>\n",
       "      <td>Bihar Board BSEB 10th Compartmental Result 201...</td>\n",
       "      <td>2019-05-31</td>\n",
       "      <td>15:22:19:00</td>\n",
       "      <td>https://indianexpress.com/article/education/bi...</td>\n",
       "    </tr>\n",
       "    <tr>\n",
       "      <th>15</th>\n",
       "      <td>Indian Express</td>\n",
       "      <td>BSEB Bihar Board 10th Compartment result 2019 ...</td>\n",
       "      <td>2019-05-31</td>\n",
       "      <td>15:21:27:00</td>\n",
       "      <td>https://indianexpress.com/article/education/bs...</td>\n",
       "    </tr>\n",
       "  </tbody>\n",
       "</table>\n",
       "</div>"
      ],
      "text/plain": [
       "         Newspaper                                            Heading  \\\n",
       "0   Indian Express  Queries about new EWS category dominate first ...   \n",
       "1   Indian Express  HRD panel wants national education commission,...   \n",
       "2   Indian Express  DU brings changes in admission process: ‘No re...   \n",
       "3   Indian Express  CBSE Class 12th re-evaluation result 2019 befo...   \n",
       "4   Indian Express  Haryana BSEH D.El.Ed datesheet for first, seco...   \n",
       "5   Indian Express  Students demand rollback as DU changes eligibi...   \n",
       "6   Indian Express  RBSE BSER Rajasthan Board 10th result 2019 not...   \n",
       "7   Indian Express  RBSE Rajasthan Board 10th result 2019 to relea...   \n",
       "8   Indian Express  Meet the new HRD minister Ramesh Pokhriyal Nis...   \n",
       "9   Indian Express  MHT CET result to be declared in June first we...   \n",
       "10  Indian Express  Bihar Board declares Class 10th compartment ex...   \n",
       "11  Indian Express  NEET 2019 result on June 5, last date to raise...   \n",
       "12  Indian Express  Bihar Board BSEB 10th Compartmental Result 201...   \n",
       "13  Indian Express  Bihar Board BSEB 10th Compartmental Result 201...   \n",
       "14  Indian Express  Bihar Board BSEB 10th Compartmental Result 201...   \n",
       "15  Indian Express  BSEB Bihar Board 10th Compartment result 2019 ...   \n",
       "\n",
       "         Date         Time                                                URL  \n",
       "0  2019-05-31   8:33:49 pm  https://indianexpress.com/article/education/qu...  \n",
       "1  2019-05-31   8:20:51 pm  https://indianexpress.com/article/education/hr...  \n",
       "2  2019-05-31   8:06:11 pm  https://indianexpress.com/article/education/ne...  \n",
       "3  2019-05-31   7:58:49 pm  https://indianexpress.com/article/education/cb...  \n",
       "4  2019-05-31  19:52:35:00  https://indianexpress.com/article/education/ha...  \n",
       "5  2019-05-31  19:48:48:00  https://indianexpress.com/article/education/st...  \n",
       "6  2019-05-31  18:53:37:00  https://indianexpress.com/article/education/rb...  \n",
       "7  2019-05-31  18:53:13:00  https://indianexpress.com/article/education/bs...  \n",
       "8  2019-05-31  18:19:22:00  https://indianexpress.com/article/education/me...  \n",
       "9  2019-05-31  17:14:16:00  https://indianexpress.com/article/education/mh...  \n",
       "10 2019-05-31  16:55:44:00  https://indianexpress.com/article/education/bi...  \n",
       "11 2019-05-31  16:21:24:00  https://indianexpress.com/article/education/ne...  \n",
       "12 2019-05-31  20:42:13:00  https://indianexpress.com/article/education/bi...  \n",
       "13 2019-05-31  15:24:26:00  https://indianexpress.com/article/education/bi...  \n",
       "14 2019-05-31  15:22:19:00  https://indianexpress.com/article/education/bi...  \n",
       "15 2019-05-31  15:21:27:00  https://indianexpress.com/article/education/bs...  "
      ]
     },
     "execution_count": 13,
     "metadata": {},
     "output_type": "execute_result"
    }
   ],
   "source": [
    "df"
   ]
  },
  {
   "cell_type": "code",
   "execution_count": null,
   "metadata": {},
   "outputs": [],
   "source": []
  },
  {
   "cell_type": "code",
   "execution_count": 14,
   "metadata": {},
   "outputs": [],
   "source": [
    "outname ='IE_education-'+str(Today_date)+'.csv'\n",
    "x=r\"C:\\Users\\drago\\Documents\\GitHub\\Summer-Project\\Education\\CSV\\ \"\n",
    "date_today= Today_date +'\\ '\n",
    "outdir=x[:-1]+ date_today[:-1]\n",
    "if not os.path.exists(outdir):\n",
    "    os.mkdir(outdir)\n",
    "fullname = os.path.join(outdir, outname) "
   ]
  },
  {
   "cell_type": "code",
   "execution_count": 15,
   "metadata": {},
   "outputs": [],
   "source": [
    "df.to_csv(fullname,index=False,encoding='utf-8')"
   ]
  }
 ],
 "metadata": {
  "kernelspec": {
   "display_name": "Python 3",
   "language": "python",
   "name": "python3"
  },
  "language_info": {
   "codemirror_mode": {
    "name": "ipython",
    "version": 3
   },
   "file_extension": ".py",
   "mimetype": "text/x-python",
   "name": "python",
   "nbconvert_exporter": "python",
   "pygments_lexer": "ipython3",
   "version": "3.6.5"
  }
 },
 "nbformat": 4,
 "nbformat_minor": 2
}

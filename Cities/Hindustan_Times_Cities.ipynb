{
 "cells": [
  {
   "cell_type": "code",
   "execution_count": 1,
   "metadata": {},
   "outputs": [],
   "source": [
    "import requests\n",
    "import bs4\n",
    "import pandas as pd\n",
    "import os"
   ]
  },
  {
   "cell_type": "code",
   "execution_count": 2,
   "metadata": {},
   "outputs": [],
   "source": [
    "import datetime\n",
    "\n",
    "now = datetime.datetime.now()\n",
    "\n",
    "\n",
    "Today_time = now.strftime(\"%H:%M\")\n",
    "\n",
    "Today_date = now.strftime(\"%Y-%m-%d\")"
   ]
  },
  {
   "cell_type": "code",
   "execution_count": 3,
   "metadata": {},
   "outputs": [],
   "source": [
    "link = 'https://www.hindustantimes.com/cities/'"
   ]
  },
  {
   "cell_type": "code",
   "execution_count": 4,
   "metadata": {},
   "outputs": [],
   "source": [
    "res = requests.get(link)\n",
    "soup = bs4.BeautifulSoup(res.text,'lxml')"
   ]
  },
  {
   "cell_type": "code",
   "execution_count": 5,
   "metadata": {},
   "outputs": [],
   "source": [
    "List = soup.select('.row.pb-20')"
   ]
  },
  {
   "cell_type": "code",
   "execution_count": 6,
   "metadata": {},
   "outputs": [
    {
     "data": {
      "text/plain": [
       "'Mumbai News'"
      ]
     },
     "execution_count": 6,
     "metadata": {},
     "output_type": "execute_result"
    }
   ],
   "source": [
    "links = List[0].findAll('h2')\n",
    "links[0].text[1:-1]"
   ]
  },
  {
   "cell_type": "code",
   "execution_count": 7,
   "metadata": {},
   "outputs": [],
   "source": [
    "records = []\n",
    "for link in links:\n",
    "    url = link.find('a')['href']\n",
    "    #category = fix_category(link.text).lower()\n",
    "    category = link.text.lower()\n",
    "    res = requests.get(url)\n",
    "    soup = bs4.BeautifulSoup(res.text,'lxml')\n",
    "    content = soup.findAll('div',{'class':'media-body'})\n",
    "    for record in content:\n",
    "        Heading = record.find('a').text\n",
    "        URL = record.find('a')['href']\n",
    "        Source = 'Hindiustan Times'\n",
    "        dt=str.split(record.find('span').text)\n",
    "        Date = dt[0]+' '+dt[1]+' '+dt[2]\n",
    "        Time = dt[3]+':00'\n",
    "        Category = category[1:-1]\n",
    "        records.append((Source,Heading,Category,Date,Time,URL))"
   ]
  },
  {
   "cell_type": "code",
   "execution_count": 8,
   "metadata": {},
   "outputs": [],
   "source": [
    "df=pd.DataFrame(records,columns=['Source','Heading','Category','Date','Time','URL'])\n",
    "df['Date'] = pd.to_datetime(df['Date'])"
   ]
  },
  {
   "cell_type": "code",
   "execution_count": 9,
   "metadata": {},
   "outputs": [
    {
     "data": {
      "text/plain": [
       "bengaluru news     53\n",
       "patna news         53\n",
       "chandigarh news    53\n",
       "delhi news         53\n",
       "mumbai news        53\n",
       "noida news         53\n",
       "jaipur news        53\n",
       "ranchi news        53\n",
       "pune news          53\n",
       "lucknow news       53\n",
       "kolkata news       53\n",
       "gurugram news      50\n",
       "Name: Category, dtype: int64"
      ]
     },
     "execution_count": 9,
     "metadata": {},
     "output_type": "execute_result"
    }
   ],
   "source": [
    "df['Category'].value_counts()\n"
   ]
  },
  {
   "cell_type": "code",
   "execution_count": 10,
   "metadata": {},
   "outputs": [],
   "source": [
    "outname ='HT_cities-'+str(Today_date)+'.csv'\n",
    "\n",
    "root = 'CSV/'\n",
    "if not os.path.exists(root):\n",
    "    os.mkdir(root)\n",
    "date_today= Today_date +'/'\n",
    "outdir=root+ date_today[:-1]\n",
    "if not os.path.exists(outdir):\n",
    "    os.mkdir(outdir)\n",
    "fullname = os.path.join(outdir, outname)"
   ]
  },
  {
   "cell_type": "code",
   "execution_count": 11,
   "metadata": {},
   "outputs": [],
   "source": [
    "df.to_csv(fullname,index=False,encoding='utf-8')\n"
   ]
  },
  {
   "cell_type": "code",
   "execution_count": null,
   "metadata": {},
   "outputs": [],
   "source": []
  }
 ],
 "metadata": {
  "kernelspec": {
   "display_name": "Python 3",
   "language": "python",
   "name": "python3"
  },
  "language_info": {
   "codemirror_mode": {
    "name": "ipython",
    "version": 3
   },
   "file_extension": ".py",
   "mimetype": "text/x-python",
   "name": "python",
   "nbconvert_exporter": "python",
   "pygments_lexer": "ipython3",
   "version": "3.6.5"
  }
 },
 "nbformat": 4,
 "nbformat_minor": 2
}

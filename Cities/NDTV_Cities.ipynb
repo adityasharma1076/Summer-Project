{
 "cells": [
  {
   "cell_type": "code",
   "execution_count": 1,
   "metadata": {},
   "outputs": [],
   "source": [
    "import requests\n",
    "import bs4\n",
    "import pandas as pd\n",
    "import numpy as np\n",
    "import os\n",
    "import calendar\n"
   ]
  },
  {
   "cell_type": "code",
   "execution_count": 2,
   "metadata": {},
   "outputs": [],
   "source": [
    "import datetime\n",
    "\n",
    "now = datetime.datetime.now()\n",
    "\n",
    "\n",
    "Today_time = now.strftime(\"%H:%M\")\n",
    "\n",
    "Today_date = now.strftime(\"%Y-%m-%d\")"
   ]
  },
  {
   "cell_type": "code",
   "execution_count": 3,
   "metadata": {},
   "outputs": [],
   "source": [
    "link = 'https://www.ndtv.com/cities'"
   ]
  },
  {
   "cell_type": "code",
   "execution_count": 4,
   "metadata": {},
   "outputs": [],
   "source": [
    "res = requests.get(link)\n",
    "soup = bs4.BeautifulSoup(res.text,'lxml')"
   ]
  },
  {
   "cell_type": "code",
   "execution_count": 5,
   "metadata": {},
   "outputs": [],
   "source": [
    "div = soup.select('.extradropdown')[0]"
   ]
  },
  {
   "cell_type": "code",
   "execution_count": 6,
   "metadata": {},
   "outputs": [],
   "source": [
    "List = div.findAll('option')"
   ]
  },
  {
   "cell_type": "code",
   "execution_count": 7,
   "metadata": {},
   "outputs": [],
   "source": [
    "def fix_date(p):\n",
    "    if(p=='January'):\n",
    "        return 'Jan'\n",
    "    elif(p=='February'):\n",
    "        return 'Feb'\n",
    "    elif(p=='March'):\n",
    "        return 'Mar'\n",
    "    elif(p=='April'):\n",
    "        return 'Apr'\n",
    "    elif(p=='May'):\n",
    "        return 'May'\n",
    "    elif(p=='June'):\n",
    "        return 'Jun'\n",
    "    elif(p=='July'):\n",
    "        return 'Jul'\n",
    "    elif(p=='August'):\n",
    "        return 'Aug'\n",
    "    elif(p=='September'):\n",
    "        return 'Sep'\n",
    "    elif(p=='October'):\n",
    "        return 'Oct'\n",
    "    elif(p=='November'):\n",
    "        return 'Nov'\n",
    "    elif(p=='Dececmber'):\n",
    "        return 'Dec'\n",
    "    "
   ]
  },
  {
   "cell_type": "code",
   "execution_count": 8,
   "metadata": {},
   "outputs": [],
   "source": [
    "def record_date_time(z):\n",
    "    x= str.split(z,'|')[1]\n",
    "    z= str.split(x)\n",
    "    \n",
    "    time = Today_time\n",
    "    z[1] = fix_date(z[1])\n",
    "    date= z[1]+' '+z[2]+' '+z[3]\n",
    "    \n",
    "    #date = date[:-1]\n",
    "    return date,time\n",
    "\n",
    "def record_URL(x):\n",
    "    y='https://www.ndtv.com/'\n",
    "    url = y+x \n",
    "    return url"
   ]
  },
  {
   "cell_type": "code",
   "execution_count": 9,
   "metadata": {},
   "outputs": [],
   "source": [
    "records = []\n",
    "for content in List:\n",
    "    url = record_URL(content['value'])\n",
    "    category = content.text.lower()\n",
    "    if(category == 'select your option here'):\n",
    "        category = 'cities'\n",
    "        res = requests.get('https://www.ndtv.com/cities')\n",
    "        soup = bs4.BeautifulSoup(res.text,'lxml')\n",
    "        maincontent = soup.select('.new_storylising_contentwrap')[0].findAll('li')\n",
    "    else:\n",
    "        res = requests.get(url)\n",
    "        soup = bs4.BeautifulSoup(res.text,'lxml')\n",
    "        maincontent = soup.select('.new_storylising')[0].findAll('li')\n",
    "         \n",
    "    \n",
    "    for record in maincontent:\n",
    "        try:\n",
    "            datetime = record.find('div',{'class':'nstory_dateline'}).text\n",
    "\n",
    "            URL = record.find('a')['href']\n",
    "            Heading = record.find('a')['title']\n",
    "            Date,Time = record_date_time(datetime)\n",
    "            Category = category\n",
    "            Source = 'NDTV'\n",
    "            records.append((Source,Heading,Category,Date,Time,URL))\n",
    "        except:\n",
    "            continue"
   ]
  },
  {
   "cell_type": "code",
   "execution_count": 10,
   "metadata": {},
   "outputs": [],
   "source": [
    "import pandas as pd\n",
    "df=pd.DataFrame(records,columns=['Source','Heading','Category','Date','Time','URL'])\n",
    "df['Date'] = pd.to_datetime(df['Date'])"
   ]
  },
  {
   "cell_type": "code",
   "execution_count": 11,
   "metadata": {},
   "outputs": [
    {
     "data": {
      "text/plain": [
       "others                     15\n",
       "surat news                 15\n",
       "srinagar news              15\n",
       "jaipur news                15\n",
       "delhi news                 15\n",
       "ahmedabad news             15\n",
       "bhopal news                15\n",
       "mumbai news                15\n",
       "gurgaon news               15\n",
       "patna news                 15\n",
       "muzaffarnagar news         15\n",
       "ghaziabad news             15\n",
       "nagpur news                15\n",
       "hyderabad news             15\n",
       "chennai news               15\n",
       "jammu news                 15\n",
       "meerut news                15\n",
       "bengaluru news             15\n",
       "bhubaneshwar news          15\n",
       "amritsar news              15\n",
       "kolkata news               15\n",
       "goa news                   15\n",
       "pune news                  15\n",
       "noida news                 14\n",
       "ludhiana news              14\n",
       "lucknow news               14\n",
       "kanpur news                13\n",
       "guwahati news              13\n",
       "thiruvananthapuram news    13\n",
       "aurangabad news            13\n",
       "agra news                  12\n",
       "muzaffarpur news           11\n",
       "allahabad news             11\n",
       "chandigarh news             9\n",
       "Name: Category, dtype: int64"
      ]
     },
     "execution_count": 11,
     "metadata": {},
     "output_type": "execute_result"
    }
   ],
   "source": [
    "df['Category'].value_counts()"
   ]
  },
  {
   "cell_type": "code",
   "execution_count": 12,
   "metadata": {},
   "outputs": [
    {
     "data": {
      "text/html": [
       "<div>\n",
       "<style scoped>\n",
       "    .dataframe tbody tr th:only-of-type {\n",
       "        vertical-align: middle;\n",
       "    }\n",
       "\n",
       "    .dataframe tbody tr th {\n",
       "        vertical-align: top;\n",
       "    }\n",
       "\n",
       "    .dataframe thead th {\n",
       "        text-align: right;\n",
       "    }\n",
       "</style>\n",
       "<table border=\"1\" class=\"dataframe\">\n",
       "  <thead>\n",
       "    <tr style=\"text-align: right;\">\n",
       "      <th></th>\n",
       "      <th>Source</th>\n",
       "      <th>Heading</th>\n",
       "      <th>Category</th>\n",
       "      <th>Date</th>\n",
       "      <th>Time</th>\n",
       "      <th>URL</th>\n",
       "    </tr>\n",
       "  </thead>\n",
       "  <tbody>\n",
       "    <tr>\n",
       "      <th>0</th>\n",
       "      <td>NDTV</td>\n",
       "      <td>Visiting Taj Mahal? Pay Fine If You Spend More...</td>\n",
       "      <td>agra news</td>\n",
       "      <td>2019-06-12</td>\n",
       "      <td>23:26</td>\n",
       "      <td>https://www.ndtv.com/agra-news/agra-for-taj-ma...</td>\n",
       "    </tr>\n",
       "    <tr>\n",
       "      <th>1</th>\n",
       "      <td>NDTV</td>\n",
       "      <td>Man Arrested For Allegedly Giving \"Triple &lt;i&gt;T...</td>\n",
       "      <td>agra news</td>\n",
       "      <td>2019-06-12</td>\n",
       "      <td>23:26</td>\n",
       "      <td>https://www.ndtv.com/agra-news/man-arrested-fo...</td>\n",
       "    </tr>\n",
       "    <tr>\n",
       "      <th>2</th>\n",
       "      <td>NDTV</td>\n",
       "      <td>Panic Buttons To Be Installed At Major Spots I...</td>\n",
       "      <td>agra news</td>\n",
       "      <td>2019-06-05</td>\n",
       "      <td>23:26</td>\n",
       "      <td>https://www.ndtv.com/agra-news/agra-panic-butt...</td>\n",
       "    </tr>\n",
       "    <tr>\n",
       "      <th>3</th>\n",
       "      <td>NDTV</td>\n",
       "      <td>Woman Allegedly Poisons Husband, He Blames Her...</td>\n",
       "      <td>agra news</td>\n",
       "      <td>2019-05-12</td>\n",
       "      <td>23:26</td>\n",
       "      <td>https://www.ndtv.com/agra-news/woman-laces-hus...</td>\n",
       "    </tr>\n",
       "    <tr>\n",
       "      <th>4</th>\n",
       "      <td>NDTV</td>\n",
       "      <td>Schools To Shut Early As Temperatures In Agra ...</td>\n",
       "      <td>agra news</td>\n",
       "      <td>2019-05-01</td>\n",
       "      <td>23:26</td>\n",
       "      <td>https://www.ndtv.com/agra-news/taj-city-agra-s...</td>\n",
       "    </tr>\n",
       "  </tbody>\n",
       "</table>\n",
       "</div>"
      ],
      "text/plain": [
       "  Source                                            Heading   Category  \\\n",
       "0   NDTV  Visiting Taj Mahal? Pay Fine If You Spend More...  agra news   \n",
       "1   NDTV  Man Arrested For Allegedly Giving \"Triple <i>T...  agra news   \n",
       "2   NDTV  Panic Buttons To Be Installed At Major Spots I...  agra news   \n",
       "3   NDTV  Woman Allegedly Poisons Husband, He Blames Her...  agra news   \n",
       "4   NDTV  Schools To Shut Early As Temperatures In Agra ...  agra news   \n",
       "\n",
       "        Date   Time                                                URL  \n",
       "0 2019-06-12  23:26  https://www.ndtv.com/agra-news/agra-for-taj-ma...  \n",
       "1 2019-06-12  23:26  https://www.ndtv.com/agra-news/man-arrested-fo...  \n",
       "2 2019-06-05  23:26  https://www.ndtv.com/agra-news/agra-panic-butt...  \n",
       "3 2019-05-12  23:26  https://www.ndtv.com/agra-news/woman-laces-hus...  \n",
       "4 2019-05-01  23:26  https://www.ndtv.com/agra-news/taj-city-agra-s...  "
      ]
     },
     "execution_count": 12,
     "metadata": {},
     "output_type": "execute_result"
    }
   ],
   "source": [
    "df.head()"
   ]
  },
  {
   "cell_type": "code",
   "execution_count": 13,
   "metadata": {},
   "outputs": [
    {
     "data": {
      "text/plain": [
       "others                     15\n",
       "surat news                 15\n",
       "srinagar news              15\n",
       "jaipur news                15\n",
       "delhi news                 15\n",
       "ahmedabad news             15\n",
       "bhopal news                15\n",
       "mumbai news                15\n",
       "gurgaon news               15\n",
       "patna news                 15\n",
       "muzaffarnagar news         15\n",
       "ghaziabad news             15\n",
       "nagpur news                15\n",
       "hyderabad news             15\n",
       "chennai news               15\n",
       "jammu news                 15\n",
       "meerut news                15\n",
       "bengaluru news             15\n",
       "bhubaneshwar news          15\n",
       "amritsar news              15\n",
       "kolkata news               15\n",
       "goa news                   15\n",
       "pune news                  15\n",
       "noida news                 14\n",
       "ludhiana news              14\n",
       "lucknow news               14\n",
       "kanpur news                13\n",
       "guwahati news              13\n",
       "thiruvananthapuram news    13\n",
       "aurangabad news            13\n",
       "agra news                  12\n",
       "muzaffarpur news           11\n",
       "allahabad news             11\n",
       "chandigarh news             9\n",
       "Name: Category, dtype: int64"
      ]
     },
     "execution_count": 13,
     "metadata": {},
     "output_type": "execute_result"
    }
   ],
   "source": [
    "df['Category'].value_counts()"
   ]
  },
  {
   "cell_type": "code",
   "execution_count": 14,
   "metadata": {},
   "outputs": [],
   "source": [
    "outname ='NDTV_cities-'+str(Today_date)+'.csv'\n",
    "\n",
    "root = 'CSV/'\n",
    "if not os.path.exists(root):\n",
    "    os.mkdir(root)\n",
    "date_today= Today_date +'/'\n",
    "outdir=root+ date_today[:-1]\n",
    "if not os.path.exists(outdir):\n",
    "    os.mkdir(outdir)\n",
    "fullname = os.path.join(outdir, outname)"
   ]
  },
  {
   "cell_type": "code",
   "execution_count": 15,
   "metadata": {},
   "outputs": [
    {
     "data": {
      "text/plain": [
       "'CSV/2019-06-12\\\\NDTV_cities-2019-06-12.csv'"
      ]
     },
     "execution_count": 15,
     "metadata": {},
     "output_type": "execute_result"
    }
   ],
   "source": [
    "fullname"
   ]
  },
  {
   "cell_type": "code",
   "execution_count": 16,
   "metadata": {},
   "outputs": [],
   "source": [
    "df.to_csv(fullname,index=False,encoding='utf-8')\n"
   ]
  },
  {
   "cell_type": "code",
   "execution_count": null,
   "metadata": {},
   "outputs": [],
   "source": []
  }
 ],
 "metadata": {
  "kernelspec": {
   "display_name": "Python 3",
   "language": "python",
   "name": "python3"
  },
  "language_info": {
   "codemirror_mode": {
    "name": "ipython",
    "version": 3
   },
   "file_extension": ".py",
   "mimetype": "text/x-python",
   "name": "python",
   "nbconvert_exporter": "python",
   "pygments_lexer": "ipython3",
   "version": "3.6.5"
  }
 },
 "nbformat": 4,
 "nbformat_minor": 2
}

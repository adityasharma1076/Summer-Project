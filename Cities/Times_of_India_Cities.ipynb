{
 "cells": [
  {
   "cell_type": "code",
   "execution_count": 1,
   "metadata": {},
   "outputs": [],
   "source": [
    "import requests\n",
    "import bs4\n",
    "import os\n",
    "import pandas as pd"
   ]
  },
  {
   "cell_type": "code",
   "execution_count": 2,
   "metadata": {},
   "outputs": [],
   "source": [
    "import datetime\n",
    "\n",
    "now = datetime.datetime.now()\n",
    "\n",
    "\n",
    "Today_time = now.strftime(\"%H:%M\")\n",
    "\n",
    "Today_date = now.strftime(\"%Y-%m-%d\")"
   ]
  },
  {
   "cell_type": "code",
   "execution_count": 3,
   "metadata": {},
   "outputs": [],
   "source": [
    "def record_date_time(z):\n",
    "    x=str.split(z,',')\n",
    "    date =x[0]\n",
    "    time= x[1] +':00'\n",
    "\n",
    "    return date,time\n",
    "\n",
    "def record_URL(x):\n",
    "    y='https://timesofindia.indiatimes.com'\n",
    "    url = y+x \n",
    "    return url"
   ]
  },
  {
   "cell_type": "code",
   "execution_count": 4,
   "metadata": {},
   "outputs": [],
   "source": [
    "link ='https://timesofindia.indiatimes.com/city'\n",
    "res = requests.get(link)\n",
    "soup =bs4.BeautifulSoup(res.text,'lxml')"
   ]
  },
  {
   "cell_type": "code",
   "execution_count": 5,
   "metadata": {},
   "outputs": [],
   "source": [
    "List = soup.findAll('div',{'class':'news_card'})"
   ]
  },
  {
   "cell_type": "code",
   "execution_count": 14,
   "metadata": {},
   "outputs": [],
   "source": [
    "outname ='NDTV_cities-'+str(Today_date)+'.csv'\n",
    "\n",
    "root = 'CSV/'\n",
    "if not os.path.exists(root):\n",
    "    os.mkdir(root)\n",
    "date_today= Today_date +'/'\n",
    "outdir=root+ date_today[:-1]\n",
    "if not os.path.exists(outdir):\n",
    "    os.mkdir(outdir)\n",
    "fullname = os.path.join(outdir, outname)"
   ]
  },
  {
   "cell_type": "code",
   "execution_count": 15,
   "metadata": {},
   "outputs": [],
   "source": [
    "ndtv = pd.read_csv(fullname)"
   ]
  },
  {
   "cell_type": "code",
   "execution_count": 17,
   "metadata": {},
   "outputs": [],
   "source": [
    "cat = ndtv['Category'].unique()"
   ]
  },
  {
   "cell_type": "code",
   "execution_count": null,
   "metadata": {},
   "outputs": [],
   "source": []
  },
  {
   "cell_type": "code",
   "execution_count": null,
   "metadata": {},
   "outputs": [],
   "source": []
  },
  {
   "cell_type": "code",
   "execution_count": null,
   "metadata": {},
   "outputs": [],
   "source": []
  },
  {
   "cell_type": "code",
   "execution_count": null,
   "metadata": {},
   "outputs": [],
   "source": []
  },
  {
   "cell_type": "code",
   "execution_count": 18,
   "metadata": {},
   "outputs": [],
   "source": [
    "records = []\n",
    "for link in List:\n",
    "    try:\n",
    "        category =link.find('a')['title'].lower()+' news'\n",
    "        if category not in cat:\n",
    "            continue\n",
    "        url = record_URL(link.find('a')['href'])\n",
    "        res = requests.get(url)\n",
    "        soup =bs4.BeautifulSoup(res.text,'lxml')\n",
    "        main_content = soup.select('.main-content')[0].findAll('li')\n",
    "\n",
    "        for record in main_content[:25]:\n",
    "            try:\n",
    "                media_content = record.find('span',{'class':'w_tle'})\n",
    "\n",
    "                Heading = media_content.text\n",
    "                URL= record_URL(media_content.find('a')['href'])\n",
    "\n",
    "                Date = Today_date\n",
    "                Time = Today_time\n",
    "                Category = category\n",
    "                Source = 'Times of India'\n",
    "            except:\n",
    "                continue\n",
    "            records.append((Source,Heading,Category,Date,Time,URL))\n",
    "    except:\n",
    "        continue"
   ]
  },
  {
   "cell_type": "code",
   "execution_count": 19,
   "metadata": {},
   "outputs": [],
   "source": [
    "import pandas as pd\n",
    "df=pd.DataFrame(records,columns=['Source','Heading','Category','Date','Time','URL'])\n",
    "df['Date'] = pd.to_datetime(df['Date'])"
   ]
  },
  {
   "cell_type": "code",
   "execution_count": 21,
   "metadata": {},
   "outputs": [
    {
     "data": {
      "text/html": [
       "<div>\n",
       "<style scoped>\n",
       "    .dataframe tbody tr th:only-of-type {\n",
       "        vertical-align: middle;\n",
       "    }\n",
       "\n",
       "    .dataframe tbody tr th {\n",
       "        vertical-align: top;\n",
       "    }\n",
       "\n",
       "    .dataframe thead th {\n",
       "        text-align: right;\n",
       "    }\n",
       "</style>\n",
       "<table border=\"1\" class=\"dataframe\">\n",
       "  <thead>\n",
       "    <tr style=\"text-align: right;\">\n",
       "      <th></th>\n",
       "      <th>Source</th>\n",
       "      <th>Heading</th>\n",
       "      <th>Category</th>\n",
       "      <th>Date</th>\n",
       "      <th>Time</th>\n",
       "      <th>URL</th>\n",
       "    </tr>\n",
       "  </thead>\n",
       "  <tbody>\n",
       "    <tr>\n",
       "      <th>0</th>\n",
       "      <td>Times of India</td>\n",
       "      <td>Mumbai may face 10-15% water cut till June 14</td>\n",
       "      <td>mumbai news</td>\n",
       "      <td>2019-06-12</td>\n",
       "      <td>23:18</td>\n",
       "      <td>https://timesofindia.indiatimes.com/city/mumba...</td>\n",
       "    </tr>\n",
       "    <tr>\n",
       "      <th>1</th>\n",
       "      <td>Times of India</td>\n",
       "      <td>Gang busted for seizing man's wealth; 13 held</td>\n",
       "      <td>mumbai news</td>\n",
       "      <td>2019-06-12</td>\n",
       "      <td>23:18</td>\n",
       "      <td>https://timesofindia.indiatimes.com/city/mumba...</td>\n",
       "    </tr>\n",
       "    <tr>\n",
       "      <th>2</th>\n",
       "      <td>Times of India</td>\n",
       "      <td>Salla's hijack note: Pilot reveals tense moments</td>\n",
       "      <td>mumbai news</td>\n",
       "      <td>2019-06-12</td>\n",
       "      <td>23:18</td>\n",
       "      <td>https://timesofindia.indiatimes.comhttps://mum...</td>\n",
       "    </tr>\n",
       "    <tr>\n",
       "      <th>3</th>\n",
       "      <td>Times of India</td>\n",
       "      <td>Hookah ban: Bombay HC admits clutch of pleas</td>\n",
       "      <td>mumbai news</td>\n",
       "      <td>2019-06-12</td>\n",
       "      <td>23:18</td>\n",
       "      <td>https://timesofindia.indiatimes.com/city/mumba...</td>\n",
       "    </tr>\n",
       "    <tr>\n",
       "      <th>4</th>\n",
       "      <td>Times of India</td>\n",
       "      <td>Mumbai: Commuters face heavy traffic snarls as...</td>\n",
       "      <td>mumbai news</td>\n",
       "      <td>2019-06-12</td>\n",
       "      <td>23:18</td>\n",
       "      <td>https://timesofindia.indiatimes.com/videos/cit...</td>\n",
       "    </tr>\n",
       "  </tbody>\n",
       "</table>\n",
       "</div>"
      ],
      "text/plain": [
       "           Source                                            Heading  \\\n",
       "0  Times of India      Mumbai may face 10-15% water cut till June 14   \n",
       "1  Times of India      Gang busted for seizing man's wealth; 13 held   \n",
       "2  Times of India   Salla's hijack note: Pilot reveals tense moments   \n",
       "3  Times of India       Hookah ban: Bombay HC admits clutch of pleas   \n",
       "4  Times of India  Mumbai: Commuters face heavy traffic snarls as...   \n",
       "\n",
       "      Category       Date   Time  \\\n",
       "0  mumbai news 2019-06-12  23:18   \n",
       "1  mumbai news 2019-06-12  23:18   \n",
       "2  mumbai news 2019-06-12  23:18   \n",
       "3  mumbai news 2019-06-12  23:18   \n",
       "4  mumbai news 2019-06-12  23:18   \n",
       "\n",
       "                                                 URL  \n",
       "0  https://timesofindia.indiatimes.com/city/mumba...  \n",
       "1  https://timesofindia.indiatimes.com/city/mumba...  \n",
       "2  https://timesofindia.indiatimes.comhttps://mum...  \n",
       "3  https://timesofindia.indiatimes.com/city/mumba...  \n",
       "4  https://timesofindia.indiatimes.com/videos/cit...  "
      ]
     },
     "execution_count": 21,
     "metadata": {},
     "output_type": "execute_result"
    }
   ],
   "source": [
    "df.head()"
   ]
  },
  {
   "cell_type": "code",
   "execution_count": 22,
   "metadata": {},
   "outputs": [],
   "source": [
    "outname ='TOI_cities-'+str(Today_date)+'.csv'\n",
    "\n",
    "root = 'CSV/'\n",
    "if not os.path.exists(root):\n",
    "    os.mkdir(root)\n",
    "date_today= Today_date +'/'\n",
    "outdir=root+ date_today[:-1]\n",
    "if not os.path.exists(outdir):\n",
    "    os.mkdir(outdir)\n",
    "fullname = os.path.join(outdir, outname)"
   ]
  },
  {
   "cell_type": "code",
   "execution_count": 23,
   "metadata": {},
   "outputs": [],
   "source": [
    "df.to_csv(fullname,index=False,encoding='utf-8')\n"
   ]
  },
  {
   "cell_type": "code",
   "execution_count": null,
   "metadata": {},
   "outputs": [],
   "source": []
  }
 ],
 "metadata": {
  "kernelspec": {
   "display_name": "Python 3",
   "language": "python",
   "name": "python3"
  },
  "language_info": {
   "codemirror_mode": {
    "name": "ipython",
    "version": 3
   },
   "file_extension": ".py",
   "mimetype": "text/x-python",
   "name": "python",
   "nbconvert_exporter": "python",
   "pygments_lexer": "ipython3",
   "version": "3.6.5"
  }
 },
 "nbformat": 4,
 "nbformat_minor": 2
}

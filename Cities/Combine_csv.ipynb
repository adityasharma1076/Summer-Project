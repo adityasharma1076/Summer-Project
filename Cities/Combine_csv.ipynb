{
 "cells": [
  {
   "cell_type": "code",
   "execution_count": 1,
   "metadata": {},
   "outputs": [],
   "source": [
    "import os\n",
    "import glob\n",
    "import pandas as pd\n",
    "import warnings"
   ]
  },
  {
   "cell_type": "code",
   "execution_count": 2,
   "metadata": {},
   "outputs": [],
   "source": [
    "import datetime\n",
    "\n",
    "now = datetime.datetime.now()\n",
    "\n",
    "\n",
    "Today_time = now.strftime(\"%H:%M\")\n",
    "\n",
    "Today_date = now.strftime(\"%Y-%m-%d\")"
   ]
  },
  {
   "cell_type": "code",
   "execution_count": 3,
   "metadata": {},
   "outputs": [],
   "source": [
    "\n",
    "%run ./NDTV_Cities.ipynb\n",
    "%run ./Times_of_India_Cities.ipynb\n",
    "%run ./Hindustan_Times_Cities.ipynb\n",
    "%run ./Indian_Express_Cities.ipynb\n",
    "%run ./The_Hindu_Cities.ipynb\n",
    "#%run ./India_Today_Sports_more.ipynb\n",
    "#%run ./India_Times_Entertainment_more.ipynb\n"
   ]
  },
  {
   "cell_type": "code",
   "execution_count": 4,
   "metadata": {},
   "outputs": [],
   "source": [
    "extension = 'csv'\n",
    "string = 'CSV/'+Today_date+'/*.{}'\n",
    "all_filenames = [i for i in glob.glob(string.format(extension))]"
   ]
  },
  {
   "cell_type": "code",
   "execution_count": 5,
   "metadata": {},
   "outputs": [
    {
     "data": {
      "text/plain": [
       "['CSV/2019-06-14\\\\HT_cities-2019-06-14.csv',\n",
       " 'CSV/2019-06-14\\\\IE_cities-2019-06-14.csv',\n",
       " 'CSV/2019-06-14\\\\NDTV_cities-2019-06-14.csv',\n",
       " 'CSV/2019-06-14\\\\TH_cities-2019-06-14.csv',\n",
       " 'CSV/2019-06-14\\\\TOI_cities-2019-06-14.csv']"
      ]
     },
     "execution_count": 5,
     "metadata": {},
     "output_type": "execute_result"
    }
   ],
   "source": [
    "all_filenames"
   ]
  },
  {
   "cell_type": "code",
   "execution_count": 6,
   "metadata": {},
   "outputs": [],
   "source": [
    "combined_csv = pd.concat([pd.read_csv(f) for f in all_filenames ])"
   ]
  },
  {
   "cell_type": "code",
   "execution_count": 7,
   "metadata": {},
   "outputs": [],
   "source": [
    "outname = 'combined_cities-'+str(Today_date)+'.csv'\n",
    "root = 'Combined CSV/'\n",
    "if not os.path.exists(root):\n",
    "    os.mkdir(root)\n",
    "#date_today= Today_date +'\\ '\n",
    "outdir=root\n",
    "if not os.path.exists(outdir):\n",
    "    os.mkdir(outdir)\n",
    "fullname = os.path.join(outdir, outname)"
   ]
  },
  {
   "cell_type": "code",
   "execution_count": 8,
   "metadata": {},
   "outputs": [],
   "source": [
    "combined_csv.to_csv(fullname, index=False, encoding='utf-8')"
   ]
  },
  {
   "cell_type": "code",
   "execution_count": 9,
   "metadata": {},
   "outputs": [],
   "source": [
    "df = pd.read_csv(fullname)"
   ]
  },
  {
   "cell_type": "code",
   "execution_count": 10,
   "metadata": {},
   "outputs": [],
   "source": [
    "cat = ['agra news', 'ahmedabad news', 'allahabad news', 'amritsar news',\n",
    "       'aurangabad news', 'bengaluru news', 'bhopal news',\n",
    "       'bhubaneshwar news', 'chandigarh news', 'chennai news',\n",
    "       'delhi news', 'ghaziabad news', 'goa news', 'gurgaon news',\n",
    "       'guwahati news', 'hyderabad news', 'jaipur news', 'jammu news',\n",
    "       'kanpur news', 'kolkata news', 'lucknow news', 'ludhiana news',\n",
    "       'meerut news', 'mumbai news', 'muzaffarnagar news',\n",
    "       'muzaffarpur news', 'nagpur news', 'noida news', 'others',\n",
    "       'patna news', 'pune news', 'srinagar news', 'surat news',\n",
    "       'thiruvananthapuram news']"
   ]
  },
  {
   "cell_type": "code",
   "execution_count": 11,
   "metadata": {},
   "outputs": [],
   "source": [
    "def fix_cat(x):\n",
    "    if x not in cat:\n",
    "        return 'others'\n",
    "    else:\n",
    "        return x\n",
    "    \n",
    "df['Category']=df['Category'].apply(fix_cat)"
   ]
  },
  {
   "cell_type": "code",
   "execution_count": 12,
   "metadata": {},
   "outputs": [],
   "source": [
    "df['Category']=df['Category'].apply(fix_cat)"
   ]
  },
  {
   "cell_type": "code",
   "execution_count": null,
   "metadata": {},
   "outputs": [],
   "source": []
  },
  {
   "cell_type": "code",
   "execution_count": 13,
   "metadata": {},
   "outputs": [],
   "source": [
    "z = df['Category'].value_counts()\n",
    "low_z = z.loc[z<20].index"
   ]
  },
  {
   "cell_type": "code",
   "execution_count": 14,
   "metadata": {},
   "outputs": [],
   "source": [
    "def fix_cat2(x):\n",
    "    if x in low_z:\n",
    "        return 'others'\n",
    "    elif(x=='cities'):\n",
    "        return 'others'\n",
    "    else:\n",
    "        return x\n",
    "    \n",
    "df['Category']=df['Category'].apply(fix_cat2)"
   ]
  },
  {
   "cell_type": "code",
   "execution_count": 16,
   "metadata": {},
   "outputs": [
    {
     "data": {
      "text/plain": [
       "others                     378\n",
       "delhi news                 125\n",
       "kolkata news               125\n",
       "mumbai news                125\n",
       "bengaluru news             113\n",
       "jaipur news                104\n",
       "pune news                  104\n",
       "lucknow news               103\n",
       "chandigarh news             98\n",
       "patna news                  92\n",
       "noida news                  89\n",
       "chennai news                72\n",
       "hyderabad news              60\n",
       "thiruvananthapuram news     55\n",
       "ahmedabad news              51\n",
       "goa news                    38\n",
       "nagpur news                 38\n",
       "bhopal news                 37\n",
       "gurgaon news                37\n",
       "kanpur news                 36\n",
       "srinagar news               35\n",
       "jammu news                  35\n",
       "ghaziabad news              35\n",
       "aurangabad news             35\n",
       "surat news                  35\n",
       "meerut news                 35\n",
       "amritsar news               35\n",
       "ludhiana news               34\n",
       "allahabad news              33\n",
       "guwahati news               33\n",
       "agra news                   32\n",
       "Name: Category, dtype: int64"
      ]
     },
     "execution_count": 16,
     "metadata": {},
     "output_type": "execute_result"
    }
   ],
   "source": [
    "df['Category'].value_counts()"
   ]
  },
  {
   "cell_type": "code",
   "execution_count": 17,
   "metadata": {},
   "outputs": [],
   "source": [
    "outname = 'combined_cities-'+str(Today_date)+'.csv'\n",
    "root = 'Combined CSV/'\n",
    "if not os.path.exists(root):\n",
    "    os.mkdir(root)\n",
    "#date_today= Today_date +'\\ '\n",
    "outdir=root\n",
    "if not os.path.exists(outdir):\n",
    "    os.mkdir(outdir)\n",
    "fullname = os.path.join(outdir, outname)"
   ]
  },
  {
   "cell_type": "code",
   "execution_count": 18,
   "metadata": {},
   "outputs": [],
   "source": [
    "df.to_csv(fullname, index=False, encoding='utf-8')"
   ]
  }
 ],
 "metadata": {
  "kernelspec": {
   "display_name": "Python 3",
   "language": "python",
   "name": "python3"
  },
  "language_info": {
   "codemirror_mode": {
    "name": "ipython",
    "version": 3
   },
   "file_extension": ".py",
   "mimetype": "text/x-python",
   "name": "python",
   "nbconvert_exporter": "python",
   "pygments_lexer": "ipython3",
   "version": "3.6.5"
  }
 },
 "nbformat": 4,
 "nbformat_minor": 2
}

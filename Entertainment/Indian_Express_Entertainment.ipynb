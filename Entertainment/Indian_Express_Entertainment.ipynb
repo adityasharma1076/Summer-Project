{
 "cells": [
  {
   "cell_type": "code",
   "execution_count": 1,
   "metadata": {},
   "outputs": [],
   "source": [
    "\n",
    "import requests\n",
    "import bs4\n",
    "import pandas as pd\n",
    "import os"
   ]
  },
  {
   "cell_type": "code",
   "execution_count": 2,
   "metadata": {},
   "outputs": [],
   "source": [
    "import datetime\n",
    "\n",
    "now = datetime.datetime.now()\n",
    "\n",
    "\n",
    "Today_time = now.strftime(\"%H:%M\")\n",
    "\n",
    "Today_date = now.strftime(\"%Y-%m-%d\")"
   ]
  },
  {
   "cell_type": "code",
   "execution_count": 3,
   "metadata": {},
   "outputs": [],
   "source": [
    "def get_date_time(URL):\n",
    "    req = requests.get(URL)\n",
    "    soup_date = bs4.BeautifulSoup(req.text,'lxml')\n",
    "    temp = soup_date.select(\".m-story-meta__credit\")\n",
    "    time_date = temp[0].findAll('span')[-1].text\n",
    "    x=str.split(time_date)\n",
    "    date = x[1]+' '+x[2]+' '+x[3]\n",
    "    time = x[4]+' '+x[5]\n",
    "    return date,time"
   ]
  },
  {
   "cell_type": "code",
   "execution_count": 4,
   "metadata": {},
   "outputs": [],
   "source": [
    "link = 'https://indianexpress.com/section/entertainment/'"
   ]
  },
  {
   "cell_type": "code",
   "execution_count": 5,
   "metadata": {},
   "outputs": [],
   "source": [
    "\n",
    "res = requests.get(link)\n",
    "soup = bs4.BeautifulSoup(res.text,'lxml')"
   ]
  },
  {
   "cell_type": "code",
   "execution_count": null,
   "metadata": {},
   "outputs": [],
   "source": []
  },
  {
   "cell_type": "code",
   "execution_count": 6,
   "metadata": {},
   "outputs": [],
   "source": [
    "h1 = soup.select('.m-article-featured__title')\n"
   ]
  },
  {
   "cell_type": "code",
   "execution_count": 7,
   "metadata": {},
   "outputs": [],
   "source": [
    "records=[]\n",
    "h1_newspaper='Indian Express'\n",
    "h1_heading = h1[0].text\n",
    "h1_url = h1[0].find('a')['href']\n",
    "h1_date,h1_time = get_date_time(h1_url)\n",
    "\n",
    "records.append((h1_newspaper,h1_heading,h1_date,h1_time,h1_url))\n"
   ]
  },
  {
   "cell_type": "code",
   "execution_count": null,
   "metadata": {},
   "outputs": [],
   "source": []
  },
  {
   "cell_type": "code",
   "execution_count": 8,
   "metadata": {},
   "outputs": [],
   "source": [
    "h2=soup.findAll('h2')\n"
   ]
  },
  {
   "cell_type": "code",
   "execution_count": 9,
   "metadata": {},
   "outputs": [],
   "source": [
    "for record in h2[1:-3]:\n",
    "    Heading = record.text\n",
    "    URL = record.find('a')['href']\n",
    "    Date,Time = get_date_time(URL)\n",
    "    #Time = get_time(URL)\n",
    "    Newspaper='Indian Express'\n",
    "    records.append((Newspaper,Heading,Date,Time,URL))"
   ]
  },
  {
   "cell_type": "code",
   "execution_count": null,
   "metadata": {},
   "outputs": [],
   "source": []
  },
  {
   "cell_type": "code",
   "execution_count": 10,
   "metadata": {},
   "outputs": [],
   "source": [
    "h3=soup.select('.m-article-landing__inner')\n"
   ]
  },
  {
   "cell_type": "code",
   "execution_count": 11,
   "metadata": {},
   "outputs": [],
   "source": [
    "for record in h3:\n",
    "    content = record.find('h3')\n",
    "    datetime = record.time.attrs['datetime']\n",
    "\n",
    "    Heading = content.text\n",
    "    URL = content.find('a')['href']\n",
    "    x=str.split(datetime,' ')\n",
    "    Date = x[0]\n",
    "    Time = str.split(x[1],'+')[0]+':00'\n",
    "    Newspaper = 'Indian Express'\n",
    "    records.append((Newspaper,Heading,Date,Time,URL))"
   ]
  },
  {
   "cell_type": "code",
   "execution_count": 12,
   "metadata": {},
   "outputs": [],
   "source": [
    "df=pd.DataFrame(records,columns=['Newspaper','Heading','Date','Time','URL'])\n",
    "df['Date'] = pd.to_datetime(df['Date'])\n"
   ]
  },
  {
   "cell_type": "code",
   "execution_count": 13,
   "metadata": {},
   "outputs": [
    {
     "data": {
      "text/html": [
       "<div>\n",
       "<style scoped>\n",
       "    .dataframe tbody tr th:only-of-type {\n",
       "        vertical-align: middle;\n",
       "    }\n",
       "\n",
       "    .dataframe tbody tr th {\n",
       "        vertical-align: top;\n",
       "    }\n",
       "\n",
       "    .dataframe thead th {\n",
       "        text-align: right;\n",
       "    }\n",
       "</style>\n",
       "<table border=\"1\" class=\"dataframe\">\n",
       "  <thead>\n",
       "    <tr style=\"text-align: right;\">\n",
       "      <th></th>\n",
       "      <th>Newspaper</th>\n",
       "      <th>Heading</th>\n",
       "      <th>Date</th>\n",
       "      <th>Time</th>\n",
       "      <th>URL</th>\n",
       "    </tr>\n",
       "  </thead>\n",
       "  <tbody>\n",
       "    <tr>\n",
       "      <th>0</th>\n",
       "      <td>Indian Express</td>\n",
       "      <td>LiveBharat movie review and release LIVE UPDATES</td>\n",
       "      <td>2019-06-05</td>\n",
       "      <td>12:15:25 pm</td>\n",
       "      <td>https://indianexpress.com/article/entertainmen...</td>\n",
       "    </tr>\n",
       "    <tr>\n",
       "      <th>1</th>\n",
       "      <td>Indian Express</td>\n",
       "      <td>Actor Dinyar Contractor passes away</td>\n",
       "      <td>2019-06-05</td>\n",
       "      <td>11:54:00 am</td>\n",
       "      <td>https://indianexpress.com/article/entertainmen...</td>\n",
       "    </tr>\n",
       "    <tr>\n",
       "      <th>2</th>\n",
       "      <td>Indian Express</td>\n",
       "      <td>LiveThottappan, Thamasha and Children’s Park m...</td>\n",
       "      <td>2019-06-05</td>\n",
       "      <td>12:30:15 pm</td>\n",
       "      <td>https://indianexpress.com/article/entertainmen...</td>\n",
       "    </tr>\n",
       "    <tr>\n",
       "      <th>3</th>\n",
       "      <td>Indian Express</td>\n",
       "      <td>First of Many: Rajpal Yadav revisits Shool</td>\n",
       "      <td>2019-06-05</td>\n",
       "      <td>8:02:24 am</td>\n",
       "      <td>https://indianexpress.com/article/entertainmen...</td>\n",
       "    </tr>\n",
       "    <tr>\n",
       "      <th>4</th>\n",
       "      <td>Indian Express</td>\n",
       "      <td>Hrithik Roshan starrer Super 30’s trailer leav...</td>\n",
       "      <td>2019-06-05</td>\n",
       "      <td>12:24:28:00</td>\n",
       "      <td>https://indianexpress.com/article/entertainmen...</td>\n",
       "    </tr>\n",
       "    <tr>\n",
       "      <th>5</th>\n",
       "      <td>Indian Express</td>\n",
       "      <td>LiveThottappan, Thamasha and Children’s Park m...</td>\n",
       "      <td>2019-06-05</td>\n",
       "      <td>12:00:43:00</td>\n",
       "      <td>https://indianexpress.com/article/entertainmen...</td>\n",
       "    </tr>\n",
       "    <tr>\n",
       "      <th>6</th>\n",
       "      <td>Indian Express</td>\n",
       "      <td>LiveBharat movie review and release LIVE UPDAT...</td>\n",
       "      <td>2019-06-05</td>\n",
       "      <td>12:00:16:00</td>\n",
       "      <td>https://indianexpress.com/article/entertainmen...</td>\n",
       "    </tr>\n",
       "    <tr>\n",
       "      <th>7</th>\n",
       "      <td>Indian Express</td>\n",
       "      <td>Actor Dinyar Contractor passes away</td>\n",
       "      <td>2019-06-05</td>\n",
       "      <td>11:54:00:00</td>\n",
       "      <td>https://indianexpress.com/article/entertainmen...</td>\n",
       "    </tr>\n",
       "    <tr>\n",
       "      <th>8</th>\n",
       "      <td>Indian Express</td>\n",
       "      <td>Dark Phoenix early reviews: A rushed sendoff</td>\n",
       "      <td>2019-06-05</td>\n",
       "      <td>11:48:29:00</td>\n",
       "      <td>https://indianexpress.com/article/entertainmen...</td>\n",
       "    </tr>\n",
       "    <tr>\n",
       "      <th>9</th>\n",
       "      <td>Indian Express</td>\n",
       "      <td>Explosion on Bond 25 set causes injury, damage...</td>\n",
       "      <td>2019-06-05</td>\n",
       "      <td>11:33:30:00</td>\n",
       "      <td>https://indianexpress.com/article/entertainmen...</td>\n",
       "    </tr>\n",
       "    <tr>\n",
       "      <th>10</th>\n",
       "      <td>Indian Express</td>\n",
       "      <td>Shahid Kapoor, Katrina Kaif, Dulquer Salmaan a...</td>\n",
       "      <td>2019-06-05</td>\n",
       "      <td>10:23:36:00</td>\n",
       "      <td>https://indianexpress.com/article/entertainmen...</td>\n",
       "    </tr>\n",
       "    <tr>\n",
       "      <th>11</th>\n",
       "      <td>Indian Express</td>\n",
       "      <td>Chhapaak: Deepika Padukone wraps ‘the most pre...</td>\n",
       "      <td>2019-06-05</td>\n",
       "      <td>09:54:20:00</td>\n",
       "      <td>https://indianexpress.com/article/entertainmen...</td>\n",
       "    </tr>\n",
       "    <tr>\n",
       "      <th>12</th>\n",
       "      <td>Indian Express</td>\n",
       "      <td>Bharat: Salman Khan’s film to be affected by I...</td>\n",
       "      <td>2019-06-05</td>\n",
       "      <td>09:14:38:00</td>\n",
       "      <td>https://indianexpress.com/article/entertainmen...</td>\n",
       "    </tr>\n",
       "    <tr>\n",
       "      <th>13</th>\n",
       "      <td>Indian Express</td>\n",
       "      <td>Ilaiyaraaja’s songs cannot be monetised withou...</td>\n",
       "      <td>2019-06-05</td>\n",
       "      <td>09:06:26:00</td>\n",
       "      <td>https://indianexpress.com/article/entertainmen...</td>\n",
       "    </tr>\n",
       "    <tr>\n",
       "      <th>14</th>\n",
       "      <td>Indian Express</td>\n",
       "      <td>First of Many: Rajpal Yadav revisits Shool</td>\n",
       "      <td>2019-06-05</td>\n",
       "      <td>08:02:24:00</td>\n",
       "      <td>https://indianexpress.com/article/entertainmen...</td>\n",
       "    </tr>\n",
       "    <tr>\n",
       "      <th>15</th>\n",
       "      <td>Indian Express</td>\n",
       "      <td>Eid-ul-Fitr: Varun Dhawan, Shraddha Kapoor and...</td>\n",
       "      <td>2019-06-05</td>\n",
       "      <td>07:08:01:00</td>\n",
       "      <td>https://indianexpress.com/article/entertainmen...</td>\n",
       "    </tr>\n",
       "  </tbody>\n",
       "</table>\n",
       "</div>"
      ],
      "text/plain": [
       "         Newspaper                                            Heading  \\\n",
       "0   Indian Express   LiveBharat movie review and release LIVE UPDATES   \n",
       "1   Indian Express                Actor Dinyar Contractor passes away   \n",
       "2   Indian Express  LiveThottappan, Thamasha and Children’s Park m...   \n",
       "3   Indian Express         First of Many: Rajpal Yadav revisits Shool   \n",
       "4   Indian Express  Hrithik Roshan starrer Super 30’s trailer leav...   \n",
       "5   Indian Express  LiveThottappan, Thamasha and Children’s Park m...   \n",
       "6   Indian Express  LiveBharat movie review and release LIVE UPDAT...   \n",
       "7   Indian Express                Actor Dinyar Contractor passes away   \n",
       "8   Indian Express       Dark Phoenix early reviews: A rushed sendoff   \n",
       "9   Indian Express  Explosion on Bond 25 set causes injury, damage...   \n",
       "10  Indian Express  Shahid Kapoor, Katrina Kaif, Dulquer Salmaan a...   \n",
       "11  Indian Express  Chhapaak: Deepika Padukone wraps ‘the most pre...   \n",
       "12  Indian Express  Bharat: Salman Khan’s film to be affected by I...   \n",
       "13  Indian Express  Ilaiyaraaja’s songs cannot be monetised withou...   \n",
       "14  Indian Express         First of Many: Rajpal Yadav revisits Shool   \n",
       "15  Indian Express  Eid-ul-Fitr: Varun Dhawan, Shraddha Kapoor and...   \n",
       "\n",
       "         Date         Time                                                URL  \n",
       "0  2019-06-05  12:15:25 pm  https://indianexpress.com/article/entertainmen...  \n",
       "1  2019-06-05  11:54:00 am  https://indianexpress.com/article/entertainmen...  \n",
       "2  2019-06-05  12:30:15 pm  https://indianexpress.com/article/entertainmen...  \n",
       "3  2019-06-05   8:02:24 am  https://indianexpress.com/article/entertainmen...  \n",
       "4  2019-06-05  12:24:28:00  https://indianexpress.com/article/entertainmen...  \n",
       "5  2019-06-05  12:00:43:00  https://indianexpress.com/article/entertainmen...  \n",
       "6  2019-06-05  12:00:16:00  https://indianexpress.com/article/entertainmen...  \n",
       "7  2019-06-05  11:54:00:00  https://indianexpress.com/article/entertainmen...  \n",
       "8  2019-06-05  11:48:29:00  https://indianexpress.com/article/entertainmen...  \n",
       "9  2019-06-05  11:33:30:00  https://indianexpress.com/article/entertainmen...  \n",
       "10 2019-06-05  10:23:36:00  https://indianexpress.com/article/entertainmen...  \n",
       "11 2019-06-05  09:54:20:00  https://indianexpress.com/article/entertainmen...  \n",
       "12 2019-06-05  09:14:38:00  https://indianexpress.com/article/entertainmen...  \n",
       "13 2019-06-05  09:06:26:00  https://indianexpress.com/article/entertainmen...  \n",
       "14 2019-06-05  08:02:24:00  https://indianexpress.com/article/entertainmen...  \n",
       "15 2019-06-05  07:08:01:00  https://indianexpress.com/article/entertainmen...  "
      ]
     },
     "execution_count": 13,
     "metadata": {},
     "output_type": "execute_result"
    }
   ],
   "source": [
    "df\n"
   ]
  },
  {
   "cell_type": "code",
   "execution_count": 14,
   "metadata": {},
   "outputs": [],
   "source": [
    "outname ='IE_entertainment-'+str(Today_date)+'.csv'\n",
    "x=r\"C:\\Users\\drago\\Documents\\GitHub\\Summer-Project\\Entertainment\\CSV\\ \"\n",
    "if not os.path.exists(x[:-1]):\n",
    "    os.mkdir(x[:-1])\n",
    "date_today= Today_date +'\\ '\n",
    "outdir=x[:-1]+ date_today[:-1]\n",
    "if not os.path.exists(outdir):\n",
    "    os.mkdir(outdir)\n",
    "fullname = os.path.join(outdir, outname)"
   ]
  },
  {
   "cell_type": "code",
   "execution_count": 15,
   "metadata": {},
   "outputs": [],
   "source": [
    "df.to_csv(fullname,index=False,encoding='utf-8')\n"
   ]
  },
  {
   "cell_type": "code",
   "execution_count": null,
   "metadata": {},
   "outputs": [],
   "source": []
  }
 ],
 "metadata": {
  "kernelspec": {
   "display_name": "Python 3",
   "language": "python",
   "name": "python3"
  },
  "language_info": {
   "codemirror_mode": {
    "name": "ipython",
    "version": 3
   },
   "file_extension": ".py",
   "mimetype": "text/x-python",
   "name": "python",
   "nbconvert_exporter": "python",
   "pygments_lexer": "ipython3",
   "version": "3.6.5"
  }
 },
 "nbformat": 4,
 "nbformat_minor": 2
}

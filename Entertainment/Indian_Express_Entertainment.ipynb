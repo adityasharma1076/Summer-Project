{
 "cells": [
  {
   "cell_type": "code",
   "execution_count": 1,
   "metadata": {},
   "outputs": [],
   "source": [
    "\n",
    "import requests\n",
    "import bs4\n",
    "import pandas as pd\n",
    "import os"
   ]
  },
  {
   "cell_type": "code",
   "execution_count": 2,
   "metadata": {},
   "outputs": [],
   "source": [
    "import datetime\n",
    "\n",
    "now = datetime.datetime.now()\n",
    "\n",
    "\n",
    "Today_time = now.strftime(\"%H:%M\")\n",
    "\n",
    "Today_date = now.strftime(\"%Y-%m-%d\")"
   ]
  },
  {
   "cell_type": "code",
   "execution_count": 3,
   "metadata": {},
   "outputs": [],
   "source": [
    "def get_date_time(URL):\n",
    "    req = requests.get(URL)\n",
    "    soup_date = bs4.BeautifulSoup(req.text,'lxml')\n",
    "    temp = soup_date.select(\".m-story-meta__credit\")\n",
    "    time_date = temp[0].findAll('span')[-1].text\n",
    "    x=str.split(time_date)\n",
    "    date = x[1]+' '+x[2]+' '+x[3]\n",
    "    time = x[4]+' '+x[5]\n",
    "    return date,time"
   ]
  },
  {
   "cell_type": "code",
   "execution_count": 4,
   "metadata": {},
   "outputs": [],
   "source": [
    "link = 'https://indianexpress.com/section/entertainment/'"
   ]
  },
  {
   "cell_type": "code",
   "execution_count": 5,
   "metadata": {},
   "outputs": [],
   "source": [
    "\n",
    "res = requests.get(link)\n",
    "soup = bs4.BeautifulSoup(res.text,'lxml')"
   ]
  },
  {
   "cell_type": "code",
   "execution_count": null,
   "metadata": {},
   "outputs": [],
   "source": []
  },
  {
   "cell_type": "code",
   "execution_count": 6,
   "metadata": {},
   "outputs": [],
   "source": [
    "h1 = soup.select('.m-article-featured__title')\n"
   ]
  },
  {
   "cell_type": "code",
   "execution_count": 7,
   "metadata": {},
   "outputs": [],
   "source": [
    "records=[]\n",
    "h1_newspaper='Indian Express'\n",
    "h1_heading = h1[0].text\n",
    "h1_url = h1[0].find('a')['href']\n",
    "h1_date,h1_time = get_date_time(h1_url)\n",
    "\n",
    "records.append((h1_newspaper,h1_heading,h1_date,h1_time,h1_url))\n"
   ]
  },
  {
   "cell_type": "code",
   "execution_count": null,
   "metadata": {},
   "outputs": [],
   "source": []
  },
  {
   "cell_type": "code",
   "execution_count": 8,
   "metadata": {},
   "outputs": [],
   "source": [
    "h2=soup.findAll('h2')\n"
   ]
  },
  {
   "cell_type": "code",
   "execution_count": 10,
   "metadata": {},
   "outputs": [],
   "source": [
    "for record in h2[1:-3]:\n",
    "    Heading = record.text\n",
    "    URL = record.find('a')['href']\n",
    "    Date,Time = get_date_time(URL)\n",
    "    #Time = get_time(URL)\n",
    "    Newspaper='Indian Express'\n",
    "    records.append((Newspaper,Heading,Date,Time,URL))"
   ]
  },
  {
   "cell_type": "code",
   "execution_count": null,
   "metadata": {},
   "outputs": [],
   "source": []
  },
  {
   "cell_type": "code",
   "execution_count": 11,
   "metadata": {},
   "outputs": [],
   "source": [
    "h3=soup.select('.m-article-landing__inner')\n"
   ]
  },
  {
   "cell_type": "code",
   "execution_count": 12,
   "metadata": {},
   "outputs": [],
   "source": [
    "for record in h3:\n",
    "    content = record.find('h3')\n",
    "    datetime = record.time.attrs['datetime']\n",
    "\n",
    "    Heading = content.text\n",
    "    URL = content.find('a')['href']\n",
    "    x=str.split(datetime,' ')\n",
    "    Date = x[0]\n",
    "    Time = str.split(x[1],'+')[0]+':00'\n",
    "    Newspaper = 'Indian Express'\n",
    "    records.append((Newspaper,Heading,Date,Time,URL))"
   ]
  },
  {
   "cell_type": "code",
   "execution_count": 13,
   "metadata": {},
   "outputs": [],
   "source": [
    "df=pd.DataFrame(records,columns=['Newspaper','Heading','Date','Time','URL'])\n",
    "df['Date'] = pd.to_datetime(df['Date'])\n"
   ]
  },
  {
   "cell_type": "code",
   "execution_count": 14,
   "metadata": {},
   "outputs": [
    {
     "data": {
      "text/html": [
       "<div>\n",
       "<style scoped>\n",
       "    .dataframe tbody tr th:only-of-type {\n",
       "        vertical-align: middle;\n",
       "    }\n",
       "\n",
       "    .dataframe tbody tr th {\n",
       "        vertical-align: top;\n",
       "    }\n",
       "\n",
       "    .dataframe thead th {\n",
       "        text-align: right;\n",
       "    }\n",
       "</style>\n",
       "<table border=\"1\" class=\"dataframe\">\n",
       "  <thead>\n",
       "    <tr style=\"text-align: right;\">\n",
       "      <th></th>\n",
       "      <th>Newspaper</th>\n",
       "      <th>Heading</th>\n",
       "      <th>Date</th>\n",
       "      <th>Time</th>\n",
       "      <th>URL</th>\n",
       "    </tr>\n",
       "  </thead>\n",
       "  <tbody>\n",
       "    <tr>\n",
       "      <th>0</th>\n",
       "      <td>Indian Express</td>\n",
       "      <td>The Extraordinary Journey of the Fakir trailer...</td>\n",
       "      <td>2019-06-04</td>\n",
       "      <td>12:30:31 pm</td>\n",
       "      <td>https://indianexpress.com/article/entertainmen...</td>\n",
       "    </tr>\n",
       "    <tr>\n",
       "      <th>1</th>\n",
       "      <td>Indian Express</td>\n",
       "      <td>The actors of Son Pari: Where are they now?</td>\n",
       "      <td>2019-06-04</td>\n",
       "      <td>8:00:18 am</td>\n",
       "      <td>https://indianexpress.com/article/entertainmen...</td>\n",
       "    </tr>\n",
       "    <tr>\n",
       "      <th>2</th>\n",
       "      <td>Indian Express</td>\n",
       "      <td>Priyanka Chopra roots for husband Nick Jonas a...</td>\n",
       "      <td>2019-06-04</td>\n",
       "      <td>10:09:23 am</td>\n",
       "      <td>https://indianexpress.com/article/entertainmen...</td>\n",
       "    </tr>\n",
       "    <tr>\n",
       "      <th>3</th>\n",
       "      <td>Indian Express</td>\n",
       "      <td>Taapsee Pannu, Vicky Kauhsal, Nora Fatehi and ...</td>\n",
       "      <td>2019-06-04</td>\n",
       "      <td>12:28:02 pm</td>\n",
       "      <td>https://indianexpress.com/photos/entertainment...</td>\n",
       "    </tr>\n",
       "    <tr>\n",
       "      <th>4</th>\n",
       "      <td>Indian Express</td>\n",
       "      <td>I feel privileged to call Salman Khan ‘bhai’ i...</td>\n",
       "      <td>2019-06-04</td>\n",
       "      <td>13:37:07:00</td>\n",
       "      <td>https://indianexpress.com/article/entertainmen...</td>\n",
       "    </tr>\n",
       "    <tr>\n",
       "      <th>5</th>\n",
       "      <td>Indian Express</td>\n",
       "      <td>Eid-ul-Fitr: Varun Dhawan and Sophie Choudry w...</td>\n",
       "      <td>2019-06-04</td>\n",
       "      <td>12:41:50:00</td>\n",
       "      <td>https://indianexpress.com/article/entertainmen...</td>\n",
       "    </tr>\n",
       "    <tr>\n",
       "      <th>6</th>\n",
       "      <td>Indian Express</td>\n",
       "      <td>The Extraordinary Journey of the Fakir trailer...</td>\n",
       "      <td>2019-06-04</td>\n",
       "      <td>12:30:31:00</td>\n",
       "      <td>https://indianexpress.com/article/entertainmen...</td>\n",
       "    </tr>\n",
       "    <tr>\n",
       "      <th>7</th>\n",
       "      <td>Indian Express</td>\n",
       "      <td>Payal Rohatgi apologises after her Shivaji twe...</td>\n",
       "      <td>2019-06-04</td>\n",
       "      <td>12:18:34:00</td>\n",
       "      <td>https://indianexpress.com/article/entertainmen...</td>\n",
       "    </tr>\n",
       "    <tr>\n",
       "      <th>8</th>\n",
       "      <td>Indian Express</td>\n",
       "      <td>Keanu Reeves to join Marvel with The Eternals?</td>\n",
       "      <td>2019-06-04</td>\n",
       "      <td>12:13:49:00</td>\n",
       "      <td>https://indianexpress.com/article/entertainmen...</td>\n",
       "    </tr>\n",
       "    <tr>\n",
       "      <th>9</th>\n",
       "      <td>Indian Express</td>\n",
       "      <td>2.0 to release in China on July 12</td>\n",
       "      <td>2019-06-04</td>\n",
       "      <td>13:41:09:00</td>\n",
       "      <td>https://indianexpress.com/article/entertainmen...</td>\n",
       "    </tr>\n",
       "    <tr>\n",
       "      <th>10</th>\n",
       "      <td>Indian Express</td>\n",
       "      <td>Kevin Spacey shows up for hearing in groping case</td>\n",
       "      <td>2019-06-04</td>\n",
       "      <td>10:56:20:00</td>\n",
       "      <td>https://indianexpress.com/article/entertainmen...</td>\n",
       "    </tr>\n",
       "    <tr>\n",
       "      <th>11</th>\n",
       "      <td>Indian Express</td>\n",
       "      <td>Barry Jenkins to direct a film on choreographe...</td>\n",
       "      <td>2019-06-04</td>\n",
       "      <td>10:56:18:00</td>\n",
       "      <td>https://indianexpress.com/article/entertainmen...</td>\n",
       "    </tr>\n",
       "    <tr>\n",
       "      <th>12</th>\n",
       "      <td>Indian Express</td>\n",
       "      <td>David Lynch, Wes Studi among honorary Oscar re...</td>\n",
       "      <td>2019-06-04</td>\n",
       "      <td>10:56:13:00</td>\n",
       "      <td>https://indianexpress.com/article/entertainmen...</td>\n",
       "    </tr>\n",
       "    <tr>\n",
       "      <th>13</th>\n",
       "      <td>Indian Express</td>\n",
       "      <td>Happy birthday SP Balasubrahmanyam: Films in w...</td>\n",
       "      <td>2019-06-04</td>\n",
       "      <td>10:30:30:00</td>\n",
       "      <td>https://indianexpress.com/article/entertainmen...</td>\n",
       "    </tr>\n",
       "    <tr>\n",
       "      <th>14</th>\n",
       "      <td>Indian Express</td>\n",
       "      <td>Priyanka Chopra roots for husband Nick Jonas a...</td>\n",
       "      <td>2019-06-04</td>\n",
       "      <td>10:09:23:00</td>\n",
       "      <td>https://indianexpress.com/article/entertainmen...</td>\n",
       "    </tr>\n",
       "    <tr>\n",
       "      <th>15</th>\n",
       "      <td>Indian Express</td>\n",
       "      <td>Good Omens actor Jon Hamm: We are all flawed, ...</td>\n",
       "      <td>2019-06-04</td>\n",
       "      <td>09:39:22:00</td>\n",
       "      <td>https://indianexpress.com/article/entertainmen...</td>\n",
       "    </tr>\n",
       "  </tbody>\n",
       "</table>\n",
       "</div>"
      ],
      "text/plain": [
       "         Newspaper                                            Heading  \\\n",
       "0   Indian Express  The Extraordinary Journey of the Fakir trailer...   \n",
       "1   Indian Express        The actors of Son Pari: Where are they now?   \n",
       "2   Indian Express  Priyanka Chopra roots for husband Nick Jonas a...   \n",
       "3   Indian Express  Taapsee Pannu, Vicky Kauhsal, Nora Fatehi and ...   \n",
       "4   Indian Express  I feel privileged to call Salman Khan ‘bhai’ i...   \n",
       "5   Indian Express  Eid-ul-Fitr: Varun Dhawan and Sophie Choudry w...   \n",
       "6   Indian Express  The Extraordinary Journey of the Fakir trailer...   \n",
       "7   Indian Express  Payal Rohatgi apologises after her Shivaji twe...   \n",
       "8   Indian Express     Keanu Reeves to join Marvel with The Eternals?   \n",
       "9   Indian Express                 2.0 to release in China on July 12   \n",
       "10  Indian Express  Kevin Spacey shows up for hearing in groping case   \n",
       "11  Indian Express  Barry Jenkins to direct a film on choreographe...   \n",
       "12  Indian Express  David Lynch, Wes Studi among honorary Oscar re...   \n",
       "13  Indian Express  Happy birthday SP Balasubrahmanyam: Films in w...   \n",
       "14  Indian Express  Priyanka Chopra roots for husband Nick Jonas a...   \n",
       "15  Indian Express  Good Omens actor Jon Hamm: We are all flawed, ...   \n",
       "\n",
       "         Date         Time                                                URL  \n",
       "0  2019-06-04  12:30:31 pm  https://indianexpress.com/article/entertainmen...  \n",
       "1  2019-06-04   8:00:18 am  https://indianexpress.com/article/entertainmen...  \n",
       "2  2019-06-04  10:09:23 am  https://indianexpress.com/article/entertainmen...  \n",
       "3  2019-06-04  12:28:02 pm  https://indianexpress.com/photos/entertainment...  \n",
       "4  2019-06-04  13:37:07:00  https://indianexpress.com/article/entertainmen...  \n",
       "5  2019-06-04  12:41:50:00  https://indianexpress.com/article/entertainmen...  \n",
       "6  2019-06-04  12:30:31:00  https://indianexpress.com/article/entertainmen...  \n",
       "7  2019-06-04  12:18:34:00  https://indianexpress.com/article/entertainmen...  \n",
       "8  2019-06-04  12:13:49:00  https://indianexpress.com/article/entertainmen...  \n",
       "9  2019-06-04  13:41:09:00  https://indianexpress.com/article/entertainmen...  \n",
       "10 2019-06-04  10:56:20:00  https://indianexpress.com/article/entertainmen...  \n",
       "11 2019-06-04  10:56:18:00  https://indianexpress.com/article/entertainmen...  \n",
       "12 2019-06-04  10:56:13:00  https://indianexpress.com/article/entertainmen...  \n",
       "13 2019-06-04  10:30:30:00  https://indianexpress.com/article/entertainmen...  \n",
       "14 2019-06-04  10:09:23:00  https://indianexpress.com/article/entertainmen...  \n",
       "15 2019-06-04  09:39:22:00  https://indianexpress.com/article/entertainmen...  "
      ]
     },
     "execution_count": 14,
     "metadata": {},
     "output_type": "execute_result"
    }
   ],
   "source": [
    "df\n"
   ]
  },
  {
   "cell_type": "code",
   "execution_count": 16,
   "metadata": {},
   "outputs": [],
   "source": [
    "outname ='IE_entertainment-'+str(Today_date)+'.csv'\n",
    "x=r\"C:\\Users\\drago\\Documents\\GitHub\\Summer-Project\\Entertainment\\CSV\\ \"\n",
    "if not os.path.exists(x[:-1]):\n",
    "    os.mkdir(x[:-1])\n",
    "date_today= Today_date +'\\ '\n",
    "outdir=x[:-1]+ date_today[:-1]\n",
    "if not os.path.exists(outdir):\n",
    "    os.mkdir(outdir)\n",
    "fullname = os.path.join(outdir, outname)"
   ]
  },
  {
   "cell_type": "code",
   "execution_count": 17,
   "metadata": {},
   "outputs": [],
   "source": [
    "df.to_csv(fullname,index=False,encoding='utf-8')\n"
   ]
  },
  {
   "cell_type": "code",
   "execution_count": null,
   "metadata": {},
   "outputs": [],
   "source": []
  }
 ],
 "metadata": {
  "kernelspec": {
   "display_name": "Python 3",
   "language": "python",
   "name": "python3"
  },
  "language_info": {
   "codemirror_mode": {
    "name": "ipython",
    "version": 3
   },
   "file_extension": ".py",
   "mimetype": "text/x-python",
   "name": "python",
   "nbconvert_exporter": "python",
   "pygments_lexer": "ipython3",
   "version": "3.6.5"
  }
 },
 "nbformat": 4,
 "nbformat_minor": 2
}

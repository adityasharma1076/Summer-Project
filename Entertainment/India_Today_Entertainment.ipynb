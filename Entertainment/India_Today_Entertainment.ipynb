{
 "cells": [
  {
   "cell_type": "code",
   "execution_count": 1,
   "metadata": {},
   "outputs": [],
   "source": [
    "import requests\n",
    "import bs4\n",
    "import pandas as pd\n",
    "import os"
   ]
  },
  {
   "cell_type": "code",
   "execution_count": 2,
   "metadata": {},
   "outputs": [],
   "source": [
    "import datetime\n",
    "\n",
    "now = datetime.datetime.now()\n",
    "\n",
    "\n",
    "Today_time = now.strftime(\"%H:%M\")\n",
    "\n",
    "Today_date = now.strftime(\"%Y-%m-%d\")"
   ]
  },
  {
   "cell_type": "code",
   "execution_count": 3,
   "metadata": {},
   "outputs": [],
   "source": [
    "link = 'https://www.indiatoday.in/entertainment'"
   ]
  },
  {
   "cell_type": "code",
   "execution_count": 4,
   "metadata": {},
   "outputs": [],
   "source": [
    "res = requests.get(link)\n",
    "soup = bs4.BeautifulSoup(res.text,'lxml')"
   ]
  },
  {
   "cell_type": "code",
   "execution_count": 7,
   "metadata": {},
   "outputs": [],
   "source": [
    "content = soup.select(\".itg-listing\")\n",
    "List = soup.select(\".catagory-listing\")"
   ]
  },
  {
   "cell_type": "code",
   "execution_count": null,
   "metadata": {},
   "outputs": [],
   "source": []
  },
  {
   "cell_type": "code",
   "execution_count": 21,
   "metadata": {},
   "outputs": [],
   "source": [
    "def record_URL(x):\n",
    "    y='https://www.indiatoday.in'\n",
    "    url = y+x \n",
    "    return url"
   ]
  },
  {
   "cell_type": "code",
   "execution_count": 22,
   "metadata": {},
   "outputs": [],
   "source": [
    "records = []\n",
    "for record in List:\n",
    "    Heading = record.text\n",
    "    URL= record_URL(record.find('a')['href'])\n",
    "    Date = Today_date\n",
    "    Time = Today_time\n",
    "    Newspaper = 'India Today'\n",
    "    records.append((Newspaper,Heading,Date,Time,URL))"
   ]
  },
  {
   "cell_type": "code",
   "execution_count": 24,
   "metadata": {},
   "outputs": [],
   "source": [
    "df=pd.DataFrame(records,columns=['Newspaper','Heading','Date','Time','URL'])\n",
    "df['Date'] = pd.to_datetime(df['Date'])"
   ]
  },
  {
   "cell_type": "code",
   "execution_count": 25,
   "metadata": {},
   "outputs": [
    {
     "data": {
      "text/html": [
       "<div>\n",
       "<style scoped>\n",
       "    .dataframe tbody tr th:only-of-type {\n",
       "        vertical-align: middle;\n",
       "    }\n",
       "\n",
       "    .dataframe tbody tr th {\n",
       "        vertical-align: top;\n",
       "    }\n",
       "\n",
       "    .dataframe thead th {\n",
       "        text-align: right;\n",
       "    }\n",
       "</style>\n",
       "<table border=\"1\" class=\"dataframe\">\n",
       "  <thead>\n",
       "    <tr style=\"text-align: right;\">\n",
       "      <th></th>\n",
       "      <th>Newspaper</th>\n",
       "      <th>Heading</th>\n",
       "      <th>Date</th>\n",
       "      <th>Time</th>\n",
       "      <th>URL</th>\n",
       "    </tr>\n",
       "  </thead>\n",
       "  <tbody>\n",
       "    <tr>\n",
       "      <th>0</th>\n",
       "      <td>India Today</td>\n",
       "      <td>Delhi Crime: Grit expectationActors in 'Delhi...</td>\n",
       "      <td>2019-06-04</td>\n",
       "      <td>14:53</td>\n",
       "      <td>https://www.indiatoday.in/mail-today/story/del...</td>\n",
       "    </tr>\n",
       "    <tr>\n",
       "      <th>1</th>\n",
       "      <td>India Today</td>\n",
       "      <td>Roopal's back in action Daily soaps can drain...</td>\n",
       "      <td>2019-06-04</td>\n",
       "      <td>14:53</td>\n",
       "      <td>https://www.indiatoday.in/mail-today/story/roo...</td>\n",
       "    </tr>\n",
       "    <tr>\n",
       "      <th>2</th>\n",
       "      <td>India Today</td>\n",
       "      <td>04:32Neeti Mohan on woman-related issuesSinge...</td>\n",
       "      <td>2019-06-04</td>\n",
       "      <td>14:53</td>\n",
       "      <td>https://www.indiatoday.in/entertainment/video/...</td>\n",
       "    </tr>\n",
       "    <tr>\n",
       "      <th>3</th>\n",
       "      <td>India Today</td>\n",
       "      <td>A league of their ownPopularity is not always...</td>\n",
       "      <td>2019-06-04</td>\n",
       "      <td>14:53</td>\n",
       "      <td>https://www.indiatoday.in/magazine/mood-of-the...</td>\n",
       "    </tr>\n",
       "    <tr>\n",
       "      <th>4</th>\n",
       "      <td>India Today</td>\n",
       "      <td>Rajinikanth’s Kaala to Kamal’s Vishwaroopam ...</td>\n",
       "      <td>2019-06-04</td>\n",
       "      <td>14:53</td>\n",
       "      <td>https://www.indiatoday.in/movies/regional-cine...</td>\n",
       "    </tr>\n",
       "    <tr>\n",
       "      <th>5</th>\n",
       "      <td>India Today</td>\n",
       "      <td>Malayalam actor Neeraj Madhav and Deepthi's ...</td>\n",
       "      <td>2019-06-04</td>\n",
       "      <td>14:53</td>\n",
       "      <td>https://www.indiatoday.in/movies/regional-cine...</td>\n",
       "    </tr>\n",
       "    <tr>\n",
       "      <th>6</th>\n",
       "      <td>India Today</td>\n",
       "      <td>Kolamaavu Kokila stills: All you need to kno...</td>\n",
       "      <td>2019-06-04</td>\n",
       "      <td>14:53</td>\n",
       "      <td>https://www.indiatoday.in/movies/regional-cine...</td>\n",
       "    </tr>\n",
       "    <tr>\n",
       "      <th>7</th>\n",
       "      <td>India Today</td>\n",
       "      <td>Sridevi's prayer meet in Chennai: AR Rahman ...</td>\n",
       "      <td>2019-06-04</td>\n",
       "      <td>14:53</td>\n",
       "      <td>https://www.indiatoday.in/movies/regional-cine...</td>\n",
       "    </tr>\n",
       "    <tr>\n",
       "      <th>8</th>\n",
       "      <td>India Today</td>\n",
       "      <td>Aditi Rao Hydari to Ramya Krishnan: Tamil he...</td>\n",
       "      <td>2019-06-04</td>\n",
       "      <td>14:53</td>\n",
       "      <td>https://www.indiatoday.in/movies/regional-cine...</td>\n",
       "    </tr>\n",
       "    <tr>\n",
       "      <th>9</th>\n",
       "      <td>India Today</td>\n",
       "      <td>Happy Women’s Day: Women directors who chang...</td>\n",
       "      <td>2019-06-04</td>\n",
       "      <td>14:53</td>\n",
       "      <td>https://www.indiatoday.in/movies/regional-cine...</td>\n",
       "    </tr>\n",
       "    <tr>\n",
       "      <th>10</th>\n",
       "      <td>India Today</td>\n",
       "      <td>Mahesh Babu to Mammootty, when South stars t...</td>\n",
       "      <td>2019-06-04</td>\n",
       "      <td>14:53</td>\n",
       "      <td>https://www.indiatoday.in/movies/regional-cine...</td>\n",
       "    </tr>\n",
       "    <tr>\n",
       "      <th>11</th>\n",
       "      <td>India Today</td>\n",
       "      <td>Happy Holi: From Superstar Rajinikanth to Pr...</td>\n",
       "      <td>2019-06-04</td>\n",
       "      <td>14:53</td>\n",
       "      <td>https://www.indiatoday.in/movies/regional-cine...</td>\n",
       "    </tr>\n",
       "  </tbody>\n",
       "</table>\n",
       "</div>"
      ],
      "text/plain": [
       "      Newspaper                                            Heading       Date  \\\n",
       "0   India Today   Delhi Crime: Grit expectationActors in 'Delhi... 2019-06-04   \n",
       "1   India Today   Roopal's back in action Daily soaps can drain... 2019-06-04   \n",
       "2   India Today   04:32Neeti Mohan on woman-related issuesSinge... 2019-06-04   \n",
       "3   India Today   A league of their ownPopularity is not always... 2019-06-04   \n",
       "4   India Today    Rajinikanth’s Kaala to Kamal’s Vishwaroopam ... 2019-06-04   \n",
       "5   India Today    Malayalam actor Neeraj Madhav and Deepthi's ... 2019-06-04   \n",
       "6   India Today    Kolamaavu Kokila stills: All you need to kno... 2019-06-04   \n",
       "7   India Today    Sridevi's prayer meet in Chennai: AR Rahman ... 2019-06-04   \n",
       "8   India Today    Aditi Rao Hydari to Ramya Krishnan: Tamil he... 2019-06-04   \n",
       "9   India Today    Happy Women’s Day: Women directors who chang... 2019-06-04   \n",
       "10  India Today    Mahesh Babu to Mammootty, when South stars t... 2019-06-04   \n",
       "11  India Today    Happy Holi: From Superstar Rajinikanth to Pr... 2019-06-04   \n",
       "\n",
       "     Time                                                URL  \n",
       "0   14:53  https://www.indiatoday.in/mail-today/story/del...  \n",
       "1   14:53  https://www.indiatoday.in/mail-today/story/roo...  \n",
       "2   14:53  https://www.indiatoday.in/entertainment/video/...  \n",
       "3   14:53  https://www.indiatoday.in/magazine/mood-of-the...  \n",
       "4   14:53  https://www.indiatoday.in/movies/regional-cine...  \n",
       "5   14:53  https://www.indiatoday.in/movies/regional-cine...  \n",
       "6   14:53  https://www.indiatoday.in/movies/regional-cine...  \n",
       "7   14:53  https://www.indiatoday.in/movies/regional-cine...  \n",
       "8   14:53  https://www.indiatoday.in/movies/regional-cine...  \n",
       "9   14:53  https://www.indiatoday.in/movies/regional-cine...  \n",
       "10  14:53  https://www.indiatoday.in/movies/regional-cine...  \n",
       "11  14:53  https://www.indiatoday.in/movies/regional-cine...  "
      ]
     },
     "execution_count": 25,
     "metadata": {},
     "output_type": "execute_result"
    }
   ],
   "source": [
    "df"
   ]
  },
  {
   "cell_type": "code",
   "execution_count": null,
   "metadata": {},
   "outputs": [],
   "source": []
  }
 ],
 "metadata": {
  "kernelspec": {
   "display_name": "Python 3",
   "language": "python",
   "name": "python3"
  },
  "language_info": {
   "codemirror_mode": {
    "name": "ipython",
    "version": 3
   },
   "file_extension": ".py",
   "mimetype": "text/x-python",
   "name": "python",
   "nbconvert_exporter": "python",
   "pygments_lexer": "ipython3",
   "version": "3.6.5"
  }
 },
 "nbformat": 4,
 "nbformat_minor": 2
}

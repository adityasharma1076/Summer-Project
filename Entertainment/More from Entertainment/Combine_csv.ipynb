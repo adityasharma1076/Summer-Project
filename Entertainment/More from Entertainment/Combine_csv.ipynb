{
 "cells": [
  {
   "cell_type": "code",
   "execution_count": 19,
   "metadata": {},
   "outputs": [],
   "source": [
    "import os\n",
    "import glob\n",
    "import pandas as pd\n",
    "os.chdir(\"C:\\\\Users\\drago\\Documents\\GitHub\\Summer-Project\\Entertainment\\More from Entertainment\")"
   ]
  },
  {
   "cell_type": "code",
   "execution_count": 20,
   "metadata": {},
   "outputs": [],
   "source": [
    "import datetime\n",
    "\n",
    "now = datetime.datetime.now()\n",
    "\n",
    "\n",
    "Today_time = now.strftime(\"%H:%M\")\n",
    "\n",
    "Today_date = now.strftime(\"%Y-%m-%d\")"
   ]
  },
  {
   "cell_type": "code",
   "execution_count": 21,
   "metadata": {},
   "outputs": [],
   "source": [
    "%run ./Times_of_India_Entertainment_more.ipynb\n",
    "%run ./Hindustan_Times_Entertainment_more.ipynb\n",
    "%run ./Indian_Express_Entertainment_more.ipynb\n",
    "%run ./India_Today_Entertainment_more.ipynb\n",
    "%run ./India_Times_Entertainment_more.ipynb"
   ]
  },
  {
   "cell_type": "code",
   "execution_count": 22,
   "metadata": {},
   "outputs": [],
   "source": [
    "extension = 'csv'\n",
    "string = 'CSV/'+Today_date+'/*.{}'\n",
    "all_filenames = [i for i in glob.glob(string.format(extension))]"
   ]
  },
  {
   "cell_type": "code",
   "execution_count": 23,
   "metadata": {},
   "outputs": [
    {
     "data": {
      "text/plain": [
       "['CSV/2019-06-11\\\\HT_entertainment-2019-06-11.csv',\n",
       " 'CSV/2019-06-11\\\\IE_entertainment-2019-06-11.csv',\n",
       " 'CSV/2019-06-11\\\\InTi_entertainment-2019-06-11.csv',\n",
       " 'CSV/2019-06-11\\\\IT_entertainment-2019-06-11.csv',\n",
       " 'CSV/2019-06-11\\\\TOI_entertainment-2019-06-11.csv']"
      ]
     },
     "execution_count": 23,
     "metadata": {},
     "output_type": "execute_result"
    }
   ],
   "source": [
    "all_filenames"
   ]
  },
  {
   "cell_type": "code",
   "execution_count": 24,
   "metadata": {},
   "outputs": [],
   "source": [
    "combined_csv = pd.concat([pd.read_csv(f) for f in all_filenames ])"
   ]
  },
  {
   "cell_type": "code",
   "execution_count": 25,
   "metadata": {},
   "outputs": [],
   "source": [
    "df = combined_csv "
   ]
  },
  {
   "cell_type": "code",
   "execution_count": 26,
   "metadata": {},
   "outputs": [
    {
     "data": {
      "text/plain": [
       "hollywood          162\n",
       "regional           149\n",
       "television          82\n",
       "bollywood           71\n",
       "movie-review        65\n",
       "music               53\n",
       "telugu              26\n",
       "malayalam           26\n",
       "tamil               26\n",
       "web-series          24\n",
       "celebs              18\n",
       "regional-cinema     12\n",
       "star-kids           12\n",
       "celebrities         12\n",
       "gossip              12\n",
       "Name: Category, dtype: int64"
      ]
     },
     "execution_count": 26,
     "metadata": {},
     "output_type": "execute_result"
    }
   ],
   "source": [
    "df['Category'].value_counts()"
   ]
  },
  {
   "cell_type": "code",
   "execution_count": 27,
   "metadata": {},
   "outputs": [],
   "source": [
    "def fix_you(x):\n",
    "    if(x=='regional-cinema'):\n",
    "        return 'regional'\n",
    "    elif(x=='celebs'):\n",
    "        return 'celebs-gossips'\n",
    "    elif(x=='celebrities'):\n",
    "        return 'celebs-gossips'\n",
    "    elif(x=='gossip'):\n",
    "        return 'celebs-gossips'\n",
    "    elif(x=='star-kids'):\n",
    "        return 'celebs-gossips'\n",
    "    else:\n",
    "        return x\n"
   ]
  },
  {
   "cell_type": "code",
   "execution_count": 28,
   "metadata": {},
   "outputs": [],
   "source": [
    "df['Category']=df['Category'].apply(fix_you)"
   ]
  },
  {
   "cell_type": "code",
   "execution_count": 29,
   "metadata": {},
   "outputs": [
    {
     "data": {
      "text/plain": [
       "hollywood         162\n",
       "regional          161\n",
       "television         82\n",
       "bollywood          71\n",
       "movie-review       65\n",
       "celebs-gossips     54\n",
       "music              53\n",
       "telugu             26\n",
       "malayalam          26\n",
       "tamil              26\n",
       "web-series         24\n",
       "Name: Category, dtype: int64"
      ]
     },
     "execution_count": 29,
     "metadata": {},
     "output_type": "execute_result"
    }
   ],
   "source": [
    "df['Category'].value_counts()"
   ]
  },
  {
   "cell_type": "code",
   "execution_count": 32,
   "metadata": {},
   "outputs": [],
   "source": [
    "outname ='combined_entertainment-'+str(Today_date)+'.csv'\n",
    "x=r\"C:\\Users\\drago\\Documents\\GitHub\\Summer-Project\\Entertainment\\More from Entertainment\\Combined CSV\\ \"\n",
    "if not os.path.exists(x[:-1]):\n",
    "    os.mkdir(x[:-1])\n",
    "#date_today= Today_date +'\\ '\n",
    "outdir=x[:-1]\n",
    "if not os.path.exists(outdir):\n",
    "    os.mkdir(outdir)\n",
    "fullname = os.path.join(outdir, outname)"
   ]
  },
  {
   "cell_type": "code",
   "execution_count": 33,
   "metadata": {},
   "outputs": [],
   "source": [
    "combined_csv.to_csv(fullname, index=False, encoding='utf-8')"
   ]
  },
  {
   "cell_type": "code",
   "execution_count": null,
   "metadata": {},
   "outputs": [],
   "source": []
  }
 ],
 "metadata": {
  "kernelspec": {
   "display_name": "Python 3",
   "language": "python",
   "name": "python3"
  },
  "language_info": {
   "codemirror_mode": {
    "name": "ipython",
    "version": 3
   },
   "file_extension": ".py",
   "mimetype": "text/x-python",
   "name": "python",
   "nbconvert_exporter": "python",
   "pygments_lexer": "ipython3",
   "version": "3.6.5"
  }
 },
 "nbformat": 4,
 "nbformat_minor": 2
}

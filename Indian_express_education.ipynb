{
 "cells": [
  {
   "cell_type": "code",
   "execution_count": 1,
   "metadata": {},
   "outputs": [],
   "source": [
    "import requests\n",
    "import bs4\n",
    "import pandas as pd"
   ]
  },
  {
   "cell_type": "code",
   "execution_count": 2,
   "metadata": {},
   "outputs": [],
   "source": [
    "def get_date_time(URL):\n",
    "    req = requests.get(URL)\n",
    "    soup_date = bs4.BeautifulSoup(req.text,'lxml')\n",
    "    temp = soup_date.select(\".m-story-meta__credit\")\n",
    "    time_date = temp[0].findAll('span')[-1].text\n",
    "    x=str.split(time_date)\n",
    "    date = x[1]+' '+x[2]+' '+x[3]\n",
    "    time = x[4]+' '+x[5]\n",
    "    return date,time\n",
    "\n",
    "def get_time(URL):\n",
    "    req = requests.get(URL)\n",
    "    soup_date = bs4.BeautifulSoup(req.text,'lxml')\n",
    "    temp = soup_date.select(\".m-story-meta__credit\")\n",
    "    time_date = temp[0].findAll('span')[-1].text\n",
    "    time = time_date[-11:]\n",
    "    return time\n"
   ]
  },
  {
   "cell_type": "code",
   "execution_count": 3,
   "metadata": {},
   "outputs": [],
   "source": [
    "link = 'https://indianexpress.com/section/education/'"
   ]
  },
  {
   "cell_type": "code",
   "execution_count": 4,
   "metadata": {},
   "outputs": [],
   "source": [
    "res = requests.get(link)\n",
    "soup = bs4.BeautifulSoup(res.text,'lxml')"
   ]
  },
  {
   "cell_type": "code",
   "execution_count": 5,
   "metadata": {},
   "outputs": [],
   "source": [
    "h1 = soup.select('.m-article-featured__title')"
   ]
  },
  {
   "cell_type": "code",
   "execution_count": 6,
   "metadata": {},
   "outputs": [
    {
     "data": {
      "text/plain": [
       "'Delhi university’s new UG curriculum ready, varsity seeks feedback from public'"
      ]
     },
     "execution_count": 6,
     "metadata": {},
     "output_type": "execute_result"
    }
   ],
   "source": [
    "h1[0].text\n"
   ]
  },
  {
   "cell_type": "code",
   "execution_count": 7,
   "metadata": {},
   "outputs": [
    {
     "data": {
      "text/plain": [
       "'https://indianexpress.com/article/education/delhi-universitys-new-ug-curriculum-ready-varsity-seeks-feedback-from-public-du-ac-in-5742896/'"
      ]
     },
     "execution_count": 7,
     "metadata": {},
     "output_type": "execute_result"
    }
   ],
   "source": [
    "h1[0].find('a')['href']"
   ]
  },
  {
   "cell_type": "code",
   "execution_count": null,
   "metadata": {},
   "outputs": [],
   "source": []
  },
  {
   "cell_type": "code",
   "execution_count": 8,
   "metadata": {},
   "outputs": [],
   "source": [
    "records=[]\n",
    "#records.append(('Indian Express',h1[0].text,h1[0].find('a')['href']))\n",
    "h1_newspaper='Indian Express'\n",
    "h1_heading = h1[0].text\n",
    "h1_url = h1[0].find('a')['href']\n",
    "h1_date,h1_time = get_date_time(h1_url)\n",
    "#h1_time = get_time(h1_url)\n",
    "\n",
    "records.append((h1_newspaper,h1_heading,h1_date,h1_time,h1_url))"
   ]
  },
  {
   "cell_type": "code",
   "execution_count": 9,
   "metadata": {},
   "outputs": [],
   "source": [
    "h2=soup.findAll('h2')"
   ]
  },
  {
   "cell_type": "code",
   "execution_count": 10,
   "metadata": {},
   "outputs": [
    {
     "data": {
      "text/plain": [
       "[<h2 class=\"m-article-tall@medium+__title m-article-wide@small-__title\"><a class=\"m-block-link__anchor\" data-event-id=\"\" href=\"https://indianexpress.com/article/education/nios-d-el-ed-results-for-4th-semester-exam-download-at-nios-ac-in-5742618/\" target=\"_self\" title=\"NIOS D.El.Ed results for 4th semester exam: Download at nios.ac.in\">NIOS D.El.Ed results for 4th semester exam: Download at nios.ac.in</a></h2>,\n",
       " <h2 class=\"m-article-tall@medium+__title m-article-wide@small-__title\"><a class=\"m-block-link__anchor\" data-event-id=\"\" href=\"https://indianexpress.com/article/education/from-hut-to-stars-tripura-boy-among-tbse-inter-toppers-wishes-to-be-the-next-hawking-5742841/\" target=\"_self\" title=\"From small hut to stars: Tripura-boy among TBSE inter toppers wishes to be the next Hawking\">From small hut to stars: Tripura-boy among TBSE inter toppers wishes to be the next Hawking</a></h2>,\n",
       " <h2 class=\"m-article-tall@medium+__title m-article-wide@small-__title\"><a class=\"m-block-link__anchor\" data-event-id=\"\" href=\"https://indianexpress.com/article/education/rbse-rajasthan-board-12th-arts-result-2019-date-and-time-5740397/\" target=\"_self\" title=\"RBSE BSER Rajasthan Board 12th Arts Result 2019 declared at rajeduboard.rajasthan.gov.in, rajresults.nic.in, download now\">RBSE BSER Rajasthan Board 12th Arts Result 2019 declared at rajeduboard.rajasthan.gov.in, rajresults.nic.in, download now</a></h2>]"
      ]
     },
     "execution_count": 10,
     "metadata": {},
     "output_type": "execute_result"
    }
   ],
   "source": [
    "h2[1:4]"
   ]
  },
  {
   "cell_type": "code",
   "execution_count": 11,
   "metadata": {},
   "outputs": [
    {
     "data": {
      "text/plain": [
       "'https://indianexpress.com/article/education/nios-d-el-ed-results-for-4th-semester-exam-download-at-nios-ac-in-5742618/'"
      ]
     },
     "execution_count": 11,
     "metadata": {},
     "output_type": "execute_result"
    }
   ],
   "source": [
    "h2[1].text\n",
    "h2[1].find('a')['href']"
   ]
  },
  {
   "cell_type": "code",
   "execution_count": 12,
   "metadata": {},
   "outputs": [],
   "source": [
    "for record in h2[1:4]:\n",
    "    Heading = record.text\n",
    "    URL = record.find('a')['href']\n",
    "    Date,Time = get_date_time(URL)\n",
    "    #Time = get_time(URL)\n",
    "    Newspaper='Indian Express'\n",
    "    records.append((Newspaper,Heading,Date,Time,URL))"
   ]
  },
  {
   "cell_type": "code",
   "execution_count": 13,
   "metadata": {},
   "outputs": [],
   "source": [
    "h3=soup.select('.m-article-landing__title')"
   ]
  },
  {
   "cell_type": "code",
   "execution_count": 14,
   "metadata": {},
   "outputs": [
    {
     "data": {
      "text/plain": [
       "'https://indianexpress.com/article/education/rajasthan-board-rbse-bser-class-12th-arts-result-worse-than-other-stream-past-years-know-why-rajresults-nic-in-5742606/'"
      ]
     },
     "execution_count": 14,
     "metadata": {},
     "output_type": "execute_result"
    }
   ],
   "source": [
    "h3[0].text\n",
    "h3[0].find('a')['href']"
   ]
  },
  {
   "cell_type": "code",
   "execution_count": 15,
   "metadata": {},
   "outputs": [],
   "source": [
    "req = requests.get('https://indianexpress.com/article/education/why-are-du-admissions-2019-being-delayed-delhi-university-du-ac-in-5739038/')\n",
    "soup_date = bs4.BeautifulSoup(req.text,'lxml')"
   ]
  },
  {
   "cell_type": "code",
   "execution_count": null,
   "metadata": {},
   "outputs": [],
   "source": []
  },
  {
   "cell_type": "code",
   "execution_count": 16,
   "metadata": {},
   "outputs": [],
   "source": [
    "for record in h3:\n",
    "    Heading = record.text\n",
    "    URL = record.find('a')['href']\n",
    "    Date,Time = get_date_time(URL)\n",
    "    #Time = get_time(URL)\n",
    "    Newspaper = 'Indian Express'\n",
    "    records.append((Newspaper,Heading,Date,Time,URL))"
   ]
  },
  {
   "cell_type": "code",
   "execution_count": 17,
   "metadata": {},
   "outputs": [],
   "source": [
    "df=pd.DataFrame(records,columns=['Newspaper','Heading','Date','Time','URL'])\n",
    "df['Date'] = pd.to_datetime(df['Date'])\n",
    "df.to_csv('IE_education.csv',index=False,encoding='utf-8')"
   ]
  },
  {
   "cell_type": "code",
   "execution_count": null,
   "metadata": {},
   "outputs": [],
   "source": []
  },
  {
   "cell_type": "code",
   "execution_count": 18,
   "metadata": {},
   "outputs": [
    {
     "data": {
      "text/html": [
       "<div>\n",
       "<style scoped>\n",
       "    .dataframe tbody tr th:only-of-type {\n",
       "        vertical-align: middle;\n",
       "    }\n",
       "\n",
       "    .dataframe tbody tr th {\n",
       "        vertical-align: top;\n",
       "    }\n",
       "\n",
       "    .dataframe thead th {\n",
       "        text-align: right;\n",
       "    }\n",
       "</style>\n",
       "<table border=\"1\" class=\"dataframe\">\n",
       "  <thead>\n",
       "    <tr style=\"text-align: right;\">\n",
       "      <th></th>\n",
       "      <th>Newspaper</th>\n",
       "      <th>Heading</th>\n",
       "      <th>Date</th>\n",
       "      <th>Time</th>\n",
       "      <th>URL</th>\n",
       "    </tr>\n",
       "  </thead>\n",
       "  <tbody>\n",
       "    <tr>\n",
       "      <th>0</th>\n",
       "      <td>Indian Express</td>\n",
       "      <td>Delhi university’s new UG curriculum ready, va...</td>\n",
       "      <td>2019-05-22</td>\n",
       "      <td>8:00:28 pm</td>\n",
       "      <td>https://indianexpress.com/article/education/de...</td>\n",
       "    </tr>\n",
       "    <tr>\n",
       "      <th>1</th>\n",
       "      <td>Indian Express</td>\n",
       "      <td>NIOS D.El.Ed results for 4th semester exam: Do...</td>\n",
       "      <td>2019-05-22</td>\n",
       "      <td>7:15:50 pm</td>\n",
       "      <td>https://indianexpress.com/article/education/ni...</td>\n",
       "    </tr>\n",
       "    <tr>\n",
       "      <th>2</th>\n",
       "      <td>Indian Express</td>\n",
       "      <td>From small hut to stars: Tripura-boy among TBS...</td>\n",
       "      <td>2019-05-22</td>\n",
       "      <td>6:32:25 pm</td>\n",
       "      <td>https://indianexpress.com/article/education/fr...</td>\n",
       "    </tr>\n",
       "    <tr>\n",
       "      <th>3</th>\n",
       "      <td>Indian Express</td>\n",
       "      <td>RBSE BSER Rajasthan Board 12th Arts Result 201...</td>\n",
       "      <td>2019-05-22</td>\n",
       "      <td>4:57:44 pm</td>\n",
       "      <td>https://indianexpress.com/article/education/rb...</td>\n",
       "    </tr>\n",
       "    <tr>\n",
       "      <th>4</th>\n",
       "      <td>Indian Express</td>\n",
       "      <td>Rajasthan Board Class 12th Arts result worse t...</td>\n",
       "      <td>2019-05-22</td>\n",
       "      <td>4:55:12 pm</td>\n",
       "      <td>https://indianexpress.com/article/education/ra...</td>\n",
       "    </tr>\n",
       "    <tr>\n",
       "      <th>5</th>\n",
       "      <td>Indian Express</td>\n",
       "      <td>ICSI CS admit card for June 2019 exam: How to ...</td>\n",
       "      <td>2019-05-22</td>\n",
       "      <td>4:50:58 pm</td>\n",
       "      <td>https://indianexpress.com/article/education/ic...</td>\n",
       "    </tr>\n",
       "    <tr>\n",
       "      <th>6</th>\n",
       "      <td>Indian Express</td>\n",
       "      <td>VBSPU result 2019 declared for UG, PG courses:...</td>\n",
       "      <td>2019-05-22</td>\n",
       "      <td>4:21:10 pm</td>\n",
       "      <td>https://indianexpress.com/article/education/vb...</td>\n",
       "    </tr>\n",
       "    <tr>\n",
       "      <th>7</th>\n",
       "      <td>Indian Express</td>\n",
       "      <td>RBSE 12th Arts result 2019 declared at rajresu...</td>\n",
       "      <td>2019-05-22</td>\n",
       "      <td>4:16:51 pm</td>\n",
       "      <td>https://indianexpress.com/article/education/ra...</td>\n",
       "    </tr>\n",
       "    <tr>\n",
       "      <th>8</th>\n",
       "      <td>Indian Express</td>\n",
       "      <td>Rajasthan Board RBSE 12th Arts result declared...</td>\n",
       "      <td>2019-05-22</td>\n",
       "      <td>8:06:57 pm</td>\n",
       "      <td>https://indianexpress.com/article/education/ra...</td>\n",
       "    </tr>\n",
       "    <tr>\n",
       "      <th>9</th>\n",
       "      <td>Indian Express</td>\n",
       "      <td>LiveRBSE Rajastha 12th Arts results 2019 @rajr...</td>\n",
       "      <td>2019-05-22</td>\n",
       "      <td>4:00:16 pm</td>\n",
       "      <td>https://indianexpress.com/article/education/rb...</td>\n",
       "    </tr>\n",
       "    <tr>\n",
       "      <th>10</th>\n",
       "      <td>Indian Express</td>\n",
       "      <td>Released! BSER RBSE Rajasthan Board 12th Arts ...</td>\n",
       "      <td>2019-05-22</td>\n",
       "      <td>8:08:09 pm</td>\n",
       "      <td>https://indianexpress.com/article/education/ra...</td>\n",
       "    </tr>\n",
       "    <tr>\n",
       "      <th>11</th>\n",
       "      <td>Indian Express</td>\n",
       "      <td>Haryana Open School 10th, 12th results 2019 de...</td>\n",
       "      <td>2019-05-22</td>\n",
       "      <td>1:37:14 pm</td>\n",
       "      <td>https://indianexpress.com/article/education/ha...</td>\n",
       "    </tr>\n",
       "    <tr>\n",
       "      <th>12</th>\n",
       "      <td>Indian Express</td>\n",
       "      <td>TS ECET result 2019 to be declared today after...</td>\n",
       "      <td>2019-05-22</td>\n",
       "      <td>12:13:06 pm</td>\n",
       "      <td>https://indianexpress.com/article/education/ma...</td>\n",
       "    </tr>\n",
       "    <tr>\n",
       "      <th>13</th>\n",
       "      <td>Indian Express</td>\n",
       "      <td>UP BEd JEE result 2019 result declared at upbe...</td>\n",
       "      <td>2019-05-22</td>\n",
       "      <td>11:52:54 am</td>\n",
       "      <td>https://indianexpress.com/article/education/mj...</td>\n",
       "    </tr>\n",
       "    <tr>\n",
       "      <th>14</th>\n",
       "      <td>Indian Express</td>\n",
       "      <td>APRJC, APRDC CET results 2019: How to download...</td>\n",
       "      <td>2019-05-22</td>\n",
       "      <td>11:31:49 am</td>\n",
       "      <td>https://indianexpress.com/article/education/ma...</td>\n",
       "    </tr>\n",
       "    <tr>\n",
       "      <th>15</th>\n",
       "      <td>Indian Express</td>\n",
       "      <td>BSE Odisha 10th result 2019 @bseodisha.nic.in ...</td>\n",
       "      <td>2019-05-22</td>\n",
       "      <td>11:11:02 am</td>\n",
       "      <td>https://indianexpress.com/article/education/0b...</td>\n",
       "    </tr>\n",
       "  </tbody>\n",
       "</table>\n",
       "</div>"
      ],
      "text/plain": [
       "         Newspaper                                            Heading  \\\n",
       "0   Indian Express  Delhi university’s new UG curriculum ready, va...   \n",
       "1   Indian Express  NIOS D.El.Ed results for 4th semester exam: Do...   \n",
       "2   Indian Express  From small hut to stars: Tripura-boy among TBS...   \n",
       "3   Indian Express  RBSE BSER Rajasthan Board 12th Arts Result 201...   \n",
       "4   Indian Express  Rajasthan Board Class 12th Arts result worse t...   \n",
       "5   Indian Express  ICSI CS admit card for June 2019 exam: How to ...   \n",
       "6   Indian Express  VBSPU result 2019 declared for UG, PG courses:...   \n",
       "7   Indian Express  RBSE 12th Arts result 2019 declared at rajresu...   \n",
       "8   Indian Express  Rajasthan Board RBSE 12th Arts result declared...   \n",
       "9   Indian Express  LiveRBSE Rajastha 12th Arts results 2019 @rajr...   \n",
       "10  Indian Express  Released! BSER RBSE Rajasthan Board 12th Arts ...   \n",
       "11  Indian Express  Haryana Open School 10th, 12th results 2019 de...   \n",
       "12  Indian Express  TS ECET result 2019 to be declared today after...   \n",
       "13  Indian Express  UP BEd JEE result 2019 result declared at upbe...   \n",
       "14  Indian Express  APRJC, APRDC CET results 2019: How to download...   \n",
       "15  Indian Express  BSE Odisha 10th result 2019 @bseodisha.nic.in ...   \n",
       "\n",
       "         Date         Time                                                URL  \n",
       "0  2019-05-22   8:00:28 pm  https://indianexpress.com/article/education/de...  \n",
       "1  2019-05-22   7:15:50 pm  https://indianexpress.com/article/education/ni...  \n",
       "2  2019-05-22   6:32:25 pm  https://indianexpress.com/article/education/fr...  \n",
       "3  2019-05-22   4:57:44 pm  https://indianexpress.com/article/education/rb...  \n",
       "4  2019-05-22   4:55:12 pm  https://indianexpress.com/article/education/ra...  \n",
       "5  2019-05-22   4:50:58 pm  https://indianexpress.com/article/education/ic...  \n",
       "6  2019-05-22   4:21:10 pm  https://indianexpress.com/article/education/vb...  \n",
       "7  2019-05-22   4:16:51 pm  https://indianexpress.com/article/education/ra...  \n",
       "8  2019-05-22   8:06:57 pm  https://indianexpress.com/article/education/ra...  \n",
       "9  2019-05-22   4:00:16 pm  https://indianexpress.com/article/education/rb...  \n",
       "10 2019-05-22   8:08:09 pm  https://indianexpress.com/article/education/ra...  \n",
       "11 2019-05-22   1:37:14 pm  https://indianexpress.com/article/education/ha...  \n",
       "12 2019-05-22  12:13:06 pm  https://indianexpress.com/article/education/ma...  \n",
       "13 2019-05-22  11:52:54 am  https://indianexpress.com/article/education/mj...  \n",
       "14 2019-05-22  11:31:49 am  https://indianexpress.com/article/education/ma...  \n",
       "15 2019-05-22  11:11:02 am  https://indianexpress.com/article/education/0b...  "
      ]
     },
     "execution_count": 18,
     "metadata": {},
     "output_type": "execute_result"
    }
   ],
   "source": [
    "df"
   ]
  },
  {
   "cell_type": "code",
   "execution_count": null,
   "metadata": {},
   "outputs": [],
   "source": []
  }
 ],
 "metadata": {
  "kernelspec": {
   "display_name": "Python 3",
   "language": "python",
   "name": "python3"
  },
  "language_info": {
   "codemirror_mode": {
    "name": "ipython",
    "version": 3
   },
   "file_extension": ".py",
   "mimetype": "text/x-python",
   "name": "python",
   "nbconvert_exporter": "python",
   "pygments_lexer": "ipython3",
   "version": "3.6.5"
  }
 },
 "nbformat": 4,
 "nbformat_minor": 2
}

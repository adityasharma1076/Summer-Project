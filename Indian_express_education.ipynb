{
 "cells": [
  {
   "cell_type": "code",
   "execution_count": 1,
   "metadata": {},
   "outputs": [],
   "source": [
    "import requests\n",
    "import bs4\n",
    "import pandas as pd"
   ]
  },
  {
   "cell_type": "code",
   "execution_count": 2,
   "metadata": {},
   "outputs": [],
   "source": [
    "def get_date_time(URL):\n",
    "    req = requests.get(URL)\n",
    "    soup_date = bs4.BeautifulSoup(req.text,'lxml')\n",
    "    temp = soup_date.select(\".m-story-meta__credit\")\n",
    "    time_date = temp[0].findAll('span')[-1].text\n",
    "    x=str.split(time_date)\n",
    "    date = x[1]+' '+x[2]+' '+x[3]\n",
    "    time = x[4]+' '+x[5]\n",
    "    return date,time\n",
    "\n",
    "def get_time(URL):\n",
    "    req = requests.get(URL)\n",
    "    soup_date = bs4.BeautifulSoup(req.text,'lxml')\n",
    "    temp = soup_date.select(\".m-story-meta__credit\")\n",
    "    time_date = temp[0].findAll('span')[-1].text\n",
    "    time = time_date[-11:]\n",
    "    return time\n"
   ]
  },
  {
   "cell_type": "code",
   "execution_count": 3,
   "metadata": {},
   "outputs": [],
   "source": [
    "link = 'https://indianexpress.com/section/education/'"
   ]
  },
  {
   "cell_type": "code",
   "execution_count": 4,
   "metadata": {},
   "outputs": [],
   "source": [
    "res = requests.get(link)\n",
    "soup = bs4.BeautifulSoup(res.text,'lxml')"
   ]
  },
  {
   "cell_type": "code",
   "execution_count": 5,
   "metadata": {},
   "outputs": [],
   "source": [
    "h1 = soup.select('.m-article-featured__title')"
   ]
  },
  {
   "cell_type": "code",
   "execution_count": 6,
   "metadata": {},
   "outputs": [
    {
     "data": {
      "text/plain": [
       "'Uttarakhand Board UBSE Class 10th, 12th results 2019: Date and time confirmed'"
      ]
     },
     "execution_count": 6,
     "metadata": {},
     "output_type": "execute_result"
    }
   ],
   "source": [
    "h1[0].text\n"
   ]
  },
  {
   "cell_type": "code",
   "execution_count": 7,
   "metadata": {},
   "outputs": [
    {
     "data": {
      "text/plain": [
       "'https://indianexpress.com/article/education/uttarakhand-board-ubse-class-10-12th-result-2019-date-and-time-confirmed-uaresults-nic-in-indiaresult-5748240/'"
      ]
     },
     "execution_count": 7,
     "metadata": {},
     "output_type": "execute_result"
    }
   ],
   "source": [
    "h1[0].find('a')['href']"
   ]
  },
  {
   "cell_type": "code",
   "execution_count": null,
   "metadata": {},
   "outputs": [],
   "source": []
  },
  {
   "cell_type": "code",
   "execution_count": 8,
   "metadata": {},
   "outputs": [],
   "source": [
    "records=[]\n",
    "#records.append(('Indian Express',h1[0].text,h1[0].find('a')['href']))\n",
    "h1_newspaper='Indian Express'\n",
    "h1_heading = h1[0].text\n",
    "h1_url = h1[0].find('a')['href']\n",
    "h1_date,h1_time = get_date_time(h1_url)\n",
    "#h1_time = get_time(h1_url)\n",
    "\n",
    "records.append((h1_newspaper,h1_heading,h1_date,h1_time,h1_url))"
   ]
  },
  {
   "cell_type": "code",
   "execution_count": 9,
   "metadata": {},
   "outputs": [],
   "source": [
    "h2=soup.findAll('h2')"
   ]
  },
  {
   "cell_type": "code",
   "execution_count": 10,
   "metadata": {},
   "outputs": [
    {
     "data": {
      "text/plain": [
       "[<h2 class=\"m-article-tall@medium+__title m-article-wide@small-__title\"><a class=\"m-block-link__anchor\" data-event-id=\"\" href=\"https://indianexpress.com/article/education/wbjee-2019-tomorrow-last-minute-tips-and-tricks-wbjeeb-nic-in-5748285/\" target=\"_self\" title=\"WBJEE 2019 tomorrow: Last minute tips and tricks\">WBJEE 2019 tomorrow: Last minute tips and tricks</a></h2>,\n",
       " <h2 class=\"m-article-tall@medium+__title m-article-wide@small-__title\"><a class=\"m-block-link__anchor\" data-event-id=\"\" href=\"https://indianexpress.com/article/education/jee-advanced-2019-last-minute-advice-by-experts-jeeadv-ac-in-5745335/\" target=\"_self\" title=\"JEE Advanced 2019: Follow these last minute tips by experts to excel in exam\">JEE Advanced 2019: Follow these last minute tips by experts to excel in exam</a></h2>,\n",
       " <h2 class=\"m-article-tall@medium+__title m-article-wide@small-__title\"><a class=\"m-block-link__anchor\" data-event-id=\"\" href=\"https://indianexpress.com/article/education/gseb-12th-arts-commerce-result-2019-declared-gseb-org-live-updates-indiaresults-5747192/\" target=\"_self\" title=\"GSEB 12th Arts, Commerce Result 2019 declared @gseb.org HIGHLIGHTS: Pass percentage improves, touches 73.27%\">GSEB 12th Arts, Commerce Result 2019 declared @gseb.org HIGHLIGHTS: Pass percentage improves, touches 73.27%</a></h2>]"
      ]
     },
     "execution_count": 10,
     "metadata": {},
     "output_type": "execute_result"
    }
   ],
   "source": [
    "h2[1:4]"
   ]
  },
  {
   "cell_type": "code",
   "execution_count": 11,
   "metadata": {},
   "outputs": [
    {
     "data": {
      "text/plain": [
       "'https://indianexpress.com/article/education/wbjee-2019-tomorrow-last-minute-tips-and-tricks-wbjeeb-nic-in-5748285/'"
      ]
     },
     "execution_count": 11,
     "metadata": {},
     "output_type": "execute_result"
    }
   ],
   "source": [
    "h2[1].text\n",
    "h2[1].find('a')['href']"
   ]
  },
  {
   "cell_type": "code",
   "execution_count": 12,
   "metadata": {},
   "outputs": [],
   "source": [
    "for record in h2[1:4]:\n",
    "    Heading = record.text\n",
    "    URL = record.find('a')['href']\n",
    "    Date,Time = get_date_time(URL)\n",
    "    #Time = get_time(URL)\n",
    "    Newspaper='Indian Express'\n",
    "    records.append((Newspaper,Heading,Date,Time,URL))"
   ]
  },
  {
   "cell_type": "code",
   "execution_count": 13,
   "metadata": {},
   "outputs": [],
   "source": [
    "h3=soup.select('.m-article-landing__title')"
   ]
  },
  {
   "cell_type": "code",
   "execution_count": 14,
   "metadata": {},
   "outputs": [
    {
     "data": {
      "text/plain": [
       "'https://indianexpress.com/article/education/kcet-results-2019-kea-kar-nic-in-declared-live-updates-kea-kar-nic-in-karresults-nic-in-5747727/'"
      ]
     },
     "execution_count": 14,
     "metadata": {},
     "output_type": "execute_result"
    }
   ],
   "source": [
    "h3[0].text\n",
    "h3[0].find('a')['href']"
   ]
  },
  {
   "cell_type": "code",
   "execution_count": 15,
   "metadata": {},
   "outputs": [],
   "source": [
    "req = requests.get('https://indianexpress.com/article/education/why-are-du-admissions-2019-being-delayed-delhi-university-du-ac-in-5739038/')\n",
    "soup_date = bs4.BeautifulSoup(req.text,'lxml')"
   ]
  },
  {
   "cell_type": "code",
   "execution_count": null,
   "metadata": {},
   "outputs": [],
   "source": []
  },
  {
   "cell_type": "code",
   "execution_count": 16,
   "metadata": {},
   "outputs": [],
   "source": [
    "for record in h3:\n",
    "    Heading = record.text\n",
    "    URL = record.find('a')['href']\n",
    "    Date,Time = get_date_time(URL)\n",
    "    #Time = get_time(URL)\n",
    "    Newspaper = 'Indian Express'\n",
    "    records.append((Newspaper,Heading,Date,Time,URL))"
   ]
  },
  {
   "cell_type": "code",
   "execution_count": 17,
   "metadata": {},
   "outputs": [],
   "source": [
    "df=pd.DataFrame(records,columns=['Newspaper','Heading','Date','Time','URL'])\n",
    "df['Date'] = pd.to_datetime(df['Date'])\n",
    "df.to_csv('IE_education.csv',index=False,encoding='utf-8')"
   ]
  },
  {
   "cell_type": "code",
   "execution_count": 18,
   "metadata": {},
   "outputs": [
    {
     "data": {
      "text/html": [
       "<div>\n",
       "<style scoped>\n",
       "    .dataframe tbody tr th:only-of-type {\n",
       "        vertical-align: middle;\n",
       "    }\n",
       "\n",
       "    .dataframe tbody tr th {\n",
       "        vertical-align: top;\n",
       "    }\n",
       "\n",
       "    .dataframe thead th {\n",
       "        text-align: right;\n",
       "    }\n",
       "</style>\n",
       "<table border=\"1\" class=\"dataframe\">\n",
       "  <thead>\n",
       "    <tr style=\"text-align: right;\">\n",
       "      <th></th>\n",
       "      <th>Newspaper</th>\n",
       "      <th>Heading</th>\n",
       "      <th>Date</th>\n",
       "      <th>Time</th>\n",
       "      <th>URL</th>\n",
       "    </tr>\n",
       "  </thead>\n",
       "  <tbody>\n",
       "    <tr>\n",
       "      <th>0</th>\n",
       "      <td>Indian Express</td>\n",
       "      <td>Uttarakhand Board UBSE Class 10th, 12th result...</td>\n",
       "      <td>2019-05-25</td>\n",
       "      <td>5:58:55 pm</td>\n",
       "      <td>https://indianexpress.com/article/education/ut...</td>\n",
       "    </tr>\n",
       "    <tr>\n",
       "      <th>1</th>\n",
       "      <td>Indian Express</td>\n",
       "      <td>WBJEE 2019 tomorrow: Last minute tips and tricks</td>\n",
       "      <td>2019-05-25</td>\n",
       "      <td>5:50:05 pm</td>\n",
       "      <td>https://indianexpress.com/article/education/wb...</td>\n",
       "    </tr>\n",
       "    <tr>\n",
       "      <th>2</th>\n",
       "      <td>Indian Express</td>\n",
       "      <td>JEE Advanced 2019: Follow these last minute ti...</td>\n",
       "      <td>2019-05-25</td>\n",
       "      <td>5:30:32 pm</td>\n",
       "      <td>https://indianexpress.com/article/education/je...</td>\n",
       "    </tr>\n",
       "    <tr>\n",
       "      <th>3</th>\n",
       "      <td>Indian Express</td>\n",
       "      <td>GSEB 12th Arts, Commerce Result 2019 declared ...</td>\n",
       "      <td>2019-05-25</td>\n",
       "      <td>5:06:33 pm</td>\n",
       "      <td>https://indianexpress.com/article/education/gs...</td>\n",
       "    </tr>\n",
       "    <tr>\n",
       "      <th>4</th>\n",
       "      <td>Indian Express</td>\n",
       "      <td>KCET Results 2019 @kea.kar.nic.in HIGHLIGHTS: ...</td>\n",
       "      <td>2019-05-25</td>\n",
       "      <td>5:05:16 pm</td>\n",
       "      <td>https://indianexpress.com/article/education/kc...</td>\n",
       "    </tr>\n",
       "    <tr>\n",
       "      <th>5</th>\n",
       "      <td>Indian Express</td>\n",
       "      <td>AHSEC Assam Board HS 12th Result 2019 declared...</td>\n",
       "      <td>2019-05-25</td>\n",
       "      <td>5:03:52 pm</td>\n",
       "      <td>https://indianexpress.com/article/education/as...</td>\n",
       "    </tr>\n",
       "    <tr>\n",
       "      <th>6</th>\n",
       "      <td>Indian Express</td>\n",
       "      <td>Veer Bahadur Singh Purvanchal University admis...</td>\n",
       "      <td>2019-05-25</td>\n",
       "      <td>4:51:42 pm</td>\n",
       "      <td>https://indianexpress.com/article/education/ve...</td>\n",
       "    </tr>\n",
       "    <tr>\n",
       "      <th>7</th>\n",
       "      <td>Indian Express</td>\n",
       "      <td>Allahabad University releases B.Com part I and...</td>\n",
       "      <td>2019-05-25</td>\n",
       "      <td>3:37:48 pm</td>\n",
       "      <td>https://indianexpress.com/article/education/al...</td>\n",
       "    </tr>\n",
       "    <tr>\n",
       "      <th>8</th>\n",
       "      <td>Indian Express</td>\n",
       "      <td>IIITM-K admissions 2019: Applications availabl...</td>\n",
       "      <td>2019-05-25</td>\n",
       "      <td>2:36:39 pm</td>\n",
       "      <td>https://indianexpress.com/article/education/ii...</td>\n",
       "    </tr>\n",
       "    <tr>\n",
       "      <th>9</th>\n",
       "      <td>Indian Express</td>\n",
       "      <td>Athlete Hima Das secures first division in Ass...</td>\n",
       "      <td>2019-05-25</td>\n",
       "      <td>2:20:56 pm</td>\n",
       "      <td>https://indianexpress.com/article/education/at...</td>\n",
       "    </tr>\n",
       "    <tr>\n",
       "      <th>10</th>\n",
       "      <td>Indian Express</td>\n",
       "      <td>KCET results 2019: Jeffin Biju tops in Enginee...</td>\n",
       "      <td>2019-05-25</td>\n",
       "      <td>1:36:50 pm</td>\n",
       "      <td>https://indianexpress.com/article/education/kc...</td>\n",
       "    </tr>\n",
       "    <tr>\n",
       "      <th>11</th>\n",
       "      <td>Indian Express</td>\n",
       "      <td>KCET results 2019 declared, how to check via w...</td>\n",
       "      <td>2019-05-25</td>\n",
       "      <td>1:18:35 pm</td>\n",
       "      <td>https://indianexpress.com/article/education/ka...</td>\n",
       "    </tr>\n",
       "    <tr>\n",
       "      <th>12</th>\n",
       "      <td>Indian Express</td>\n",
       "      <td>Assam Board AHSEC HS Class 12th results 2019 d...</td>\n",
       "      <td>2019-05-25</td>\n",
       "      <td>11:43:20 am</td>\n",
       "      <td>https://indianexpress.com/article/education/as...</td>\n",
       "    </tr>\n",
       "    <tr>\n",
       "      <th>13</th>\n",
       "      <td>Indian Express</td>\n",
       "      <td>Assam AHSEC HS results 2019: Websites to check</td>\n",
       "      <td>2019-05-25</td>\n",
       "      <td>11:19:41 am</td>\n",
       "      <td>https://indianexpress.com/article/education/as...</td>\n",
       "    </tr>\n",
       "    <tr>\n",
       "      <th>14</th>\n",
       "      <td>Indian Express</td>\n",
       "      <td>WBJEE 2019 tomorrow: From important instructio...</td>\n",
       "      <td>2019-05-25</td>\n",
       "      <td>11:07:03 am</td>\n",
       "      <td>https://indianexpress.com/article/education/wb...</td>\n",
       "    </tr>\n",
       "    <tr>\n",
       "      <th>15</th>\n",
       "      <td>Indian Express</td>\n",
       "      <td>Assam Board 12th HS Result 2019 declared: When...</td>\n",
       "      <td>2019-05-25</td>\n",
       "      <td>9:13:09 am</td>\n",
       "      <td>https://indianexpress.com/article/education/as...</td>\n",
       "    </tr>\n",
       "  </tbody>\n",
       "</table>\n",
       "</div>"
      ],
      "text/plain": [
       "         Newspaper                                            Heading  \\\n",
       "0   Indian Express  Uttarakhand Board UBSE Class 10th, 12th result...   \n",
       "1   Indian Express   WBJEE 2019 tomorrow: Last minute tips and tricks   \n",
       "2   Indian Express  JEE Advanced 2019: Follow these last minute ti...   \n",
       "3   Indian Express  GSEB 12th Arts, Commerce Result 2019 declared ...   \n",
       "4   Indian Express  KCET Results 2019 @kea.kar.nic.in HIGHLIGHTS: ...   \n",
       "5   Indian Express  AHSEC Assam Board HS 12th Result 2019 declared...   \n",
       "6   Indian Express  Veer Bahadur Singh Purvanchal University admis...   \n",
       "7   Indian Express  Allahabad University releases B.Com part I and...   \n",
       "8   Indian Express  IIITM-K admissions 2019: Applications availabl...   \n",
       "9   Indian Express  Athlete Hima Das secures first division in Ass...   \n",
       "10  Indian Express  KCET results 2019: Jeffin Biju tops in Enginee...   \n",
       "11  Indian Express  KCET results 2019 declared, how to check via w...   \n",
       "12  Indian Express  Assam Board AHSEC HS Class 12th results 2019 d...   \n",
       "13  Indian Express     Assam AHSEC HS results 2019: Websites to check   \n",
       "14  Indian Express  WBJEE 2019 tomorrow: From important instructio...   \n",
       "15  Indian Express  Assam Board 12th HS Result 2019 declared: When...   \n",
       "\n",
       "         Date         Time                                                URL  \n",
       "0  2019-05-25   5:58:55 pm  https://indianexpress.com/article/education/ut...  \n",
       "1  2019-05-25   5:50:05 pm  https://indianexpress.com/article/education/wb...  \n",
       "2  2019-05-25   5:30:32 pm  https://indianexpress.com/article/education/je...  \n",
       "3  2019-05-25   5:06:33 pm  https://indianexpress.com/article/education/gs...  \n",
       "4  2019-05-25   5:05:16 pm  https://indianexpress.com/article/education/kc...  \n",
       "5  2019-05-25   5:03:52 pm  https://indianexpress.com/article/education/as...  \n",
       "6  2019-05-25   4:51:42 pm  https://indianexpress.com/article/education/ve...  \n",
       "7  2019-05-25   3:37:48 pm  https://indianexpress.com/article/education/al...  \n",
       "8  2019-05-25   2:36:39 pm  https://indianexpress.com/article/education/ii...  \n",
       "9  2019-05-25   2:20:56 pm  https://indianexpress.com/article/education/at...  \n",
       "10 2019-05-25   1:36:50 pm  https://indianexpress.com/article/education/kc...  \n",
       "11 2019-05-25   1:18:35 pm  https://indianexpress.com/article/education/ka...  \n",
       "12 2019-05-25  11:43:20 am  https://indianexpress.com/article/education/as...  \n",
       "13 2019-05-25  11:19:41 am  https://indianexpress.com/article/education/as...  \n",
       "14 2019-05-25  11:07:03 am  https://indianexpress.com/article/education/wb...  \n",
       "15 2019-05-25   9:13:09 am  https://indianexpress.com/article/education/as...  "
      ]
     },
     "execution_count": 18,
     "metadata": {},
     "output_type": "execute_result"
    }
   ],
   "source": [
    "df"
   ]
  },
  {
   "cell_type": "code",
   "execution_count": null,
   "metadata": {},
   "outputs": [],
   "source": []
  }
 ],
 "metadata": {
  "kernelspec": {
   "display_name": "Python 3",
   "language": "python",
   "name": "python3"
  },
  "language_info": {
   "codemirror_mode": {
    "name": "ipython",
    "version": 3
   },
   "file_extension": ".py",
   "mimetype": "text/x-python",
   "name": "python",
   "nbconvert_exporter": "python",
   "pygments_lexer": "ipython3",
   "version": "3.6.5"
  }
 },
 "nbformat": 4,
 "nbformat_minor": 2
}

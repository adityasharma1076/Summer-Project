{
 "cells": [
  {
   "cell_type": "code",
   "execution_count": 1,
   "metadata": {},
   "outputs": [],
   "source": [
    "import requests\n",
    "import bs4\n",
    "import pandas as pd"
   ]
  },
  {
   "cell_type": "code",
   "execution_count": null,
   "metadata": {
    "scrolled": true
   },
   "outputs": [],
   "source": []
  },
  {
   "cell_type": "code",
   "execution_count": 2,
   "metadata": {},
   "outputs": [],
   "source": [
    "def get_date(URL):\n",
    "    req = requests.get(URL)\n",
    "    soup_date = bs4.BeautifulSoup(req.text,'lxml')\n",
    "    temp = soup_date.select(\".m-story-meta__credit\")\n",
    "    time_date = temp[0].findAll('span')[-1].text\n",
    "    date = time_date[-24:-11]\n",
    "    return date\n",
    "\n",
    "def get_time(URL):\n",
    "    req = requests.get(URL)\n",
    "    soup_date = bs4.BeautifulSoup(req.text,'lxml')\n",
    "    temp = soup_date.select(\".m-story-meta__credit\")\n",
    "    time_date = temp[0].findAll('span')[-1].text\n",
    "    time = time_date[-11:]\n",
    "    return time\n"
   ]
  },
  {
   "cell_type": "code",
   "execution_count": 3,
   "metadata": {},
   "outputs": [],
   "source": [
    "link = 'https://indianexpress.com/section/education/'"
   ]
  },
  {
   "cell_type": "code",
   "execution_count": 4,
   "metadata": {},
   "outputs": [],
   "source": [
    "res = requests.get(link)\n",
    "soup = bs4.BeautifulSoup(res.text,'lxml')"
   ]
  },
  {
   "cell_type": "code",
   "execution_count": 5,
   "metadata": {},
   "outputs": [],
   "source": [
    "h1 = soup.select('.m-article-featured__title')"
   ]
  },
  {
   "cell_type": "code",
   "execution_count": 6,
   "metadata": {},
   "outputs": [
    {
     "data": {
      "text/plain": [
       "'Why are Delhi University admissions 2019 being delayed?'"
      ]
     },
     "execution_count": 6,
     "metadata": {},
     "output_type": "execute_result"
    }
   ],
   "source": [
    "h1[0].text\n"
   ]
  },
  {
   "cell_type": "code",
   "execution_count": 7,
   "metadata": {},
   "outputs": [
    {
     "data": {
      "text/plain": [
       "'https://indianexpress.com/article/education/why-are-du-admissions-2019-being-delayed-delhi-university-du-ac-in-5739038/'"
      ]
     },
     "execution_count": 7,
     "metadata": {},
     "output_type": "execute_result"
    }
   ],
   "source": [
    "h1[0].find('a')['href']"
   ]
  },
  {
   "cell_type": "code",
   "execution_count": 8,
   "metadata": {},
   "outputs": [],
   "source": [
    "records=[]\n",
    "#records.append(('Indian Express',h1[0].text,h1[0].find('a')['href']))\n",
    "h1_newspaper='Indian Express'\n",
    "h1_heading = h1[0].text\n",
    "h1_url = h1[0].find('a')['href']\n",
    "h1_date = get_date(h1_url)\n",
    "h1_time = get_time(h1_url)\n",
    "\n",
    "records.append((h1_newspaper,h1_heading,h1_date,h1_time,h1_url))"
   ]
  },
  {
   "cell_type": "code",
   "execution_count": 9,
   "metadata": {},
   "outputs": [
    {
     "data": {
      "text/plain": [
       "[('Indian Express',\n",
       "  'Why are Delhi University admissions 2019 being delayed?',\n",
       "  ' May 21, 2019',\n",
       "  ' 8:30:12 pm',\n",
       "  'https://indianexpress.com/article/education/why-are-du-admissions-2019-being-delayed-delhi-university-du-ac-in-5739038/')]"
      ]
     },
     "execution_count": 9,
     "metadata": {},
     "output_type": "execute_result"
    }
   ],
   "source": [
    "records"
   ]
  },
  {
   "cell_type": "code",
   "execution_count": 10,
   "metadata": {},
   "outputs": [],
   "source": [
    "h2=soup.findAll('h2')"
   ]
  },
  {
   "cell_type": "code",
   "execution_count": 11,
   "metadata": {},
   "outputs": [
    {
     "data": {
      "text/plain": [
       "[<h2 class=\"m-article-tall@medium+__title m-article-wide@small-__title\"><a class=\"m-block-link__anchor\" data-event-id=\"\" href=\"https://indianexpress.com/article/education/rbse-rajasthan-board-12th-arts-result-2019-date-and-time-5740397/\" target=\"_self\" title=\"RBSE Rajasthan Board 12th Arts result 2019: When and where to check\">RBSE Rajasthan Board 12th Arts result 2019: When and where to check</a></h2>,\n",
       " <h2 class=\"m-article-tall@medium+__title m-article-wide@small-__title\"><a class=\"m-block-link__anchor\" data-event-id=\"\" href=\"https://indianexpress.com/article/education/du-mulling-to-conduct-entrance-exam-through-nta-delhi-university-admissions-5731205/\" target=\"_self\" title=\"DU admissions 2019: NTA to conduct entrance exam for Delhi University\">DU admissions 2019: NTA to conduct entrance exam for Delhi University</a></h2>,\n",
       " <h2 class=\"m-article-tall@medium+__title m-article-wide@small-__title\"><a class=\"m-block-link__anchor\" data-event-id=\"\" href=\"https://indianexpress.com/article/education/west-bengal-wbbse-madhyamik-result-declared-wbbse-org-2019-live-updates-5736177/\" target=\"_self\" title=\"West Bengal WBBSE Madhyamik Result 2019 declared @wbresults.nic.in HIGHLIGHTS: Sougata Das tops with 694 marks, meet the toppers\">West Bengal WBBSE Madhyamik Result 2019 declared @wbresults.nic.in HIGHLIGHTS: Sougata Das tops with 694 marks, meet the toppers</a></h2>]"
      ]
     },
     "execution_count": 11,
     "metadata": {},
     "output_type": "execute_result"
    }
   ],
   "source": [
    "h2[1:4]"
   ]
  },
  {
   "cell_type": "code",
   "execution_count": 12,
   "metadata": {},
   "outputs": [
    {
     "data": {
      "text/plain": [
       "'https://indianexpress.com/article/education/rbse-rajasthan-board-12th-arts-result-2019-date-and-time-5740397/'"
      ]
     },
     "execution_count": 12,
     "metadata": {},
     "output_type": "execute_result"
    }
   ],
   "source": [
    "h2[1].text\n",
    "h2[1].find('a')['href']"
   ]
  },
  {
   "cell_type": "code",
   "execution_count": 13,
   "metadata": {},
   "outputs": [],
   "source": [
    "for record in h2[1:4]:\n",
    "    Heading = record.text\n",
    "    URL = record.find('a')['href']\n",
    "    Date = get_date(URL)\n",
    "    Time = get_time(URL)\n",
    "    Newspaper='Indian Express'\n",
    "    records.append((Newspaper,Heading,Date,Time,URL))"
   ]
  },
  {
   "cell_type": "code",
   "execution_count": 14,
   "metadata": {},
   "outputs": [
    {
     "data": {
      "text/plain": [
       "[('Indian Express',\n",
       "  'Why are Delhi University admissions 2019 being delayed?',\n",
       "  ' May 21, 2019',\n",
       "  ' 8:30:12 pm',\n",
       "  'https://indianexpress.com/article/education/why-are-du-admissions-2019-being-delayed-delhi-university-du-ac-in-5739038/'),\n",
       " ('Indian Express',\n",
       "  'RBSE Rajasthan Board 12th Arts result 2019: When and where to check',\n",
       "  ' May 21, 2019',\n",
       "  ' 8:30:01 pm',\n",
       "  'https://indianexpress.com/article/education/rbse-rajasthan-board-12th-arts-result-2019-date-and-time-5740397/'),\n",
       " ('Indian Express',\n",
       "  'DU admissions 2019: NTA to conduct entrance exam for Delhi University',\n",
       "  ' May 21, 2019',\n",
       "  ' 8:29:57 pm',\n",
       "  'https://indianexpress.com/article/education/du-mulling-to-conduct-entrance-exam-through-nta-delhi-university-admissions-5731205/'),\n",
       " ('Indian Express',\n",
       "  'West Bengal WBBSE Madhyamik Result 2019 declared @wbresults.nic.in HIGHLIGHTS: Sougata Das tops with 694 marks, meet the toppers',\n",
       "  'May 21, 2019 ',\n",
       "  '8:29:55 pm ',\n",
       "  'https://indianexpress.com/article/education/west-bengal-wbbse-madhyamik-result-declared-wbbse-org-2019-live-updates-5736177/')]"
      ]
     },
     "execution_count": 14,
     "metadata": {},
     "output_type": "execute_result"
    }
   ],
   "source": [
    "records"
   ]
  },
  {
   "cell_type": "code",
   "execution_count": null,
   "metadata": {},
   "outputs": [],
   "source": []
  },
  {
   "cell_type": "code",
   "execution_count": 15,
   "metadata": {},
   "outputs": [],
   "source": [
    "h3=soup.select('.m-article-landing__title')"
   ]
  },
  {
   "cell_type": "code",
   "execution_count": 16,
   "metadata": {},
   "outputs": [
    {
     "data": {
      "text/plain": [
       "'https://indianexpress.com/article/education/gujarat-gseb-class-10th-results-2019-declared-gseb-org-live-updates-5736309/'"
      ]
     },
     "execution_count": 16,
     "metadata": {},
     "output_type": "execute_result"
    }
   ],
   "source": [
    "h3[0].text\n",
    "h3[0].find('a')['href']"
   ]
  },
  {
   "cell_type": "code",
   "execution_count": 17,
   "metadata": {},
   "outputs": [],
   "source": [
    "req = requests.get('https://indianexpress.com/article/education/why-are-du-admissions-2019-being-delayed-delhi-university-du-ac-in-5739038/')\n",
    "soup_date = bs4.BeautifulSoup(req.text,'lxml')"
   ]
  },
  {
   "cell_type": "code",
   "execution_count": 18,
   "metadata": {},
   "outputs": [
    {
     "data": {
      "text/plain": [
       "'May 21, 2019'"
      ]
     },
     "execution_count": 18,
     "metadata": {},
     "output_type": "execute_result"
    }
   ],
   "source": [
    "temp = soup_date.select(\".m-story-meta__credit\")\n",
    "temp[0].findAll('span')[2].text[-23:-11]"
   ]
  },
  {
   "cell_type": "code",
   "execution_count": null,
   "metadata": {},
   "outputs": [],
   "source": [
    "\n"
   ]
  },
  {
   "cell_type": "code",
   "execution_count": 19,
   "metadata": {},
   "outputs": [],
   "source": [
    "for record in h3:\n",
    "    Heading = record.text\n",
    "    URL = record.find('a')['href']\n",
    "    Date = get_date(URL)\n",
    "    Time = get_time(URL)\n",
    "    Newspaper = 'Indian Express'\n",
    "    records.append((Newspaper,Heading,Date,Time,URL))"
   ]
  },
  {
   "cell_type": "code",
   "execution_count": 20,
   "metadata": {},
   "outputs": [],
   "source": [
    "df=pd.DataFrame(records,columns=['Newspaper','Heading','Date','Time','URL'])\n",
    "df.to_csv('IE_education.csv',index=False,encoding='utf-8')"
   ]
  },
  {
   "cell_type": "code",
   "execution_count": 21,
   "metadata": {},
   "outputs": [
    {
     "data": {
      "text/html": [
       "<div>\n",
       "<style scoped>\n",
       "    .dataframe tbody tr th:only-of-type {\n",
       "        vertical-align: middle;\n",
       "    }\n",
       "\n",
       "    .dataframe tbody tr th {\n",
       "        vertical-align: top;\n",
       "    }\n",
       "\n",
       "    .dataframe thead th {\n",
       "        text-align: right;\n",
       "    }\n",
       "</style>\n",
       "<table border=\"1\" class=\"dataframe\">\n",
       "  <thead>\n",
       "    <tr style=\"text-align: right;\">\n",
       "      <th></th>\n",
       "      <th>Newspaper</th>\n",
       "      <th>Heading</th>\n",
       "      <th>Date</th>\n",
       "      <th>Time</th>\n",
       "      <th>URL</th>\n",
       "    </tr>\n",
       "  </thead>\n",
       "  <tbody>\n",
       "    <tr>\n",
       "      <th>0</th>\n",
       "      <td>Indian Express</td>\n",
       "      <td>Why are Delhi University admissions 2019 being...</td>\n",
       "      <td>May 21, 2019</td>\n",
       "      <td>8:30:12 pm</td>\n",
       "      <td>https://indianexpress.com/article/education/wh...</td>\n",
       "    </tr>\n",
       "    <tr>\n",
       "      <th>1</th>\n",
       "      <td>Indian Express</td>\n",
       "      <td>RBSE Rajasthan Board 12th Arts result 2019: Wh...</td>\n",
       "      <td>May 21, 2019</td>\n",
       "      <td>8:30:01 pm</td>\n",
       "      <td>https://indianexpress.com/article/education/rb...</td>\n",
       "    </tr>\n",
       "    <tr>\n",
       "      <th>2</th>\n",
       "      <td>Indian Express</td>\n",
       "      <td>DU admissions 2019: NTA to conduct entrance ex...</td>\n",
       "      <td>May 21, 2019</td>\n",
       "      <td>8:29:57 pm</td>\n",
       "      <td>https://indianexpress.com/article/education/du...</td>\n",
       "    </tr>\n",
       "    <tr>\n",
       "      <th>3</th>\n",
       "      <td>Indian Express</td>\n",
       "      <td>West Bengal WBBSE Madhyamik Result 2019 declar...</td>\n",
       "      <td>May 21, 2019</td>\n",
       "      <td>8:29:55 pm</td>\n",
       "      <td>https://indianexpress.com/article/education/we...</td>\n",
       "    </tr>\n",
       "    <tr>\n",
       "      <th>4</th>\n",
       "      <td>Indian Express</td>\n",
       "      <td>GSEB Gujarat Board SSC 10th Result 2019 declar...</td>\n",
       "      <td>May 21, 2019</td>\n",
       "      <td>8:28:46 pm</td>\n",
       "      <td>https://indianexpress.com/article/education/gu...</td>\n",
       "    </tr>\n",
       "    <tr>\n",
       "      <th>5</th>\n",
       "      <td>Indian Express</td>\n",
       "      <td>JAC Jharkhand Board 12th Arts result 2019 decl...</td>\n",
       "      <td>May 21, 2019</td>\n",
       "      <td>8:28:14 pm</td>\n",
       "      <td>https://indianexpress.com/article/education/ja...</td>\n",
       "    </tr>\n",
       "    <tr>\n",
       "      <th>6</th>\n",
       "      <td>Indian Express</td>\n",
       "      <td>BSE Odisha 10th result 2019 @bseodisha.nic.in ...</td>\n",
       "      <td>May 21, 2019</td>\n",
       "      <td>8:27:38 pm</td>\n",
       "      <td>https://indianexpress.com/article/education/0b...</td>\n",
       "    </tr>\n",
       "    <tr>\n",
       "      <th>7</th>\n",
       "      <td>Indian Express</td>\n",
       "      <td>Primary schools in Kerala set to get hi-tech c...</td>\n",
       "      <td>May 21, 2019</td>\n",
       "      <td>6:43:38 pm</td>\n",
       "      <td>https://indianexpress.com/article/education/pr...</td>\n",
       "    </tr>\n",
       "    <tr>\n",
       "      <th>8</th>\n",
       "      <td>Indian Express</td>\n",
       "      <td>RBSE Rajasthan Board 12th Arts result 2019 dat...</td>\n",
       "      <td>May 21, 2019</td>\n",
       "      <td>6:16:55 pm</td>\n",
       "      <td>https://indianexpress.com/article/education/ra...</td>\n",
       "    </tr>\n",
       "    <tr>\n",
       "      <th>9</th>\n",
       "      <td>Indian Express</td>\n",
       "      <td>Osmania University CPGET 2019: Application pro...</td>\n",
       "      <td>May 21, 2019</td>\n",
       "      <td>5:37:37 pm</td>\n",
       "      <td>https://indianexpress.com/article/education/os...</td>\n",
       "    </tr>\n",
       "    <tr>\n",
       "      <th>10</th>\n",
       "      <td>Indian Express</td>\n",
       "      <td>Permission granted to 59 private schools opera...</td>\n",
       "      <td>May 21, 2019</td>\n",
       "      <td>5:36:42 pm</td>\n",
       "      <td>https://indianexpress.com/article/education/pe...</td>\n",
       "    </tr>\n",
       "    <tr>\n",
       "      <th>11</th>\n",
       "      <td>Indian Express</td>\n",
       "      <td>College admission process has to be online, st...</td>\n",
       "      <td>May 21, 2019</td>\n",
       "      <td>5:36:17 pm</td>\n",
       "      <td>https://indianexpress.com/article/education/co...</td>\n",
       "    </tr>\n",
       "    <tr>\n",
       "      <th>12</th>\n",
       "      <td>Indian Express</td>\n",
       "      <td>KEAM result 2019 declared, how to check</td>\n",
       "      <td>May 21, 2019</td>\n",
       "      <td>5:25:14 pm</td>\n",
       "      <td>https://indianexpress.com/article/education/ke...</td>\n",
       "    </tr>\n",
       "    <tr>\n",
       "      <th>13</th>\n",
       "      <td>Indian Express</td>\n",
       "      <td>Haryana HOS 10th, 12th results 2019 declared: ...</td>\n",
       "      <td>May 21, 2019</td>\n",
       "      <td>5:13:48 pm</td>\n",
       "      <td>https://indianexpress.com/article/education/ha...</td>\n",
       "    </tr>\n",
       "    <tr>\n",
       "      <th>14</th>\n",
       "      <td>Indian Express</td>\n",
       "      <td>Permission granted to 59 private schools opera...</td>\n",
       "      <td>May 21, 2019</td>\n",
       "      <td>5:00:18 pm</td>\n",
       "      <td>https://indianexpress.com/article/education/pe...</td>\n",
       "    </tr>\n",
       "    <tr>\n",
       "      <th>15</th>\n",
       "      <td>Indian Express</td>\n",
       "      <td>AMU Class 10 results out; overall pass percent...</td>\n",
       "      <td>May 21, 2019</td>\n",
       "      <td>4:49:51 pm</td>\n",
       "      <td>https://indianexpress.com/article/education/am...</td>\n",
       "    </tr>\n",
       "  </tbody>\n",
       "</table>\n",
       "</div>"
      ],
      "text/plain": [
       "         Newspaper                                            Heading  \\\n",
       "0   Indian Express  Why are Delhi University admissions 2019 being...   \n",
       "1   Indian Express  RBSE Rajasthan Board 12th Arts result 2019: Wh...   \n",
       "2   Indian Express  DU admissions 2019: NTA to conduct entrance ex...   \n",
       "3   Indian Express  West Bengal WBBSE Madhyamik Result 2019 declar...   \n",
       "4   Indian Express  GSEB Gujarat Board SSC 10th Result 2019 declar...   \n",
       "5   Indian Express  JAC Jharkhand Board 12th Arts result 2019 decl...   \n",
       "6   Indian Express  BSE Odisha 10th result 2019 @bseodisha.nic.in ...   \n",
       "7   Indian Express  Primary schools in Kerala set to get hi-tech c...   \n",
       "8   Indian Express  RBSE Rajasthan Board 12th Arts result 2019 dat...   \n",
       "9   Indian Express  Osmania University CPGET 2019: Application pro...   \n",
       "10  Indian Express  Permission granted to 59 private schools opera...   \n",
       "11  Indian Express  College admission process has to be online, st...   \n",
       "12  Indian Express            KEAM result 2019 declared, how to check   \n",
       "13  Indian Express  Haryana HOS 10th, 12th results 2019 declared: ...   \n",
       "14  Indian Express  Permission granted to 59 private schools opera...   \n",
       "15  Indian Express  AMU Class 10 results out; overall pass percent...   \n",
       "\n",
       "             Date         Time  \\\n",
       "0    May 21, 2019   8:30:12 pm   \n",
       "1    May 21, 2019   8:30:01 pm   \n",
       "2    May 21, 2019   8:29:57 pm   \n",
       "3   May 21, 2019   8:29:55 pm    \n",
       "4   May 21, 2019   8:28:46 pm    \n",
       "5   May 21, 2019   8:28:14 pm    \n",
       "6   May 21, 2019   8:27:38 pm    \n",
       "7    May 21, 2019   6:43:38 pm   \n",
       "8    May 21, 2019   6:16:55 pm   \n",
       "9    May 21, 2019   5:37:37 pm   \n",
       "10   May 21, 2019   5:36:42 pm   \n",
       "11   May 21, 2019   5:36:17 pm   \n",
       "12   May 21, 2019   5:25:14 pm   \n",
       "13   May 21, 2019   5:13:48 pm   \n",
       "14   May 21, 2019   5:00:18 pm   \n",
       "15   May 21, 2019   4:49:51 pm   \n",
       "\n",
       "                                                  URL  \n",
       "0   https://indianexpress.com/article/education/wh...  \n",
       "1   https://indianexpress.com/article/education/rb...  \n",
       "2   https://indianexpress.com/article/education/du...  \n",
       "3   https://indianexpress.com/article/education/we...  \n",
       "4   https://indianexpress.com/article/education/gu...  \n",
       "5   https://indianexpress.com/article/education/ja...  \n",
       "6   https://indianexpress.com/article/education/0b...  \n",
       "7   https://indianexpress.com/article/education/pr...  \n",
       "8   https://indianexpress.com/article/education/ra...  \n",
       "9   https://indianexpress.com/article/education/os...  \n",
       "10  https://indianexpress.com/article/education/pe...  \n",
       "11  https://indianexpress.com/article/education/co...  \n",
       "12  https://indianexpress.com/article/education/ke...  \n",
       "13  https://indianexpress.com/article/education/ha...  \n",
       "14  https://indianexpress.com/article/education/pe...  \n",
       "15  https://indianexpress.com/article/education/am...  "
      ]
     },
     "execution_count": 21,
     "metadata": {},
     "output_type": "execute_result"
    }
   ],
   "source": [
    "df"
   ]
  },
  {
   "cell_type": "code",
   "execution_count": null,
   "metadata": {},
   "outputs": [],
   "source": []
  }
 ],
 "metadata": {
  "kernelspec": {
   "display_name": "Python 3",
   "language": "python",
   "name": "python3"
  },
  "language_info": {
   "codemirror_mode": {
    "name": "ipython",
    "version": 3
   },
   "file_extension": ".py",
   "mimetype": "text/x-python",
   "name": "python",
   "nbconvert_exporter": "python",
   "pygments_lexer": "ipython3",
   "version": "3.6.5"
  }
 },
 "nbformat": 4,
 "nbformat_minor": 2
}

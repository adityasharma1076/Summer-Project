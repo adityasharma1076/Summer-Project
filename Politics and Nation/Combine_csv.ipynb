{
 "cells": [
  {
   "cell_type": "code",
   "execution_count": 1,
   "metadata": {},
   "outputs": [],
   "source": [
    "import os\n",
    "import glob\n",
    "import pandas as pd\n",
    "import warnings"
   ]
  },
  {
   "cell_type": "code",
   "execution_count": 2,
   "metadata": {},
   "outputs": [],
   "source": [
    "import datetime\n",
    "\n",
    "now = datetime.datetime.now()\n",
    "\n",
    "\n",
    "Today_time = now.strftime(\"%H:%M\")\n",
    "\n",
    "Today_date = now.strftime(\"%Y-%m-%d\")"
   ]
  },
  {
   "cell_type": "code",
   "execution_count": 4,
   "metadata": {},
   "outputs": [],
   "source": [
    "%run ./Business_Today_economy-politics.ipynb\n",
    "%run ./Firstpost_politics.ipynb\n",
    "%run ./Newsnation_politics.ipynb\n",
    "%run ./The_Wire_economy.ipynb\n",
    "%run ./The_Wire_external-affairs.ipynb\n",
    "%run ./The_Wire_politics.ipynb\n",
    "%run ./Times_of_India_politics.ipynb\n"
   ]
  },
  {
   "cell_type": "code",
   "execution_count": 5,
   "metadata": {},
   "outputs": [],
   "source": [
    "extension = 'csv'\n",
    "string = 'CSV/'+Today_date+'/*.{}'\n",
    "all_filenames = [i for i in glob.glob(string.format(extension))]"
   ]
  },
  {
   "cell_type": "code",
   "execution_count": 6,
   "metadata": {},
   "outputs": [
    {
     "data": {
      "text/plain": [
       "['CSV/2019-06-24\\\\FP_politics-2019-06-24.csv',\n",
       " 'CSV/2019-06-24\\\\NN_politics-2019-06-24.csv',\n",
       " 'CSV/2019-06-24\\\\TOI_politics-2019-06-24.csv',\n",
       " 'CSV/2019-06-24\\\\TW_economy-2019-06-24.csv',\n",
       " 'CSV/2019-06-24\\\\TW_external-affairs-2019-06-24.csv',\n",
       " 'CSV/2019-06-24\\\\TW_politics-2019-06-24.csv']"
      ]
     },
     "execution_count": 6,
     "metadata": {},
     "output_type": "execute_result"
    }
   ],
   "source": [
    "all_filenames"
   ]
  },
  {
   "cell_type": "code",
   "execution_count": 7,
   "metadata": {},
   "outputs": [],
   "source": [
    "combined_csv = pd.concat([pd.read_csv(f) for f in all_filenames ])"
   ]
  },
  {
   "cell_type": "code",
   "execution_count": 8,
   "metadata": {},
   "outputs": [],
   "source": [
    "outname = 'combined_business-'+str(Today_date)+'.csv'\n",
    "root = 'Combined CSV/'\n",
    "if not os.path.exists(root):\n",
    "    os.mkdir(root)\n",
    "#date_today= Today_date +'\\ '\n",
    "outdir=root\n",
    "if not os.path.exists(outdir):\n",
    "    os.mkdir(outdir)\n",
    "fullname = os.path.join(outdir, outname)"
   ]
  },
  {
   "cell_type": "code",
   "execution_count": 9,
   "metadata": {},
   "outputs": [],
   "source": [
    "combined_csv.to_csv(fullname, index=False, encoding='utf-8')"
   ]
  },
  {
   "cell_type": "code",
   "execution_count": 10,
   "metadata": {},
   "outputs": [],
   "source": [
    "df = pd.read_csv(fullname)"
   ]
  },
  {
   "cell_type": "code",
   "execution_count": 11,
   "metadata": {},
   "outputs": [
    {
     "data": {
      "text/plain": [
       "politics            223\n",
       "external-affairs     72\n",
       "economy-politics     68\n",
       "Name: Category, dtype: int64"
      ]
     },
     "execution_count": 11,
     "metadata": {},
     "output_type": "execute_result"
    }
   ],
   "source": [
    "df['Category'].value_counts()"
   ]
  },
  {
   "cell_type": "code",
   "execution_count": 12,
   "metadata": {},
   "outputs": [],
   "source": [
    "outname = 'combined_politics-'+str(Today_date)+'.csv'\n",
    "root = 'Combined CSV/'\n",
    "if not os.path.exists(root):\n",
    "    os.mkdir(root)\n",
    "#date_today= Today_date +'\\ '\n",
    "outdir=root\n",
    "if not os.path.exists(outdir):\n",
    "    os.mkdir(outdir)\n",
    "fullname = os.path.join(outdir, outname)"
   ]
  },
  {
   "cell_type": "code",
   "execution_count": 13,
   "metadata": {},
   "outputs": [],
   "source": [
    "df.to_csv(fullname, index=False, encoding='utf-8')"
   ]
  },
  {
   "cell_type": "code",
   "execution_count": null,
   "metadata": {},
   "outputs": [],
   "source": []
  }
 ],
 "metadata": {
  "kernelspec": {
   "display_name": "Python 3",
   "language": "python",
   "name": "python3"
  },
  "language_info": {
   "codemirror_mode": {
    "name": "ipython",
    "version": 3
   },
   "file_extension": ".py",
   "mimetype": "text/x-python",
   "name": "python",
   "nbconvert_exporter": "python",
   "pygments_lexer": "ipython3",
   "version": "3.6.5"
  }
 },
 "nbformat": 4,
 "nbformat_minor": 2
}

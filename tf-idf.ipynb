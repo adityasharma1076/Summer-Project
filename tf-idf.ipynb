{
 "cells": [
  {
   "cell_type": "code",
   "execution_count": 1,
   "metadata": {},
   "outputs": [],
   "source": [
    "import pandas as pd\n",
    "import numpy as np\n",
    "import warnings\n",
    "warnings.filterwarnings(\"ignore\")\n",
    "import random"
   ]
  },
  {
   "cell_type": "code",
   "execution_count": 2,
   "metadata": {},
   "outputs": [],
   "source": [
    "education = pd.read_csv('combined_csv.csv')"
   ]
  },
  {
   "cell_type": "code",
   "execution_count": 3,
   "metadata": {},
   "outputs": [
    {
     "data": {
      "text/html": [
       "<div>\n",
       "<style scoped>\n",
       "    .dataframe tbody tr th:only-of-type {\n",
       "        vertical-align: middle;\n",
       "    }\n",
       "\n",
       "    .dataframe tbody tr th {\n",
       "        vertical-align: top;\n",
       "    }\n",
       "\n",
       "    .dataframe thead th {\n",
       "        text-align: right;\n",
       "    }\n",
       "</style>\n",
       "<table border=\"1\" class=\"dataframe\">\n",
       "  <thead>\n",
       "    <tr style=\"text-align: right;\">\n",
       "      <th></th>\n",
       "      <th>Newspaper</th>\n",
       "      <th>Heading</th>\n",
       "      <th>Date</th>\n",
       "      <th>Time</th>\n",
       "      <th>URL</th>\n",
       "    </tr>\n",
       "  </thead>\n",
       "  <tbody>\n",
       "    <tr>\n",
       "      <th>0</th>\n",
       "      <td>Hindiustan Times</td>\n",
       "      <td>UPSC civil services 2019 prelims on June 2: Re...</td>\n",
       "      <td>2019-05-26</td>\n",
       "      <td>09:12:00</td>\n",
       "      <td>https://www.hindustantimes.com/education/upsc-...</td>\n",
       "    </tr>\n",
       "    <tr>\n",
       "      <th>1</th>\n",
       "      <td>Hindiustan Times</td>\n",
       "      <td>Navodaya Vidyalaya NVS JNVST class 6th result ...</td>\n",
       "      <td>2019-05-26</td>\n",
       "      <td>08:36:00</td>\n",
       "      <td>https://www.hindustantimes.com/education/navod...</td>\n",
       "    </tr>\n",
       "    <tr>\n",
       "      <th>2</th>\n",
       "      <td>Hindiustan Times</td>\n",
       "      <td>West Bengal 12th Result 2019: WBCHSE Uccha Mad...</td>\n",
       "      <td>2019-05-26</td>\n",
       "      <td>12:35:00</td>\n",
       "      <td>https://www.hindustantimes.com/education/west-...</td>\n",
       "    </tr>\n",
       "    <tr>\n",
       "      <th>3</th>\n",
       "      <td>Hindiustan Times</td>\n",
       "      <td>West Bengal 12th Result 2019: WBCHSE Uccha Mad...</td>\n",
       "      <td>2019-05-26</td>\n",
       "      <td>12:35:00</td>\n",
       "      <td>https://www.hindustantimes.com/education/west-...</td>\n",
       "    </tr>\n",
       "    <tr>\n",
       "      <th>4</th>\n",
       "      <td>Hindiustan Times</td>\n",
       "      <td>NTA UGC- NET admit card 2019  to release tomor...</td>\n",
       "      <td>2019-05-26</td>\n",
       "      <td>12:24:00</td>\n",
       "      <td>https://www.hindustantimes.com/education/nta-u...</td>\n",
       "    </tr>\n",
       "  </tbody>\n",
       "</table>\n",
       "</div>"
      ],
      "text/plain": [
       "          Newspaper                                            Heading  \\\n",
       "0  Hindiustan Times  UPSC civil services 2019 prelims on June 2: Re...   \n",
       "1  Hindiustan Times  Navodaya Vidyalaya NVS JNVST class 6th result ...   \n",
       "2  Hindiustan Times  West Bengal 12th Result 2019: WBCHSE Uccha Mad...   \n",
       "3  Hindiustan Times  West Bengal 12th Result 2019: WBCHSE Uccha Mad...   \n",
       "4  Hindiustan Times  NTA UGC- NET admit card 2019  to release tomor...   \n",
       "\n",
       "         Date      Time                                                URL  \n",
       "0  2019-05-26  09:12:00  https://www.hindustantimes.com/education/upsc-...  \n",
       "1  2019-05-26  08:36:00  https://www.hindustantimes.com/education/navod...  \n",
       "2  2019-05-26  12:35:00  https://www.hindustantimes.com/education/west-...  \n",
       "3  2019-05-26  12:35:00  https://www.hindustantimes.com/education/west-...  \n",
       "4  2019-05-26  12:24:00  https://www.hindustantimes.com/education/nta-u...  "
      ]
     },
     "execution_count": 3,
     "metadata": {},
     "output_type": "execute_result"
    }
   ],
   "source": [
    "education.head()"
   ]
  },
  {
   "cell_type": "code",
   "execution_count": 4,
   "metadata": {},
   "outputs": [
    {
     "data": {
      "text/plain": [
       "(166, 5)"
      ]
     },
     "execution_count": 4,
     "metadata": {},
     "output_type": "execute_result"
    }
   ],
   "source": [
    "education.shape"
   ]
  },
  {
   "cell_type": "code",
   "execution_count": 5,
   "metadata": {},
   "outputs": [],
   "source": [
    "df=education[education['Date']=='2019-05-25']\n",
    "Heading = df['Heading']"
   ]
  },
  {
   "cell_type": "code",
   "execution_count": 6,
   "metadata": {},
   "outputs": [],
   "source": [
    "from bs4 import BeautifulSoup\n",
    "import nltk\n",
    "from nltk.corpus import stopwords\n",
    "from sklearn.feature_extraction.text import TfidfVectorizer\n",
    "#from sklearn.decomposition import TruncatedSVD"
   ]
  },
  {
   "cell_type": "code",
   "execution_count": 7,
   "metadata": {},
   "outputs": [
    {
     "name": "stdout",
     "output_type": "stream",
     "text": [
      "[nltk_data] Downloading package stopwords to\n",
      "[nltk_data]     C:\\Users\\drago\\AppData\\Roaming\\nltk_data...\n",
      "[nltk_data]   Package stopwords is already up-to-date!\n"
     ]
    },
    {
     "data": {
      "text/plain": [
       "True"
      ]
     },
     "execution_count": 7,
     "metadata": {},
     "output_type": "execute_result"
    }
   ],
   "source": [
    "nltk.download('stopwords')\n"
   ]
  },
  {
   "cell_type": "code",
   "execution_count": 8,
   "metadata": {},
   "outputs": [],
   "source": [
    "stopset = set(stopwords.words('english'))"
   ]
  },
  {
   "cell_type": "code",
   "execution_count": 9,
   "metadata": {},
   "outputs": [],
   "source": [
    "#### Delete This\n",
    "#from sklearn.datasets import fetch_20newsgroups\n",
    "#categories = ['rec.sport.baseball']\n",
    "#dataset = fetch_20newsgroups(subset='all',shuffle=True, random_state=42, categories=categories)\n",
    "#corpus=dataset.data\n"
   ]
  },
  {
   "cell_type": "markdown",
   "metadata": {},
   "source": [
    "Tokenizing and Stemming"
   ]
  },
  {
   "cell_type": "code",
   "execution_count": 10,
   "metadata": {},
   "outputs": [
    {
     "name": "stdout",
     "output_type": "stream",
     "text": [
      "[nltk_data] Downloading package punkt to\n",
      "[nltk_data]     C:\\Users\\drago\\AppData\\Roaming\\nltk_data...\n",
      "[nltk_data]   Package punkt is already up-to-date!\n"
     ]
    },
    {
     "data": {
      "text/plain": [
       "True"
      ]
     },
     "execution_count": 10,
     "metadata": {},
     "output_type": "execute_result"
    }
   ],
   "source": [
    "import nltk\n",
    "import re\n",
    "\n",
    "nltk.download('punkt')"
   ]
  },
  {
   "cell_type": "code",
   "execution_count": 11,
   "metadata": {},
   "outputs": [],
   "source": [
    "from nltk.stem.snowball import SnowballStemmer\n",
    "stemmer = SnowballStemmer(\"english\")"
   ]
  },
  {
   "cell_type": "code",
   "execution_count": 12,
   "metadata": {},
   "outputs": [],
   "source": [
    "def tokenize_and_stem(text):\n",
    "   \n",
    "    tokens = [word for sent in nltk.sent_tokenize(text) for word in nltk.word_tokenize(sent)]\n",
    "    filtered_tokens = []\n",
    "\n",
    "    for token in tokens:\n",
    "        if re.search('[a-zA-Z]', token):\n",
    "            filtered_tokens.append(token)\n",
    "    stems = [stemmer.stem(t) for t in filtered_tokens]\n",
    "    return stems\n",
    "\n",
    "\n",
    "def tokenize_only(text):\n",
    "\n",
    "    tokens = [word.lower() for sent in nltk.sent_tokenize(text) for word in nltk.word_tokenize(sent)]\n",
    "    filtered_tokens = []\n",
    "   \n",
    "    for token in tokens:\n",
    "        if re.search('[a-zA-Z]', token):\n",
    "            filtered_tokens.append(token)\n",
    "    return filtered_tokens"
   ]
  },
  {
   "cell_type": "code",
   "execution_count": 13,
   "metadata": {},
   "outputs": [],
   "source": [
    "Heading_stemmed = []\n",
    "Heading_tokenized = []\n",
    "for i in Heading:\n",
    "    allwords_stemmed = tokenize_and_stem(i) #for each item in 'Heading', tokenize/stem\n",
    "    Heading_stemmed.extend(allwords_stemmed) #extend the 'Heading_stemmed' list\n",
    "    \n",
    "    allwords_tokenized = tokenize_only(i)\n",
    "    Heading_tokenized.extend(allwords_tokenized)"
   ]
  },
  {
   "cell_type": "code",
   "execution_count": 14,
   "metadata": {},
   "outputs": [
    {
     "data": {
      "text/plain": [
       "['karnataka',\n",
       " 'common',\n",
       " 'entrance',\n",
       " 'test',\n",
       " 'kcet',\n",
       " 'result',\n",
       " 'out',\n",
       " 'today',\n",
       " 'direct',\n",
       " 'link']"
      ]
     },
     "execution_count": 14,
     "metadata": {},
     "output_type": "execute_result"
    }
   ],
   "source": [
    " Heading_tokenized[:10]    # 10 out of all"
   ]
  },
  {
   "cell_type": "code",
   "execution_count": 15,
   "metadata": {},
   "outputs": [
    {
     "data": {
      "text/plain": [
       "['karnataka',\n",
       " 'common',\n",
       " 'entranc',\n",
       " 'test',\n",
       " 'kcet',\n",
       " 'result',\n",
       " 'out',\n",
       " 'today',\n",
       " 'direct',\n",
       " 'link']"
      ]
     },
     "execution_count": 15,
     "metadata": {},
     "output_type": "execute_result"
    }
   ],
   "source": [
    "Heading_stemmed[:10]   # 10 out of all"
   ]
  },
  {
   "cell_type": "code",
   "execution_count": 16,
   "metadata": {},
   "outputs": [],
   "source": [
    "words_frame = pd.DataFrame({'words': Heading_tokenized}, index = Heading_stemmed)"
   ]
  },
  {
   "cell_type": "code",
   "execution_count": 17,
   "metadata": {},
   "outputs": [
    {
     "data": {
      "text/html": [
       "<div>\n",
       "<style scoped>\n",
       "    .dataframe tbody tr th:only-of-type {\n",
       "        vertical-align: middle;\n",
       "    }\n",
       "\n",
       "    .dataframe tbody tr th {\n",
       "        vertical-align: top;\n",
       "    }\n",
       "\n",
       "    .dataframe thead th {\n",
       "        text-align: right;\n",
       "    }\n",
       "</style>\n",
       "<table border=\"1\" class=\"dataframe\">\n",
       "  <thead>\n",
       "    <tr style=\"text-align: right;\">\n",
       "      <th></th>\n",
       "      <th>words</th>\n",
       "    </tr>\n",
       "  </thead>\n",
       "  <tbody>\n",
       "    <tr>\n",
       "      <th>karnataka</th>\n",
       "      <td>karnataka</td>\n",
       "    </tr>\n",
       "    <tr>\n",
       "      <th>common</th>\n",
       "      <td>common</td>\n",
       "    </tr>\n",
       "    <tr>\n",
       "      <th>entranc</th>\n",
       "      <td>entrance</td>\n",
       "    </tr>\n",
       "    <tr>\n",
       "      <th>test</th>\n",
       "      <td>test</td>\n",
       "    </tr>\n",
       "    <tr>\n",
       "      <th>kcet</th>\n",
       "      <td>kcet</td>\n",
       "    </tr>\n",
       "    <tr>\n",
       "      <th>result</th>\n",
       "      <td>result</td>\n",
       "    </tr>\n",
       "    <tr>\n",
       "      <th>out</th>\n",
       "      <td>out</td>\n",
       "    </tr>\n",
       "    <tr>\n",
       "      <th>today</th>\n",
       "      <td>today</td>\n",
       "    </tr>\n",
       "    <tr>\n",
       "      <th>direct</th>\n",
       "      <td>direct</td>\n",
       "    </tr>\n",
       "    <tr>\n",
       "      <th>link</th>\n",
       "      <td>link</td>\n",
       "    </tr>\n",
       "  </tbody>\n",
       "</table>\n",
       "</div>"
      ],
      "text/plain": [
       "               words\n",
       "karnataka  karnataka\n",
       "common        common\n",
       "entranc     entrance\n",
       "test            test\n",
       "kcet            kcet\n",
       "result        result\n",
       "out              out\n",
       "today          today\n",
       "direct        direct\n",
       "link            link"
      ]
     },
     "execution_count": 17,
     "metadata": {},
     "output_type": "execute_result"
    }
   ],
   "source": [
    "words_frame.head(10)"
   ]
  },
  {
   "cell_type": "markdown",
   "metadata": {},
   "source": [
    "TF-IDF"
   ]
  },
  {
   "cell_type": "code",
   "execution_count": 18,
   "metadata": {},
   "outputs": [],
   "source": [
    "##Important : min_df\n",
    "from sklearn.feature_extraction.text import TfidfVectorizer\n",
    "vectorizer = TfidfVectorizer(max_df=0.8, max_features=200000,\n",
    "                                 stop_words='english',\n",
    "                                 use_idf=True, tokenizer=tokenize_and_stem, ngram_range=(1,4))"
   ]
  },
  {
   "cell_type": "code",
   "execution_count": 19,
   "metadata": {},
   "outputs": [],
   "source": [
    "tfidf_matrix = vectorizer.fit_transform(Heading)"
   ]
  },
  {
   "cell_type": "code",
   "execution_count": 20,
   "metadata": {},
   "outputs": [
    {
     "name": "stdout",
     "output_type": "stream",
     "text": [
      "(35, 827)\n"
     ]
    }
   ],
   "source": [
    "print(tfidf_matrix.shape)"
   ]
  },
  {
   "cell_type": "code",
   "execution_count": 21,
   "metadata": {},
   "outputs": [
    {
     "name": "stdout",
     "output_type": "stream",
     "text": [
      "  (0, 477)\t0.13468733704208752\n",
      "  (0, 235)\t0.16388708378168992\n",
      "  (0, 336)\t0.14680632690846768\n",
      "  (0, 752)\t0.14680632690846768\n",
      "  (0, 484)\t0.12528711820301383\n",
      "  (0, 633)\t0.05424531968281827\n",
      "  (0, 765)\t0.12528711820301383\n",
      "  (0, 306)\t0.14680632690846768\n",
      "  (0, 500)\t0.13468733704208752\n",
      "  (0, 474)\t0.16388708378168992\n",
      "  (0, 151)\t0.13468733704208752\n",
      "  (0, 333)\t0.12528711820301383\n",
      "  (0, 481)\t0.16388708378168992\n",
      "  (0, 236)\t0.16388708378168992\n",
      "  (0, 339)\t0.16388708378168992\n",
      "  (0, 756)\t0.16388708378168992\n",
      "  (0, 485)\t0.12528711820301383\n",
      "  (0, 696)\t0.13468733704208752\n",
      "  (0, 769)\t0.16388708378168992\n",
      "  (0, 308)\t0.16388708378168992\n",
      "  (0, 503)\t0.16388708378168992\n",
      "  (0, 475)\t0.16388708378168992\n",
      "  (0, 152)\t0.13468733704208752\n",
      "  (0, 482)\t0.16388708378168992\n",
      "  (0, 237)\t0.16388708378168992\n",
      "  (0, 340)\t0.16388708378168992\n",
      "  (0, 757)\t0.16388708378168992\n",
      "  (0, 490)\t0.16388708378168992\n",
      "  (0, 697)\t0.16388708378168992\n",
      "  (0, 770)\t0.16388708378168992\n",
      "  (0, 309)\t0.16388708378168992\n",
      "  (0, 504)\t0.16388708378168992\n",
      "  (0, 476)\t0.16388708378168992\n",
      "  (0, 483)\t0.16388708378168992\n",
      "  (0, 238)\t0.16388708378168992\n",
      "  (0, 341)\t0.16388708378168992\n",
      "  (0, 758)\t0.16388708378168992\n",
      "  (0, 491)\t0.16388708378168992\n",
      "  (0, 698)\t0.16388708378168992\n",
      "  (0, 771)\t0.16388708378168992\n",
      "  (0, 310)\t0.16388708378168992\n",
      "  (0, 505)\t0.16388708378168992\n"
     ]
    }
   ],
   "source": [
    "print(tfidf_matrix[0])"
   ]
  },
  {
   "cell_type": "code",
   "execution_count": 22,
   "metadata": {},
   "outputs": [
    {
     "data": {
      "text/plain": [
       "['10th',\n",
       " '10th 12th',\n",
       " '10th 12th onli',\n",
       " '10th 12th onli direct',\n",
       " '10th 12th result',\n",
       " '10th 12th result date',\n",
       " '12th',\n",
       " '12th art',\n",
       " '12th art commerc',\n",
       " '12th art commerc result']"
      ]
     },
     "execution_count": 22,
     "metadata": {},
     "output_type": "execute_result"
    }
   ],
   "source": [
    "vectorizer.get_feature_names()[:10]   ## first 10"
   ]
  },
  {
   "cell_type": "code",
   "execution_count": 23,
   "metadata": {},
   "outputs": [],
   "source": [
    "terms = vectorizer.get_feature_names()"
   ]
  },
  {
   "cell_type": "markdown",
   "metadata": {},
   "source": [
    "Cosine similarity"
   ]
  },
  {
   "cell_type": "code",
   "execution_count": 24,
   "metadata": {},
   "outputs": [],
   "source": [
    "from sklearn.metrics.pairwise import cosine_similarity\n"
   ]
  },
  {
   "cell_type": "code",
   "execution_count": 25,
   "metadata": {},
   "outputs": [],
   "source": [
    "dist = 1 - cosine_similarity(tfidf_matrix)"
   ]
  },
  {
   "cell_type": "code",
   "execution_count": 26,
   "metadata": {},
   "outputs": [
    {
     "data": {
      "text/plain": [
       "(35, 35)"
      ]
     },
     "execution_count": 26,
     "metadata": {},
     "output_type": "execute_result"
    }
   ],
   "source": [
    "dist.shape"
   ]
  },
  {
   "cell_type": "code",
   "execution_count": 27,
   "metadata": {},
   "outputs": [
    {
     "name": "stdout",
     "output_type": "stream",
     "text": [
      "[[ 1.11022302e-16  9.77014538e-01  9.95674310e-01 ...  9.93574976e-01\n",
      "   9.95794205e-01  8.76312473e-01]\n",
      " [ 9.77014538e-01  1.11022302e-16  9.90875582e-01 ...  9.93223669e-01\n",
      "   1.00000000e+00  1.00000000e+00]\n",
      " [ 9.95674310e-01  9.90875582e-01 -4.44089210e-16 ...  9.66396805e-01\n",
      "   9.30407508e-01  9.80652128e-01]\n",
      " ...\n",
      " [ 9.93574976e-01  9.93223669e-01  9.66396805e-01 ...  0.00000000e+00\n",
      "   9.90816709e-01  9.46921221e-01]\n",
      " [ 9.95794205e-01  1.00000000e+00  9.30407508e-01 ...  9.90816709e-01\n",
      "  -2.22044605e-16  9.81188390e-01]\n",
      " [ 8.76312473e-01  1.00000000e+00  9.80652128e-01 ...  9.46921221e-01\n",
      "   9.81188390e-01 -2.22044605e-16]]\n"
     ]
    }
   ],
   "source": [
    "print(dist)"
   ]
  },
  {
   "cell_type": "code",
   "execution_count": 28,
   "metadata": {},
   "outputs": [
    {
     "name": "stdout",
     "output_type": "stream",
     "text": [
      "[1.11022302e-16 9.77014538e-01 9.95674310e-01 9.93194165e-01\n",
      " 9.55324837e-01 9.93688701e-01 9.97131419e-01 9.77695478e-01\n",
      " 9.54140198e-01 9.93301848e-01 9.96709382e-01 1.00000000e+00\n",
      " 9.96876774e-01 9.47546257e-01 9.96848516e-01 9.82317182e-01\n",
      " 9.96268516e-01 1.00000000e+00 1.00000000e+00 9.96765999e-01\n",
      " 9.92302618e-01 9.96287640e-01 9.78378475e-01 1.00000000e+00\n",
      " 9.96760270e-01 1.00000000e+00 9.53404366e-01 8.76312473e-01\n",
      " 9.48367257e-01 9.95924125e-01 9.79423172e-01 9.95404327e-01\n",
      " 9.93574976e-01 9.95794205e-01 8.76312473e-01]\n"
     ]
    }
   ],
   "source": [
    "print(dist[0])"
   ]
  },
  {
   "cell_type": "markdown",
   "metadata": {},
   "source": [
    "## K-Means"
   ]
  },
  {
   "cell_type": "code",
   "execution_count": 29,
   "metadata": {},
   "outputs": [],
   "source": [
    "from sklearn.cluster import KMeans\n",
    "from sklearn.metrics import silhouette_score\n",
    "import numpy as np\n",
    "import pandas as pd\n"
   ]
  },
  {
   "cell_type": "markdown",
   "metadata": {},
   "source": [
    "### Finding Number of Clusters"
   ]
  },
  {
   "cell_type": "code",
   "execution_count": 30,
   "metadata": {},
   "outputs": [
    {
     "name": "stdout",
     "output_type": "stream",
     "text": [
      "For n = 15, silhouette score is 0.05606179323418648)\n",
      "For n = 16, silhouette score is 0.09560014720299974)\n",
      "For n = 17, silhouette score is 0.06476292470153448)\n",
      "For n = 18, silhouette score is 0.06162548286438097)\n",
      "For n = 19, silhouette score is 0.09930195614001551)\n"
     ]
    }
   ],
   "source": [
    "n_clusters = list (range (15,20))\n",
    "min=999\n",
    "for n in n_clusters:\n",
    "    km_ss = KMeans(n_clusters=n)\n",
    "    #km_ss.fit(tfidf_matrix) \n",
    "    clusters_ss = km_ss.fit_predict(tfidf_matrix)\n",
    "    #centers_ss = km_ss.cluster_centers_ \n",
    "    score = silhouette_score(dist,clusters_ss)\n",
    "    if min>score:\n",
    "        min=score\n",
    "        n_score=n\n",
    "    print (\"For n = {}, silhouette score is {})\".format(n, score))\n",
    "    "
   ]
  },
  {
   "cell_type": "code",
   "execution_count": 31,
   "metadata": {},
   "outputs": [
    {
     "data": {
      "text/plain": [
       "15"
      ]
     },
     "execution_count": 31,
     "metadata": {},
     "output_type": "execute_result"
    }
   ],
   "source": [
    "n_score"
   ]
  },
  {
   "cell_type": "code",
   "execution_count": 32,
   "metadata": {},
   "outputs": [
    {
     "data": {
      "text/plain": [
       "KMeans(algorithm='auto', copy_x=True, init='k-means++', max_iter=300,\n",
       "    n_clusters=15, n_init=10, n_jobs=1, precompute_distances='auto',\n",
       "    random_state=None, tol=0.0001, verbose=0)"
      ]
     },
     "execution_count": 32,
     "metadata": {},
     "output_type": "execute_result"
    }
   ],
   "source": [
    "num_clusters = n_score\n",
    "km = KMeans(n_clusters=num_clusters)\n",
    "km.fit(tfidf_matrix)"
   ]
  },
  {
   "cell_type": "code",
   "execution_count": 33,
   "metadata": {},
   "outputs": [],
   "source": [
    "clusters = km.labels_.tolist()"
   ]
  },
  {
   "cell_type": "code",
   "execution_count": null,
   "metadata": {},
   "outputs": [],
   "source": []
  },
  {
   "cell_type": "code",
   "execution_count": 34,
   "metadata": {},
   "outputs": [
    {
     "data": {
      "text/plain": [
       "['doc_cluster.pkl']"
      ]
     },
     "execution_count": 34,
     "metadata": {},
     "output_type": "execute_result"
    }
   ],
   "source": [
    "from sklearn.externals import joblib\n",
    "joblib.dump(km,  'doc_cluster.pkl')\n"
   ]
  },
  {
   "cell_type": "code",
   "execution_count": 35,
   "metadata": {},
   "outputs": [],
   "source": [
    "km = joblib.load('doc_cluster.pkl')\n",
    "clusters = km.labels_.tolist()"
   ]
  },
  {
   "cell_type": "code",
   "execution_count": 36,
   "metadata": {},
   "outputs": [],
   "source": [
    "df['Cluster'] = clusters"
   ]
  },
  {
   "cell_type": "code",
   "execution_count": 37,
   "metadata": {},
   "outputs": [],
   "source": [
    "X_dist = km.transform(tfidf_matrix)**2  ###tranform returns distance from centroid\n",
    "sqddist = X_dist.sum(axis=1).round(2)\n",
    "df['sqddist'] = sqddist"
   ]
  },
  {
   "cell_type": "code",
   "execution_count": 38,
   "metadata": {},
   "outputs": [
    {
     "data": {
      "text/html": [
       "<div>\n",
       "<style scoped>\n",
       "    .dataframe tbody tr th:only-of-type {\n",
       "        vertical-align: middle;\n",
       "    }\n",
       "\n",
       "    .dataframe tbody tr th {\n",
       "        vertical-align: top;\n",
       "    }\n",
       "\n",
       "    .dataframe thead th {\n",
       "        text-align: right;\n",
       "    }\n",
       "</style>\n",
       "<table border=\"1\" class=\"dataframe\">\n",
       "  <thead>\n",
       "    <tr style=\"text-align: right;\">\n",
       "      <th></th>\n",
       "      <th>Newspaper</th>\n",
       "      <th>Heading</th>\n",
       "      <th>Date</th>\n",
       "      <th>Time</th>\n",
       "      <th>URL</th>\n",
       "      <th>Cluster</th>\n",
       "      <th>sqddist</th>\n",
       "    </tr>\n",
       "  </thead>\n",
       "  <tbody>\n",
       "    <tr>\n",
       "      <th>9</th>\n",
       "      <td>Hindiustan Times</td>\n",
       "      <td>Karnataka Common Entrance Test  (KCET)2019 Res...</td>\n",
       "      <td>2019-05-25</td>\n",
       "      <td>13:33:00</td>\n",
       "      <td>https://www.hindustantimes.com/education/karna...</td>\n",
       "      <td>2</td>\n",
       "      <td>24.46</td>\n",
       "    </tr>\n",
       "    <tr>\n",
       "      <th>10</th>\n",
       "      <td>Hindiustan Times</td>\n",
       "      <td>Schools can run extra classes for class 10th, ...</td>\n",
       "      <td>2019-05-25</td>\n",
       "      <td>10:45:00</td>\n",
       "      <td>https://www.hindustantimes.com/education/schoo...</td>\n",
       "      <td>3</td>\n",
       "      <td>24.19</td>\n",
       "    </tr>\n",
       "    <tr>\n",
       "      <th>11</th>\n",
       "      <td>Hindiustan Times</td>\n",
       "      <td>Assam AHSEC 12th result 2019 declared, check m...</td>\n",
       "      <td>2019-05-25</td>\n",
       "      <td>09:06:00</td>\n",
       "      <td>https://www.hindustantimes.com/education/assam...</td>\n",
       "      <td>7</td>\n",
       "      <td>23.93</td>\n",
       "    </tr>\n",
       "    <tr>\n",
       "      <th>12</th>\n",
       "      <td>Hindiustan Times</td>\n",
       "      <td>Gujarat GSEB 12th result 2019 declared, check ...</td>\n",
       "      <td>2019-05-25</td>\n",
       "      <td>09:32:00</td>\n",
       "      <td>https://www.hindustantimes.com/education/gujar...</td>\n",
       "      <td>8</td>\n",
       "      <td>23.97</td>\n",
       "    </tr>\n",
       "    <tr>\n",
       "      <th>13</th>\n",
       "      <td>Hindiustan Times</td>\n",
       "      <td>Assam board HS Result 2019 today: List of webs...</td>\n",
       "      <td>2019-05-25</td>\n",
       "      <td>10:14:00</td>\n",
       "      <td>https://www.hindustantimes.com/education/assam...</td>\n",
       "      <td>0</td>\n",
       "      <td>24.42</td>\n",
       "    </tr>\n",
       "  </tbody>\n",
       "</table>\n",
       "</div>"
      ],
      "text/plain": [
       "           Newspaper                                            Heading  \\\n",
       "9   Hindiustan Times  Karnataka Common Entrance Test  (KCET)2019 Res...   \n",
       "10  Hindiustan Times  Schools can run extra classes for class 10th, ...   \n",
       "11  Hindiustan Times  Assam AHSEC 12th result 2019 declared, check m...   \n",
       "12  Hindiustan Times  Gujarat GSEB 12th result 2019 declared, check ...   \n",
       "13  Hindiustan Times  Assam board HS Result 2019 today: List of webs...   \n",
       "\n",
       "          Date      Time                                                URL  \\\n",
       "9   2019-05-25  13:33:00  https://www.hindustantimes.com/education/karna...   \n",
       "10  2019-05-25  10:45:00  https://www.hindustantimes.com/education/schoo...   \n",
       "11  2019-05-25  09:06:00  https://www.hindustantimes.com/education/assam...   \n",
       "12  2019-05-25  09:32:00  https://www.hindustantimes.com/education/gujar...   \n",
       "13  2019-05-25  10:14:00  https://www.hindustantimes.com/education/assam...   \n",
       "\n",
       "    Cluster  sqddist  \n",
       "9         2    24.46  \n",
       "10        3    24.19  \n",
       "11        7    23.93  \n",
       "12        8    23.97  \n",
       "13        0    24.42  "
      ]
     },
     "execution_count": 38,
     "metadata": {},
     "output_type": "execute_result"
    }
   ],
   "source": [
    "df.head()\n"
   ]
  },
  {
   "cell_type": "code",
   "execution_count": 39,
   "metadata": {},
   "outputs": [
    {
     "data": {
      "text/plain": [
       "0     6\n",
       "8     4\n",
       "7     4\n",
       "2     4\n",
       "1     4\n",
       "14    2\n",
       "5     2\n",
       "3     2\n",
       "13    1\n",
       "12    1\n",
       "11    1\n",
       "10    1\n",
       "9     1\n",
       "6     1\n",
       "4     1\n",
       "Name: Cluster, dtype: int64"
      ]
     },
     "execution_count": 39,
     "metadata": {},
     "output_type": "execute_result"
    }
   ],
   "source": [
    "df['Cluster'].value_counts()"
   ]
  },
  {
   "cell_type": "markdown",
   "metadata": {},
   "source": [
    "## Plotting the points"
   ]
  },
  {
   "cell_type": "code",
   "execution_count": 40,
   "metadata": {},
   "outputs": [
    {
     "name": "stdout",
     "output_type": "stream",
     "text": [
      "\n",
      "\n"
     ]
    }
   ],
   "source": [
    "import os  # for os.path.basename\n",
    "\n",
    "import matplotlib.pyplot as plt\n",
    "import matplotlib as mpl\n",
    "\n",
    "from sklearn.manifold import MDS\n",
    "\n",
    "MDS()\n",
    "\n",
    "mds = MDS(n_components=2, dissimilarity=\"precomputed\", random_state=1)\n",
    "\n",
    "pos = mds.fit_transform(dist)  # shape (n_components, n_samples)\n",
    "\n",
    "xs, ys = pos[:, 0], pos[:, 1]\n",
    "print()\n",
    "print()"
   ]
  },
  {
   "cell_type": "code",
   "execution_count": 41,
   "metadata": {},
   "outputs": [],
   "source": [
    "cluster_colors = {0: '#1f2df4', 1: '#b3b6c9', 2: '#4ad9ec', 3: '#5e97b9', 4: '#1a7903',\n",
    "                  5: '#add920', 6: '#cfa5e1', 7: '#2c2255', 8: '#8b0964', 9: '#eb3bdf',\n",
    "                  10: '#0fcb43', 11: '#cfc0a7', 12: '#4f94bf', 13: '#9d9ce3', 14: '#da7c07'}\n",
    "cluster_names = {0: 'Cluster 0', \n",
    "                 1: 'Cluster 1', \n",
    "                 2: 'Cluster 2', \n",
    "                 3: 'Cluster 3', \n",
    "                 4: 'Cluster 4',\n",
    "                 5: 'Cluster 5',\n",
    "                 6: 'Cluster 6',\n",
    "                 7: 'Cluster 7',\n",
    "                 8: 'Cluster 8',\n",
    "                 9: 'Cluster 9',\n",
    "                 10:'Cluster 10',\n",
    "                 11:'Cluster 11',\n",
    "                 12:'Cluster 12',\n",
    "                 13:'Cluster 13',\n",
    "                 14:'Cluster 14'}"
   ]
  },
  {
   "cell_type": "code",
   "execution_count": 42,
   "metadata": {},
   "outputs": [
    {
     "name": "stdout",
     "output_type": "stream",
     "text": [
      "{0: 'Cluster 0', 1: 'Cluster 1', 2: 'Cluster 2', 3: 'Cluster 3', 4: 'Cluster 4', 5: 'Cluster 5', 6: 'Cluster 6', 7: 'Cluster 7', 8: 'Cluster 8', 9: 'Cluster 9', 10: 'Cluster 10', 11: 'Cluster 11', 12: 'Cluster 12', 13: 'Cluster 13', 14: 'Cluster 14'}\n"
     ]
    }
   ],
   "source": [
    "cluster_names = {}\n",
    "keys = range(n_score)   ## n_score = number of clusters\n",
    "for i in keys:\n",
    "       cluster_names[i] = 'Cluster '+str(i)\n",
    "print(cluster_names)"
   ]
  },
  {
   "cell_type": "code",
   "execution_count": 43,
   "metadata": {},
   "outputs": [
    {
     "name": "stdout",
     "output_type": "stream",
     "text": [
      "{0: '#7DFB76', 1: '#3E6556', 2: '#EFA0CA', 3: '#270D7A', 4: '#FA8E02', 5: '#28E733', 6: '#D1C866', 7: '#0364A9', 8: '#D607F0', 9: '#38B669', 10: '#4463ED', 11: '#3E059D', 12: '#F02C57', 13: '#62E864', 14: '#C3AFD6'}\n"
     ]
    }
   ],
   "source": [
    "number_of_colors = n_score\n",
    "\n",
    "color = [\"#\"+''.join([random.choice('0123456789ABCDEF') for j in range(6)])\n",
    "             for i in range(number_of_colors)]\n",
    "cluster_colors={}\n",
    "for i in range(len(color)):\n",
    "    cluster_colors[i]=color[i]\n",
    "print(cluster_colors)"
   ]
  },
  {
   "cell_type": "code",
   "execution_count": 44,
   "metadata": {},
   "outputs": [
    {
     "data": {
      "text/plain": [
       "dict"
      ]
     },
     "execution_count": 44,
     "metadata": {},
     "output_type": "execute_result"
    }
   ],
   "source": [
    "type(cluster_colors)"
   ]
  },
  {
   "cell_type": "code",
   "execution_count": 45,
   "metadata": {},
   "outputs": [
    {
     "data": {
      "text/html": [
       "<div>\n",
       "<style scoped>\n",
       "    .dataframe tbody tr th:only-of-type {\n",
       "        vertical-align: middle;\n",
       "    }\n",
       "\n",
       "    .dataframe tbody tr th {\n",
       "        vertical-align: top;\n",
       "    }\n",
       "\n",
       "    .dataframe thead th {\n",
       "        text-align: right;\n",
       "    }\n",
       "</style>\n",
       "<table border=\"1\" class=\"dataframe\">\n",
       "  <thead>\n",
       "    <tr style=\"text-align: right;\">\n",
       "      <th></th>\n",
       "      <th>x</th>\n",
       "      <th>y</th>\n",
       "      <th>label</th>\n",
       "      <th>title</th>\n",
       "    </tr>\n",
       "  </thead>\n",
       "  <tbody>\n",
       "    <tr>\n",
       "      <th>9</th>\n",
       "      <td>0.567200</td>\n",
       "      <td>-0.443379</td>\n",
       "      <td>2</td>\n",
       "      <td>Karnataka Common Entrance Test  (KCET)2019 Res...</td>\n",
       "    </tr>\n",
       "    <tr>\n",
       "      <th>10</th>\n",
       "      <td>-0.662143</td>\n",
       "      <td>0.342383</td>\n",
       "      <td>3</td>\n",
       "      <td>Schools can run extra classes for class 10th, ...</td>\n",
       "    </tr>\n",
       "    <tr>\n",
       "      <th>11</th>\n",
       "      <td>-0.273233</td>\n",
       "      <td>-0.350794</td>\n",
       "      <td>7</td>\n",
       "      <td>Assam AHSEC 12th result 2019 declared, check m...</td>\n",
       "    </tr>\n",
       "    <tr>\n",
       "      <th>12</th>\n",
       "      <td>0.253743</td>\n",
       "      <td>-0.489597</td>\n",
       "      <td>8</td>\n",
       "      <td>Gujarat GSEB 12th result 2019 declared, check ...</td>\n",
       "    </tr>\n",
       "    <tr>\n",
       "      <th>13</th>\n",
       "      <td>0.099437</td>\n",
       "      <td>0.290632</td>\n",
       "      <td>0</td>\n",
       "      <td>Assam board HS Result 2019 today: List of webs...</td>\n",
       "    </tr>\n",
       "  </tbody>\n",
       "</table>\n",
       "</div>"
      ],
      "text/plain": [
       "           x         y  label  \\\n",
       "9   0.567200 -0.443379      2   \n",
       "10 -0.662143  0.342383      3   \n",
       "11 -0.273233 -0.350794      7   \n",
       "12  0.253743 -0.489597      8   \n",
       "13  0.099437  0.290632      0   \n",
       "\n",
       "                                                title  \n",
       "9   Karnataka Common Entrance Test  (KCET)2019 Res...  \n",
       "10  Schools can run extra classes for class 10th, ...  \n",
       "11  Assam AHSEC 12th result 2019 declared, check m...  \n",
       "12  Gujarat GSEB 12th result 2019 declared, check ...  \n",
       "13  Assam board HS Result 2019 today: List of webs...  "
      ]
     },
     "execution_count": 45,
     "metadata": {},
     "output_type": "execute_result"
    }
   ],
   "source": [
    "%matplotlib inline \n",
    "df_plot= pd.DataFrame(dict(x=xs, y=ys, label=clusters, title=Heading)) \n",
    "df_plot.head()"
   ]
  },
  {
   "cell_type": "code",
   "execution_count": 46,
   "metadata": {},
   "outputs": [],
   "source": [
    "groups = df_plot.groupby('label')"
   ]
  },
  {
   "cell_type": "code",
   "execution_count": 47,
   "metadata": {
    "scrolled": true
   },
   "outputs": [
    {
     "data": {
      "image/png": "[encoded data removed]",
      "text/plain": [
       "<Figure size 1440x1080 with 1 Axes>"
      ]
     },
     "metadata": {},
     "output_type": "display_data"
    }
   ],
   "source": [
    "fig, ax = plt.subplots(figsize=(20, 15))\n",
    "\n",
    "for name,group in groups:\n",
    "    ax.plot(group.x, group.y, marker='o',linestyle='',ms=12, label=cluster_names[name],color=cluster_colors[name],mec='none')\n",
    "    ax.set_aspect('auto')   \n",
    "    ax.tick_params(axis='x',which='both',bottom='off',top='off',labelbottom='off')\n",
    "    ax.tick_params(axis= 'y',which='both',left='off',top='off',labelleft='off')\n",
    "ax.legend(numpoints=1)\n",
    "\n",
    "for i in range(len(df_plot)):\n",
    "    ax.text(df_plot.iloc[i]['x'], df_plot.iloc[i]['y'], df_plot.iloc[i]['title'], size=7)"
   ]
  },
  {
   "cell_type": "markdown",
   "metadata": {},
   "source": [
    "### Closest Point to Centroid"
   ]
  },
  {
   "cell_type": "code",
   "execution_count": 48,
   "metadata": {},
   "outputs": [],
   "source": [
    "#centers = np.array(km.cluster_centers_)"
   ]
  },
  {
   "cell_type": "code",
   "execution_count": 49,
   "metadata": {},
   "outputs": [],
   "source": [
    "#data_99 = [ j for j, cluster in enumerate(clusters) if cluster == 1 ]\n"
   ]
  },
  {
   "cell_type": "code",
   "execution_count": 50,
   "metadata": {},
   "outputs": [],
   "source": [
    "#cluster_tf_matrix = np.zeros( (  len(data_99) , centers.shape[1] ) )\n",
    "#cluster_tf_matrix"
   ]
  },
  {
   "cell_type": "code",
   "execution_count": 51,
   "metadata": {},
   "outputs": [],
   "source": [
    "#for row_num, data in enumerate(data_99):\n",
    " #       row = tfidf_matrix[data]\n",
    "  #      cluster_tf_matrix[row_num] = row"
   ]
  },
  {
   "cell_type": "code",
   "execution_count": 52,
   "metadata": {},
   "outputs": [],
   "source": [
    "#clostest_data = []\n",
    "#for i in range(num_clusters):\n",
    " #   center = centers[i]\n",
    "  #  data_i = [ j for j, cluster in enumerate(clusters) if cluster == i ]\n",
    "    \n",
    "    \n",
    "   # cluster_tf_matrix = np.zeros( (  len(data_i) , centers.shape[1] ) )\n",
    "    #for row_num, data in enumerate(data_i):\n",
    "     #   row = tfidf_matrix[data]\n",
    "      #  cluster_tf_matrix[row_num] = row"
   ]
  },
  {
   "cell_type": "markdown",
   "metadata": {},
   "source": [
    "## Final Result"
   ]
  },
  {
   "cell_type": "code",
   "execution_count": 53,
   "metadata": {},
   "outputs": [
    {
     "data": {
      "text/html": [
       "<div>\n",
       "<style scoped>\n",
       "    .dataframe tbody tr th:only-of-type {\n",
       "        vertical-align: middle;\n",
       "    }\n",
       "\n",
       "    .dataframe tbody tr th {\n",
       "        vertical-align: top;\n",
       "    }\n",
       "\n",
       "    .dataframe thead th {\n",
       "        text-align: right;\n",
       "    }\n",
       "</style>\n",
       "<table border=\"1\" class=\"dataframe\">\n",
       "  <thead>\n",
       "    <tr style=\"text-align: right;\">\n",
       "      <th></th>\n",
       "      <th>Newspaper</th>\n",
       "      <th>Heading</th>\n",
       "      <th>Date</th>\n",
       "      <th>Time</th>\n",
       "      <th>URL</th>\n",
       "      <th>Cluster</th>\n",
       "      <th>sqddist</th>\n",
       "    </tr>\n",
       "  </thead>\n",
       "  <tbody>\n",
       "    <tr>\n",
       "      <th>9</th>\n",
       "      <td>Hindiustan Times</td>\n",
       "      <td>Karnataka Common Entrance Test  (KCET)2019 Res...</td>\n",
       "      <td>2019-05-25</td>\n",
       "      <td>13:33:00</td>\n",
       "      <td>https://www.hindustantimes.com/education/karna...</td>\n",
       "      <td>2</td>\n",
       "      <td>24.46</td>\n",
       "    </tr>\n",
       "    <tr>\n",
       "      <th>10</th>\n",
       "      <td>Hindiustan Times</td>\n",
       "      <td>Schools can run extra classes for class 10th, ...</td>\n",
       "      <td>2019-05-25</td>\n",
       "      <td>10:45:00</td>\n",
       "      <td>https://www.hindustantimes.com/education/schoo...</td>\n",
       "      <td>3</td>\n",
       "      <td>24.19</td>\n",
       "    </tr>\n",
       "    <tr>\n",
       "      <th>11</th>\n",
       "      <td>Hindiustan Times</td>\n",
       "      <td>Assam AHSEC 12th result 2019 declared, check m...</td>\n",
       "      <td>2019-05-25</td>\n",
       "      <td>09:06:00</td>\n",
       "      <td>https://www.hindustantimes.com/education/assam...</td>\n",
       "      <td>7</td>\n",
       "      <td>23.93</td>\n",
       "    </tr>\n",
       "    <tr>\n",
       "      <th>12</th>\n",
       "      <td>Hindiustan Times</td>\n",
       "      <td>Gujarat GSEB 12th result 2019 declared, check ...</td>\n",
       "      <td>2019-05-25</td>\n",
       "      <td>09:32:00</td>\n",
       "      <td>https://www.hindustantimes.com/education/gujar...</td>\n",
       "      <td>8</td>\n",
       "      <td>23.97</td>\n",
       "    </tr>\n",
       "    <tr>\n",
       "      <th>13</th>\n",
       "      <td>Hindiustan Times</td>\n",
       "      <td>Assam board HS Result 2019 today: List of webs...</td>\n",
       "      <td>2019-05-25</td>\n",
       "      <td>10:14:00</td>\n",
       "      <td>https://www.hindustantimes.com/education/assam...</td>\n",
       "      <td>0</td>\n",
       "      <td>24.42</td>\n",
       "    </tr>\n",
       "  </tbody>\n",
       "</table>\n",
       "</div>"
      ],
      "text/plain": [
       "           Newspaper                                            Heading  \\\n",
       "9   Hindiustan Times  Karnataka Common Entrance Test  (KCET)2019 Res...   \n",
       "10  Hindiustan Times  Schools can run extra classes for class 10th, ...   \n",
       "11  Hindiustan Times  Assam AHSEC 12th result 2019 declared, check m...   \n",
       "12  Hindiustan Times  Gujarat GSEB 12th result 2019 declared, check ...   \n",
       "13  Hindiustan Times  Assam board HS Result 2019 today: List of webs...   \n",
       "\n",
       "          Date      Time                                                URL  \\\n",
       "9   2019-05-25  13:33:00  https://www.hindustantimes.com/education/karna...   \n",
       "10  2019-05-25  10:45:00  https://www.hindustantimes.com/education/schoo...   \n",
       "11  2019-05-25  09:06:00  https://www.hindustantimes.com/education/assam...   \n",
       "12  2019-05-25  09:32:00  https://www.hindustantimes.com/education/gujar...   \n",
       "13  2019-05-25  10:14:00  https://www.hindustantimes.com/education/assam...   \n",
       "\n",
       "    Cluster  sqddist  \n",
       "9         2    24.46  \n",
       "10        3    24.19  \n",
       "11        7    23.93  \n",
       "12        8    23.97  \n",
       "13        0    24.42  "
      ]
     },
     "execution_count": 53,
     "metadata": {},
     "output_type": "execute_result"
    }
   ],
   "source": [
    "df.head()"
   ]
  },
  {
   "cell_type": "code",
   "execution_count": 54,
   "metadata": {},
   "outputs": [],
   "source": [
    "dist_mean=df['sqddist'].mean()\n",
    "dist_std=df['sqddist'].std()"
   ]
  },
  {
   "cell_type": "code",
   "execution_count": 55,
   "metadata": {},
   "outputs": [],
   "source": [
    "df_less = df[df['sqddist']<dist_mean+dist_std] "
   ]
  },
  {
   "cell_type": "code",
   "execution_count": 56,
   "metadata": {},
   "outputs": [],
   "source": [
    "df_less=df_less.reset_index().drop(['index'],axis=1)"
   ]
  },
  {
   "cell_type": "code",
   "execution_count": 57,
   "metadata": {},
   "outputs": [
    {
     "data": {
      "text/html": [
       "<div>\n",
       "<style scoped>\n",
       "    .dataframe tbody tr th:only-of-type {\n",
       "        vertical-align: middle;\n",
       "    }\n",
       "\n",
       "    .dataframe tbody tr th {\n",
       "        vertical-align: top;\n",
       "    }\n",
       "\n",
       "    .dataframe thead th {\n",
       "        text-align: right;\n",
       "    }\n",
       "</style>\n",
       "<table border=\"1\" class=\"dataframe\">\n",
       "  <thead>\n",
       "    <tr style=\"text-align: right;\">\n",
       "      <th></th>\n",
       "      <th>Newspaper</th>\n",
       "      <th>Heading</th>\n",
       "      <th>Date</th>\n",
       "      <th>Time</th>\n",
       "      <th>URL</th>\n",
       "      <th>Cluster</th>\n",
       "      <th>sqddist</th>\n",
       "    </tr>\n",
       "  </thead>\n",
       "  <tbody>\n",
       "    <tr>\n",
       "      <th>0</th>\n",
       "      <td>Hindiustan Times</td>\n",
       "      <td>Karnataka Common Entrance Test  (KCET)2019 Res...</td>\n",
       "      <td>2019-05-25</td>\n",
       "      <td>13:33:00</td>\n",
       "      <td>https://www.hindustantimes.com/education/karna...</td>\n",
       "      <td>2</td>\n",
       "      <td>24.46</td>\n",
       "    </tr>\n",
       "    <tr>\n",
       "      <th>1</th>\n",
       "      <td>Hindiustan Times</td>\n",
       "      <td>Schools can run extra classes for class 10th, ...</td>\n",
       "      <td>2019-05-25</td>\n",
       "      <td>10:45:00</td>\n",
       "      <td>https://www.hindustantimes.com/education/schoo...</td>\n",
       "      <td>3</td>\n",
       "      <td>24.19</td>\n",
       "    </tr>\n",
       "    <tr>\n",
       "      <th>2</th>\n",
       "      <td>Hindiustan Times</td>\n",
       "      <td>Assam AHSEC 12th result 2019 declared, check m...</td>\n",
       "      <td>2019-05-25</td>\n",
       "      <td>09:06:00</td>\n",
       "      <td>https://www.hindustantimes.com/education/assam...</td>\n",
       "      <td>7</td>\n",
       "      <td>23.93</td>\n",
       "    </tr>\n",
       "    <tr>\n",
       "      <th>3</th>\n",
       "      <td>Hindiustan Times</td>\n",
       "      <td>Gujarat GSEB 12th result 2019 declared, check ...</td>\n",
       "      <td>2019-05-25</td>\n",
       "      <td>09:32:00</td>\n",
       "      <td>https://www.hindustantimes.com/education/gujar...</td>\n",
       "      <td>8</td>\n",
       "      <td>23.97</td>\n",
       "    </tr>\n",
       "    <tr>\n",
       "      <th>4</th>\n",
       "      <td>Hindiustan Times</td>\n",
       "      <td>Assam board HS Result 2019 today: List of webs...</td>\n",
       "      <td>2019-05-25</td>\n",
       "      <td>10:14:00</td>\n",
       "      <td>https://www.hindustantimes.com/education/assam...</td>\n",
       "      <td>0</td>\n",
       "      <td>24.42</td>\n",
       "    </tr>\n",
       "    <tr>\n",
       "      <th>5</th>\n",
       "      <td>Hindiustan Times</td>\n",
       "      <td>Assam HS Result 2019 LIVE updates: AHSEC 12th ...</td>\n",
       "      <td>2019-05-25</td>\n",
       "      <td>09:51:00</td>\n",
       "      <td>https://www.hindustantimes.com/education/assam...</td>\n",
       "      <td>7</td>\n",
       "      <td>24.17</td>\n",
       "    </tr>\n",
       "    <tr>\n",
       "      <th>6</th>\n",
       "      <td>Hindiustan Times</td>\n",
       "      <td>Gujarat GSEB 12th HSC result declared 2019 liv...</td>\n",
       "      <td>2019-05-25</td>\n",
       "      <td>12:36:00</td>\n",
       "      <td>https://www.hindustantimes.com/education/gujar...</td>\n",
       "      <td>8</td>\n",
       "      <td>24.10</td>\n",
       "    </tr>\n",
       "    <tr>\n",
       "      <th>7</th>\n",
       "      <td>Hindiustan Times</td>\n",
       "      <td>Gujarat GSEB 12th HSC general result 2019 to b...</td>\n",
       "      <td>2019-05-25</td>\n",
       "      <td>07:54:00</td>\n",
       "      <td>https://www.hindustantimes.com/education/gujar...</td>\n",
       "      <td>8</td>\n",
       "      <td>24.09</td>\n",
       "    </tr>\n",
       "    <tr>\n",
       "      <th>8</th>\n",
       "      <td>Hindiustan Times</td>\n",
       "      <td>Assam 12th result 2019 today, here’s how to ch...</td>\n",
       "      <td>2019-05-25</td>\n",
       "      <td>07:09:00</td>\n",
       "      <td>https://www.hindustantimes.com/education/assam...</td>\n",
       "      <td>0</td>\n",
       "      <td>24.53</td>\n",
       "    </tr>\n",
       "    <tr>\n",
       "      <th>9</th>\n",
       "      <td>Hindiustan Times</td>\n",
       "      <td>GSEB HSC Result: Gujarat Board 12th arts and c...</td>\n",
       "      <td>2019-05-25</td>\n",
       "      <td>07:53:00</td>\n",
       "      <td>https://www.hindustantimes.com/education/gseb-...</td>\n",
       "      <td>1</td>\n",
       "      <td>24.22</td>\n",
       "    </tr>\n",
       "    <tr>\n",
       "      <th>10</th>\n",
       "      <td>Indian Express</td>\n",
       "      <td>Uttarakhand Board UBSE Class 10th, 12th result...</td>\n",
       "      <td>2019-05-25</td>\n",
       "      <td>5:58:55 pm</td>\n",
       "      <td>https://indianexpress.com/article/education/ut...</td>\n",
       "      <td>3</td>\n",
       "      <td>24.04</td>\n",
       "    </tr>\n",
       "    <tr>\n",
       "      <th>11</th>\n",
       "      <td>Indian Express</td>\n",
       "      <td>JEE Advanced 2019: Follow these last minute ti...</td>\n",
       "      <td>2019-05-25</td>\n",
       "      <td>5:30:32 pm</td>\n",
       "      <td>https://indianexpress.com/article/education/je...</td>\n",
       "      <td>12</td>\n",
       "      <td>23.34</td>\n",
       "    </tr>\n",
       "    <tr>\n",
       "      <th>12</th>\n",
       "      <td>Indian Express</td>\n",
       "      <td>GSEB 12th Arts, Commerce Result 2019 declared ...</td>\n",
       "      <td>2019-05-25</td>\n",
       "      <td>5:06:33 pm</td>\n",
       "      <td>https://indianexpress.com/article/education/gs...</td>\n",
       "      <td>1</td>\n",
       "      <td>24.25</td>\n",
       "    </tr>\n",
       "    <tr>\n",
       "      <th>13</th>\n",
       "      <td>Indian Express</td>\n",
       "      <td>AHSEC Assam Board HS 12th Result 2019 declared...</td>\n",
       "      <td>2019-05-25</td>\n",
       "      <td>5:03:52 pm</td>\n",
       "      <td>https://indianexpress.com/article/education/as...</td>\n",
       "      <td>7</td>\n",
       "      <td>24.21</td>\n",
       "    </tr>\n",
       "    <tr>\n",
       "      <th>14</th>\n",
       "      <td>Indian Express</td>\n",
       "      <td>Veer Bahadur Singh Purvanchal University admis...</td>\n",
       "      <td>2019-05-25</td>\n",
       "      <td>4:51:42 pm</td>\n",
       "      <td>https://indianexpress.com/article/education/ve...</td>\n",
       "      <td>5</td>\n",
       "      <td>24.14</td>\n",
       "    </tr>\n",
       "    <tr>\n",
       "      <th>15</th>\n",
       "      <td>Indian Express</td>\n",
       "      <td>IIITM-K admissions 2019: Applications availabl...</td>\n",
       "      <td>2019-05-25</td>\n",
       "      <td>2:36:39 pm</td>\n",
       "      <td>https://indianexpress.com/article/education/ii...</td>\n",
       "      <td>5</td>\n",
       "      <td>24.26</td>\n",
       "    </tr>\n",
       "    <tr>\n",
       "      <th>16</th>\n",
       "      <td>Time of India</td>\n",
       "      <td>SSC CPO 2019 result for Paper I declared; chec...</td>\n",
       "      <td>2019-05-25</td>\n",
       "      <td>22:19:00</td>\n",
       "      <td>https://timesofindia.indiatimes.com/home/educa...</td>\n",
       "      <td>10</td>\n",
       "      <td>23.11</td>\n",
       "    </tr>\n",
       "    <tr>\n",
       "      <th>17</th>\n",
       "      <td>Time of India</td>\n",
       "      <td>GSHSEB result 2019: 79 schools score less than...</td>\n",
       "      <td>2019-05-25</td>\n",
       "      <td>21:40:00</td>\n",
       "      <td>https://timesofindia.indiatimes.com/home/educa...</td>\n",
       "      <td>1</td>\n",
       "      <td>24.51</td>\n",
       "    </tr>\n",
       "    <tr>\n",
       "      <th>18</th>\n",
       "      <td>Time of India</td>\n",
       "      <td>Dr. Bhim Rao Ambedkar University 2018-19 resul...</td>\n",
       "      <td>2019-05-25</td>\n",
       "      <td>20:35:00</td>\n",
       "      <td>https://timesofindia.indiatimes.com/home/educa...</td>\n",
       "      <td>6</td>\n",
       "      <td>23.16</td>\n",
       "    </tr>\n",
       "    <tr>\n",
       "      <th>19</th>\n",
       "      <td>Time of India</td>\n",
       "      <td>AIIMS UG 2019 Day 1 test concludes; know how m...</td>\n",
       "      <td>2019-05-25</td>\n",
       "      <td>18:41:00</td>\n",
       "      <td>https://timesofindia.indiatimes.com/home/educa...</td>\n",
       "      <td>13</td>\n",
       "      <td>23.31</td>\n",
       "    </tr>\n",
       "    <tr>\n",
       "      <th>20</th>\n",
       "      <td>Time of India</td>\n",
       "      <td>Mop-up round for PG medical admissions: Around...</td>\n",
       "      <td>2019-05-25</td>\n",
       "      <td>15:41:00</td>\n",
       "      <td>https://timesofindia.indiatimes.com/home/educa...</td>\n",
       "      <td>9</td>\n",
       "      <td>23.38</td>\n",
       "    </tr>\n",
       "    <tr>\n",
       "      <th>21</th>\n",
       "      <td>Time of India</td>\n",
       "      <td>Aligarh MP elect demands resignation of VC</td>\n",
       "      <td>2019-05-25</td>\n",
       "      <td>14:10:00</td>\n",
       "      <td>https://timesofindia.indiatimes.com/home/educa...</td>\n",
       "      <td>4</td>\n",
       "      <td>23.43</td>\n",
       "    </tr>\n",
       "    <tr>\n",
       "      <th>22</th>\n",
       "      <td>Time of India</td>\n",
       "      <td>Karnataka CET 2019 results declared; Bengaluru...</td>\n",
       "      <td>2019-05-25</td>\n",
       "      <td>14:00:00</td>\n",
       "      <td>https://timesofindia.indiatimes.com/home/educa...</td>\n",
       "      <td>14</td>\n",
       "      <td>23.83</td>\n",
       "    </tr>\n",
       "    <tr>\n",
       "      <th>23</th>\n",
       "      <td>Time of India</td>\n",
       "      <td>KCET 2019 results released; Jeffin Biju tops i...</td>\n",
       "      <td>2019-05-25</td>\n",
       "      <td>13:37:00</td>\n",
       "      <td>https://timesofindia.indiatimes.com/home/educa...</td>\n",
       "      <td>2</td>\n",
       "      <td>24.04</td>\n",
       "    </tr>\n",
       "    <tr>\n",
       "      <th>24</th>\n",
       "      <td>Time of India</td>\n",
       "      <td>Karnataka CET results 2019 declared; online li...</td>\n",
       "      <td>2019-05-25</td>\n",
       "      <td>13:33:00</td>\n",
       "      <td>https://timesofindia.indiatimes.com/home/educa...</td>\n",
       "      <td>14</td>\n",
       "      <td>23.72</td>\n",
       "    </tr>\n",
       "    <tr>\n",
       "      <th>25</th>\n",
       "      <td>Time of India</td>\n",
       "      <td>Assam Board class 12th results released @ahsec...</td>\n",
       "      <td>2019-05-25</td>\n",
       "      <td>10:17:00</td>\n",
       "      <td>https://timesofindia.indiatimes.com/home/educa...</td>\n",
       "      <td>0</td>\n",
       "      <td>24.37</td>\n",
       "    </tr>\n",
       "    <tr>\n",
       "      <th>26</th>\n",
       "      <td>Time of India</td>\n",
       "      <td>Bihar Forest Police admit card released @ csbc...</td>\n",
       "      <td>2019-05-25</td>\n",
       "      <td>09:49:00</td>\n",
       "      <td>https://timesofindia.indiatimes.com/home/educa...</td>\n",
       "      <td>11</td>\n",
       "      <td>23.32</td>\n",
       "    </tr>\n",
       "    <tr>\n",
       "      <th>27</th>\n",
       "      <td>Time of India</td>\n",
       "      <td>GSEB 12th Result 2019: Gujarat board HSC Arts ...</td>\n",
       "      <td>2019-05-25</td>\n",
       "      <td>09:16:00</td>\n",
       "      <td>https://timesofindia.indiatimes.com/home/educa...</td>\n",
       "      <td>1</td>\n",
       "      <td>24.11</td>\n",
       "    </tr>\n",
       "    <tr>\n",
       "      <th>28</th>\n",
       "      <td>Time of India</td>\n",
       "      <td>Assam HS final result 2019 announced at ahsec....</td>\n",
       "      <td>2019-05-25</td>\n",
       "      <td>09:14:00</td>\n",
       "      <td>https://timesofindia.indiatimes.com/home/educa...</td>\n",
       "      <td>7</td>\n",
       "      <td>24.57</td>\n",
       "    </tr>\n",
       "    <tr>\n",
       "      <th>29</th>\n",
       "      <td>Time of India</td>\n",
       "      <td>KCET 2019 results released; Jeffin Biju tops i...</td>\n",
       "      <td>2019-05-25</td>\n",
       "      <td>13:37:00</td>\n",
       "      <td>https://timesofindia.indiatimes.com/home/educa...</td>\n",
       "      <td>2</td>\n",
       "      <td>24.04</td>\n",
       "    </tr>\n",
       "  </tbody>\n",
       "</table>\n",
       "</div>"
      ],
      "text/plain": [
       "           Newspaper                                            Heading  \\\n",
       "0   Hindiustan Times  Karnataka Common Entrance Test  (KCET)2019 Res...   \n",
       "1   Hindiustan Times  Schools can run extra classes for class 10th, ...   \n",
       "2   Hindiustan Times  Assam AHSEC 12th result 2019 declared, check m...   \n",
       "3   Hindiustan Times  Gujarat GSEB 12th result 2019 declared, check ...   \n",
       "4   Hindiustan Times  Assam board HS Result 2019 today: List of webs...   \n",
       "5   Hindiustan Times  Assam HS Result 2019 LIVE updates: AHSEC 12th ...   \n",
       "6   Hindiustan Times  Gujarat GSEB 12th HSC result declared 2019 liv...   \n",
       "7   Hindiustan Times  Gujarat GSEB 12th HSC general result 2019 to b...   \n",
       "8   Hindiustan Times  Assam 12th result 2019 today, here’s how to ch...   \n",
       "9   Hindiustan Times  GSEB HSC Result: Gujarat Board 12th arts and c...   \n",
       "10    Indian Express  Uttarakhand Board UBSE Class 10th, 12th result...   \n",
       "11    Indian Express  JEE Advanced 2019: Follow these last minute ti...   \n",
       "12    Indian Express  GSEB 12th Arts, Commerce Result 2019 declared ...   \n",
       "13    Indian Express  AHSEC Assam Board HS 12th Result 2019 declared...   \n",
       "14    Indian Express  Veer Bahadur Singh Purvanchal University admis...   \n",
       "15    Indian Express  IIITM-K admissions 2019: Applications availabl...   \n",
       "16     Time of India  SSC CPO 2019 result for Paper I declared; chec...   \n",
       "17     Time of India  GSHSEB result 2019: 79 schools score less than...   \n",
       "18     Time of India  Dr. Bhim Rao Ambedkar University 2018-19 resul...   \n",
       "19     Time of India  AIIMS UG 2019 Day 1 test concludes; know how m...   \n",
       "20     Time of India  Mop-up round for PG medical admissions: Around...   \n",
       "21     Time of India         Aligarh MP elect demands resignation of VC   \n",
       "22     Time of India  Karnataka CET 2019 results declared; Bengaluru...   \n",
       "23     Time of India  KCET 2019 results released; Jeffin Biju tops i...   \n",
       "24     Time of India  Karnataka CET results 2019 declared; online li...   \n",
       "25     Time of India  Assam Board class 12th results released @ahsec...   \n",
       "26     Time of India  Bihar Forest Police admit card released @ csbc...   \n",
       "27     Time of India  GSEB 12th Result 2019: Gujarat board HSC Arts ...   \n",
       "28     Time of India  Assam HS final result 2019 announced at ahsec....   \n",
       "29     Time of India  KCET 2019 results released; Jeffin Biju tops i...   \n",
       "\n",
       "          Date        Time                                                URL  \\\n",
       "0   2019-05-25    13:33:00  https://www.hindustantimes.com/education/karna...   \n",
       "1   2019-05-25    10:45:00  https://www.hindustantimes.com/education/schoo...   \n",
       "2   2019-05-25    09:06:00  https://www.hindustantimes.com/education/assam...   \n",
       "3   2019-05-25    09:32:00  https://www.hindustantimes.com/education/gujar...   \n",
       "4   2019-05-25    10:14:00  https://www.hindustantimes.com/education/assam...   \n",
       "5   2019-05-25    09:51:00  https://www.hindustantimes.com/education/assam...   \n",
       "6   2019-05-25    12:36:00  https://www.hindustantimes.com/education/gujar...   \n",
       "7   2019-05-25    07:54:00  https://www.hindustantimes.com/education/gujar...   \n",
       "8   2019-05-25    07:09:00  https://www.hindustantimes.com/education/assam...   \n",
       "9   2019-05-25    07:53:00  https://www.hindustantimes.com/education/gseb-...   \n",
       "10  2019-05-25  5:58:55 pm  https://indianexpress.com/article/education/ut...   \n",
       "11  2019-05-25  5:30:32 pm  https://indianexpress.com/article/education/je...   \n",
       "12  2019-05-25  5:06:33 pm  https://indianexpress.com/article/education/gs...   \n",
       "13  2019-05-25  5:03:52 pm  https://indianexpress.com/article/education/as...   \n",
       "14  2019-05-25  4:51:42 pm  https://indianexpress.com/article/education/ve...   \n",
       "15  2019-05-25  2:36:39 pm  https://indianexpress.com/article/education/ii...   \n",
       "16  2019-05-25    22:19:00  https://timesofindia.indiatimes.com/home/educa...   \n",
       "17  2019-05-25    21:40:00  https://timesofindia.indiatimes.com/home/educa...   \n",
       "18  2019-05-25    20:35:00  https://timesofindia.indiatimes.com/home/educa...   \n",
       "19  2019-05-25    18:41:00  https://timesofindia.indiatimes.com/home/educa...   \n",
       "20  2019-05-25    15:41:00  https://timesofindia.indiatimes.com/home/educa...   \n",
       "21  2019-05-25    14:10:00  https://timesofindia.indiatimes.com/home/educa...   \n",
       "22  2019-05-25    14:00:00  https://timesofindia.indiatimes.com/home/educa...   \n",
       "23  2019-05-25    13:37:00  https://timesofindia.indiatimes.com/home/educa...   \n",
       "24  2019-05-25    13:33:00  https://timesofindia.indiatimes.com/home/educa...   \n",
       "25  2019-05-25    10:17:00  https://timesofindia.indiatimes.com/home/educa...   \n",
       "26  2019-05-25    09:49:00  https://timesofindia.indiatimes.com/home/educa...   \n",
       "27  2019-05-25    09:16:00  https://timesofindia.indiatimes.com/home/educa...   \n",
       "28  2019-05-25    09:14:00  https://timesofindia.indiatimes.com/home/educa...   \n",
       "29  2019-05-25    13:37:00  https://timesofindia.indiatimes.com/home/educa...   \n",
       "\n",
       "    Cluster  sqddist  \n",
       "0         2    24.46  \n",
       "1         3    24.19  \n",
       "2         7    23.93  \n",
       "3         8    23.97  \n",
       "4         0    24.42  \n",
       "5         7    24.17  \n",
       "6         8    24.10  \n",
       "7         8    24.09  \n",
       "8         0    24.53  \n",
       "9         1    24.22  \n",
       "10        3    24.04  \n",
       "11       12    23.34  \n",
       "12        1    24.25  \n",
       "13        7    24.21  \n",
       "14        5    24.14  \n",
       "15        5    24.26  \n",
       "16       10    23.11  \n",
       "17        1    24.51  \n",
       "18        6    23.16  \n",
       "19       13    23.31  \n",
       "20        9    23.38  \n",
       "21        4    23.43  \n",
       "22       14    23.83  \n",
       "23        2    24.04  \n",
       "24       14    23.72  \n",
       "25        0    24.37  \n",
       "26       11    23.32  \n",
       "27        1    24.11  \n",
       "28        7    24.57  \n",
       "29        2    24.04  "
      ]
     },
     "execution_count": 57,
     "metadata": {},
     "output_type": "execute_result"
    }
   ],
   "source": [
    "df_less"
   ]
  },
  {
   "cell_type": "code",
   "execution_count": 58,
   "metadata": {},
   "outputs": [],
   "source": [
    "Result = df_less.sort_values('Cluster').groupby(['Cluster'],as_index=False).apply(lambda x: x.sample(1)) ## picking 1 out of each cluster having mean+std/2 < centroid \n"
   ]
  },
  {
   "cell_type": "code",
   "execution_count": 59,
   "metadata": {},
   "outputs": [],
   "source": [
    "Result = Result.reset_index().drop(['level_0','level_1'],axis=1)"
   ]
  },
  {
   "cell_type": "code",
   "execution_count": 60,
   "metadata": {},
   "outputs": [
    {
     "data": {
      "text/html": [
       "<div>\n",
       "<style scoped>\n",
       "    .dataframe tbody tr th:only-of-type {\n",
       "        vertical-align: middle;\n",
       "    }\n",
       "\n",
       "    .dataframe tbody tr th {\n",
       "        vertical-align: top;\n",
       "    }\n",
       "\n",
       "    .dataframe thead th {\n",
       "        text-align: right;\n",
       "    }\n",
       "</style>\n",
       "<table border=\"1\" class=\"dataframe\">\n",
       "  <thead>\n",
       "    <tr style=\"text-align: right;\">\n",
       "      <th></th>\n",
       "      <th>Newspaper</th>\n",
       "      <th>Heading</th>\n",
       "      <th>Date</th>\n",
       "      <th>Time</th>\n",
       "      <th>URL</th>\n",
       "      <th>Cluster</th>\n",
       "      <th>sqddist</th>\n",
       "    </tr>\n",
       "  </thead>\n",
       "  <tbody>\n",
       "    <tr>\n",
       "      <th>0</th>\n",
       "      <td>Hindiustan Times</td>\n",
       "      <td>Assam board HS Result 2019 today: List of webs...</td>\n",
       "      <td>2019-05-25</td>\n",
       "      <td>10:14:00</td>\n",
       "      <td>https://www.hindustantimes.com/education/assam...</td>\n",
       "      <td>0</td>\n",
       "      <td>24.42</td>\n",
       "    </tr>\n",
       "    <tr>\n",
       "      <th>1</th>\n",
       "      <td>Time of India</td>\n",
       "      <td>GSEB 12th Result 2019: Gujarat board HSC Arts ...</td>\n",
       "      <td>2019-05-25</td>\n",
       "      <td>09:16:00</td>\n",
       "      <td>https://timesofindia.indiatimes.com/home/educa...</td>\n",
       "      <td>1</td>\n",
       "      <td>24.11</td>\n",
       "    </tr>\n",
       "    <tr>\n",
       "      <th>2</th>\n",
       "      <td>Time of India</td>\n",
       "      <td>KCET 2019 results released; Jeffin Biju tops i...</td>\n",
       "      <td>2019-05-25</td>\n",
       "      <td>13:37:00</td>\n",
       "      <td>https://timesofindia.indiatimes.com/home/educa...</td>\n",
       "      <td>2</td>\n",
       "      <td>24.04</td>\n",
       "    </tr>\n",
       "    <tr>\n",
       "      <th>3</th>\n",
       "      <td>Indian Express</td>\n",
       "      <td>Uttarakhand Board UBSE Class 10th, 12th result...</td>\n",
       "      <td>2019-05-25</td>\n",
       "      <td>5:58:55 pm</td>\n",
       "      <td>https://indianexpress.com/article/education/ut...</td>\n",
       "      <td>3</td>\n",
       "      <td>24.04</td>\n",
       "    </tr>\n",
       "    <tr>\n",
       "      <th>4</th>\n",
       "      <td>Time of India</td>\n",
       "      <td>Aligarh MP elect demands resignation of VC</td>\n",
       "      <td>2019-05-25</td>\n",
       "      <td>14:10:00</td>\n",
       "      <td>https://timesofindia.indiatimes.com/home/educa...</td>\n",
       "      <td>4</td>\n",
       "      <td>23.43</td>\n",
       "    </tr>\n",
       "    <tr>\n",
       "      <th>5</th>\n",
       "      <td>Indian Express</td>\n",
       "      <td>IIITM-K admissions 2019: Applications availabl...</td>\n",
       "      <td>2019-05-25</td>\n",
       "      <td>2:36:39 pm</td>\n",
       "      <td>https://indianexpress.com/article/education/ii...</td>\n",
       "      <td>5</td>\n",
       "      <td>24.26</td>\n",
       "    </tr>\n",
       "    <tr>\n",
       "      <th>6</th>\n",
       "      <td>Time of India</td>\n",
       "      <td>Dr. Bhim Rao Ambedkar University 2018-19 resul...</td>\n",
       "      <td>2019-05-25</td>\n",
       "      <td>20:35:00</td>\n",
       "      <td>https://timesofindia.indiatimes.com/home/educa...</td>\n",
       "      <td>6</td>\n",
       "      <td>23.16</td>\n",
       "    </tr>\n",
       "    <tr>\n",
       "      <th>7</th>\n",
       "      <td>Indian Express</td>\n",
       "      <td>AHSEC Assam Board HS 12th Result 2019 declared...</td>\n",
       "      <td>2019-05-25</td>\n",
       "      <td>5:03:52 pm</td>\n",
       "      <td>https://indianexpress.com/article/education/as...</td>\n",
       "      <td>7</td>\n",
       "      <td>24.21</td>\n",
       "    </tr>\n",
       "    <tr>\n",
       "      <th>8</th>\n",
       "      <td>Hindiustan Times</td>\n",
       "      <td>Gujarat GSEB 12th HSC result declared 2019 liv...</td>\n",
       "      <td>2019-05-25</td>\n",
       "      <td>12:36:00</td>\n",
       "      <td>https://www.hindustantimes.com/education/gujar...</td>\n",
       "      <td>8</td>\n",
       "      <td>24.10</td>\n",
       "    </tr>\n",
       "    <tr>\n",
       "      <th>9</th>\n",
       "      <td>Time of India</td>\n",
       "      <td>Mop-up round for PG medical admissions: Around...</td>\n",
       "      <td>2019-05-25</td>\n",
       "      <td>15:41:00</td>\n",
       "      <td>https://timesofindia.indiatimes.com/home/educa...</td>\n",
       "      <td>9</td>\n",
       "      <td>23.38</td>\n",
       "    </tr>\n",
       "    <tr>\n",
       "      <th>10</th>\n",
       "      <td>Time of India</td>\n",
       "      <td>SSC CPO 2019 result for Paper I declared; chec...</td>\n",
       "      <td>2019-05-25</td>\n",
       "      <td>22:19:00</td>\n",
       "      <td>https://timesofindia.indiatimes.com/home/educa...</td>\n",
       "      <td>10</td>\n",
       "      <td>23.11</td>\n",
       "    </tr>\n",
       "    <tr>\n",
       "      <th>11</th>\n",
       "      <td>Time of India</td>\n",
       "      <td>Bihar Forest Police admit card released @ csbc...</td>\n",
       "      <td>2019-05-25</td>\n",
       "      <td>09:49:00</td>\n",
       "      <td>https://timesofindia.indiatimes.com/home/educa...</td>\n",
       "      <td>11</td>\n",
       "      <td>23.32</td>\n",
       "    </tr>\n",
       "    <tr>\n",
       "      <th>12</th>\n",
       "      <td>Indian Express</td>\n",
       "      <td>JEE Advanced 2019: Follow these last minute ti...</td>\n",
       "      <td>2019-05-25</td>\n",
       "      <td>5:30:32 pm</td>\n",
       "      <td>https://indianexpress.com/article/education/je...</td>\n",
       "      <td>12</td>\n",
       "      <td>23.34</td>\n",
       "    </tr>\n",
       "    <tr>\n",
       "      <th>13</th>\n",
       "      <td>Time of India</td>\n",
       "      <td>AIIMS UG 2019 Day 1 test concludes; know how m...</td>\n",
       "      <td>2019-05-25</td>\n",
       "      <td>18:41:00</td>\n",
       "      <td>https://timesofindia.indiatimes.com/home/educa...</td>\n",
       "      <td>13</td>\n",
       "      <td>23.31</td>\n",
       "    </tr>\n",
       "    <tr>\n",
       "      <th>14</th>\n",
       "      <td>Time of India</td>\n",
       "      <td>Karnataka CET results 2019 declared; online li...</td>\n",
       "      <td>2019-05-25</td>\n",
       "      <td>13:33:00</td>\n",
       "      <td>https://timesofindia.indiatimes.com/home/educa...</td>\n",
       "      <td>14</td>\n",
       "      <td>23.72</td>\n",
       "    </tr>\n",
       "  </tbody>\n",
       "</table>\n",
       "</div>"
      ],
      "text/plain": [
       "           Newspaper                                            Heading  \\\n",
       "0   Hindiustan Times  Assam board HS Result 2019 today: List of webs...   \n",
       "1      Time of India  GSEB 12th Result 2019: Gujarat board HSC Arts ...   \n",
       "2      Time of India  KCET 2019 results released; Jeffin Biju tops i...   \n",
       "3     Indian Express  Uttarakhand Board UBSE Class 10th, 12th result...   \n",
       "4      Time of India         Aligarh MP elect demands resignation of VC   \n",
       "5     Indian Express  IIITM-K admissions 2019: Applications availabl...   \n",
       "6      Time of India  Dr. Bhim Rao Ambedkar University 2018-19 resul...   \n",
       "7     Indian Express  AHSEC Assam Board HS 12th Result 2019 declared...   \n",
       "8   Hindiustan Times  Gujarat GSEB 12th HSC result declared 2019 liv...   \n",
       "9      Time of India  Mop-up round for PG medical admissions: Around...   \n",
       "10     Time of India  SSC CPO 2019 result for Paper I declared; chec...   \n",
       "11     Time of India  Bihar Forest Police admit card released @ csbc...   \n",
       "12    Indian Express  JEE Advanced 2019: Follow these last minute ti...   \n",
       "13     Time of India  AIIMS UG 2019 Day 1 test concludes; know how m...   \n",
       "14     Time of India  Karnataka CET results 2019 declared; online li...   \n",
       "\n",
       "          Date        Time                                                URL  \\\n",
       "0   2019-05-25    10:14:00  https://www.hindustantimes.com/education/assam...   \n",
       "1   2019-05-25    09:16:00  https://timesofindia.indiatimes.com/home/educa...   \n",
       "2   2019-05-25    13:37:00  https://timesofindia.indiatimes.com/home/educa...   \n",
       "3   2019-05-25  5:58:55 pm  https://indianexpress.com/article/education/ut...   \n",
       "4   2019-05-25    14:10:00  https://timesofindia.indiatimes.com/home/educa...   \n",
       "5   2019-05-25  2:36:39 pm  https://indianexpress.com/article/education/ii...   \n",
       "6   2019-05-25    20:35:00  https://timesofindia.indiatimes.com/home/educa...   \n",
       "7   2019-05-25  5:03:52 pm  https://indianexpress.com/article/education/as...   \n",
       "8   2019-05-25    12:36:00  https://www.hindustantimes.com/education/gujar...   \n",
       "9   2019-05-25    15:41:00  https://timesofindia.indiatimes.com/home/educa...   \n",
       "10  2019-05-25    22:19:00  https://timesofindia.indiatimes.com/home/educa...   \n",
       "11  2019-05-25    09:49:00  https://timesofindia.indiatimes.com/home/educa...   \n",
       "12  2019-05-25  5:30:32 pm  https://indianexpress.com/article/education/je...   \n",
       "13  2019-05-25    18:41:00  https://timesofindia.indiatimes.com/home/educa...   \n",
       "14  2019-05-25    13:33:00  https://timesofindia.indiatimes.com/home/educa...   \n",
       "\n",
       "    Cluster  sqddist  \n",
       "0         0    24.42  \n",
       "1         1    24.11  \n",
       "2         2    24.04  \n",
       "3         3    24.04  \n",
       "4         4    23.43  \n",
       "5         5    24.26  \n",
       "6         6    23.16  \n",
       "7         7    24.21  \n",
       "8         8    24.10  \n",
       "9         9    23.38  \n",
       "10       10    23.11  \n",
       "11       11    23.32  \n",
       "12       12    23.34  \n",
       "13       13    23.31  \n",
       "14       14    23.72  "
      ]
     },
     "execution_count": 60,
     "metadata": {},
     "output_type": "execute_result"
    }
   ],
   "source": [
    "Result"
   ]
  },
  {
   "cell_type": "code",
   "execution_count": 61,
   "metadata": {},
   "outputs": [],
   "source": [
    "df_more = df[df['sqddist']>df['sqddist'].mean()+df['sqddist'].std()] "
   ]
  },
  {
   "cell_type": "code",
   "execution_count": null,
   "metadata": {},
   "outputs": [],
   "source": []
  },
  {
   "cell_type": "code",
   "execution_count": 62,
   "metadata": {},
   "outputs": [],
   "source": [
    "Result = Result.append(df_more)"
   ]
  },
  {
   "cell_type": "code",
   "execution_count": 63,
   "metadata": {},
   "outputs": [],
   "source": [
    "Result=Result.reset_index().drop(['index'],axis=1)"
   ]
  },
  {
   "cell_type": "code",
   "execution_count": 66,
   "metadata": {},
   "outputs": [
    {
     "data": {
      "text/html": [
       "<div>\n",
       "<style scoped>\n",
       "    .dataframe tbody tr th:only-of-type {\n",
       "        vertical-align: middle;\n",
       "    }\n",
       "\n",
       "    .dataframe tbody tr th {\n",
       "        vertical-align: top;\n",
       "    }\n",
       "\n",
       "    .dataframe thead th {\n",
       "        text-align: right;\n",
       "    }\n",
       "</style>\n",
       "<table border=\"1\" class=\"dataframe\">\n",
       "  <thead>\n",
       "    <tr style=\"text-align: right;\">\n",
       "      <th></th>\n",
       "      <th>Newspaper</th>\n",
       "      <th>Heading</th>\n",
       "      <th>Date</th>\n",
       "      <th>Time</th>\n",
       "      <th>URL</th>\n",
       "      <th>Cluster</th>\n",
       "      <th>sqddist</th>\n",
       "    </tr>\n",
       "  </thead>\n",
       "  <tbody>\n",
       "    <tr>\n",
       "      <th>0</th>\n",
       "      <td>Hindiustan Times</td>\n",
       "      <td>Assam board HS Result 2019 today: List of webs...</td>\n",
       "      <td>2019-05-25</td>\n",
       "      <td>10:14:00</td>\n",
       "      <td>https://www.hindustantimes.com/education/assam...</td>\n",
       "      <td>0</td>\n",
       "      <td>24.42</td>\n",
       "    </tr>\n",
       "    <tr>\n",
       "      <th>1</th>\n",
       "      <td>Time of India</td>\n",
       "      <td>GSEB 12th Result 2019: Gujarat board HSC Arts ...</td>\n",
       "      <td>2019-05-25</td>\n",
       "      <td>09:16:00</td>\n",
       "      <td>https://timesofindia.indiatimes.com/home/educa...</td>\n",
       "      <td>1</td>\n",
       "      <td>24.11</td>\n",
       "    </tr>\n",
       "    <tr>\n",
       "      <th>2</th>\n",
       "      <td>Time of India</td>\n",
       "      <td>KCET 2019 results released; Jeffin Biju tops i...</td>\n",
       "      <td>2019-05-25</td>\n",
       "      <td>13:37:00</td>\n",
       "      <td>https://timesofindia.indiatimes.com/home/educa...</td>\n",
       "      <td>2</td>\n",
       "      <td>24.04</td>\n",
       "    </tr>\n",
       "    <tr>\n",
       "      <th>3</th>\n",
       "      <td>Indian Express</td>\n",
       "      <td>Uttarakhand Board UBSE Class 10th, 12th result...</td>\n",
       "      <td>2019-05-25</td>\n",
       "      <td>5:58:55 pm</td>\n",
       "      <td>https://indianexpress.com/article/education/ut...</td>\n",
       "      <td>3</td>\n",
       "      <td>24.04</td>\n",
       "    </tr>\n",
       "    <tr>\n",
       "      <th>4</th>\n",
       "      <td>Time of India</td>\n",
       "      <td>Aligarh MP elect demands resignation of VC</td>\n",
       "      <td>2019-05-25</td>\n",
       "      <td>14:10:00</td>\n",
       "      <td>https://timesofindia.indiatimes.com/home/educa...</td>\n",
       "      <td>4</td>\n",
       "      <td>23.43</td>\n",
       "    </tr>\n",
       "    <tr>\n",
       "      <th>5</th>\n",
       "      <td>Indian Express</td>\n",
       "      <td>IIITM-K admissions 2019: Applications availabl...</td>\n",
       "      <td>2019-05-25</td>\n",
       "      <td>2:36:39 pm</td>\n",
       "      <td>https://indianexpress.com/article/education/ii...</td>\n",
       "      <td>5</td>\n",
       "      <td>24.26</td>\n",
       "    </tr>\n",
       "    <tr>\n",
       "      <th>6</th>\n",
       "      <td>Time of India</td>\n",
       "      <td>Dr. Bhim Rao Ambedkar University 2018-19 resul...</td>\n",
       "      <td>2019-05-25</td>\n",
       "      <td>20:35:00</td>\n",
       "      <td>https://timesofindia.indiatimes.com/home/educa...</td>\n",
       "      <td>6</td>\n",
       "      <td>23.16</td>\n",
       "    </tr>\n",
       "    <tr>\n",
       "      <th>7</th>\n",
       "      <td>Indian Express</td>\n",
       "      <td>AHSEC Assam Board HS 12th Result 2019 declared...</td>\n",
       "      <td>2019-05-25</td>\n",
       "      <td>5:03:52 pm</td>\n",
       "      <td>https://indianexpress.com/article/education/as...</td>\n",
       "      <td>7</td>\n",
       "      <td>24.21</td>\n",
       "    </tr>\n",
       "    <tr>\n",
       "      <th>8</th>\n",
       "      <td>Hindiustan Times</td>\n",
       "      <td>Gujarat GSEB 12th HSC result declared 2019 liv...</td>\n",
       "      <td>2019-05-25</td>\n",
       "      <td>12:36:00</td>\n",
       "      <td>https://www.hindustantimes.com/education/gujar...</td>\n",
       "      <td>8</td>\n",
       "      <td>24.10</td>\n",
       "    </tr>\n",
       "    <tr>\n",
       "      <th>9</th>\n",
       "      <td>Time of India</td>\n",
       "      <td>Mop-up round for PG medical admissions: Around...</td>\n",
       "      <td>2019-05-25</td>\n",
       "      <td>15:41:00</td>\n",
       "      <td>https://timesofindia.indiatimes.com/home/educa...</td>\n",
       "      <td>9</td>\n",
       "      <td>23.38</td>\n",
       "    </tr>\n",
       "    <tr>\n",
       "      <th>10</th>\n",
       "      <td>Time of India</td>\n",
       "      <td>SSC CPO 2019 result for Paper I declared; chec...</td>\n",
       "      <td>2019-05-25</td>\n",
       "      <td>22:19:00</td>\n",
       "      <td>https://timesofindia.indiatimes.com/home/educa...</td>\n",
       "      <td>10</td>\n",
       "      <td>23.11</td>\n",
       "    </tr>\n",
       "    <tr>\n",
       "      <th>11</th>\n",
       "      <td>Time of India</td>\n",
       "      <td>Bihar Forest Police admit card released @ csbc...</td>\n",
       "      <td>2019-05-25</td>\n",
       "      <td>09:49:00</td>\n",
       "      <td>https://timesofindia.indiatimes.com/home/educa...</td>\n",
       "      <td>11</td>\n",
       "      <td>23.32</td>\n",
       "    </tr>\n",
       "    <tr>\n",
       "      <th>12</th>\n",
       "      <td>Indian Express</td>\n",
       "      <td>JEE Advanced 2019: Follow these last minute ti...</td>\n",
       "      <td>2019-05-25</td>\n",
       "      <td>5:30:32 pm</td>\n",
       "      <td>https://indianexpress.com/article/education/je...</td>\n",
       "      <td>12</td>\n",
       "      <td>23.34</td>\n",
       "    </tr>\n",
       "    <tr>\n",
       "      <th>13</th>\n",
       "      <td>Time of India</td>\n",
       "      <td>AIIMS UG 2019 Day 1 test concludes; know how m...</td>\n",
       "      <td>2019-05-25</td>\n",
       "      <td>18:41:00</td>\n",
       "      <td>https://timesofindia.indiatimes.com/home/educa...</td>\n",
       "      <td>13</td>\n",
       "      <td>23.31</td>\n",
       "    </tr>\n",
       "    <tr>\n",
       "      <th>14</th>\n",
       "      <td>Time of India</td>\n",
       "      <td>Karnataka CET results 2019 declared; online li...</td>\n",
       "      <td>2019-05-25</td>\n",
       "      <td>13:33:00</td>\n",
       "      <td>https://timesofindia.indiatimes.com/home/educa...</td>\n",
       "      <td>14</td>\n",
       "      <td>23.72</td>\n",
       "    </tr>\n",
       "    <tr>\n",
       "      <th>15</th>\n",
       "      <td>Indian Express</td>\n",
       "      <td>KCET Results 2019 @kea.kar.nic.in HIGHLIGHTS: ...</td>\n",
       "      <td>2019-05-25</td>\n",
       "      <td>5:05:16 pm</td>\n",
       "      <td>https://indianexpress.com/article/education/kc...</td>\n",
       "      <td>2</td>\n",
       "      <td>24.70</td>\n",
       "    </tr>\n",
       "    <tr>\n",
       "      <th>16</th>\n",
       "      <td>Indian Express</td>\n",
       "      <td>Allahabad University releases B.Com part I and...</td>\n",
       "      <td>2019-05-25</td>\n",
       "      <td>3:37:48 pm</td>\n",
       "      <td>https://indianexpress.com/article/education/al...</td>\n",
       "      <td>0</td>\n",
       "      <td>24.75</td>\n",
       "    </tr>\n",
       "    <tr>\n",
       "      <th>17</th>\n",
       "      <td>Indian Express</td>\n",
       "      <td>Athlete Hima Das secures first division in Ass...</td>\n",
       "      <td>2019-05-25</td>\n",
       "      <td>2:20:56 pm</td>\n",
       "      <td>https://indianexpress.com/article/education/at...</td>\n",
       "      <td>0</td>\n",
       "      <td>24.96</td>\n",
       "    </tr>\n",
       "    <tr>\n",
       "      <th>18</th>\n",
       "      <td>Time of India</td>\n",
       "      <td>Early results for final year MU TY BCom studen...</td>\n",
       "      <td>2019-05-25</td>\n",
       "      <td>14:16:00</td>\n",
       "      <td>https://timesofindia.indiatimes.com/home/educa...</td>\n",
       "      <td>0</td>\n",
       "      <td>24.98</td>\n",
       "    </tr>\n",
       "    <tr>\n",
       "      <th>19</th>\n",
       "      <td>Time of India</td>\n",
       "      <td>Gujarat HSC result 2019: 73.27% Students clear...</td>\n",
       "      <td>2019-05-25</td>\n",
       "      <td>09:23:00</td>\n",
       "      <td>https://timesofindia.indiatimes.com/home/educa...</td>\n",
       "      <td>8</td>\n",
       "      <td>24.65</td>\n",
       "    </tr>\n",
       "  </tbody>\n",
       "</table>\n",
       "</div>"
      ],
      "text/plain": [
       "           Newspaper                                            Heading  \\\n",
       "0   Hindiustan Times  Assam board HS Result 2019 today: List of webs...   \n",
       "1      Time of India  GSEB 12th Result 2019: Gujarat board HSC Arts ...   \n",
       "2      Time of India  KCET 2019 results released; Jeffin Biju tops i...   \n",
       "3     Indian Express  Uttarakhand Board UBSE Class 10th, 12th result...   \n",
       "4      Time of India         Aligarh MP elect demands resignation of VC   \n",
       "5     Indian Express  IIITM-K admissions 2019: Applications availabl...   \n",
       "6      Time of India  Dr. Bhim Rao Ambedkar University 2018-19 resul...   \n",
       "7     Indian Express  AHSEC Assam Board HS 12th Result 2019 declared...   \n",
       "8   Hindiustan Times  Gujarat GSEB 12th HSC result declared 2019 liv...   \n",
       "9      Time of India  Mop-up round for PG medical admissions: Around...   \n",
       "10     Time of India  SSC CPO 2019 result for Paper I declared; chec...   \n",
       "11     Time of India  Bihar Forest Police admit card released @ csbc...   \n",
       "12    Indian Express  JEE Advanced 2019: Follow these last minute ti...   \n",
       "13     Time of India  AIIMS UG 2019 Day 1 test concludes; know how m...   \n",
       "14     Time of India  Karnataka CET results 2019 declared; online li...   \n",
       "15    Indian Express  KCET Results 2019 @kea.kar.nic.in HIGHLIGHTS: ...   \n",
       "16    Indian Express  Allahabad University releases B.Com part I and...   \n",
       "17    Indian Express  Athlete Hima Das secures first division in Ass...   \n",
       "18     Time of India  Early results for final year MU TY BCom studen...   \n",
       "19     Time of India  Gujarat HSC result 2019: 73.27% Students clear...   \n",
       "\n",
       "          Date        Time                                                URL  \\\n",
       "0   2019-05-25    10:14:00  https://www.hindustantimes.com/education/assam...   \n",
       "1   2019-05-25    09:16:00  https://timesofindia.indiatimes.com/home/educa...   \n",
       "2   2019-05-25    13:37:00  https://timesofindia.indiatimes.com/home/educa...   \n",
       "3   2019-05-25  5:58:55 pm  https://indianexpress.com/article/education/ut...   \n",
       "4   2019-05-25    14:10:00  https://timesofindia.indiatimes.com/home/educa...   \n",
       "5   2019-05-25  2:36:39 pm  https://indianexpress.com/article/education/ii...   \n",
       "6   2019-05-25    20:35:00  https://timesofindia.indiatimes.com/home/educa...   \n",
       "7   2019-05-25  5:03:52 pm  https://indianexpress.com/article/education/as...   \n",
       "8   2019-05-25    12:36:00  https://www.hindustantimes.com/education/gujar...   \n",
       "9   2019-05-25    15:41:00  https://timesofindia.indiatimes.com/home/educa...   \n",
       "10  2019-05-25    22:19:00  https://timesofindia.indiatimes.com/home/educa...   \n",
       "11  2019-05-25    09:49:00  https://timesofindia.indiatimes.com/home/educa...   \n",
       "12  2019-05-25  5:30:32 pm  https://indianexpress.com/article/education/je...   \n",
       "13  2019-05-25    18:41:00  https://timesofindia.indiatimes.com/home/educa...   \n",
       "14  2019-05-25    13:33:00  https://timesofindia.indiatimes.com/home/educa...   \n",
       "15  2019-05-25  5:05:16 pm  https://indianexpress.com/article/education/kc...   \n",
       "16  2019-05-25  3:37:48 pm  https://indianexpress.com/article/education/al...   \n",
       "17  2019-05-25  2:20:56 pm  https://indianexpress.com/article/education/at...   \n",
       "18  2019-05-25    14:16:00  https://timesofindia.indiatimes.com/home/educa...   \n",
       "19  2019-05-25    09:23:00  https://timesofindia.indiatimes.com/home/educa...   \n",
       "\n",
       "    Cluster  sqddist  \n",
       "0         0    24.42  \n",
       "1         1    24.11  \n",
       "2         2    24.04  \n",
       "3         3    24.04  \n",
       "4         4    23.43  \n",
       "5         5    24.26  \n",
       "6         6    23.16  \n",
       "7         7    24.21  \n",
       "8         8    24.10  \n",
       "9         9    23.38  \n",
       "10       10    23.11  \n",
       "11       11    23.32  \n",
       "12       12    23.34  \n",
       "13       13    23.31  \n",
       "14       14    23.72  \n",
       "15        2    24.70  \n",
       "16        0    24.75  \n",
       "17        0    24.96  \n",
       "18        0    24.98  \n",
       "19        8    24.65  "
      ]
     },
     "execution_count": 66,
     "metadata": {},
     "output_type": "execute_result"
    }
   ],
   "source": [
    "Result"
   ]
  },
  {
   "cell_type": "code",
   "execution_count": 67,
   "metadata": {
    "scrolled": true
   },
   "outputs": [],
   "source": [
    "Final = Result.drop_duplicates()"
   ]
  },
  {
   "cell_type": "code",
   "execution_count": null,
   "metadata": {},
   "outputs": [],
   "source": []
  },
  {
   "cell_type": "code",
   "execution_count": null,
   "metadata": {},
   "outputs": [],
   "source": []
  }
 ],
 "metadata": {
  "kernelspec": {
   "display_name": "Python 3",
   "language": "python",
   "name": "python3"
  },
  "language_info": {
   "codemirror_mode": {
    "name": "ipython",
    "version": 3
   },
   "file_extension": ".py",
   "mimetype": "text/x-python",
   "name": "python",
   "nbconvert_exporter": "python",
   "pygments_lexer": "ipython3",
   "version": "3.6.5"
  }
 },
 "nbformat": 4,
 "nbformat_minor": 2
}

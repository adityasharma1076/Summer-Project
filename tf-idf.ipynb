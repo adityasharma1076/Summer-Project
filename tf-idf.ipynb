{
 "cells": [
  {
   "cell_type": "code",
   "execution_count": 1,
   "metadata": {},
   "outputs": [],
   "source": [
    "import pandas as pd\n",
    "import numpy as np"
   ]
  },
  {
   "cell_type": "code",
   "execution_count": 2,
   "metadata": {},
   "outputs": [],
   "source": [
    "education = pd.read_csv('combined_csv.csv')"
   ]
  },
  {
   "cell_type": "code",
   "execution_count": 6,
   "metadata": {},
   "outputs": [
    {
     "data": {
      "text/html": [
       "<div>\n",
       "<style scoped>\n",
       "    .dataframe tbody tr th:only-of-type {\n",
       "        vertical-align: middle;\n",
       "    }\n",
       "\n",
       "    .dataframe tbody tr th {\n",
       "        vertical-align: top;\n",
       "    }\n",
       "\n",
       "    .dataframe thead th {\n",
       "        text-align: right;\n",
       "    }\n",
       "</style>\n",
       "<table border=\"1\" class=\"dataframe\">\n",
       "  <thead>\n",
       "    <tr style=\"text-align: right;\">\n",
       "      <th></th>\n",
       "      <th>Newspaper</th>\n",
       "      <th>Heading</th>\n",
       "      <th>Date</th>\n",
       "      <th>Time</th>\n",
       "      <th>URL</th>\n",
       "    </tr>\n",
       "  </thead>\n",
       "  <tbody>\n",
       "    <tr>\n",
       "      <th>0</th>\n",
       "      <td>Hindiustan Times</td>\n",
       "      <td>KEAM Result 2019: Engineering, Pharmacy entran...</td>\n",
       "      <td>2019-05-22</td>\n",
       "      <td>12:53:00</td>\n",
       "      <td>https://www.hindustantimes.com/education/keam-...</td>\n",
       "    </tr>\n",
       "    <tr>\n",
       "      <th>1</th>\n",
       "      <td>Hindiustan Times</td>\n",
       "      <td>Rajasthan Board RBSE 12th arts result 2019 dec...</td>\n",
       "      <td>2019-05-22</td>\n",
       "      <td>15:19:00</td>\n",
       "      <td>https://www.hindustantimes.com/education/rajas...</td>\n",
       "    </tr>\n",
       "    <tr>\n",
       "      <th>2</th>\n",
       "      <td>Hindiustan Times</td>\n",
       "      <td>RBSE 12th arts result 2019 declared, check you...</td>\n",
       "      <td>2019-05-22</td>\n",
       "      <td>15:19:00</td>\n",
       "      <td>https://www.hindustantimes.com/education/rbse-...</td>\n",
       "    </tr>\n",
       "    <tr>\n",
       "      <th>3</th>\n",
       "      <td>Hindiustan Times</td>\n",
       "      <td>No taker, Bhagalpur varsity drops PG course in...</td>\n",
       "      <td>2019-05-22</td>\n",
       "      <td>18:14:00</td>\n",
       "      <td>https://www.hindustantimes.com/education/no-ta...</td>\n",
       "    </tr>\n",
       "    <tr>\n",
       "      <th>4</th>\n",
       "      <td>Hindiustan Times</td>\n",
       "      <td>NIOS D.El.Ed 4th Semester Result 2019 declared...</td>\n",
       "      <td>2019-05-22</td>\n",
       "      <td>17:33:00</td>\n",
       "      <td>https://www.hindustantimes.com/education/nios-...</td>\n",
       "    </tr>\n",
       "  </tbody>\n",
       "</table>\n",
       "</div>"
      ],
      "text/plain": [
       "          Newspaper                                            Heading  \\\n",
       "0  Hindiustan Times  KEAM Result 2019: Engineering, Pharmacy entran...   \n",
       "1  Hindiustan Times  Rajasthan Board RBSE 12th arts result 2019 dec...   \n",
       "2  Hindiustan Times  RBSE 12th arts result 2019 declared, check you...   \n",
       "3  Hindiustan Times  No taker, Bhagalpur varsity drops PG course in...   \n",
       "4  Hindiustan Times  NIOS D.El.Ed 4th Semester Result 2019 declared...   \n",
       "\n",
       "         Date      Time                                                URL  \n",
       "0  2019-05-22  12:53:00  https://www.hindustantimes.com/education/keam-...  \n",
       "1  2019-05-22  15:19:00  https://www.hindustantimes.com/education/rajas...  \n",
       "2  2019-05-22  15:19:00  https://www.hindustantimes.com/education/rbse-...  \n",
       "3  2019-05-22  18:14:00  https://www.hindustantimes.com/education/no-ta...  \n",
       "4  2019-05-22  17:33:00  https://www.hindustantimes.com/education/nios-...  "
      ]
     },
     "execution_count": 6,
     "metadata": {},
     "output_type": "execute_result"
    }
   ],
   "source": [
    "education.head()"
   ]
  },
  {
   "cell_type": "code",
   "execution_count": 60,
   "metadata": {},
   "outputs": [
    {
     "data": {
      "text/plain": [
       "'Rajasthan Board RBSE 12th arts result 2019 declared, here’s the direct link to check marks'"
      ]
     },
     "execution_count": 60,
     "metadata": {},
     "output_type": "execute_result"
    }
   ],
   "source": [
    "education['Heading'][1]"
   ]
  },
  {
   "cell_type": "code",
   "execution_count": 18,
   "metadata": {},
   "outputs": [],
   "source": [
    "df=education[education['Date']=='2019-05-22']"
   ]
  },
  {
   "cell_type": "code",
   "execution_count": 8,
   "metadata": {},
   "outputs": [],
   "source": [
    "from bs4 import BeautifulSoup\n",
    "import nltk\n",
    "from nltk.corpus import stopwords\n",
    "from sklearn.feature_extraction.text import TfidfVectorizer\n",
    "from sklearn.decomposition import TruncatedSVD"
   ]
  },
  {
   "cell_type": "code",
   "execution_count": 9,
   "metadata": {},
   "outputs": [
    {
     "name": "stdout",
     "output_type": "stream",
     "text": [
      "[nltk_data] Downloading package stopwords to\n",
      "[nltk_data]     C:\\Users\\drago\\AppData\\Roaming\\nltk_data...\n",
      "[nltk_data]   Unzipping corpora\\stopwords.zip.\n"
     ]
    },
    {
     "data": {
      "text/plain": [
       "True"
      ]
     },
     "execution_count": 9,
     "metadata": {},
     "output_type": "execute_result"
    }
   ],
   "source": [
    "nltk.download('stopwords')\n"
   ]
  },
  {
   "cell_type": "code",
   "execution_count": 10,
   "metadata": {},
   "outputs": [],
   "source": [
    "stopset = set(stopwords.words('english'))"
   ]
  },
  {
   "cell_type": "code",
   "execution_count": null,
   "metadata": {},
   "outputs": [],
   "source": [
    "vectorizer = TfidfVectorizer(stop_words=stopset,use_idf=True, ngram_range=(1, 3))\n",
    "X = vectorizer.fit_transform(corpus)"
   ]
  },
  {
   "cell_type": "code",
   "execution_count": 29,
   "metadata": {},
   "outputs": [],
   "source": [
    "#### Delete This\n",
    "#from sklearn.datasets import fetch_20newsgroups\n",
    "#categories = ['rec.sport.baseball']\n",
    "#dataset = fetch_20newsgroups(subset='all',shuffle=True, random_state=42, categories=categories)\n",
    "#corpus=dataset.data\n"
   ]
  },
  {
   "cell_type": "code",
   "execution_count": 27,
   "metadata": {},
   "outputs": [],
   "source": [
    "Heading = df['Heading']"
   ]
  },
  {
   "cell_type": "code",
   "execution_count": 30,
   "metadata": {},
   "outputs": [],
   "source": [
    "corpus=list(Heading)"
   ]
  },
  {
   "cell_type": "code",
   "execution_count": 31,
   "metadata": {},
   "outputs": [],
   "source": [
    "vectorizer = TfidfVectorizer(stop_words=stopset,use_idf=True, ngram_range=(1, 3))\n",
    "X = vectorizer.fit_transform(corpus)"
   ]
  },
  {
   "cell_type": "code",
   "execution_count": 38,
   "metadata": {},
   "outputs": [
    {
     "data": {
      "text/plain": [
       "(55, 857)"
      ]
     },
     "execution_count": 38,
     "metadata": {},
     "output_type": "execute_result"
    }
   ],
   "source": [
    "X.shape"
   ]
  },
  {
   "cell_type": "code",
   "execution_count": 36,
   "metadata": {},
   "outputs": [
    {
     "data": {
      "text/plain": [
       "<1x857 sparse matrix of type '<class 'numpy.float64'>'\n",
       "\twith 30 stored elements in Compressed Sparse Row format>"
      ]
     },
     "execution_count": 36,
     "metadata": {},
     "output_type": "execute_result"
    }
   ],
   "source": [
    "X[0]"
   ]
  },
  {
   "cell_type": "code",
   "execution_count": 49,
   "metadata": {},
   "outputs": [
    {
     "name": "stdout",
     "output_type": "stream",
     "text": [
      "  (0, 452)\t0.18753580997393435\n",
      "  (0, 676)\t0.08725493971400644\n",
      "  (0, 20)\t0.07289167501431426\n",
      "  (0, 362)\t0.20236126766407986\n",
      "  (0, 583)\t0.18753580997393435\n",
      "  (0, 365)\t0.20236126766407986\n",
      "  (0, 721)\t0.20236126766407986\n",
      "  (0, 609)\t0.20236126766407986\n",
      "  (0, 319)\t0.1403155248810924\n",
      "  (0, 476)\t0.1403155248810924\n",
      "  (0, 239)\t0.11002442520612497\n",
      "  (0, 455)\t0.20236126766407986\n",
      "  (0, 677)\t0.10208039740415191\n",
      "  (0, 46)\t0.20236126766407986\n",
      "  (0, 363)\t0.20236126766407986\n",
      "  (0, 584)\t0.20236126766407986\n",
      "  (0, 366)\t0.20236126766407986\n",
      "  (0, 722)\t0.20236126766407986\n",
      "  (0, 610)\t0.20236126766407986\n",
      "  (0, 320)\t0.14574519192215843\n",
      "  (0, 477)\t0.16664050094804642\n",
      "  (0, 456)\t0.20236126766407986\n",
      "  (0, 683)\t0.20236126766407986\n",
      "  (0, 47)\t0.20236126766407986\n",
      "  (0, 364)\t0.20236126766407986\n",
      "  (0, 585)\t0.20236126766407986\n",
      "  (0, 367)\t0.20236126766407986\n",
      "  (0, 723)\t0.20236126766407986\n",
      "  (0, 611)\t0.20236126766407986\n",
      "  (0, 321)\t0.16664050094804642\n"
     ]
    }
   ],
   "source": [
    "print(X[0])"
   ]
  },
  {
   "cell_type": "markdown",
   "metadata": {},
   "source": [
    "Tokenizing"
   ]
  },
  {
   "cell_type": "code",
   "execution_count": 80,
   "metadata": {},
   "outputs": [
    {
     "name": "stdout",
     "output_type": "stream",
     "text": [
      "[nltk_data] Downloading package punkt to\n",
      "[nltk_data]     C:\\Users\\drago\\AppData\\Roaming\\nltk_data...\n",
      "[nltk_data]   Package punkt is already up-to-date!\n"
     ]
    },
    {
     "data": {
      "text/plain": [
       "True"
      ]
     },
     "execution_count": 80,
     "metadata": {},
     "output_type": "execute_result"
    }
   ],
   "source": [
    "import nltk\n",
    "import re\n",
    "\n",
    "nltk.download('punkt')"
   ]
  },
  {
   "cell_type": "code",
   "execution_count": 51,
   "metadata": {},
   "outputs": [],
   "source": [
    "from nltk.stem.snowball import SnowballStemmer\n",
    "stemmer = SnowballStemmer(\"english\")"
   ]
  },
  {
   "cell_type": "code",
   "execution_count": 84,
   "metadata": {},
   "outputs": [],
   "source": [
    "def tokenize_and_stem(text):\n",
    "   \n",
    "    tokens = [word for sent in nltk.sent_tokenize(text) for word in nltk.word_tokenize(sent)]\n",
    "    filtered_tokens = []\n",
    "\n",
    "    for token in tokens:\n",
    "        if re.search('[a-zA-Z]', token):\n",
    "            filtered_tokens.append(token)\n",
    "    stems = [stemmer.stem(t) for t in filtered_tokens]\n",
    "    return stems\n",
    "\n",
    "\n",
    "def tokenize_only(text):\n",
    "\n",
    "    tokens = [word.lower() for sent in nltk.sent_tokenize(text) for word in nltk.word_tokenize(sent)]\n",
    "    filtered_tokens = []\n",
    "   \n",
    "    for token in tokens:\n",
    "        if re.search('[a-zA-Z]', token):\n",
    "            filtered_tokens.append(token)\n",
    "    return filtered_tokens"
   ]
  },
  {
   "cell_type": "code",
   "execution_count": 86,
   "metadata": {},
   "outputs": [
    {
     "data": {
      "text/plain": [
       "['rajasthan',\n",
       " 'board',\n",
       " 'rbse',\n",
       " '12th',\n",
       " 'arts',\n",
       " 'result',\n",
       " 'declared',\n",
       " 'here',\n",
       " 's',\n",
       " 'the',\n",
       " 'direct',\n",
       " 'link',\n",
       " 'to',\n",
       " 'check',\n",
       " 'marks']"
      ]
     },
     "execution_count": 86,
     "metadata": {},
     "output_type": "execute_result"
    }
   ],
   "source": [
    "tokenize_only('Rajasthan Board RBSE 12th arts result 2019 declared, here’s the direct link to check marks')"
   ]
  },
  {
   "cell_type": "code",
   "execution_count": 87,
   "metadata": {},
   "outputs": [
    {
     "data": {
      "text/plain": [
       "['rajasthan',\n",
       " 'board',\n",
       " 'rbse',\n",
       " '12th',\n",
       " 'art',\n",
       " 'result',\n",
       " 'declar',\n",
       " 'here',\n",
       " 's',\n",
       " 'the',\n",
       " 'direct',\n",
       " 'link',\n",
       " 'to',\n",
       " 'check',\n",
       " 'mark']"
      ]
     },
     "execution_count": 87,
     "metadata": {},
     "output_type": "execute_result"
    }
   ],
   "source": [
    "tokenize_and_stem('Rajasthan Board RBSE 12th arts result 2019 declared, here’s the direct link to check marks')"
   ]
  },
  {
   "cell_type": "code",
   "execution_count": 88,
   "metadata": {},
   "outputs": [],
   "source": []
  },
  {
   "cell_type": "code",
   "execution_count": null,
   "metadata": {},
   "outputs": [],
   "source": []
  },
  {
   "cell_type": "code",
   "execution_count": null,
   "metadata": {},
   "outputs": [],
   "source": []
  }
 ],
 "metadata": {
  "kernelspec": {
   "display_name": "Python 3",
   "language": "python",
   "name": "python3"
  },
  "language_info": {
   "codemirror_mode": {
    "name": "ipython",
    "version": 3
   },
   "file_extension": ".py",
   "mimetype": "text/x-python",
   "name": "python",
   "nbconvert_exporter": "python",
   "pygments_lexer": "ipython3",
   "version": "3.6.5"
  }
 },
 "nbformat": 4,
 "nbformat_minor": 2
}

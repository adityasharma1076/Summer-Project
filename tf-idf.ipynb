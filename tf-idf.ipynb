{
 "cells": [
  {
   "cell_type": "code",
   "execution_count": 1,
   "metadata": {},
   "outputs": [],
   "source": [
    "import pandas as pd\n",
    "import numpy as np"
   ]
  },
  {
   "cell_type": "code",
   "execution_count": 2,
   "metadata": {},
   "outputs": [],
   "source": [
    "education = pd.read_csv('combined_csv.csv')"
   ]
  },
  {
   "cell_type": "code",
   "execution_count": 6,
   "metadata": {},
   "outputs": [
    {
     "data": {
      "text/html": [
       "<div>\n",
       "<style scoped>\n",
       "    .dataframe tbody tr th:only-of-type {\n",
       "        vertical-align: middle;\n",
       "    }\n",
       "\n",
       "    .dataframe tbody tr th {\n",
       "        vertical-align: top;\n",
       "    }\n",
       "\n",
       "    .dataframe thead th {\n",
       "        text-align: right;\n",
       "    }\n",
       "</style>\n",
       "<table border=\"1\" class=\"dataframe\">\n",
       "  <thead>\n",
       "    <tr style=\"text-align: right;\">\n",
       "      <th></th>\n",
       "      <th>Newspaper</th>\n",
       "      <th>Heading</th>\n",
       "      <th>Date</th>\n",
       "      <th>Time</th>\n",
       "      <th>URL</th>\n",
       "    </tr>\n",
       "  </thead>\n",
       "  <tbody>\n",
       "    <tr>\n",
       "      <th>0</th>\n",
       "      <td>Hindiustan Times</td>\n",
       "      <td>KEAM Result 2019: Engineering, Pharmacy entran...</td>\n",
       "      <td>2019-05-22</td>\n",
       "      <td>12:53:00</td>\n",
       "      <td>https://www.hindustantimes.com/education/keam-...</td>\n",
       "    </tr>\n",
       "    <tr>\n",
       "      <th>1</th>\n",
       "      <td>Hindiustan Times</td>\n",
       "      <td>Rajasthan Board RBSE 12th arts result 2019 dec...</td>\n",
       "      <td>2019-05-22</td>\n",
       "      <td>15:19:00</td>\n",
       "      <td>https://www.hindustantimes.com/education/rajas...</td>\n",
       "    </tr>\n",
       "    <tr>\n",
       "      <th>2</th>\n",
       "      <td>Hindiustan Times</td>\n",
       "      <td>RBSE 12th arts result 2019 declared, check you...</td>\n",
       "      <td>2019-05-22</td>\n",
       "      <td>15:19:00</td>\n",
       "      <td>https://www.hindustantimes.com/education/rbse-...</td>\n",
       "    </tr>\n",
       "    <tr>\n",
       "      <th>3</th>\n",
       "      <td>Hindiustan Times</td>\n",
       "      <td>No taker, Bhagalpur varsity drops PG course in...</td>\n",
       "      <td>2019-05-22</td>\n",
       "      <td>18:14:00</td>\n",
       "      <td>https://www.hindustantimes.com/education/no-ta...</td>\n",
       "    </tr>\n",
       "    <tr>\n",
       "      <th>4</th>\n",
       "      <td>Hindiustan Times</td>\n",
       "      <td>NIOS D.El.Ed 4th Semester Result 2019 declared...</td>\n",
       "      <td>2019-05-22</td>\n",
       "      <td>17:33:00</td>\n",
       "      <td>https://www.hindustantimes.com/education/nios-...</td>\n",
       "    </tr>\n",
       "  </tbody>\n",
       "</table>\n",
       "</div>"
      ],
      "text/plain": [
       "          Newspaper                                            Heading  \\\n",
       "0  Hindiustan Times  KEAM Result 2019: Engineering, Pharmacy entran...   \n",
       "1  Hindiustan Times  Rajasthan Board RBSE 12th arts result 2019 dec...   \n",
       "2  Hindiustan Times  RBSE 12th arts result 2019 declared, check you...   \n",
       "3  Hindiustan Times  No taker, Bhagalpur varsity drops PG course in...   \n",
       "4  Hindiustan Times  NIOS D.El.Ed 4th Semester Result 2019 declared...   \n",
       "\n",
       "         Date      Time                                                URL  \n",
       "0  2019-05-22  12:53:00  https://www.hindustantimes.com/education/keam-...  \n",
       "1  2019-05-22  15:19:00  https://www.hindustantimes.com/education/rajas...  \n",
       "2  2019-05-22  15:19:00  https://www.hindustantimes.com/education/rbse-...  \n",
       "3  2019-05-22  18:14:00  https://www.hindustantimes.com/education/no-ta...  \n",
       "4  2019-05-22  17:33:00  https://www.hindustantimes.com/education/nios-...  "
      ]
     },
     "execution_count": 6,
     "metadata": {},
     "output_type": "execute_result"
    }
   ],
   "source": [
    "education.head()"
   ]
  },
  {
   "cell_type": "code",
   "execution_count": 7,
   "metadata": {},
   "outputs": [
    {
     "data": {
      "text/html": [
       "<div>\n",
       "<style scoped>\n",
       "    .dataframe tbody tr th:only-of-type {\n",
       "        vertical-align: middle;\n",
       "    }\n",
       "\n",
       "    .dataframe tbody tr th {\n",
       "        vertical-align: top;\n",
       "    }\n",
       "\n",
       "    .dataframe thead th {\n",
       "        text-align: right;\n",
       "    }\n",
       "</style>\n",
       "<table border=\"1\" class=\"dataframe\">\n",
       "  <thead>\n",
       "    <tr style=\"text-align: right;\">\n",
       "      <th></th>\n",
       "      <th>Newspaper</th>\n",
       "      <th>Heading</th>\n",
       "      <th>Date</th>\n",
       "      <th>Time</th>\n",
       "      <th>URL</th>\n",
       "    </tr>\n",
       "  </thead>\n",
       "  <tbody>\n",
       "    <tr>\n",
       "      <th>0</th>\n",
       "      <td>Hindiustan Times</td>\n",
       "      <td>KEAM Result 2019: Engineering, Pharmacy entran...</td>\n",
       "      <td>2019-05-22</td>\n",
       "      <td>12:53:00</td>\n",
       "      <td>https://www.hindustantimes.com/education/keam-...</td>\n",
       "    </tr>\n",
       "    <tr>\n",
       "      <th>1</th>\n",
       "      <td>Hindiustan Times</td>\n",
       "      <td>Rajasthan Board RBSE 12th arts result 2019 dec...</td>\n",
       "      <td>2019-05-22</td>\n",
       "      <td>15:19:00</td>\n",
       "      <td>https://www.hindustantimes.com/education/rajas...</td>\n",
       "    </tr>\n",
       "    <tr>\n",
       "      <th>2</th>\n",
       "      <td>Hindiustan Times</td>\n",
       "      <td>RBSE 12th arts result 2019 declared, check you...</td>\n",
       "      <td>2019-05-22</td>\n",
       "      <td>15:19:00</td>\n",
       "      <td>https://www.hindustantimes.com/education/rbse-...</td>\n",
       "    </tr>\n",
       "    <tr>\n",
       "      <th>3</th>\n",
       "      <td>Hindiustan Times</td>\n",
       "      <td>No taker, Bhagalpur varsity drops PG course in...</td>\n",
       "      <td>2019-05-22</td>\n",
       "      <td>18:14:00</td>\n",
       "      <td>https://www.hindustantimes.com/education/no-ta...</td>\n",
       "    </tr>\n",
       "    <tr>\n",
       "      <th>4</th>\n",
       "      <td>Hindiustan Times</td>\n",
       "      <td>NIOS D.El.Ed 4th Semester Result 2019 declared...</td>\n",
       "      <td>2019-05-22</td>\n",
       "      <td>17:33:00</td>\n",
       "      <td>https://www.hindustantimes.com/education/nios-...</td>\n",
       "    </tr>\n",
       "  </tbody>\n",
       "</table>\n",
       "</div>"
      ],
      "text/plain": [
       "          Newspaper                                            Heading  \\\n",
       "0  Hindiustan Times  KEAM Result 2019: Engineering, Pharmacy entran...   \n",
       "1  Hindiustan Times  Rajasthan Board RBSE 12th arts result 2019 dec...   \n",
       "2  Hindiustan Times  RBSE 12th arts result 2019 declared, check you...   \n",
       "3  Hindiustan Times  No taker, Bhagalpur varsity drops PG course in...   \n",
       "4  Hindiustan Times  NIOS D.El.Ed 4th Semester Result 2019 declared...   \n",
       "\n",
       "         Date      Time                                                URL  \n",
       "0  2019-05-22  12:53:00  https://www.hindustantimes.com/education/keam-...  \n",
       "1  2019-05-22  15:19:00  https://www.hindustantimes.com/education/rajas...  \n",
       "2  2019-05-22  15:19:00  https://www.hindustantimes.com/education/rbse-...  \n",
       "3  2019-05-22  18:14:00  https://www.hindustantimes.com/education/no-ta...  \n",
       "4  2019-05-22  17:33:00  https://www.hindustantimes.com/education/nios-...  "
      ]
     },
     "execution_count": 7,
     "metadata": {},
     "output_type": "execute_result"
    }
   ],
   "source": [
    "education[education['Date']=='2019-05-22'].head()"
   ]
  },
  {
   "cell_type": "code",
   "execution_count": 8,
   "metadata": {},
   "outputs": [],
   "source": [
    "from bs4 import BeautifulSoup\n",
    "import nltk\n",
    "from nltk.corpus import stopwords\n",
    "from sklearn.feature_extraction.text import TfidfVectorizer\n",
    "from sklearn.decomposition import TruncatedSVD"
   ]
  },
  {
   "cell_type": "code",
   "execution_count": null,
   "metadata": {},
   "outputs": [],
   "source": []
  }
 ],
 "metadata": {
  "kernelspec": {
   "display_name": "Python 3",
   "language": "python",
   "name": "python3"
  },
  "language_info": {
   "codemirror_mode": {
    "name": "ipython",
    "version": 3
   },
   "file_extension": ".py",
   "mimetype": "text/x-python",
   "name": "python",
   "nbconvert_exporter": "python",
   "pygments_lexer": "ipython3",
   "version": "3.6.5"
  }
 },
 "nbformat": 4,
 "nbformat_minor": 2
}

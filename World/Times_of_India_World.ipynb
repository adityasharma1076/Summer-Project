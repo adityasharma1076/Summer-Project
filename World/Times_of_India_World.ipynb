{
 "cells": [
  {
   "cell_type": "code",
   "execution_count": 1,
   "metadata": {},
   "outputs": [],
   "source": [
    "import requests\n",
    "import bs4\n",
    "import os\n",
    "import pandas as pd"
   ]
  },
  {
   "cell_type": "code",
   "execution_count": 2,
   "metadata": {},
   "outputs": [],
   "source": [
    "import datetime\n",
    "\n",
    "now = datetime.datetime.now()\n",
    "\n",
    "\n",
    "Today_time = now.strftime(\"%H:%M\")\n",
    "\n",
    "Today_date = now.strftime(\"%Y-%m-%d\")"
   ]
  },
  {
   "cell_type": "code",
   "execution_count": 3,
   "metadata": {},
   "outputs": [],
   "source": [
    "def record_date_time(z):\n",
    "    x=str.split(z,',')\n",
    "    date =x[0]\n",
    "    time= x[1] +':00'\n",
    "\n",
    "    return date,time\n",
    "\n",
    "def record_URL(x):\n",
    "    y='https://timesofindia.indiatimes.com'\n",
    "    url = y+x \n",
    "    return url"
   ]
  },
  {
   "cell_type": "code",
   "execution_count": 4,
   "metadata": {},
   "outputs": [],
   "source": [
    "link ='https://timesofindia.indiatimes.com/'"
   ]
  },
  {
   "cell_type": "code",
   "execution_count": 5,
   "metadata": {},
   "outputs": [],
   "source": [
    "res = requests.get(link)\n"
   ]
  },
  {
   "cell_type": "code",
   "execution_count": 6,
   "metadata": {},
   "outputs": [],
   "source": [
    "soup =bs4.BeautifulSoup(res.text,'lxml')\n"
   ]
  },
  {
   "cell_type": "code",
   "execution_count": 7,
   "metadata": {},
   "outputs": [],
   "source": [
    "main=soup.find('li',{\"data-id\":\"296589292\"})"
   ]
  },
  {
   "cell_type": "code",
   "execution_count": 8,
   "metadata": {},
   "outputs": [],
   "source": [
    "List = main.find('div',{'class':'left-column simple-list'})"
   ]
  },
  {
   "cell_type": "code",
   "execution_count": 9,
   "metadata": {},
   "outputs": [],
   "source": [
    "content= List.findAll('li')"
   ]
  },
  {
   "cell_type": "code",
   "execution_count": null,
   "metadata": {},
   "outputs": [],
   "source": []
  },
  {
   "cell_type": "code",
   "execution_count": 10,
   "metadata": {},
   "outputs": [],
   "source": [
    "records=[]\n",
    "for link in content[1:]:\n",
    "    try:\n",
    "        category = link.text.lower()\n",
    "        url = record_URL(link.find('a')['href'])\n",
    "        res = requests.get(url)\n",
    "        soup =bs4.BeautifulSoup(res.text,'lxml')\n",
    "        main_content = soup.select('.main-content')[0].findAll('li')\n",
    "    \n",
    "        for record in main_content:\n",
    "            try:\n",
    "                media_content = record.find('span',{'class':'w_tle'})\n",
    "\n",
    "                Heading = media_content.text\n",
    "                URL= record_URL(media_content.find('a')['href'])\n",
    "\n",
    "                Date = Today_date\n",
    "                Time = Today_time\n",
    "                Category = category\n",
    "                Newspaper = 'Times of India'\n",
    "            except:\n",
    "                continue\n",
    "            records.append((Newspaper,Heading,Category,Date,Time,URL))\n",
    "    except:\n",
    "        continue"
   ]
  },
  {
   "cell_type": "code",
   "execution_count": 11,
   "metadata": {},
   "outputs": [],
   "source": [
    "arr = ['Latest News','Breaking news','Karnataka news','Gujarat News','Delhi news','AP news','Tamilnadu news','Bihar news','Narendra Modi']"
   ]
  },
  {
   "cell_type": "code",
   "execution_count": null,
   "metadata": {},
   "outputs": [],
   "source": []
  },
  {
   "cell_type": "code",
   "execution_count": 12,
   "metadata": {},
   "outputs": [],
   "source": [
    "import pandas as pd\n",
    "df=pd.DataFrame(records,columns=['Source','Heading','Category','Date','Time','URL'])\n",
    "df['Date'] = pd.to_datetime(df['Date'])"
   ]
  },
  {
   "cell_type": "code",
   "execution_count": 13,
   "metadata": {},
   "outputs": [
    {
     "data": {
      "text/plain": [
       "'Kamala Harris proposes executive orders on immigration'"
      ]
     },
     "execution_count": 13,
     "metadata": {},
     "output_type": "execute_result"
    }
   ],
   "source": [
    "df['Heading'][1]"
   ]
  },
  {
   "cell_type": "code",
   "execution_count": 14,
   "metadata": {},
   "outputs": [],
   "source": [
    "for i in range(len(df)):\n",
    "    \n",
    "    for x in arr:\n",
    "        \n",
    "        \n",
    "        if(df['Heading'][i] == x):\n",
    "            df.drop([i],inplace=True)\n",
    "            break;\n",
    "        \n",
    "    "
   ]
  },
  {
   "cell_type": "code",
   "execution_count": null,
   "metadata": {},
   "outputs": [],
   "source": []
  },
  {
   "cell_type": "code",
   "execution_count": 15,
   "metadata": {},
   "outputs": [
    {
     "data": {
      "text/plain": [
       "china             50\n",
       "uk                50\n",
       "mad, mad world    50\n",
       "europe            50\n",
       "rest of world     50\n",
       "us                50\n",
       "middle east       50\n",
       "pakistan          50\n",
       "south asia        50\n",
       "Name: Category, dtype: int64"
      ]
     },
     "execution_count": 15,
     "metadata": {},
     "output_type": "execute_result"
    }
   ],
   "source": [
    "df['Category'].value_counts()"
   ]
  },
  {
   "cell_type": "code",
   "execution_count": 16,
   "metadata": {},
   "outputs": [],
   "source": [
    "outname ='TOI_world-'+str(Today_date)+'.csv'\n",
    "x=r\"C:\\Users\\drago\\Documents\\GitHub\\Summer-Project\\World\\CSV\\ \"\n",
    "if not os.path.exists(x[:-1]):\n",
    "    os.mkdir(x[:-1])\n",
    "date_today= Today_date +'\\ '\n",
    "outdir=x[:-1]+ date_today[:-1]\n",
    "if not os.path.exists(outdir):\n",
    "    os.mkdir(outdir)\n",
    "fullname = os.path.join(outdir, outname)"
   ]
  },
  {
   "cell_type": "code",
   "execution_count": 17,
   "metadata": {},
   "outputs": [],
   "source": [
    "df.to_csv(fullname,index=False,encoding='utf-8')\n"
   ]
  },
  {
   "cell_type": "code",
   "execution_count": null,
   "metadata": {},
   "outputs": [],
   "source": []
  }
 ],
 "metadata": {
  "kernelspec": {
   "display_name": "Python 3",
   "language": "python",
   "name": "python3"
  },
  "language_info": {
   "codemirror_mode": {
    "name": "ipython",
    "version": 3
   },
   "file_extension": ".py",
   "mimetype": "text/x-python",
   "name": "python",
   "nbconvert_exporter": "python",
   "pygments_lexer": "ipython3",
   "version": "3.6.5"
  }
 },
 "nbformat": 4,
 "nbformat_minor": 2
}

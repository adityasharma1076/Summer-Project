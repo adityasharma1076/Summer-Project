{
 "cells": [
  {
   "cell_type": "code",
   "execution_count": 4,
   "metadata": {},
   "outputs": [],
   "source": [
    "import requests\n",
    "import bs4\n",
    "import pandas as pd\n",
    "import os"
   ]
  },
  {
   "cell_type": "code",
   "execution_count": 5,
   "metadata": {},
   "outputs": [],
   "source": [
    "import datetime\n",
    "\n",
    "now = datetime.datetime.now()\n",
    "\n",
    "\n",
    "Today_time = now.strftime(\"%H:%M\")\n",
    "\n",
    "Today_date = now.strftime(\"%Y-%m-%d\")\n"
   ]
  },
  {
   "cell_type": "code",
   "execution_count": 6,
   "metadata": {},
   "outputs": [],
   "source": [
    "def get_date_time(URL):\n",
    "    req = requests.get(URL)\n",
    "    soup_date = bs4.BeautifulSoup(req.text,'lxml')\n",
    "    temp = soup_date.select(\".m-story-meta__credit\")\n",
    "    time_date = temp[0].findAll('span')[-1].text\n",
    "    x=str.split(time_date)\n",
    "    date = x[1]+' '+x[2]+' '+x[3]\n",
    "    time = x[4]+' '+x[5]\n",
    "    return date,time\n"
   ]
  },
  {
   "cell_type": "code",
   "execution_count": 7,
   "metadata": {},
   "outputs": [],
   "source": [
    "link = 'https://indianexpress.com/section/world/'"
   ]
  },
  {
   "cell_type": "code",
   "execution_count": 8,
   "metadata": {},
   "outputs": [],
   "source": [
    "res = requests.get(link)\n",
    "soup = bs4.BeautifulSoup(res.text,'lxml')"
   ]
  },
  {
   "cell_type": "code",
   "execution_count": null,
   "metadata": {},
   "outputs": [],
   "source": []
  },
  {
   "cell_type": "code",
   "execution_count": 9,
   "metadata": {},
   "outputs": [],
   "source": [
    "h1 = soup.select('.m-article-featured__title')"
   ]
  },
  {
   "cell_type": "code",
   "execution_count": 10,
   "metadata": {},
   "outputs": [],
   "source": [
    "records=[]\n",
    "h1_newspaper='Indian Express'\n",
    "h1_heading = h1[0].text\n",
    "h1_url = h1[0].find('a')['href']\n",
    "h1_date,h1_time = get_date_time(h1_url)\n",
    "h1_category = 'world'\n",
    "\n",
    "\n",
    "records.append((h1_newspaper,h1_heading,h1_category,h1_date,h1_time,h1_url))"
   ]
  },
  {
   "cell_type": "code",
   "execution_count": null,
   "metadata": {},
   "outputs": [],
   "source": []
  },
  {
   "cell_type": "code",
   "execution_count": 11,
   "metadata": {},
   "outputs": [],
   "source": [
    "h2=soup.findAll('h2')"
   ]
  },
  {
   "cell_type": "code",
   "execution_count": 12,
   "metadata": {},
   "outputs": [],
   "source": [
    "for record in h2[1:-2]:\n",
    "    Heading = record.text\n",
    "    URL = record.find('a')['href']\n",
    "    Date,Time = get_date_time(URL)\n",
    "    #Time = get_time(URL)\n",
    "    Newspaper='Indian Express'\n",
    "    Category = 'world'\n",
    "    records.append((Newspaper,Heading,Category,Date,Time,URL))"
   ]
  },
  {
   "cell_type": "code",
   "execution_count": null,
   "metadata": {},
   "outputs": [],
   "source": []
  },
  {
   "cell_type": "code",
   "execution_count": 13,
   "metadata": {},
   "outputs": [],
   "source": [
    "h3=soup.select('.m-article-landing__inner')"
   ]
  },
  {
   "cell_type": "code",
   "execution_count": 14,
   "metadata": {},
   "outputs": [],
   "source": [
    "for record in h3:\n",
    "    content = record.select(\".m-article-landing__title\")[0]\n",
    "    datetime = record.time.attrs['datetime']\n",
    "\n",
    "    Heading = content.text\n",
    "    URL = content.find('a')['href']\n",
    "    x=str.split(datetime,' ')\n",
    "    Date = x[0]\n",
    "    Time = str.split(x[1],'+')[0]+\n",
    "    Newspaper = 'Indian Express'\n",
    "        Category = 'world'\n",
    "\n",
    "    records.append((Newspaper,Heading,Category,Date,Time,URL))"
   ]
  },
  {
   "cell_type": "code",
   "execution_count": null,
   "metadata": {},
   "outputs": [],
   "source": []
  },
  {
   "cell_type": "code",
   "execution_count": 15,
   "metadata": {},
   "outputs": [],
   "source": [
    "df=pd.DataFrame(records,columns=['Newspaper','Heading','Date','Time','URL'])\n",
    "df['Date'] = pd.to_datetime(df['Date'])"
   ]
  },
  {
   "cell_type": "code",
   "execution_count": 16,
   "metadata": {},
   "outputs": [
    {
     "data": {
      "text/html": [
       "<div>\n",
       "<style scoped>\n",
       "    .dataframe tbody tr th:only-of-type {\n",
       "        vertical-align: middle;\n",
       "    }\n",
       "\n",
       "    .dataframe tbody tr th {\n",
       "        vertical-align: top;\n",
       "    }\n",
       "\n",
       "    .dataframe thead th {\n",
       "        text-align: right;\n",
       "    }\n",
       "</style>\n",
       "<table border=\"1\" class=\"dataframe\">\n",
       "  <thead>\n",
       "    <tr style=\"text-align: right;\">\n",
       "      <th></th>\n",
       "      <th>Newspaper</th>\n",
       "      <th>Heading</th>\n",
       "      <th>Date</th>\n",
       "      <th>Time</th>\n",
       "      <th>URL</th>\n",
       "    </tr>\n",
       "  </thead>\n",
       "  <tbody>\n",
       "    <tr>\n",
       "      <th>0</th>\n",
       "      <td>Indian Express</td>\n",
       "      <td>Mexico-US tariff deal: Questions, concerns for...</td>\n",
       "      <td>2019-06-09</td>\n",
       "      <td>2:00:55 pm</td>\n",
       "      <td>https://indianexpress.com/article/world/mexico...</td>\n",
       "    </tr>\n",
       "    <tr>\n",
       "      <th>1</th>\n",
       "      <td>Indian Express</td>\n",
       "      <td>Thousands begin gathering in Hong Kong for hug...</td>\n",
       "      <td>2019-06-09</td>\n",
       "      <td>12:07:19 pm</td>\n",
       "      <td>https://indianexpress.com/article/world/thousa...</td>\n",
       "    </tr>\n",
       "    <tr>\n",
       "      <th>2</th>\n",
       "      <td>Indian Express</td>\n",
       "      <td>White House tried to stop climate science test...</td>\n",
       "      <td>2019-06-09</td>\n",
       "      <td>12:05:29 pm</td>\n",
       "      <td>https://indianexpress.com/article/world/white-...</td>\n",
       "    </tr>\n",
       "    <tr>\n",
       "      <th>3</th>\n",
       "      <td>Indian Express</td>\n",
       "      <td>Trump is confident Mexico will enforce new imm...</td>\n",
       "      <td>2019-06-09</td>\n",
       "      <td>10:24:17 am</td>\n",
       "      <td>https://indianexpress.com/article/world/trump-...</td>\n",
       "    </tr>\n",
       "    <tr>\n",
       "      <th>4</th>\n",
       "      <td>Indian Express</td>\n",
       "      <td>Mexico’s president diverted resources away fro...</td>\n",
       "      <td>2019-06-09</td>\n",
       "      <td>09:49:21:00</td>\n",
       "      <td>https://indianexpress.com/article/world/mexico...</td>\n",
       "    </tr>\n",
       "    <tr>\n",
       "      <th>5</th>\n",
       "      <td>Indian Express</td>\n",
       "      <td>95 years ago, Everest was just as deadly but m...</td>\n",
       "      <td>2019-06-09</td>\n",
       "      <td>09:31:17:00</td>\n",
       "      <td>https://indianexpress.com/article/world/95-yea...</td>\n",
       "    </tr>\n",
       "    <tr>\n",
       "      <th>6</th>\n",
       "      <td>Indian Express</td>\n",
       "      <td>California utility to cut power to 27,000 cust...</td>\n",
       "      <td>2019-06-09</td>\n",
       "      <td>08:56:03:00</td>\n",
       "      <td>https://indianexpress.com/article/world/califo...</td>\n",
       "    </tr>\n",
       "    <tr>\n",
       "      <th>7</th>\n",
       "      <td>Indian Express</td>\n",
       "      <td>Kamala Harris says prosecutor past will help d...</td>\n",
       "      <td>2019-06-09</td>\n",
       "      <td>08:16:55:00</td>\n",
       "      <td>https://indianexpress.com/article/world/kamala...</td>\n",
       "    </tr>\n",
       "    <tr>\n",
       "      <th>8</th>\n",
       "      <td>Indian Express</td>\n",
       "      <td>Hillary Clinton: Mueller report shows obstruct...</td>\n",
       "      <td>2019-06-09</td>\n",
       "      <td>07:48:47:00</td>\n",
       "      <td>https://indianexpress.com/article/world/hillar...</td>\n",
       "    </tr>\n",
       "    <tr>\n",
       "      <th>9</th>\n",
       "      <td>Indian Express</td>\n",
       "      <td>Panic at Washington DC’s Pride Parade sends pe...</td>\n",
       "      <td>2019-06-09</td>\n",
       "      <td>07:46:18:00</td>\n",
       "      <td>https://indianexpress.com/article/world/pride-...</td>\n",
       "    </tr>\n",
       "    <tr>\n",
       "      <th>10</th>\n",
       "      <td>Indian Express</td>\n",
       "      <td>Thousands pour into Colombia as Venezuela reop...</td>\n",
       "      <td>2019-06-09</td>\n",
       "      <td>07:25:46:00</td>\n",
       "      <td>https://indianexpress.com/article/world/thousa...</td>\n",
       "    </tr>\n",
       "    <tr>\n",
       "      <th>11</th>\n",
       "      <td>Indian Express</td>\n",
       "      <td>Huge Hong Kong protest expected in last push t...</td>\n",
       "      <td>2019-06-08</td>\n",
       "      <td>20:00:19:00</td>\n",
       "      <td>https://indianexpress.com/article/world/huge-h...</td>\n",
       "    </tr>\n",
       "    <tr>\n",
       "      <th>12</th>\n",
       "      <td>Indian Express</td>\n",
       "      <td>Indian-American activist who yelled at Amazon ...</td>\n",
       "      <td>2019-06-08</td>\n",
       "      <td>16:48:23:00</td>\n",
       "      <td>https://indianexpress.com/article/world/indian...</td>\n",
       "    </tr>\n",
       "    <tr>\n",
       "      <th>13</th>\n",
       "      <td>Indian Express</td>\n",
       "      <td>US approves sale of armed drones, offers missi...</td>\n",
       "      <td>2019-06-08</td>\n",
       "      <td>14:43:59:00</td>\n",
       "      <td>https://indianexpress.com/article/world/us-app...</td>\n",
       "    </tr>\n",
       "    <tr>\n",
       "      <th>14</th>\n",
       "      <td>Indian Express</td>\n",
       "      <td>Formalities in process to repatriate bodies of...</td>\n",
       "      <td>2019-06-08</td>\n",
       "      <td>12:08:42:00</td>\n",
       "      <td>https://indianexpress.com/article/world/formal...</td>\n",
       "    </tr>\n",
       "    <tr>\n",
       "      <th>15</th>\n",
       "      <td>Indian Express</td>\n",
       "      <td>Trade war clouds outlook as finance chiefs mee...</td>\n",
       "      <td>2019-06-08</td>\n",
       "      <td>11:50:17:00</td>\n",
       "      <td>https://indianexpress.com/article/world/trade-...</td>\n",
       "    </tr>\n",
       "  </tbody>\n",
       "</table>\n",
       "</div>"
      ],
      "text/plain": [
       "         Newspaper                                            Heading  \\\n",
       "0   Indian Express  Mexico-US tariff deal: Questions, concerns for...   \n",
       "1   Indian Express  Thousands begin gathering in Hong Kong for hug...   \n",
       "2   Indian Express  White House tried to stop climate science test...   \n",
       "3   Indian Express  Trump is confident Mexico will enforce new imm...   \n",
       "4   Indian Express  Mexico’s president diverted resources away fro...   \n",
       "5   Indian Express  95 years ago, Everest was just as deadly but m...   \n",
       "6   Indian Express  California utility to cut power to 27,000 cust...   \n",
       "7   Indian Express  Kamala Harris says prosecutor past will help d...   \n",
       "8   Indian Express  Hillary Clinton: Mueller report shows obstruct...   \n",
       "9   Indian Express  Panic at Washington DC’s Pride Parade sends pe...   \n",
       "10  Indian Express  Thousands pour into Colombia as Venezuela reop...   \n",
       "11  Indian Express  Huge Hong Kong protest expected in last push t...   \n",
       "12  Indian Express  Indian-American activist who yelled at Amazon ...   \n",
       "13  Indian Express  US approves sale of armed drones, offers missi...   \n",
       "14  Indian Express  Formalities in process to repatriate bodies of...   \n",
       "15  Indian Express  Trade war clouds outlook as finance chiefs mee...   \n",
       "\n",
       "         Date         Time                                                URL  \n",
       "0  2019-06-09   2:00:55 pm  https://indianexpress.com/article/world/mexico...  \n",
       "1  2019-06-09  12:07:19 pm  https://indianexpress.com/article/world/thousa...  \n",
       "2  2019-06-09  12:05:29 pm  https://indianexpress.com/article/world/white-...  \n",
       "3  2019-06-09  10:24:17 am  https://indianexpress.com/article/world/trump-...  \n",
       "4  2019-06-09  09:49:21:00  https://indianexpress.com/article/world/mexico...  \n",
       "5  2019-06-09  09:31:17:00  https://indianexpress.com/article/world/95-yea...  \n",
       "6  2019-06-09  08:56:03:00  https://indianexpress.com/article/world/califo...  \n",
       "7  2019-06-09  08:16:55:00  https://indianexpress.com/article/world/kamala...  \n",
       "8  2019-06-09  07:48:47:00  https://indianexpress.com/article/world/hillar...  \n",
       "9  2019-06-09  07:46:18:00  https://indianexpress.com/article/world/pride-...  \n",
       "10 2019-06-09  07:25:46:00  https://indianexpress.com/article/world/thousa...  \n",
       "11 2019-06-08  20:00:19:00  https://indianexpress.com/article/world/huge-h...  \n",
       "12 2019-06-08  16:48:23:00  https://indianexpress.com/article/world/indian...  \n",
       "13 2019-06-08  14:43:59:00  https://indianexpress.com/article/world/us-app...  \n",
       "14 2019-06-08  12:08:42:00  https://indianexpress.com/article/world/formal...  \n",
       "15 2019-06-08  11:50:17:00  https://indianexpress.com/article/world/trade-...  "
      ]
     },
     "execution_count": 16,
     "metadata": {},
     "output_type": "execute_result"
    }
   ],
   "source": [
    "df"
   ]
  },
  {
   "cell_type": "code",
   "execution_count": null,
   "metadata": {},
   "outputs": [],
   "source": []
  },
  {
   "cell_type": "code",
   "execution_count": 14,
   "metadata": {},
   "outputs": [],
   "source": [
    "outname ='IE_world-'+str(Today_date)+'.csv'\n",
    "x=r\"C:\\Users\\drago\\Documents\\GitHub\\Summer-Project\\World\\CSV\\ \"\n",
    "if not os.path.exists(X):\n",
    "    os.mkdir(outdir)\n",
    "date_today= Today_date +'\\ '\n",
    "outdir=x[:-1]+ date_today[:-1]\n",
    "if not os.path.exists(outdir):\n",
    "    os.mkdir(outdir)\n",
    "fullname = os.path.join(outdir, outname) "
   ]
  },
  {
   "cell_type": "code",
   "execution_count": 15,
   "metadata": {},
   "outputs": [],
   "source": [
    "df.to_csv(fullname,index=False,encoding='utf-8')"
   ]
  }
 ],
 "metadata": {
  "kernelspec": {
   "display_name": "Python 3",
   "language": "python",
   "name": "python3"
  },
  "language_info": {
   "codemirror_mode": {
    "name": "ipython",
    "version": 3
   },
   "file_extension": ".py",
   "mimetype": "text/x-python",
   "name": "python",
   "nbconvert_exporter": "python",
   "pygments_lexer": "ipython3",
   "version": "3.6.5"
  }
 },
 "nbformat": 4,
 "nbformat_minor": 2
}

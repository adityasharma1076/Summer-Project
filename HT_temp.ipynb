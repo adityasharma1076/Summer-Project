{
 "cells": [
  {
   "cell_type": "code",
   "execution_count": 1,
   "metadata": {},
   "outputs": [],
   "source": [
    "import requests\n",
    "import bs4"
   ]
  },
  {
   "cell_type": "code",
   "execution_count": 2,
   "metadata": {},
   "outputs": [
    {
     "name": "stdout",
     "output_type": "stream",
     "text": [
      "Search: sports\n"
     ]
    }
   ],
   "source": [
    "link ='https://www.hindustantimes.com/search?q='\n",
    "search=input(\"Search: \")"
   ]
  },
  {
   "cell_type": "code",
   "execution_count": 4,
   "metadata": {},
   "outputs": [],
   "source": [
    "ht_url=link+search"
   ]
  },
  {
   "cell_type": "code",
   "execution_count": 5,
   "metadata": {},
   "outputs": [],
   "source": [
    "res = requests.get(ht_url)"
   ]
  },
  {
   "cell_type": "code",
   "execution_count": 6,
   "metadata": {},
   "outputs": [],
   "source": [
    "soup =bs4.BeautifulSoup(res.text,'lxml')\n",
    "    "
   ]
  },
  {
   "cell_type": "code",
   "execution_count": 7,
   "metadata": {},
   "outputs": [],
   "source": [
    "hi=soup.select('.media-body')"
   ]
  },
  {
   "cell_type": "code",
   "execution_count": 8,
   "metadata": {},
   "outputs": [],
   "source": [
    "#first_result = hi[0]"
   ]
  },
  {
   "cell_type": "code",
   "execution_count": 9,
   "metadata": {},
   "outputs": [],
   "source": [
    "#first_result"
   ]
  },
  {
   "cell_type": "code",
   "execution_count": 10,
   "metadata": {},
   "outputs": [],
   "source": [
    "#first_result.find('a').text"
   ]
  },
  {
   "cell_type": "code",
   "execution_count": 11,
   "metadata": {},
   "outputs": [],
   "source": [
    "#first_result.find('a')['href']"
   ]
  },
  {
   "cell_type": "code",
   "execution_count": 12,
   "metadata": {},
   "outputs": [],
   "source": [
    "#first_result.find('span').text"
   ]
  },
  {
   "cell_type": "code",
   "execution_count": 13,
   "metadata": {},
   "outputs": [],
   "source": [
    "#c='https://www.hindustantimes.com/cricket/playing-reborn-in-the-usa/story-e20wV1ETIYIHBBTaeLzdDK.html'\n",
    "#req=requests.get(c)"
   ]
  },
  {
   "cell_type": "code",
   "execution_count": 14,
   "metadata": {},
   "outputs": [],
   "source": [
    "#soup_content =bs4.BeautifulSoup(req.text,'lxml')"
   ]
  },
  {
   "cell_type": "code",
   "execution_count": 15,
   "metadata": {},
   "outputs": [],
   "source": [
    "#x=soup_content.select('.story-details')\n",
    "#soup_content.select('.media-body')"
   ]
  },
  {
   "cell_type": "code",
   "execution_count": 16,
   "metadata": {},
   "outputs": [],
   "source": [
    "#mydivs = soup_content.findAll('p')\n",
    "#mydivs[0].text"
   ]
  },
  {
   "cell_type": "code",
   "execution_count": 17,
   "metadata": {},
   "outputs": [],
   "source": [
    "def get_content(url):\n",
    "    content=[]\n",
    "    req=requests.get(url)\n",
    "    soup_content = bs4.BeautifulSoup(req.text,'lxml')\n",
    "    my_content = soup_content.findAll('p')\n",
    "    for x in my_content:\n",
    "        content.append(x.text)\n",
    "        #content.append('\\n')\n",
    "    return content    "
   ]
  },
  {
   "cell_type": "code",
   "execution_count": 18,
   "metadata": {},
   "outputs": [],
   "source": [
    "records=[]\n",
    "for i in hi:\n",
    "    heading= i.find('a').text\n",
    "    date=i.find('span').text[:12]\n",
    "    time=i.find('span').text[12:]\n",
    "    url=i.find('a')['href']\n",
    "    content = get_content(url)\n",
    "    records.append((heading,date,time,url,content))"
   ]
  },
  {
   "cell_type": "code",
   "execution_count": 19,
   "metadata": {},
   "outputs": [],
   "source": [
    "#records[0]"
   ]
  },
  {
   "cell_type": "code",
   "execution_count": 20,
   "metadata": {},
   "outputs": [
    {
     "data": {
      "text/html": [
       "<div>\n",
       "<style scoped>\n",
       "    .dataframe tbody tr th:only-of-type {\n",
       "        vertical-align: middle;\n",
       "    }\n",
       "\n",
       "    .dataframe tbody tr th {\n",
       "        vertical-align: top;\n",
       "    }\n",
       "\n",
       "    .dataframe thead th {\n",
       "        text-align: right;\n",
       "    }\n",
       "</style>\n",
       "<table border=\"1\" class=\"dataframe\">\n",
       "  <thead>\n",
       "    <tr style=\"text-align: right;\">\n",
       "      <th></th>\n",
       "      <th>Heading</th>\n",
       "      <th>Date</th>\n",
       "      <th>Time</th>\n",
       "      <th>URL</th>\n",
       "      <th>Content</th>\n",
       "    </tr>\n",
       "  </thead>\n",
       "  <tbody>\n",
       "    <tr>\n",
       "      <th>0</th>\n",
       "      <td>‘Stop relating marks with a successful career’</td>\n",
       "      <td>May 19, 2019</td>\n",
       "      <td>09:45</td>\n",
       "      <td>https://www.hindustantimes.com/education/stop-...</td>\n",
       "      <td>[Over- emphasis on a perfect or near-perfect s...</td>\n",
       "    </tr>\n",
       "    <tr>\n",
       "      <th>1</th>\n",
       "      <td>CPL 2019: Jason Holder named as marquee player...</td>\n",
       "      <td>May 19, 2019</td>\n",
       "      <td>09:03</td>\n",
       "      <td>https://www.hindustantimes.com/cricket/cpl-201...</td>\n",
       "      <td>[West Indies skipper Jason Holder was named as...</td>\n",
       "    </tr>\n",
       "    <tr>\n",
       "      <th>2</th>\n",
       "      <td>Time to start winning at the top: Saurav Ghosal</td>\n",
       "      <td>May 19, 2019</td>\n",
       "      <td>09:06</td>\n",
       "      <td>https://www.hindustantimes.com/other-sports/ti...</td>\n",
       "      <td>[If Saurav Ghosal could choose his last supper...</td>\n",
       "    </tr>\n",
       "    <tr>\n",
       "      <th>3</th>\n",
       "      <td>Mary Kom confident of doing well in new 51kg c...</td>\n",
       "      <td>May 18, 2019</td>\n",
       "      <td>23:37</td>\n",
       "      <td>https://www.hindustantimes.com/other-sports/ma...</td>\n",
       "      <td>[Gearing up for her first competitive bout in ...</td>\n",
       "    </tr>\n",
       "    <tr>\n",
       "      <th>4</th>\n",
       "      <td>Summer fashion: 9 stylish skirts to try out th...</td>\n",
       "      <td>May 19, 2019</td>\n",
       "      <td>10:33</td>\n",
       "      <td>https://www.hindustantimes.com/brunch/summer-f...</td>\n",
       "      <td>[Remember Priyanka Chopra Jonas’ chic Vivienne...</td>\n",
       "    </tr>\n",
       "  </tbody>\n",
       "</table>\n",
       "</div>"
      ],
      "text/plain": [
       "                                             Heading          Date    Time  \\\n",
       "0     ‘Stop relating marks with a successful career’  May 19, 2019   09:45   \n",
       "1  CPL 2019: Jason Holder named as marquee player...  May 19, 2019   09:03   \n",
       "2    Time to start winning at the top: Saurav Ghosal  May 19, 2019   09:06   \n",
       "3  Mary Kom confident of doing well in new 51kg c...  May 18, 2019   23:37   \n",
       "4  Summer fashion: 9 stylish skirts to try out th...  May 19, 2019   10:33   \n",
       "\n",
       "                                                 URL  \\\n",
       "0  https://www.hindustantimes.com/education/stop-...   \n",
       "1  https://www.hindustantimes.com/cricket/cpl-201...   \n",
       "2  https://www.hindustantimes.com/other-sports/ti...   \n",
       "3  https://www.hindustantimes.com/other-sports/ma...   \n",
       "4  https://www.hindustantimes.com/brunch/summer-f...   \n",
       "\n",
       "                                             Content  \n",
       "0  [Over- emphasis on a perfect or near-perfect s...  \n",
       "1  [West Indies skipper Jason Holder was named as...  \n",
       "2  [If Saurav Ghosal could choose his last supper...  \n",
       "3  [Gearing up for her first competitive bout in ...  \n",
       "4  [Remember Priyanka Chopra Jonas’ chic Vivienne...  "
      ]
     },
     "execution_count": 20,
     "metadata": {},
     "output_type": "execute_result"
    }
   ],
   "source": [
    "import pandas as pd\n",
    "df=pd.DataFrame(records,columns=['Heading','Date','Time','URL','Content'])\n",
    "df.head()"
   ]
  },
  {
   "cell_type": "code",
   "execution_count": 21,
   "metadata": {},
   "outputs": [],
   "source": [
    "df['Date'] = pd.to_datetime(df['Date'])"
   ]
  },
  {
   "cell_type": "code",
   "execution_count": 22,
   "metadata": {},
   "outputs": [],
   "source": [
    "df.to_csv('HT.csv',index=False,encoding='utf-8')"
   ]
  },
  {
   "cell_type": "code",
   "execution_count": 23,
   "metadata": {},
   "outputs": [],
   "source": [
    "df=pd.read_csv('HT.csv',parse_dates=['Date'],encoding='utf-8')"
   ]
  },
  {
   "cell_type": "code",
   "execution_count": 24,
   "metadata": {},
   "outputs": [
    {
     "data": {
      "text/html": [
       "<div>\n",
       "<style scoped>\n",
       "    .dataframe tbody tr th:only-of-type {\n",
       "        vertical-align: middle;\n",
       "    }\n",
       "\n",
       "    .dataframe tbody tr th {\n",
       "        vertical-align: top;\n",
       "    }\n",
       "\n",
       "    .dataframe thead th {\n",
       "        text-align: right;\n",
       "    }\n",
       "</style>\n",
       "<table border=\"1\" class=\"dataframe\">\n",
       "  <thead>\n",
       "    <tr style=\"text-align: right;\">\n",
       "      <th></th>\n",
       "      <th>Heading</th>\n",
       "      <th>Date</th>\n",
       "      <th>Time</th>\n",
       "      <th>URL</th>\n",
       "      <th>Content</th>\n",
       "    </tr>\n",
       "  </thead>\n",
       "  <tbody>\n",
       "    <tr>\n",
       "      <th>0</th>\n",
       "      <td>‘Stop relating marks with a successful career’</td>\n",
       "      <td>2019-05-19</td>\n",
       "      <td>09:45</td>\n",
       "      <td>https://www.hindustantimes.com/education/stop-...</td>\n",
       "      <td>['Over- emphasis on a perfect or near-perfect ...</td>\n",
       "    </tr>\n",
       "    <tr>\n",
       "      <th>1</th>\n",
       "      <td>CPL 2019: Jason Holder named as marquee player...</td>\n",
       "      <td>2019-05-19</td>\n",
       "      <td>09:03</td>\n",
       "      <td>https://www.hindustantimes.com/cricket/cpl-201...</td>\n",
       "      <td>['West Indies skipper Jason Holder was named a...</td>\n",
       "    </tr>\n",
       "    <tr>\n",
       "      <th>2</th>\n",
       "      <td>Time to start winning at the top: Saurav Ghosal</td>\n",
       "      <td>2019-05-19</td>\n",
       "      <td>09:06</td>\n",
       "      <td>https://www.hindustantimes.com/other-sports/ti...</td>\n",
       "      <td>['If Saurav Ghosal could choose his last suppe...</td>\n",
       "    </tr>\n",
       "    <tr>\n",
       "      <th>3</th>\n",
       "      <td>Mary Kom confident of doing well in new 51kg c...</td>\n",
       "      <td>2019-05-18</td>\n",
       "      <td>23:37</td>\n",
       "      <td>https://www.hindustantimes.com/other-sports/ma...</td>\n",
       "      <td>['Gearing up for her first competitive bout in...</td>\n",
       "    </tr>\n",
       "    <tr>\n",
       "      <th>4</th>\n",
       "      <td>Summer fashion: 9 stylish skirts to try out th...</td>\n",
       "      <td>2019-05-19</td>\n",
       "      <td>10:33</td>\n",
       "      <td>https://www.hindustantimes.com/brunch/summer-f...</td>\n",
       "      <td>['Remember Priyanka Chopra Jonas’ chic Vivienn...</td>\n",
       "    </tr>\n",
       "  </tbody>\n",
       "</table>\n",
       "</div>"
      ],
      "text/plain": [
       "                                             Heading       Date    Time  \\\n",
       "0     ‘Stop relating marks with a successful career’ 2019-05-19   09:45   \n",
       "1  CPL 2019: Jason Holder named as marquee player... 2019-05-19   09:03   \n",
       "2    Time to start winning at the top: Saurav Ghosal 2019-05-19   09:06   \n",
       "3  Mary Kom confident of doing well in new 51kg c... 2019-05-18   23:37   \n",
       "4  Summer fashion: 9 stylish skirts to try out th... 2019-05-19   10:33   \n",
       "\n",
       "                                                 URL  \\\n",
       "0  https://www.hindustantimes.com/education/stop-...   \n",
       "1  https://www.hindustantimes.com/cricket/cpl-201...   \n",
       "2  https://www.hindustantimes.com/other-sports/ti...   \n",
       "3  https://www.hindustantimes.com/other-sports/ma...   \n",
       "4  https://www.hindustantimes.com/brunch/summer-f...   \n",
       "\n",
       "                                             Content  \n",
       "0  ['Over- emphasis on a perfect or near-perfect ...  \n",
       "1  ['West Indies skipper Jason Holder was named a...  \n",
       "2  ['If Saurav Ghosal could choose his last suppe...  \n",
       "3  ['Gearing up for her first competitive bout in...  \n",
       "4  ['Remember Priyanka Chopra Jonas’ chic Vivienn...  "
      ]
     },
     "execution_count": 24,
     "metadata": {},
     "output_type": "execute_result"
    }
   ],
   "source": [
    "df.head()"
   ]
  },
  {
   "cell_type": "code",
   "execution_count": null,
   "metadata": {},
   "outputs": [],
   "source": []
  },
  {
   "cell_type": "code",
   "execution_count": null,
   "metadata": {},
   "outputs": [],
   "source": []
  }
 ],
 "metadata": {
  "kernelspec": {
   "display_name": "Python 3",
   "language": "python",
   "name": "python3"
  },
  "language_info": {
   "codemirror_mode": {
    "name": "ipython",
    "version": 3
   },
   "file_extension": ".py",
   "mimetype": "text/x-python",
   "name": "python",
   "nbconvert_exporter": "python",
   "pygments_lexer": "ipython3",
   "version": "3.6.5"
  }
 },
 "nbformat": 4,
 "nbformat_minor": 2
}

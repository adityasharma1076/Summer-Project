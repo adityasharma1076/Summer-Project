{
 "cells": [
  {
   "cell_type": "code",
   "execution_count": 1,
   "metadata": {},
   "outputs": [],
   "source": [
    "import requests\n",
    "import bs4"
   ]
  },
  {
   "cell_type": "code",
   "execution_count": 2,
   "metadata": {},
   "outputs": [],
   "source": [
    "def record_date_time(z):\n",
    "    req = requests.get(z)\n",
    "    soup_url= bs4.BeautifulSoup(req.text,'lxml')\n",
    "    date_time = soup_url.find('time')['datetime']\n",
    "    date =date_time[:10]\n",
    "    time= date_time[11:17]+'00'\n",
    "\n",
    "    return date,time\n",
    "\n",
    "def record_URL(x):\n",
    "    y='https://timesofindia.indiatimes.com'\n",
    "    url = y+x \n",
    "    return url"
   ]
  },
  {
   "cell_type": "code",
   "execution_count": 5,
   "metadata": {},
   "outputs": [],
   "source": [
    "link ='https://timesofindia.indiatimes.com/education'\n"
   ]
  },
  {
   "cell_type": "code",
   "execution_count": 6,
   "metadata": {},
   "outputs": [],
   "source": [
    "res = requests.get(link)"
   ]
  },
  {
   "cell_type": "code",
   "execution_count": 7,
   "metadata": {},
   "outputs": [],
   "source": [
    "soup =bs4.BeautifulSoup(res.text,'lxml')\n"
   ]
  },
  {
   "cell_type": "code",
   "execution_count": 8,
   "metadata": {},
   "outputs": [],
   "source": [
    "toi=soup.select(\".main-content\")\n",
    "content=toi[0].findAll(\"span\", {\"class\" : \"w_tle\"})\n"
   ]
  },
  {
   "cell_type": "code",
   "execution_count": 9,
   "metadata": {
    "scrolled": true
   },
   "outputs": [
    {
     "data": {
      "text/plain": [
       "<span class=\"w_tle\"><a href=\"/home/education/news/career-options-available-in-the-media-industry/articleshow/68920097.cms\" pg=\"Top News#City HP-4-geturl\" target=\"_blank\" title=\"Journalism &amp; Mass Communication: Career options available in the media industry\">Journalism &amp; Mass Communication: Career options available in the media industry</a></span>"
      ]
     },
     "execution_count": 9,
     "metadata": {},
     "output_type": "execute_result"
    }
   ],
   "source": [
    "x=content[3]\n",
    "x"
   ]
  },
  {
   "cell_type": "code",
   "execution_count": 10,
   "metadata": {
    "scrolled": true
   },
   "outputs": [
    {
     "data": {
      "text/plain": [
       "'/home/education/news/career-options-available-in-the-media-industry/articleshow/68920097.cms'"
      ]
     },
     "execution_count": 10,
     "metadata": {},
     "output_type": "execute_result"
    }
   ],
   "source": [
    "x.find('a')['href']"
   ]
  },
  {
   "cell_type": "code",
   "execution_count": 11,
   "metadata": {},
   "outputs": [
    {
     "data": {
      "text/plain": [
       "'Journalism & Mass Communication: Career options available in the media industry'"
      ]
     },
     "execution_count": 11,
     "metadata": {},
     "output_type": "execute_result"
    }
   ],
   "source": [
    "x.text"
   ]
  },
  {
   "cell_type": "code",
   "execution_count": 13,
   "metadata": {},
   "outputs": [],
   "source": [
    "records=[]\n",
    "for record in content:\n",
    "    Heading = record.text\n",
    "    URL= record_URL(record.find('a')['href'])\n",
    "    Date,Time= record_date_time(URL)\n",
    "    #Time = record_time(URL)\n",
    "    Newspaper = 'Time of India'\n",
    "    records.append((Newspaper,Heading,Date,Time,URL))"
   ]
  },
  {
   "cell_type": "code",
   "execution_count": 17,
   "metadata": {},
   "outputs": [],
   "source": [
    "import pandas as pd\n",
    "df=pd.DataFrame(records,columns=['Newspaper','Heading','Date','Time','URL'])\n",
    "df['Date'] = pd.to_datetime(df['Date'])"
   ]
  },
  {
   "cell_type": "code",
   "execution_count": 21,
   "metadata": {},
   "outputs": [
    {
     "data": {
      "text/html": [
       "<div>\n",
       "<style scoped>\n",
       "    .dataframe tbody tr th:only-of-type {\n",
       "        vertical-align: middle;\n",
       "    }\n",
       "\n",
       "    .dataframe tbody tr th {\n",
       "        vertical-align: top;\n",
       "    }\n",
       "\n",
       "    .dataframe thead th {\n",
       "        text-align: right;\n",
       "    }\n",
       "</style>\n",
       "<table border=\"1\" class=\"dataframe\">\n",
       "  <thead>\n",
       "    <tr style=\"text-align: right;\">\n",
       "      <th></th>\n",
       "      <th>Newspaper</th>\n",
       "      <th>Heading</th>\n",
       "      <th>Date</th>\n",
       "      <th>Time</th>\n",
       "      <th>URL</th>\n",
       "    </tr>\n",
       "  </thead>\n",
       "  <tbody>\n",
       "    <tr>\n",
       "      <th>0</th>\n",
       "      <td>Time of India</td>\n",
       "      <td>Telangana ECET 2019 results to be announced to...</td>\n",
       "      <td>2019-05-22</td>\n",
       "      <td>11:52:00</td>\n",
       "      <td>https://timesofindia.indiatimes.com/home/educa...</td>\n",
       "    </tr>\n",
       "    <tr>\n",
       "      <th>1</th>\n",
       "      <td>Time of India</td>\n",
       "      <td>Rajasthan RBSE 12th Arts result 2019 releasing...</td>\n",
       "      <td>2019-05-22</td>\n",
       "      <td>11:48:00</td>\n",
       "      <td>https://timesofindia.indiatimes.com/home/educa...</td>\n",
       "    </tr>\n",
       "    <tr>\n",
       "      <th>2</th>\n",
       "      <td>Time of India</td>\n",
       "      <td>How to become a public relations specialist?</td>\n",
       "      <td>2019-05-22</td>\n",
       "      <td>10:34:00</td>\n",
       "      <td>https://timesofindia.indiatimes.com/home/educa...</td>\n",
       "    </tr>\n",
       "    <tr>\n",
       "      <th>3</th>\n",
       "      <td>Time of India</td>\n",
       "      <td>Journalism &amp; Mass Communication: Career option...</td>\n",
       "      <td>2019-05-22</td>\n",
       "      <td>10:30:00</td>\n",
       "      <td>https://timesofindia.indiatimes.com/home/educa...</td>\n",
       "    </tr>\n",
       "    <tr>\n",
       "      <th>4</th>\n",
       "      <td>Time of India</td>\n",
       "      <td>BU announces admissions for UG, PG programmes ...</td>\n",
       "      <td>2019-05-22</td>\n",
       "      <td>10:08:00</td>\n",
       "      <td>https://timesofindia.indiatimes.com/home/educa...</td>\n",
       "    </tr>\n",
       "  </tbody>\n",
       "</table>\n",
       "</div>"
      ],
      "text/plain": [
       "       Newspaper                                            Heading  \\\n",
       "0  Time of India  Telangana ECET 2019 results to be announced to...   \n",
       "1  Time of India  Rajasthan RBSE 12th Arts result 2019 releasing...   \n",
       "2  Time of India       How to become a public relations specialist?   \n",
       "3  Time of India  Journalism & Mass Communication: Career option...   \n",
       "4  Time of India  BU announces admissions for UG, PG programmes ...   \n",
       "\n",
       "        Date      Time                                                URL  \n",
       "0 2019-05-22  11:52:00  https://timesofindia.indiatimes.com/home/educa...  \n",
       "1 2019-05-22  11:48:00  https://timesofindia.indiatimes.com/home/educa...  \n",
       "2 2019-05-22  10:34:00  https://timesofindia.indiatimes.com/home/educa...  \n",
       "3 2019-05-22  10:30:00  https://timesofindia.indiatimes.com/home/educa...  \n",
       "4 2019-05-22  10:08:00  https://timesofindia.indiatimes.com/home/educa...  "
      ]
     },
     "execution_count": 21,
     "metadata": {},
     "output_type": "execute_result"
    }
   ],
   "source": [
    "df.head()"
   ]
  },
  {
   "cell_type": "code",
   "execution_count": 19,
   "metadata": {},
   "outputs": [],
   "source": [
    "df.to_csv('TOI_education.csv',index=False,encoding='utf-8')"
   ]
  },
  {
   "cell_type": "code",
   "execution_count": null,
   "metadata": {},
   "outputs": [],
   "source": []
  }
 ],
 "metadata": {
  "kernelspec": {
   "display_name": "Python 3",
   "language": "python",
   "name": "python3"
  },
  "language_info": {
   "codemirror_mode": {
    "name": "ipython",
    "version": 3
   },
   "file_extension": ".py",
   "mimetype": "text/x-python",
   "name": "python",
   "nbconvert_exporter": "python",
   "pygments_lexer": "ipython3",
   "version": "3.6.5"
  }
 },
 "nbformat": 4,
 "nbformat_minor": 2
}

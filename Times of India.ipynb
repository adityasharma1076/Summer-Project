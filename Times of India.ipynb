{
 "cells": [
  {
   "cell_type": "code",
   "execution_count": 1,
   "metadata": {},
   "outputs": [],
   "source": [
    "import requests\n",
    "import bs4"
   ]
  },
  {
   "cell_type": "code",
   "execution_count": 3,
   "metadata": {},
   "outputs": [
    {
     "name": "stdout",
     "output_type": "stream",
     "text": [
      "Enter the keyword you want to search - football\n"
     ]
    }
   ],
   "source": [
    "link ='https://timesofindia.indiatimes.com/topic/'\n",
    "search=input(\"Enter the keyword you want to search - \")"
   ]
  },
  {
   "cell_type": "code",
   "execution_count": 4,
   "metadata": {},
   "outputs": [],
   "source": [
    "b=link+search"
   ]
  },
  {
   "cell_type": "code",
   "execution_count": 5,
   "metadata": {},
   "outputs": [],
   "source": [
    "res = requests.get(b)"
   ]
  },
  {
   "cell_type": "code",
   "execution_count": 6,
   "metadata": {},
   "outputs": [],
   "source": [
    "soup =bs4.BeautifulSoup(res.text,'lxml')\n"
   ]
  },
  {
   "cell_type": "code",
   "execution_count": 9,
   "metadata": {},
   "outputs": [],
   "source": [
    "toi=soup.select('.content')"
   ]
  },
  {
   "cell_type": "code",
   "execution_count": 19,
   "metadata": {},
   "outputs": [
    {
     "data": {
      "text/plain": [
       "<div class=\"content\"><a href=\"/sports/football/top-stories/intercontinental-cup-football-tournament-to-be-held-in-ahmedabad/articleshow/69386669.cms\" target=\"_blank\"><span class=\"title\">\n",
       "Intercontinental Cup football tournament to be held in Ahmedabad\n",
       "</span><div class=\"social_share\"><i class=\"icon\"></i><div class=\"links\"><span class=\"fb\" data-plugin=\"facebook-share\" data-title=\"delhi dynamos\" data-url=\"/sports/football/top-stories/intercontinental-cup-football-tournament-to-be-held-in-ahmedabad/articleshow/69386669.cms\"></span><span class=\"twitter\" data-plugin=\"twitter-share\" data-title=\"delhi dynamos\" data-url=\"/sports/football/top-stories/intercontinental-cup-football-tournament-to-be-held-in-ahmedabad/articleshow/69386669.cms\"></span><span class=\"gplus\" data-plugin=\"googleplus-share\" data-title=\"delhi dynamos\" data-url=\"/sports/football/top-stories/intercontinental-cup-football-tournament-to-be-held-in-ahmedabad/articleshow/69386669.cms\"></span></div></div><span class=\"meta\" rodate=\"2019-05-18T10:41:49Z\">2019-05-18T10:41:49Z</span><p>The second edition of the Hero Intercontinental Cup will be held at the TransStadia Arena in Ahmedabad from July 7 to 18, the All India Football Federation announced on Saturday.</p></a></div>"
      ]
     },
     "execution_count": 19,
     "metadata": {},
     "output_type": "execute_result"
    }
   ],
   "source": [
    "x=toi[0]\n",
    "x"
   ]
  },
  {
   "cell_type": "code",
   "execution_count": 18,
   "metadata": {},
   "outputs": [
    {
     "data": {
      "text/plain": [
       "'/sports/football/top-stories/intercontinental-cup-football-tournament-to-be-held-in-ahmedabad/articleshow/69386669.cms'"
      ]
     },
     "execution_count": 18,
     "metadata": {},
     "output_type": "execute_result"
    }
   ],
   "source": [
    "x.find('a')['href']"
   ]
  },
  {
   "cell_type": "code",
   "execution_count": 23,
   "metadata": {},
   "outputs": [
    {
     "data": {
      "text/plain": [
       "'Intercontinental Cup football tournament to be held in Ahmedabad'"
      ]
     },
     "execution_count": 23,
     "metadata": {},
     "output_type": "execute_result"
    }
   ],
   "source": [
    " toi[0].find('span').text[1:-1]"
   ]
  },
  {
   "cell_type": "code",
   "execution_count": 35,
   "metadata": {},
   "outputs": [
    {
     "data": {
      "text/plain": [
       "[<span class=\"meta\" rodate=\"2019-05-18T10:41:49Z\">2019-05-18T10:41:49Z</span>]"
      ]
     },
     "execution_count": 35,
     "metadata": {},
     "output_type": "execute_result"
    }
   ],
   "source": [
    "y=toi[0].find_all(\"span\", {\"class\" : \"meta\"})\n",
    "y"
   ]
  },
  {
   "cell_type": "code",
   "execution_count": 42,
   "metadata": {},
   "outputs": [],
   "source": [
    "z=y[0].text"
   ]
  },
  {
   "cell_type": "code",
   "execution_count": 46,
   "metadata": {},
   "outputs": [
    {
     "data": {
      "text/plain": [
       "'10:41:49'"
      ]
     },
     "execution_count": 46,
     "metadata": {},
     "output_type": "execute_result"
    }
   ],
   "source": [
    "date=z[:10]\n",
    "time=z[11:-1]\n",
    "time"
   ]
  },
  {
   "cell_type": "code",
   "execution_count": 57,
   "metadata": {},
   "outputs": [],
   "source": [
    "def record_date(x):\n",
    "    z=x[0].text\n",
    "    date=z[:10]\n",
    "    return date\n",
    "def record_time(x):\n",
    "    z=x[0].text\n",
    "    time=z[11:-1]\n",
    "    return time \n",
    "def record_URL(x):\n",
    "    y='https://timesofindia.indiatimes.com'\n",
    "    url = y+x \n",
    "    return url"
   ]
  },
  {
   "cell_type": "code",
   "execution_count": 58,
   "metadata": {},
   "outputs": [],
   "source": [
    "records=[]\n",
    "for record in toi:\n",
    "    Heading = record.find('span').text[1:-1]\n",
    "    URL = record_URL(record.find('a')['href'])\n",
    "    date = record_date(record.find_all(\"span\",{\"class\" : \"meta\"}))\n",
    "    time = record_time(record.find_all(\"span\",{\"class\" : \"meta\"}))\n",
    "    records.append((Heading,date,time,URL))"
   ]
  },
  {
   "cell_type": "code",
   "execution_count": 59,
   "metadata": {},
   "outputs": [
    {
     "data": {
      "text/plain": [
       "('Intercontinental Cup football tournament to be held in Ahmedabad',\n",
       " '2019-05-18',\n",
       " '10:41:49',\n",
       " 'https://timesofindia.indiatimes.com/sports/football/top-stories/intercontinental-cup-football-tournament-to-be-held-in-ahmedabad/articleshow/69386669.cms')"
      ]
     },
     "execution_count": 59,
     "metadata": {},
     "output_type": "execute_result"
    }
   ],
   "source": [
    "records[0]"
   ]
  },
  {
   "cell_type": "code",
   "execution_count": null,
   "metadata": {},
   "outputs": [],
   "source": []
  },
  {
   "cell_type": "code",
   "execution_count": 61,
   "metadata": {},
   "outputs": [],
   "source": [
    "import pandas as pd\n",
    "df=pd.DataFrame(records,columns=['Heading','Date','Time','URL'])"
   ]
  },
  {
   "cell_type": "code",
   "execution_count": 63,
   "metadata": {},
   "outputs": [],
   "source": [
    "df['Date'] = pd.to_datetime(df['Date'])"
   ]
  },
  {
   "cell_type": "code",
   "execution_count": 66,
   "metadata": {},
   "outputs": [
    {
     "data": {
      "text/html": [
       "<div>\n",
       "<style scoped>\n",
       "    .dataframe tbody tr th:only-of-type {\n",
       "        vertical-align: middle;\n",
       "    }\n",
       "\n",
       "    .dataframe tbody tr th {\n",
       "        vertical-align: top;\n",
       "    }\n",
       "\n",
       "    .dataframe thead th {\n",
       "        text-align: right;\n",
       "    }\n",
       "</style>\n",
       "<table border=\"1\" class=\"dataframe\">\n",
       "  <thead>\n",
       "    <tr style=\"text-align: right;\">\n",
       "      <th></th>\n",
       "      <th>Heading</th>\n",
       "      <th>Date</th>\n",
       "      <th>Time</th>\n",
       "      <th>URL</th>\n",
       "    </tr>\n",
       "  </thead>\n",
       "  <tbody>\n",
       "    <tr>\n",
       "      <th>0</th>\n",
       "      <td>Intercontinental Cup football tournament to be...</td>\n",
       "      <td>2019-05-18</td>\n",
       "      <td>10:41:49</td>\n",
       "      <td>https://timesofindia.indiatimes.com/sports/foo...</td>\n",
       "    </tr>\n",
       "    <tr>\n",
       "      <th>1</th>\n",
       "      <td>No 'small-team' football, new coach Igor Stima...</td>\n",
       "      <td>2019-05-18</td>\n",
       "      <td>06:13:19</td>\n",
       "      <td>https://timesofindia.indiatimes.com/sports/foo...</td>\n",
       "    </tr>\n",
       "    <tr>\n",
       "      <th>2</th>\n",
       "      <td>'Liverpool will be hungrier, stronger': Pep Gu...</td>\n",
       "      <td>2019-05-18</td>\n",
       "      <td>04:08:14</td>\n",
       "      <td>https://timesofindia.indiatimes.com/sports/foo...</td>\n",
       "    </tr>\n",
       "    <tr>\n",
       "      <th>3</th>\n",
       "      <td>Zlatan Ibrahimovic hit with ban after neck grab</td>\n",
       "      <td>2019-05-18</td>\n",
       "      <td>03:50:45</td>\n",
       "      <td>https://timesofindia.indiatimes.com/sports/foo...</td>\n",
       "    </tr>\n",
       "    <tr>\n",
       "      <th>4</th>\n",
       "      <td>Manchester City target landmark treble as UEFA...</td>\n",
       "      <td>2019-05-17</td>\n",
       "      <td>05:05:35</td>\n",
       "      <td>https://timesofindia.indiatimes.com/sports/foo...</td>\n",
       "    </tr>\n",
       "  </tbody>\n",
       "</table>\n",
       "</div>"
      ],
      "text/plain": [
       "                                             Heading       Date      Time  \\\n",
       "0  Intercontinental Cup football tournament to be... 2019-05-18  10:41:49   \n",
       "1  No 'small-team' football, new coach Igor Stima... 2019-05-18  06:13:19   \n",
       "2  'Liverpool will be hungrier, stronger': Pep Gu... 2019-05-18  04:08:14   \n",
       "3    Zlatan Ibrahimovic hit with ban after neck grab 2019-05-18  03:50:45   \n",
       "4  Manchester City target landmark treble as UEFA... 2019-05-17  05:05:35   \n",
       "\n",
       "                                                 URL  \n",
       "0  https://timesofindia.indiatimes.com/sports/foo...  \n",
       "1  https://timesofindia.indiatimes.com/sports/foo...  \n",
       "2  https://timesofindia.indiatimes.com/sports/foo...  \n",
       "3  https://timesofindia.indiatimes.com/sports/foo...  \n",
       "4  https://timesofindia.indiatimes.com/sports/foo...  "
      ]
     },
     "execution_count": 66,
     "metadata": {},
     "output_type": "execute_result"
    }
   ],
   "source": [
    "df.head()"
   ]
  },
  {
   "cell_type": "code",
   "execution_count": 67,
   "metadata": {},
   "outputs": [],
   "source": [
    "df.to_csv('TOI.csv',index=False,encoding='utf-8')"
   ]
  },
  {
   "cell_type": "code",
   "execution_count": null,
   "metadata": {},
   "outputs": [],
   "source": []
  }
 ],
 "metadata": {
  "kernelspec": {
   "display_name": "Python 3",
   "language": "python",
   "name": "python3"
  },
  "language_info": {
   "codemirror_mode": {
    "name": "ipython",
    "version": 3
   },
   "file_extension": ".py",
   "mimetype": "text/x-python",
   "name": "python",
   "nbconvert_exporter": "python",
   "pygments_lexer": "ipython3",
   "version": "3.6.5"
  }
 },
 "nbformat": 4,
 "nbformat_minor": 2
}

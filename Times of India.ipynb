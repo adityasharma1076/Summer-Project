{
 "cells": [
  {
   "cell_type": "code",
   "execution_count": 1,
   "metadata": {},
   "outputs": [],
   "source": [
    "import requests\n",
    "import bs4"
   ]
  },
  {
   "cell_type": "code",
   "execution_count": 16,
   "metadata": {},
   "outputs": [],
   "source": [
    "link ='https://timesofindia.indiatimes.com/education'\n"
   ]
  },
  {
   "cell_type": "code",
   "execution_count": 11,
   "metadata": {},
   "outputs": [],
   "source": []
  },
  {
   "cell_type": "code",
   "execution_count": 12,
   "metadata": {},
   "outputs": [],
   "source": [
    "res = requests.get(link)"
   ]
  },
  {
   "cell_type": "code",
   "execution_count": 17,
   "metadata": {},
   "outputs": [],
   "source": [
    "soup =bs4.BeautifulSoup(res.text,'lxml')\n"
   ]
  },
  {
   "cell_type": "code",
   "execution_count": 61,
   "metadata": {},
   "outputs": [],
   "source": [
    "toi=soup.select(\".main-content\")\n",
    "content=toi[0].findAll(\"span\", {\"class\" : \"w_tle\"})\n",
    "#content=toi[0].findAll(\"li\")\n",
    "#content[0]"
   ]
  },
  {
   "cell_type": "code",
   "execution_count": 70,
   "metadata": {},
   "outputs": [
    {
     "data": {
      "text/plain": [
       "<span class=\"w_tle\"><a hid=\"9131688464\" href=\"/home/education/news/bhel-releases-engineer-trainee-and-executive-trainee-admit-card-2019-bhel-in/articleshow/69391363.cms\" pg=\"Top News#&gt;Home-Education-News-4-geturl\" target=\"_blank\" title=\"BHEL releases Engineer Trainee and Executive Trainee admit card 2019 @bhel.in\">BHEL releases Engineer Trainee and Executive Trainee admit card 2019 @bhel.in</a></span>"
      ]
     },
     "execution_count": 70,
     "metadata": {},
     "output_type": "execute_result"
    }
   ],
   "source": [
    "x=content[3]\n",
    "x"
   ]
  },
  {
   "cell_type": "code",
   "execution_count": 71,
   "metadata": {},
   "outputs": [
    {
     "data": {
      "text/plain": [
       "'/home/education/news/bhel-releases-engineer-trainee-and-executive-trainee-admit-card-2019-bhel-in/articleshow/69391363.cms'"
      ]
     },
     "execution_count": 71,
     "metadata": {},
     "output_type": "execute_result"
    }
   ],
   "source": [
    "x.find('a')['href']"
   ]
  },
  {
   "cell_type": "code",
   "execution_count": 72,
   "metadata": {},
   "outputs": [
    {
     "data": {
      "text/plain": [
       "'BHEL releases Engineer Trainee and Executive Trainee admit card 2019 @bhel.in'"
      ]
     },
     "execution_count": 72,
     "metadata": {},
     "output_type": "execute_result"
    }
   ],
   "source": [
    "x.text"
   ]
  },
  {
   "cell_type": "code",
   "execution_count": 77,
   "metadata": {},
   "outputs": [],
   "source": [
    "def record_url(str):\n",
    "    url ='https://timesofindia.indiatimes.com'+str\n",
    "    return url\n"
   ]
  },
  {
   "cell_type": "code",
   "execution_count": 78,
   "metadata": {},
   "outputs": [],
   "source": [
    "records=[]\n",
    "for record in content:\n",
    "    Heading = record.text\n",
    "    URL= record_url(record.find('a')['href'])\n",
    "    \n",
    "    records.append((Heading,URL))"
   ]
  },
  {
   "cell_type": "code",
   "execution_count": 80,
   "metadata": {},
   "outputs": [
    {
     "ename": "AttributeError",
     "evalue": "'list' object has no attribute 'head'",
     "output_type": "error",
     "traceback": [
      "\u001b[1;31m---------------------------------------------------------------------------\u001b[0m",
      "\u001b[1;31mAttributeError\u001b[0m                            Traceback (most recent call last)",
      "\u001b[1;32m<ipython-input-80-81810edb82e4>\u001b[0m in \u001b[0;36m<module>\u001b[1;34m()\u001b[0m\n\u001b[1;32m----> 1\u001b[1;33m \u001b[0mrecords\u001b[0m\u001b[1;33m.\u001b[0m\u001b[0mhead\u001b[0m\u001b[1;33m(\u001b[0m\u001b[1;33m)\u001b[0m\u001b[1;33m\u001b[0m\u001b[0m\n\u001b[0m",
      "\u001b[1;31mAttributeError\u001b[0m: 'list' object has no attribute 'head'"
     ]
    }
   ],
   "source": []
  },
  {
   "cell_type": "code",
   "execution_count": null,
   "metadata": {},
   "outputs": [],
   "source": []
  },
  {
   "cell_type": "code",
   "execution_count": null,
   "metadata": {},
   "outputs": [],
   "source": []
  },
  {
   "cell_type": "code",
   "execution_count": null,
   "metadata": {},
   "outputs": [],
   "source": [
    "\n",
    "#def record_date(x):\n",
    " #   z=x[0].text\n",
    " #   date=z[:10]\n",
    " #   return date\n",
    "#def record_time(x):\n",
    "  #  z=x[0].text\n",
    "  #  time=z[11:-1]\n",
    "  #  return time \n",
    "#def record_URL(x):\n",
    "#   y='https://timesofindia.indiatimes.com'\n",
    "  #  url = y+x \n",
    "    # return url"
   ]
  },
  {
   "cell_type": "code",
   "execution_count": null,
   "metadata": {},
   "outputs": [],
   "source": [
    "#records=[]\n",
    "#for record in toi:\n",
    "  #  Heading = record.find('span').text[1:-1]\n",
    "  #  URL = record_URL(record.find('a')['href'])\n",
    "    \n",
    "  #  span=record.find_all(\"span\",{\"class\" : \"meta\"})\n",
    "  #  date = record_date(span)\n",
    "  #  time = record_time(span)\n",
    "  #  records.append((Heading,date,time,URL))"
   ]
  },
  {
   "cell_type": "code",
   "execution_count": null,
   "metadata": {},
   "outputs": [],
   "source": [
    "#records[0]"
   ]
  },
  {
   "cell_type": "code",
   "execution_count": null,
   "metadata": {},
   "outputs": [],
   "source": []
  },
  {
   "cell_type": "code",
   "execution_count": 81,
   "metadata": {},
   "outputs": [],
   "source": [
    "import pandas as pd\n",
    "df=pd.DataFrame(records,columns=['Heading','URL'])"
   ]
  },
  {
   "cell_type": "code",
   "execution_count": null,
   "metadata": {},
   "outputs": [],
   "source": [
    "#df['Date'] = pd.to_datetime(df['Date'])"
   ]
  },
  {
   "cell_type": "code",
   "execution_count": 82,
   "metadata": {},
   "outputs": [
    {
     "data": {
      "text/html": [
       "<div>\n",
       "<style scoped>\n",
       "    .dataframe tbody tr th:only-of-type {\n",
       "        vertical-align: middle;\n",
       "    }\n",
       "\n",
       "    .dataframe tbody tr th {\n",
       "        vertical-align: top;\n",
       "    }\n",
       "\n",
       "    .dataframe thead th {\n",
       "        text-align: right;\n",
       "    }\n",
       "</style>\n",
       "<table border=\"1\" class=\"dataframe\">\n",
       "  <thead>\n",
       "    <tr style=\"text-align: right;\">\n",
       "      <th></th>\n",
       "      <th>Heading</th>\n",
       "      <th>URL</th>\n",
       "    </tr>\n",
       "  </thead>\n",
       "  <tbody>\n",
       "    <tr>\n",
       "      <th>0</th>\n",
       "      <td>FCI admit card 2019 released for various posts...</td>\n",
       "      <td>https://timesofindia.indiatimes.com/home/educa...</td>\n",
       "    </tr>\n",
       "    <tr>\n",
       "      <th>1</th>\n",
       "      <td>UP B.Ed JEE result 2019 to be announced soon @...</td>\n",
       "      <td>https://timesofindia.indiatimes.com/home/educa...</td>\n",
       "    </tr>\n",
       "    <tr>\n",
       "      <th>2</th>\n",
       "      <td>NIOS D.El.Ed. 4th Semester 2019 results to be ...</td>\n",
       "      <td>https://timesofindia.indiatimes.com/home/educa...</td>\n",
       "    </tr>\n",
       "    <tr>\n",
       "      <th>3</th>\n",
       "      <td>BHEL releases Engineer Trainee and Executive T...</td>\n",
       "      <td>https://timesofindia.indiatimes.com/home/educa...</td>\n",
       "    </tr>\n",
       "    <tr>\n",
       "      <th>4</th>\n",
       "      <td>Indian Navy SSC officer recruitment 2019: Appl...</td>\n",
       "      <td>https://timesofindia.indiatimes.com/home/educa...</td>\n",
       "    </tr>\n",
       "  </tbody>\n",
       "</table>\n",
       "</div>"
      ],
      "text/plain": [
       "                                             Heading  \\\n",
       "0  FCI admit card 2019 released for various posts...   \n",
       "1  UP B.Ed JEE result 2019 to be announced soon @...   \n",
       "2  NIOS D.El.Ed. 4th Semester 2019 results to be ...   \n",
       "3  BHEL releases Engineer Trainee and Executive T...   \n",
       "4  Indian Navy SSC officer recruitment 2019: Appl...   \n",
       "\n",
       "                                                 URL  \n",
       "0  https://timesofindia.indiatimes.com/home/educa...  \n",
       "1  https://timesofindia.indiatimes.com/home/educa...  \n",
       "2  https://timesofindia.indiatimes.com/home/educa...  \n",
       "3  https://timesofindia.indiatimes.com/home/educa...  \n",
       "4  https://timesofindia.indiatimes.com/home/educa...  "
      ]
     },
     "execution_count": 82,
     "metadata": {},
     "output_type": "execute_result"
    }
   ],
   "source": [
    "df.head()"
   ]
  },
  {
   "cell_type": "code",
   "execution_count": 84,
   "metadata": {},
   "outputs": [],
   "source": [
    "df.to_csv('TOI_education.csv',index=False,encoding='utf-8')"
   ]
  },
  {
   "cell_type": "code",
   "execution_count": null,
   "metadata": {},
   "outputs": [],
   "source": []
  }
 ],
 "metadata": {
  "kernelspec": {
   "display_name": "Python 3",
   "language": "python",
   "name": "python3"
  },
  "language_info": {
   "codemirror_mode": {
    "name": "ipython",
    "version": 3
   },
   "file_extension": ".py",
   "mimetype": "text/x-python",
   "name": "python",
   "nbconvert_exporter": "python",
   "pygments_lexer": "ipython3",
   "version": "3.6.5"
  }
 },
 "nbformat": 4,
 "nbformat_minor": 2
}

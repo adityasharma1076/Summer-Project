{
 "cells": [
  {
   "cell_type": "code",
   "execution_count": 2,
   "metadata": {},
   "outputs": [],
   "source": [
    "import requests\n",
    "import bs4"
   ]
  },
  {
   "cell_type": "code",
   "execution_count": 94,
   "metadata": {},
   "outputs": [],
   "source": [
    "def record_date_time(z):\n",
    "    x=str.split(z.text,',')\n",
    "    date =x[0]\n",
    "    time= x[1]+':00'\n",
    "\n",
    "    return date,time\n",
    "\n",
    "def record_URL(x):\n",
    "    y='https://timesofindia.indiatimes.com'\n",
    "    url = y+x \n",
    "    return url"
   ]
  },
  {
   "cell_type": "code",
   "execution_count": 95,
   "metadata": {},
   "outputs": [],
   "source": [
    "link ='https://timesofindia.indiatimes.com/education'\n"
   ]
  },
  {
   "cell_type": "code",
   "execution_count": 96,
   "metadata": {},
   "outputs": [],
   "source": [
    "res = requests.get(link)"
   ]
  },
  {
   "cell_type": "code",
   "execution_count": 97,
   "metadata": {},
   "outputs": [],
   "source": [
    "soup =bs4.BeautifulSoup(res.text,'lxml')\n"
   ]
  },
  {
   "cell_type": "code",
   "execution_count": 98,
   "metadata": {},
   "outputs": [],
   "source": [
    "toi=soup.select(\".main-content\")\n",
    "#content=toi[0].findAll(\"span\", {\"class\" : \"w_tle\"})\n",
    "#date_time=toi[0].findAll(\"span\",{\"class\" : \"w_bylinec\"})"
   ]
  },
  {
   "cell_type": "code",
   "execution_count": 99,
   "metadata": {},
   "outputs": [],
   "source": [
    "toi=soup.find(\"div\", {\"id\": \"c_wdt_list_1\"})"
   ]
  },
  {
   "cell_type": "code",
   "execution_count": 100,
   "metadata": {},
   "outputs": [],
   "source": [
    "content = toi.findAll('li')"
   ]
  },
  {
   "cell_type": "code",
   "execution_count": 101,
   "metadata": {},
   "outputs": [
    {
     "data": {
      "text/plain": [
       "<li><span class=\"w_tle\"><a href=\"/home/education/news/uttarakhand-board-10th-and-12th-results-2019-to-be-out-soon-ubse-uk-gov-in/articleshow/69556323.cms\" pg=\"Top News#City HP-5-geturl\" target=\"_blank\" title=\"Uttarakhand Board 10th and 12th results 2019 declared @ ubse.uk.gov.in\">Uttarakhand Board 10th and 12th results 2019 declared @ ubse.uk.gov.in</a></span><span class=\"w_bylinec\"><span class=\"strupd\" rodate=\"30 May 2019, 11:11\">30 May 2019, 11:11</span></span><div class=\"scl-wdgt\"><span class=\"fb\" data-plugin=\"facebook-share\" data-social-img=\"https://static.toiimg.com/photo/69556324.cms\" data-title=\"Uttarakhand Board 10th and 12th results 2019 declared @ ubse.uk.gov.in\" data-url=\"/home/education/news/uttarakhand-board-10th-and-12th-results-2019-to-be-out-soon-ubse-uk-gov-in/articleshow/69556323.cms?utm_source=facebook.com&amp;utm_medium=social&amp;utm_campaign=TOIDesktop\" pg=\"#fb/\"></span><span class=\"twtr\" data-plugin=\"twitter-share\" data-social-img=\"https://static.toiimg.com/photo/69556324.cms\" data-title=\"Uttarakhand Board 10th and 12th results 2019 declared @ ubse.uk.gov.in\" data-url=\"/home/education/news/uttarakhand-board-10th-and-12th-results-2019-to-be-out-soon-ubse-uk-gov-in/articleshow/69556323.cms?utm_source=twitter.com&amp;utm_medium=social&amp;utm_campaign=TOIDesktop\" pg=\"#twitter/\"></span></div></li>"
      ]
     },
     "execution_count": 101,
     "metadata": {},
     "output_type": "execute_result"
    }
   ],
   "source": [
    "content[5]"
   ]
  },
  {
   "cell_type": "code",
   "execution_count": 102,
   "metadata": {},
   "outputs": [
    {
     "ename": "KeyError",
     "evalue": "1",
     "output_type": "error",
     "traceback": [
      "\u001b[1;31m---------------------------------------------------------------------------\u001b[0m",
      "\u001b[1;31mKeyError\u001b[0m                                  Traceback (most recent call last)",
      "\u001b[1;32m<ipython-input-102-1b206e6ffd71>\u001b[0m in \u001b[0;36m<module>\u001b[1;34m()\u001b[0m\n\u001b[1;32m----> 1\u001b[1;33m \u001b[0my\u001b[0m\u001b[1;33m.\u001b[0m\u001b[0mfind\u001b[0m\u001b[1;33m(\u001b[0m\u001b[1;34m\"span\"\u001b[0m\u001b[1;33m,\u001b[0m \u001b[1;33m{\u001b[0m\u001b[1;34m\"class\"\u001b[0m \u001b[1;33m:\u001b[0m \u001b[1;34m\"w_tle\"\u001b[0m\u001b[1;33m}\u001b[0m\u001b[1;33m)\u001b[0m\u001b[1;33m[\u001b[0m\u001b[1;36m1\u001b[0m\u001b[1;33m]\u001b[0m\u001b[1;33m\u001b[0m\u001b[0m\n\u001b[0m",
      "\u001b[1;32m~\\Anaconda3\\lib\\site-packages\\bs4\\element.py\u001b[0m in \u001b[0;36m__getitem__\u001b[1;34m(self, key)\u001b[0m\n\u001b[0;32m   1009\u001b[0m         \"\"\"tag[key] returns the value of the 'key' attribute for the tag,\n\u001b[0;32m   1010\u001b[0m         and throws an exception if it's not there.\"\"\"\n\u001b[1;32m-> 1011\u001b[1;33m         \u001b[1;32mreturn\u001b[0m \u001b[0mself\u001b[0m\u001b[1;33m.\u001b[0m\u001b[0mattrs\u001b[0m\u001b[1;33m[\u001b[0m\u001b[0mkey\u001b[0m\u001b[1;33m]\u001b[0m\u001b[1;33m\u001b[0m\u001b[0m\n\u001b[0m\u001b[0;32m   1012\u001b[0m \u001b[1;33m\u001b[0m\u001b[0m\n\u001b[0;32m   1013\u001b[0m     \u001b[1;32mdef\u001b[0m \u001b[0m__iter__\u001b[0m\u001b[1;33m(\u001b[0m\u001b[0mself\u001b[0m\u001b[1;33m)\u001b[0m\u001b[1;33m:\u001b[0m\u001b[1;33m\u001b[0m\u001b[0m\n",
      "\u001b[1;31mKeyError\u001b[0m: 1"
     ]
    }
   ],
   "source": [
    "y.find(\"span\", {\"class\" : \"w_tle\"})[1]\n"
   ]
  },
  {
   "cell_type": "code",
   "execution_count": null,
   "metadata": {},
   "outputs": [],
   "source": [
    "date_time=y.find(\"span\", {\"class\" : \"w_bylinec\"})"
   ]
  },
  {
   "cell_type": "code",
   "execution_count": null,
   "metadata": {},
   "outputs": [],
   "source": [
    "date_time.text"
   ]
  },
  {
   "cell_type": "code",
   "execution_count": null,
   "metadata": {
    "scrolled": true
   },
   "outputs": [],
   "source": [
    "x=content[3]\n",
    "x"
   ]
  },
  {
   "cell_type": "code",
   "execution_count": 103,
   "metadata": {
    "scrolled": true
   },
   "outputs": [
    {
     "ename": "AttributeError",
     "evalue": "'list' object has no attribute 'find'",
     "output_type": "error",
     "traceback": [
      "\u001b[1;31m---------------------------------------------------------------------------\u001b[0m",
      "\u001b[1;31mAttributeError\u001b[0m                            Traceback (most recent call last)",
      "\u001b[1;32m<ipython-input-103-4adc82ef9c2a>\u001b[0m in \u001b[0;36m<module>\u001b[1;34m()\u001b[0m\n\u001b[1;32m----> 1\u001b[1;33m \u001b[0mx\u001b[0m\u001b[1;33m.\u001b[0m\u001b[0mfind\u001b[0m\u001b[1;33m(\u001b[0m\u001b[1;34m'a'\u001b[0m\u001b[1;33m)\u001b[0m\u001b[1;33m[\u001b[0m\u001b[1;34m'href'\u001b[0m\u001b[1;33m]\u001b[0m\u001b[1;33m\u001b[0m\u001b[0m\n\u001b[0m",
      "\u001b[1;31mAttributeError\u001b[0m: 'list' object has no attribute 'find'"
     ]
    }
   ],
   "source": [
    "x.find('a')['href']"
   ]
  },
  {
   "cell_type": "code",
   "execution_count": 104,
   "metadata": {},
   "outputs": [
    {
     "data": {
      "text/plain": [
       "'30 May 2019, 15:31'"
      ]
     },
     "execution_count": 104,
     "metadata": {},
     "output_type": "execute_result"
    }
   ],
   "source": [
    "date_time.text"
   ]
  },
  {
   "cell_type": "code",
   "execution_count": 105,
   "metadata": {},
   "outputs": [],
   "source": [
    "x=str.split(date_time.text,',')"
   ]
  },
  {
   "cell_type": "code",
   "execution_count": 106,
   "metadata": {},
   "outputs": [
    {
     "ename": "IndexError",
     "evalue": "list index out of range",
     "output_type": "error",
     "traceback": [
      "\u001b[1;31m---------------------------------------------------------------------------\u001b[0m",
      "\u001b[1;31mIndexError\u001b[0m                                Traceback (most recent call last)",
      "\u001b[1;32m<ipython-input-106-bd986a87f9b9>\u001b[0m in \u001b[0;36m<module>\u001b[1;34m()\u001b[0m\n\u001b[1;32m----> 1\u001b[1;33m \u001b[0mx\u001b[0m\u001b[1;33m[\u001b[0m\u001b[1;36m0\u001b[0m\u001b[1;33m]\u001b[0m\u001b[1;33m+\u001b[0m\u001b[1;34m' '\u001b[0m\u001b[1;33m+\u001b[0m\u001b[0mx\u001b[0m\u001b[1;33m[\u001b[0m\u001b[1;36m1\u001b[0m\u001b[1;33m]\u001b[0m\u001b[1;33m+\u001b[0m\u001b[1;34m' '\u001b[0m\u001b[1;33m+\u001b[0m\u001b[0mx\u001b[0m\u001b[1;33m[\u001b[0m\u001b[1;36m2\u001b[0m\u001b[1;33m]\u001b[0m\u001b[1;33m\u001b[0m\u001b[0m\n\u001b[0m",
      "\u001b[1;31mIndexError\u001b[0m: list index out of range"
     ]
    }
   ],
   "source": [
    "x[0]+' '+x[1]+' '+x[2]"
   ]
  },
  {
   "cell_type": "code",
   "execution_count": 107,
   "metadata": {},
   "outputs": [
    {
     "data": {
      "text/plain": [
       "['30 May 2019', ' 15:31']"
      ]
     },
     "execution_count": 107,
     "metadata": {},
     "output_type": "execute_result"
    }
   ],
   "source": [
    "x"
   ]
  },
  {
   "cell_type": "code",
   "execution_count": 108,
   "metadata": {},
   "outputs": [],
   "source": [
    "records=[]\n",
    "for record in content:\n",
    "    try:\n",
    "        media_content = record.find(\"span\", {\"class\" : \"w_tle\"})\n",
    "        date_time_content = record.find(\"span\", {\"class\" : \"w_bylinec\"})\n",
    "   \n",
    "    \n",
    "    \n",
    "        Heading = media_content.text\n",
    "        URL= record_URL(media_content.find('a')['href'])\n",
    "        Date,Time= record_date_time(date_time_content)\n",
    "        #Time = record_time(URL)\n",
    "        Newspaper = 'Time of India'\n",
    "    except:\n",
    "            continue\n",
    "    records.append((Newspaper,Heading,Date,Time,URL))"
   ]
  },
  {
   "cell_type": "code",
   "execution_count": null,
   "metadata": {},
   "outputs": [],
   "source": []
  },
  {
   "cell_type": "code",
   "execution_count": 109,
   "metadata": {},
   "outputs": [],
   "source": [
    "import pandas as pd\n",
    "df=pd.DataFrame(records,columns=['Newspaper','Heading','Date','Time','URL'])\n",
    "df['Date'] = pd.to_datetime(df['Date'])"
   ]
  },
  {
   "cell_type": "code",
   "execution_count": 110,
   "metadata": {},
   "outputs": [
    {
     "data": {
      "text/html": [
       "<div>\n",
       "<style scoped>\n",
       "    .dataframe tbody tr th:only-of-type {\n",
       "        vertical-align: middle;\n",
       "    }\n",
       "\n",
       "    .dataframe tbody tr th {\n",
       "        vertical-align: top;\n",
       "    }\n",
       "\n",
       "    .dataframe thead th {\n",
       "        text-align: right;\n",
       "    }\n",
       "</style>\n",
       "<table border=\"1\" class=\"dataframe\">\n",
       "  <thead>\n",
       "    <tr style=\"text-align: right;\">\n",
       "      <th></th>\n",
       "      <th>Newspaper</th>\n",
       "      <th>Heading</th>\n",
       "      <th>Date</th>\n",
       "      <th>Time</th>\n",
       "      <th>URL</th>\n",
       "    </tr>\n",
       "  </thead>\n",
       "  <tbody>\n",
       "    <tr>\n",
       "      <th>0</th>\n",
       "      <td>Time of India</td>\n",
       "      <td>Bihar D.El.Ed 2019 merit list expected to be r...</td>\n",
       "      <td>2019-05-30</td>\n",
       "      <td>17:34:00</td>\n",
       "      <td>https://timesofindia.indiatimes.com/home/educa...</td>\n",
       "    </tr>\n",
       "    <tr>\n",
       "      <th>1</th>\n",
       "      <td>Time of India</td>\n",
       "      <td>Rajasthan PTET 2019 result declared @ ptet2019...</td>\n",
       "      <td>2019-05-30</td>\n",
       "      <td>15:31:00</td>\n",
       "      <td>https://timesofindia.indiatimes.com/home/educa...</td>\n",
       "    </tr>\n",
       "    <tr>\n",
       "      <th>2</th>\n",
       "      <td>Time of India</td>\n",
       "      <td>CLAT 2019 Answer Key released @ clatconsortium...</td>\n",
       "      <td>2019-05-30</td>\n",
       "      <td>15:19:00</td>\n",
       "      <td>https://timesofindia.indiatimes.com/home/educa...</td>\n",
       "    </tr>\n",
       "    <tr>\n",
       "      <th>3</th>\n",
       "      <td>Time of India</td>\n",
       "      <td>NTA NEET UG 2019 Answer Key released; results ...</td>\n",
       "      <td>2019-05-30</td>\n",
       "      <td>11:30:00</td>\n",
       "      <td>https://timesofindia.indiatimes.com/home/educa...</td>\n",
       "    </tr>\n",
       "    <tr>\n",
       "      <th>4</th>\n",
       "      <td>Time of India</td>\n",
       "      <td>Uttarakhand Board 10th and 12th results 2019 d...</td>\n",
       "      <td>2019-05-30</td>\n",
       "      <td>11:11:00</td>\n",
       "      <td>https://timesofindia.indiatimes.com/home/educa...</td>\n",
       "    </tr>\n",
       "    <tr>\n",
       "      <th>5</th>\n",
       "      <td>Time of India</td>\n",
       "      <td>UBSE Uttarakhand 10th &amp; 12th results announced...</td>\n",
       "      <td>2019-05-30</td>\n",
       "      <td>11:09:00</td>\n",
       "      <td>https://timesofindia.indiatimes.com/home/educa...</td>\n",
       "    </tr>\n",
       "    <tr>\n",
       "      <th>6</th>\n",
       "      <td>Time of India</td>\n",
       "      <td>UK Board result 2019: UBSE Uttarakhand 10th &amp; ...</td>\n",
       "      <td>2019-05-30</td>\n",
       "      <td>09:49:00</td>\n",
       "      <td>https://timesofindia.indiatimes.com/home/educa...</td>\n",
       "    </tr>\n",
       "    <tr>\n",
       "      <th>7</th>\n",
       "      <td>Time of India</td>\n",
       "      <td>CSJM Kanpur University B.A., B.Sc. result 2019...</td>\n",
       "      <td>2019-05-30</td>\n",
       "      <td>09:39:00</td>\n",
       "      <td>https://timesofindia.indiatimes.com/home/educa...</td>\n",
       "    </tr>\n",
       "    <tr>\n",
       "      <th>8</th>\n",
       "      <td>Time of India</td>\n",
       "      <td>Delhi University Admissions 2019: DU announces...</td>\n",
       "      <td>2019-05-30</td>\n",
       "      <td>09:38:00</td>\n",
       "      <td>https://timesofindia.indiatimes.com/home/educa...</td>\n",
       "    </tr>\n",
       "    <tr>\n",
       "      <th>9</th>\n",
       "      <td>Time of India</td>\n",
       "      <td>Navodaya Result 2019: NVS Class 6th result and...</td>\n",
       "      <td>2019-05-30</td>\n",
       "      <td>09:36:00</td>\n",
       "      <td>https://timesofindia.indiatimes.com/home/educa...</td>\n",
       "    </tr>\n",
       "    <tr>\n",
       "      <th>10</th>\n",
       "      <td>Time of India</td>\n",
       "      <td>HSCAP Kerala: Second allotment result 2019 rel...</td>\n",
       "      <td>2019-05-30</td>\n",
       "      <td>09:33:00</td>\n",
       "      <td>https://timesofindia.indiatimes.com/home/educa...</td>\n",
       "    </tr>\n",
       "    <tr>\n",
       "      <th>11</th>\n",
       "      <td>Time of India</td>\n",
       "      <td>Five medical colleges approved by MCI in Telan...</td>\n",
       "      <td>2019-05-29</td>\n",
       "      <td>23:28:00</td>\n",
       "      <td>https://timesofindia.indiatimes.com/home/educa...</td>\n",
       "    </tr>\n",
       "    <tr>\n",
       "      <th>12</th>\n",
       "      <td>Time of India</td>\n",
       "      <td>DU admission registration process 2019 to comm...</td>\n",
       "      <td>2019-05-29</td>\n",
       "      <td>21:27:00</td>\n",
       "      <td>https://timesofindia.indiatimes.com/home/educa...</td>\n",
       "    </tr>\n",
       "    <tr>\n",
       "      <th>13</th>\n",
       "      <td>Time of India</td>\n",
       "      <td>HPSC paper leak: Rohtak resident Satish Rathi ...</td>\n",
       "      <td>2019-05-29</td>\n",
       "      <td>20:16:00</td>\n",
       "      <td>https://timesofindia.indiatimes.com/home/educa...</td>\n",
       "    </tr>\n",
       "    <tr>\n",
       "      <th>14</th>\n",
       "      <td>Time of India</td>\n",
       "      <td>App for Ramadan Kareem 2019 launched</td>\n",
       "      <td>2019-05-29</td>\n",
       "      <td>20:06:00</td>\n",
       "      <td>https://timesofindia.indiatimes.com/home/educa...</td>\n",
       "    </tr>\n",
       "    <tr>\n",
       "      <th>15</th>\n",
       "      <td>Time of India</td>\n",
       "      <td>West Bengal CM to decide on reduced summer vac...</td>\n",
       "      <td>2019-05-29</td>\n",
       "      <td>19:56:00</td>\n",
       "      <td>https://timesofindia.indiatimes.com/home/educa...</td>\n",
       "    </tr>\n",
       "    <tr>\n",
       "      <th>16</th>\n",
       "      <td>Time of India</td>\n",
       "      <td>DTTE Delhi releases CET 2019 Admit Card @cetde...</td>\n",
       "      <td>2019-05-29</td>\n",
       "      <td>18:14:00</td>\n",
       "      <td>https://timesofindia.indiatimes.com/home/educa...</td>\n",
       "    </tr>\n",
       "    <tr>\n",
       "      <th>17</th>\n",
       "      <td>Time of India</td>\n",
       "      <td>SBI Clerk Prelims 2019 Admit card released @ s...</td>\n",
       "      <td>2019-05-29</td>\n",
       "      <td>17:53:00</td>\n",
       "      <td>https://timesofindia.indiatimes.com/home/educa...</td>\n",
       "    </tr>\n",
       "    <tr>\n",
       "      <th>18</th>\n",
       "      <td>Time of India</td>\n",
       "      <td>APTRANSCO declares AEE 2019 results @aptransco...</td>\n",
       "      <td>2019-05-29</td>\n",
       "      <td>17:33:00</td>\n",
       "      <td>https://timesofindia.indiatimes.com/home/educa...</td>\n",
       "    </tr>\n",
       "  </tbody>\n",
       "</table>\n",
       "</div>"
      ],
      "text/plain": [
       "        Newspaper                                            Heading  \\\n",
       "0   Time of India  Bihar D.El.Ed 2019 merit list expected to be r...   \n",
       "1   Time of India  Rajasthan PTET 2019 result declared @ ptet2019...   \n",
       "2   Time of India  CLAT 2019 Answer Key released @ clatconsortium...   \n",
       "3   Time of India  NTA NEET UG 2019 Answer Key released; results ...   \n",
       "4   Time of India  Uttarakhand Board 10th and 12th results 2019 d...   \n",
       "5   Time of India  UBSE Uttarakhand 10th & 12th results announced...   \n",
       "6   Time of India  UK Board result 2019: UBSE Uttarakhand 10th & ...   \n",
       "7   Time of India  CSJM Kanpur University B.A., B.Sc. result 2019...   \n",
       "8   Time of India  Delhi University Admissions 2019: DU announces...   \n",
       "9   Time of India  Navodaya Result 2019: NVS Class 6th result and...   \n",
       "10  Time of India  HSCAP Kerala: Second allotment result 2019 rel...   \n",
       "11  Time of India  Five medical colleges approved by MCI in Telan...   \n",
       "12  Time of India  DU admission registration process 2019 to comm...   \n",
       "13  Time of India  HPSC paper leak: Rohtak resident Satish Rathi ...   \n",
       "14  Time of India               App for Ramadan Kareem 2019 launched   \n",
       "15  Time of India  West Bengal CM to decide on reduced summer vac...   \n",
       "16  Time of India  DTTE Delhi releases CET 2019 Admit Card @cetde...   \n",
       "17  Time of India  SBI Clerk Prelims 2019 Admit card released @ s...   \n",
       "18  Time of India  APTRANSCO declares AEE 2019 results @aptransco...   \n",
       "\n",
       "         Date       Time                                                URL  \n",
       "0  2019-05-30   17:34:00  https://timesofindia.indiatimes.com/home/educa...  \n",
       "1  2019-05-30   15:31:00  https://timesofindia.indiatimes.com/home/educa...  \n",
       "2  2019-05-30   15:19:00  https://timesofindia.indiatimes.com/home/educa...  \n",
       "3  2019-05-30   11:30:00  https://timesofindia.indiatimes.com/home/educa...  \n",
       "4  2019-05-30   11:11:00  https://timesofindia.indiatimes.com/home/educa...  \n",
       "5  2019-05-30   11:09:00  https://timesofindia.indiatimes.com/home/educa...  \n",
       "6  2019-05-30   09:49:00  https://timesofindia.indiatimes.com/home/educa...  \n",
       "7  2019-05-30   09:39:00  https://timesofindia.indiatimes.com/home/educa...  \n",
       "8  2019-05-30   09:38:00  https://timesofindia.indiatimes.com/home/educa...  \n",
       "9  2019-05-30   09:36:00  https://timesofindia.indiatimes.com/home/educa...  \n",
       "10 2019-05-30   09:33:00  https://timesofindia.indiatimes.com/home/educa...  \n",
       "11 2019-05-29   23:28:00  https://timesofindia.indiatimes.com/home/educa...  \n",
       "12 2019-05-29   21:27:00  https://timesofindia.indiatimes.com/home/educa...  \n",
       "13 2019-05-29   20:16:00  https://timesofindia.indiatimes.com/home/educa...  \n",
       "14 2019-05-29   20:06:00  https://timesofindia.indiatimes.com/home/educa...  \n",
       "15 2019-05-29   19:56:00  https://timesofindia.indiatimes.com/home/educa...  \n",
       "16 2019-05-29   18:14:00  https://timesofindia.indiatimes.com/home/educa...  \n",
       "17 2019-05-29   17:53:00  https://timesofindia.indiatimes.com/home/educa...  \n",
       "18 2019-05-29   17:33:00  https://timesofindia.indiatimes.com/home/educa...  "
      ]
     },
     "execution_count": 110,
     "metadata": {},
     "output_type": "execute_result"
    }
   ],
   "source": [
    "df"
   ]
  },
  {
   "cell_type": "code",
   "execution_count": 13,
   "metadata": {},
   "outputs": [],
   "source": [
    "df.to_csv('TOI_education.csv',index=False,encoding='utf-8')"
   ]
  },
  {
   "cell_type": "code",
   "execution_count": null,
   "metadata": {},
   "outputs": [],
   "source": []
  }
 ],
 "metadata": {
  "kernelspec": {
   "display_name": "Python 3",
   "language": "python",
   "name": "python3"
  },
  "language_info": {
   "codemirror_mode": {
    "name": "ipython",
    "version": 3
   },
   "file_extension": ".py",
   "mimetype": "text/x-python",
   "name": "python",
   "nbconvert_exporter": "python",
   "pygments_lexer": "ipython3",
   "version": "3.6.5"
  }
 },
 "nbformat": 4,
 "nbformat_minor": 2
}

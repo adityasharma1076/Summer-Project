{
 "cells": [
  {
   "cell_type": "code",
   "execution_count": 25,
   "metadata": {},
   "outputs": [],
   "source": [
    "import requests\n",
    "import bs4\n",
    "import os"
   ]
  },
  {
   "cell_type": "code",
   "execution_count": 26,
   "metadata": {},
   "outputs": [],
   "source": [
    "import datetime\n",
    "\n",
    "now = datetime.datetime.now()\n",
    "\n",
    "\n",
    "Today_time = now.strftime(\"%H:%M\")\n",
    "\n",
    "Today_date = now.strftime(\"%Y-%m-%d\")"
   ]
  },
  {
   "cell_type": "code",
   "execution_count": 27,
   "metadata": {},
   "outputs": [],
   "source": [
    "def record_date_time(z):\n",
    "    x=str.split(z.text,'T')\n",
    "    date =x[0]\n",
    "    time= x[1][:-1]\n",
    "\n",
    "    return date,time\n",
    "\n",
    "def record_URL(x):\n",
    "    y='https://timesofindia.indiatimes.com'\n",
    "    url = y+x \n",
    "    return url"
   ]
  },
  {
   "cell_type": "code",
   "execution_count": 28,
   "metadata": {},
   "outputs": [],
   "source": [
    "link ='https://timesofindia.indiatimes.com/topic/Technology'\n"
   ]
  },
  {
   "cell_type": "code",
   "execution_count": 29,
   "metadata": {},
   "outputs": [],
   "source": [
    "res = requests.get(link)"
   ]
  },
  {
   "cell_type": "code",
   "execution_count": 30,
   "metadata": {},
   "outputs": [],
   "source": [
    "soup =bs4.BeautifulSoup(res.text,'lxml')\n"
   ]
  },
  {
   "cell_type": "code",
   "execution_count": null,
   "metadata": {},
   "outputs": [],
   "source": []
  },
  {
   "cell_type": "code",
   "execution_count": 31,
   "metadata": {},
   "outputs": [],
   "source": [
    "toi=soup.find(\"ul\", {\"itemprop\": \"ItemList\"})\n",
    "content = toi.findAll('li')\n"
   ]
  },
  {
   "cell_type": "code",
   "execution_count": 33,
   "metadata": {},
   "outputs": [
    {
     "data": {
      "text/plain": [
       "'\\nDating app Tinder starts testing a ‘hack’ to get more matches\\n'"
      ]
     },
     "execution_count": 33,
     "metadata": {},
     "output_type": "execute_result"
    }
   ],
   "source": [
    "content[0].find('span',{\"class\":\"title\"}).text"
   ]
  },
  {
   "cell_type": "code",
   "execution_count": 34,
   "metadata": {},
   "outputs": [
    {
     "data": {
      "text/plain": [
       "'2019-06-01T03:25:07Z'"
      ]
     },
     "execution_count": 34,
     "metadata": {},
     "output_type": "execute_result"
    }
   ],
   "source": [
    "datetime=content[0].find('span',{\"class\": \"meta\"}).text\n",
    "datetime"
   ]
  },
  {
   "cell_type": "code",
   "execution_count": 36,
   "metadata": {},
   "outputs": [
    {
     "data": {
      "text/plain": [
       "'Dating app Tinder starts testing a ‘hack’ to get more matches'"
      ]
     },
     "execution_count": 36,
     "metadata": {},
     "output_type": "execute_result"
    }
   ],
   "source": [
    "content[0].findAll('span')[0].text[1:-1]"
   ]
  },
  {
   "cell_type": "code",
   "execution_count": 19,
   "metadata": {},
   "outputs": [],
   "source": [
    "records=[]\n",
    "for record in content:\n",
    "    try:\n",
    "        heading_content= record.find('span',{\"class\":\"title\"})\n",
    "        date_time_content = record.find('span',{\"class\": \"meta\"})\n",
    "        \n",
    "        Heading = heading_content.text[1:-1]\n",
    "        URL= record_URL(record.findAll('span')[1].attrs['data-url'])\n",
    "        Date,Time= record_date_time(date_time_content)\n",
    "        Newspaper = 'Time of India'\n",
    "    except:\n",
    "            continue\n",
    "    records.append((Newspaper,Heading,Date,Time,URL))"
   ]
  },
  {
   "cell_type": "code",
   "execution_count": 20,
   "metadata": {},
   "outputs": [
    {
     "data": {
      "text/plain": [
       "[('Time of India',\n",
       "  'Dating app Tinder starts testing a ‘hack’ to get more matches',\n",
       "  '2019-06-01',\n",
       "  '03:25:07',\n",
       "  'https://timesofindia.indiatimes.com/gadgets-news/dating-app-tinder-starts-testing-a-hack-to-get-more-matches/articleshow/69606593.cms'),\n",
       " ('Time of India',\n",
       "  'MacBook Pro reportedly explodes, battery may be to blame',\n",
       "  '2019-06-01',\n",
       "  '03:16:41',\n",
       "  'https://timesofindia.indiatimes.com/gadgets-news/macbook-pro-reportedly-explodes-battery-may-be-to-blame/articleshow/69606504.cms'),\n",
       " ('Time of India',\n",
       "  'How Google had to apologise over the Indian cricket team',\n",
       "  '2019-06-01',\n",
       "  '03:05:19',\n",
       "  'https://timesofindia.indiatimes.com/gadgets-news/how-google-had-to-apologise-over-the-indian-cricket-team/articleshow/69606385.cms'),\n",
       " ('Time of India',\n",
       "  'PM’s 1st decision aids families of all martyrs',\n",
       "  '2019-06-01',\n",
       "  '05:01:04',\n",
       "  'https://timesofindia.indiatimes.com/india/pms-1st-decision-aids-families-of-all-martyrs/articleshow/69605536.cms'),\n",
       " ('Time of India',\n",
       "  'Bangalore Times Fashion Week 2019 begins today',\n",
       "  '2019-05-31',\n",
       "  '18:35:00',\n",
       "  'https://timesofindia.indiatimes.com/city/bengaluru/bangalore-times-fashion-week-2019-begins-today/articleshow/69597350.cms'),\n",
       " ('Time of India',\n",
       "  'TS ICET 2019 Answer Key released at icet.tsche.ac.in',\n",
       "  '2019-05-31',\n",
       "  '18:00:56',\n",
       "  'https://timesofindia.indiatimes.com/home/education/news/ts-icet-2019-answer-key-expected-to-be-out-today/articleshow/69553184.cms'),\n",
       " ('Time of India',\n",
       "  'Huawei Nova 5i with triple rear camera spotted on GeekBench',\n",
       "  '2019-05-31',\n",
       "  '09:42:56',\n",
       "  'https://timesofindia.indiatimes.com/gadgets-news/huawei-nova-5i-with-triple-rear-camera-spotted-on-geekbench/articleshow/69595890.cms'),\n",
       " ('Time of India',\n",
       "  'Xiaomi Redmi Note 5 receives Android 9 Pie update',\n",
       "  '2019-05-31',\n",
       "  '09:40:12',\n",
       "  'https://timesofindia.indiatimes.com/gadgets-news/xiaomi-redmi-note-5-receives-android-9-pie-update/articleshow/69595825.cms'),\n",
       " ('Time of India',\n",
       "  'A fashion show at NIFT Gandhinagar',\n",
       "  '2019-05-31',\n",
       "  '09:00:49',\n",
       "  'https://timesofindia.indiatimes.com/entertainment/events/ahmedabad/a-fashion-show-at-nift-gandhinagar/articleshow/69595349.cms'),\n",
       " ('Time of India',\n",
       "  'NIFT’s graduating batch exhibited their projects',\n",
       "  '2019-05-31',\n",
       "  '07:29:19',\n",
       "  'https://timesofindia.indiatimes.com/entertainment/events/ahmedabad/nifts-graduating-batch-exhibited-their-projects/articleshow/69594038.cms'),\n",
       " ('Time of India',\n",
       "  'Why Huawei and Google may become friends again',\n",
       "  '2019-05-31',\n",
       "  '06:30:29',\n",
       "  'https://timesofindia.indiatimes.com/gadgets-news/why-huawei-and-google-may-become-friends-again/articleshow/69593194.cms'),\n",
       " ('Time of India',\n",
       "  'Samsung Galaxy Note 10 may get this big design change',\n",
       "  '2019-05-31',\n",
       "  '08:31:22',\n",
       "  'https://timesofindia.indiatimes.com/gadgets-news/samsung-galaxy-note-10-may-get-this-big-design-change/articleshow/69593146.cms'),\n",
       " ('Time of India',\n",
       "  'This is why Xiaomi’s number 1 tag does not bother Samsung',\n",
       "  '2019-05-31',\n",
       "  '07:43:19',\n",
       "  'https://timesofindia.indiatimes.com/gadgets-news/this-is-why-xiaomis-number-1-tag-does-not-bother-samsung/articleshow/69590370.cms'),\n",
       " ('Time of India',\n",
       "  'More than 200 engineering faculty from across the country to learn advanced pedagogy at IITGN',\n",
       "  '2019-05-30',\n",
       "  '14:41:39',\n",
       "  'https://timesofindia.indiatimes.com/entertainment/events/ahmedabad/more-than-200-engineering-faculty-from-across-the-country-to-learn-advanced-pedagogy-at-iitgn/articleshow/69585262.cms'),\n",
       " ('Time of India',\n",
       "  'GTU students selected to go to Tel Aviv Univ',\n",
       "  '2019-05-30',\n",
       "  '13:20:34',\n",
       "  'https://timesofindia.indiatimes.com/entertainment/events/ahmedabad/gtu-students-selected-to-go-to-tel-aviv-univ/articleshow/69583887.cms'),\n",
       " ('Time of India',\n",
       "  'Meizu 16Xs with triple rear camera, 4,000 mAh battery launched',\n",
       "  '2019-05-30',\n",
       "  '09:42:11',\n",
       "  'https://timesofindia.indiatimes.com/gadgets-news/meizu-16xs-with-triple-rear-camera-4000-mah-battery-launched/articleshow/69580038.cms'),\n",
       " ('Time of India',\n",
       "  'Oppo Reno Z with 8GB RAM, 32MP pop-up camera launched',\n",
       "  '2019-05-30',\n",
       "  '09:22:36',\n",
       "  'https://timesofindia.indiatimes.com/gadgets-news/oppo-reno-z-with-8gb-ram-32mp-pop-up-camera-launched/articleshow/69579762.cms')]"
      ]
     },
     "execution_count": 20,
     "metadata": {},
     "output_type": "execute_result"
    }
   ],
   "source": [
    "records"
   ]
  },
  {
   "cell_type": "code",
   "execution_count": 21,
   "metadata": {},
   "outputs": [],
   "source": [
    "import pandas as pd\n",
    "df=pd.DataFrame(records,columns=['Newspaper','Heading','Date','Time','URL'])\n",
    "df['Date'] = pd.to_datetime(df['Date'])"
   ]
  },
  {
   "cell_type": "code",
   "execution_count": 22,
   "metadata": {
    "scrolled": true
   },
   "outputs": [
    {
     "data": {
      "text/html": [
       "<div>\n",
       "<style scoped>\n",
       "    .dataframe tbody tr th:only-of-type {\n",
       "        vertical-align: middle;\n",
       "    }\n",
       "\n",
       "    .dataframe tbody tr th {\n",
       "        vertical-align: top;\n",
       "    }\n",
       "\n",
       "    .dataframe thead th {\n",
       "        text-align: right;\n",
       "    }\n",
       "</style>\n",
       "<table border=\"1\" class=\"dataframe\">\n",
       "  <thead>\n",
       "    <tr style=\"text-align: right;\">\n",
       "      <th></th>\n",
       "      <th>Newspaper</th>\n",
       "      <th>Heading</th>\n",
       "      <th>Date</th>\n",
       "      <th>Time</th>\n",
       "      <th>URL</th>\n",
       "    </tr>\n",
       "  </thead>\n",
       "  <tbody>\n",
       "    <tr>\n",
       "      <th>0</th>\n",
       "      <td>Time of India</td>\n",
       "      <td>Dating app Tinder starts testing a ‘hack’ to g...</td>\n",
       "      <td>2019-06-01</td>\n",
       "      <td>03:25:07</td>\n",
       "      <td>https://timesofindia.indiatimes.com/gadgets-ne...</td>\n",
       "    </tr>\n",
       "    <tr>\n",
       "      <th>1</th>\n",
       "      <td>Time of India</td>\n",
       "      <td>MacBook Pro reportedly explodes, battery may b...</td>\n",
       "      <td>2019-06-01</td>\n",
       "      <td>03:16:41</td>\n",
       "      <td>https://timesofindia.indiatimes.com/gadgets-ne...</td>\n",
       "    </tr>\n",
       "    <tr>\n",
       "      <th>2</th>\n",
       "      <td>Time of India</td>\n",
       "      <td>How Google had to apologise over the Indian cr...</td>\n",
       "      <td>2019-06-01</td>\n",
       "      <td>03:05:19</td>\n",
       "      <td>https://timesofindia.indiatimes.com/gadgets-ne...</td>\n",
       "    </tr>\n",
       "    <tr>\n",
       "      <th>3</th>\n",
       "      <td>Time of India</td>\n",
       "      <td>PM’s 1st decision aids families of all martyrs</td>\n",
       "      <td>2019-06-01</td>\n",
       "      <td>05:01:04</td>\n",
       "      <td>https://timesofindia.indiatimes.com/india/pms-...</td>\n",
       "    </tr>\n",
       "    <tr>\n",
       "      <th>4</th>\n",
       "      <td>Time of India</td>\n",
       "      <td>Bangalore Times Fashion Week 2019 begins today</td>\n",
       "      <td>2019-05-31</td>\n",
       "      <td>18:35:00</td>\n",
       "      <td>https://timesofindia.indiatimes.com/city/benga...</td>\n",
       "    </tr>\n",
       "    <tr>\n",
       "      <th>5</th>\n",
       "      <td>Time of India</td>\n",
       "      <td>TS ICET 2019 Answer Key released at icet.tsche...</td>\n",
       "      <td>2019-05-31</td>\n",
       "      <td>18:00:56</td>\n",
       "      <td>https://timesofindia.indiatimes.com/home/educa...</td>\n",
       "    </tr>\n",
       "    <tr>\n",
       "      <th>6</th>\n",
       "      <td>Time of India</td>\n",
       "      <td>Huawei Nova 5i with triple rear camera spotted...</td>\n",
       "      <td>2019-05-31</td>\n",
       "      <td>09:42:56</td>\n",
       "      <td>https://timesofindia.indiatimes.com/gadgets-ne...</td>\n",
       "    </tr>\n",
       "    <tr>\n",
       "      <th>7</th>\n",
       "      <td>Time of India</td>\n",
       "      <td>Xiaomi Redmi Note 5 receives Android 9 Pie update</td>\n",
       "      <td>2019-05-31</td>\n",
       "      <td>09:40:12</td>\n",
       "      <td>https://timesofindia.indiatimes.com/gadgets-ne...</td>\n",
       "    </tr>\n",
       "    <tr>\n",
       "      <th>8</th>\n",
       "      <td>Time of India</td>\n",
       "      <td>A fashion show at NIFT Gandhinagar</td>\n",
       "      <td>2019-05-31</td>\n",
       "      <td>09:00:49</td>\n",
       "      <td>https://timesofindia.indiatimes.com/entertainm...</td>\n",
       "    </tr>\n",
       "    <tr>\n",
       "      <th>9</th>\n",
       "      <td>Time of India</td>\n",
       "      <td>NIFT’s graduating batch exhibited their projects</td>\n",
       "      <td>2019-05-31</td>\n",
       "      <td>07:29:19</td>\n",
       "      <td>https://timesofindia.indiatimes.com/entertainm...</td>\n",
       "    </tr>\n",
       "    <tr>\n",
       "      <th>10</th>\n",
       "      <td>Time of India</td>\n",
       "      <td>Why Huawei and Google may become friends again</td>\n",
       "      <td>2019-05-31</td>\n",
       "      <td>06:30:29</td>\n",
       "      <td>https://timesofindia.indiatimes.com/gadgets-ne...</td>\n",
       "    </tr>\n",
       "    <tr>\n",
       "      <th>11</th>\n",
       "      <td>Time of India</td>\n",
       "      <td>Samsung Galaxy Note 10 may get this big design...</td>\n",
       "      <td>2019-05-31</td>\n",
       "      <td>08:31:22</td>\n",
       "      <td>https://timesofindia.indiatimes.com/gadgets-ne...</td>\n",
       "    </tr>\n",
       "    <tr>\n",
       "      <th>12</th>\n",
       "      <td>Time of India</td>\n",
       "      <td>This is why Xiaomi’s number 1 tag does not bot...</td>\n",
       "      <td>2019-05-31</td>\n",
       "      <td>07:43:19</td>\n",
       "      <td>https://timesofindia.indiatimes.com/gadgets-ne...</td>\n",
       "    </tr>\n",
       "    <tr>\n",
       "      <th>13</th>\n",
       "      <td>Time of India</td>\n",
       "      <td>More than 200 engineering faculty from across ...</td>\n",
       "      <td>2019-05-30</td>\n",
       "      <td>14:41:39</td>\n",
       "      <td>https://timesofindia.indiatimes.com/entertainm...</td>\n",
       "    </tr>\n",
       "    <tr>\n",
       "      <th>14</th>\n",
       "      <td>Time of India</td>\n",
       "      <td>GTU students selected to go to Tel Aviv Univ</td>\n",
       "      <td>2019-05-30</td>\n",
       "      <td>13:20:34</td>\n",
       "      <td>https://timesofindia.indiatimes.com/entertainm...</td>\n",
       "    </tr>\n",
       "    <tr>\n",
       "      <th>15</th>\n",
       "      <td>Time of India</td>\n",
       "      <td>Meizu 16Xs with triple rear camera, 4,000 mAh ...</td>\n",
       "      <td>2019-05-30</td>\n",
       "      <td>09:42:11</td>\n",
       "      <td>https://timesofindia.indiatimes.com/gadgets-ne...</td>\n",
       "    </tr>\n",
       "    <tr>\n",
       "      <th>16</th>\n",
       "      <td>Time of India</td>\n",
       "      <td>Oppo Reno Z with 8GB RAM, 32MP pop-up camera l...</td>\n",
       "      <td>2019-05-30</td>\n",
       "      <td>09:22:36</td>\n",
       "      <td>https://timesofindia.indiatimes.com/gadgets-ne...</td>\n",
       "    </tr>\n",
       "  </tbody>\n",
       "</table>\n",
       "</div>"
      ],
      "text/plain": [
       "        Newspaper                                            Heading  \\\n",
       "0   Time of India  Dating app Tinder starts testing a ‘hack’ to g...   \n",
       "1   Time of India  MacBook Pro reportedly explodes, battery may b...   \n",
       "2   Time of India  How Google had to apologise over the Indian cr...   \n",
       "3   Time of India     PM’s 1st decision aids families of all martyrs   \n",
       "4   Time of India     Bangalore Times Fashion Week 2019 begins today   \n",
       "5   Time of India  TS ICET 2019 Answer Key released at icet.tsche...   \n",
       "6   Time of India  Huawei Nova 5i with triple rear camera spotted...   \n",
       "7   Time of India  Xiaomi Redmi Note 5 receives Android 9 Pie update   \n",
       "8   Time of India                 A fashion show at NIFT Gandhinagar   \n",
       "9   Time of India   NIFT’s graduating batch exhibited their projects   \n",
       "10  Time of India     Why Huawei and Google may become friends again   \n",
       "11  Time of India  Samsung Galaxy Note 10 may get this big design...   \n",
       "12  Time of India  This is why Xiaomi’s number 1 tag does not bot...   \n",
       "13  Time of India  More than 200 engineering faculty from across ...   \n",
       "14  Time of India       GTU students selected to go to Tel Aviv Univ   \n",
       "15  Time of India  Meizu 16Xs with triple rear camera, 4,000 mAh ...   \n",
       "16  Time of India  Oppo Reno Z with 8GB RAM, 32MP pop-up camera l...   \n",
       "\n",
       "         Date      Time                                                URL  \n",
       "0  2019-06-01  03:25:07  https://timesofindia.indiatimes.com/gadgets-ne...  \n",
       "1  2019-06-01  03:16:41  https://timesofindia.indiatimes.com/gadgets-ne...  \n",
       "2  2019-06-01  03:05:19  https://timesofindia.indiatimes.com/gadgets-ne...  \n",
       "3  2019-06-01  05:01:04  https://timesofindia.indiatimes.com/india/pms-...  \n",
       "4  2019-05-31  18:35:00  https://timesofindia.indiatimes.com/city/benga...  \n",
       "5  2019-05-31  18:00:56  https://timesofindia.indiatimes.com/home/educa...  \n",
       "6  2019-05-31  09:42:56  https://timesofindia.indiatimes.com/gadgets-ne...  \n",
       "7  2019-05-31  09:40:12  https://timesofindia.indiatimes.com/gadgets-ne...  \n",
       "8  2019-05-31  09:00:49  https://timesofindia.indiatimes.com/entertainm...  \n",
       "9  2019-05-31  07:29:19  https://timesofindia.indiatimes.com/entertainm...  \n",
       "10 2019-05-31  06:30:29  https://timesofindia.indiatimes.com/gadgets-ne...  \n",
       "11 2019-05-31  08:31:22  https://timesofindia.indiatimes.com/gadgets-ne...  \n",
       "12 2019-05-31  07:43:19  https://timesofindia.indiatimes.com/gadgets-ne...  \n",
       "13 2019-05-30  14:41:39  https://timesofindia.indiatimes.com/entertainm...  \n",
       "14 2019-05-30  13:20:34  https://timesofindia.indiatimes.com/entertainm...  \n",
       "15 2019-05-30  09:42:11  https://timesofindia.indiatimes.com/gadgets-ne...  \n",
       "16 2019-05-30  09:22:36  https://timesofindia.indiatimes.com/gadgets-ne...  "
      ]
     },
     "execution_count": 22,
     "metadata": {},
     "output_type": "execute_result"
    }
   ],
   "source": [
    "df"
   ]
  },
  {
   "cell_type": "code",
   "execution_count": 23,
   "metadata": {},
   "outputs": [],
   "source": [
    "outname ='TOI_technology-'+str(Today_date)+'.csv'\n",
    "x=r\"C:\\Users\\drago\\Documents\\GitHub\\Summer-Project\\Technology\\CSV\\ \"\n",
    "if not os.path.exists(x[:-1]):\n",
    "    os.mkdir(x[:-1])\n",
    "date_today= Today_date +'\\ '\n",
    "outdir=x[:-1]+ date_today[:-1]\n",
    "if not os.path.exists(outdir):\n",
    "    os.mkdir(outdir)\n",
    "fullname = os.path.join(outdir, outname)"
   ]
  },
  {
   "cell_type": "code",
   "execution_count": 24,
   "metadata": {},
   "outputs": [],
   "source": [
    "df.to_csv(fullname,index=False,encoding='utf-8')"
   ]
  },
  {
   "cell_type": "code",
   "execution_count": null,
   "metadata": {},
   "outputs": [],
   "source": []
  }
 ],
 "metadata": {
  "kernelspec": {
   "display_name": "Python 3",
   "language": "python",
   "name": "python3"
  },
  "language_info": {
   "codemirror_mode": {
    "name": "ipython",
    "version": 3
   },
   "file_extension": ".py",
   "mimetype": "text/x-python",
   "name": "python",
   "nbconvert_exporter": "python",
   "pygments_lexer": "ipython3",
   "version": "3.6.5"
  }
 },
 "nbformat": 4,
 "nbformat_minor": 2
}

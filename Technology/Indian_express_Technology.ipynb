{
 "cells": [
  {
   "cell_type": "code",
   "execution_count": 1,
   "metadata": {},
   "outputs": [],
   "source": [
    "import requests\n",
    "import bs4\n",
    "import pandas as pd\n",
    "import os"
   ]
  },
  {
   "cell_type": "code",
   "execution_count": 2,
   "metadata": {},
   "outputs": [],
   "source": [
    "import datetime\n",
    "\n",
    "now = datetime.datetime.now()\n",
    "\n",
    "\n",
    "Today_time = now.strftime(\"%H:%M\")\n",
    "\n",
    "Today_date = now.strftime(\"%Y-%m-%d\")\n"
   ]
  },
  {
   "cell_type": "code",
   "execution_count": 3,
   "metadata": {},
   "outputs": [],
   "source": [
    "def get_date_time(URL):\n",
    "    req = requests.get(URL)\n",
    "    soup_date = bs4.BeautifulSoup(req.text,'lxml')\n",
    "    temp = soup_date.select(\".m-story-meta__credit\")\n",
    "    time_date = temp[0].findAll('span')[-1].text\n",
    "    x=str.split(time_date)\n",
    "    date = x[1]+' '+x[2]+' '+x[3]\n",
    "    time = x[4]+' '+x[5]\n",
    "    return date,time\n",
    "\n",
    "def get_time(URL):\n",
    "    req = requests.get(URL)\n",
    "    soup_date = bs4.BeautifulSoup(req.text,'lxml')\n",
    "    temp = soup_date.select(\".m-story-meta__credit\")\n",
    "    time_date = temp[0].findAll('span')[-1].text\n",
    "    time = time_date[-11:]\n",
    "    return time\n"
   ]
  },
  {
   "cell_type": "code",
   "execution_count": 4,
   "metadata": {},
   "outputs": [],
   "source": [
    "link = 'https://indianexpress.com/section/education/'"
   ]
  },
  {
   "cell_type": "code",
   "execution_count": 5,
   "metadata": {},
   "outputs": [],
   "source": [
    "res = requests.get(link)\n",
    "soup = bs4.BeautifulSoup(res.text,'lxml')"
   ]
  },
  {
   "cell_type": "code",
   "execution_count": 6,
   "metadata": {},
   "outputs": [],
   "source": [
    "h1 = soup.select('.m-article-featured__title')"
   ]
  },
  {
   "cell_type": "code",
   "execution_count": 7,
   "metadata": {},
   "outputs": [
    {
     "data": {
      "text/plain": [
       "'Supreme Court stays 10% EWS quota for PG medical courses in Maharashtra'"
      ]
     },
     "execution_count": 7,
     "metadata": {},
     "output_type": "execute_result"
    }
   ],
   "source": [
    "h1[0].text\n"
   ]
  },
  {
   "cell_type": "code",
   "execution_count": 8,
   "metadata": {},
   "outputs": [
    {
     "data": {
      "text/plain": [
       "'https://indianexpress.com/article/education/neet-10-percent-ews-quota-not-be-applicable-for-pg-medical-courses-in-maharashtra-sc-5755958/'"
      ]
     },
     "execution_count": 8,
     "metadata": {},
     "output_type": "execute_result"
    }
   ],
   "source": [
    "h1[0].find('a')['href']"
   ]
  },
  {
   "cell_type": "code",
   "execution_count": null,
   "metadata": {},
   "outputs": [],
   "source": []
  },
  {
   "cell_type": "code",
   "execution_count": 9,
   "metadata": {},
   "outputs": [],
   "source": [
    "records=[]\n",
    "#records.append(('Indian Express',h1[0].text,h1[0].find('a')['href']))\n",
    "h1_newspaper='Indian Express'\n",
    "h1_heading = h1[0].text\n",
    "h1_url = h1[0].find('a')['href']\n",
    "h1_date,h1_time = get_date_time(h1_url)\n",
    "#h1_time = get_time(h1_url)\n",
    "\n",
    "records.append((h1_newspaper,h1_heading,h1_date,h1_time,h1_url))"
   ]
  },
  {
   "cell_type": "code",
   "execution_count": 10,
   "metadata": {},
   "outputs": [],
   "source": [
    "h2=soup.findAll('h2')"
   ]
  },
  {
   "cell_type": "code",
   "execution_count": 11,
   "metadata": {},
   "outputs": [
    {
     "data": {
      "text/plain": [
       "[<h2 class=\"m-article-tall@medium+__title m-article-wide@small-__title\"><a class=\"m-block-link__anchor\" data-event-id=\"\" href=\"https://indianexpress.com/article/education/rajasthan-ptet-result-2019-date-and-time-ptet2019-net-ptet2019-org-5755887/\" target=\"_self\" title=\"Rajasthan PTET results 2019 declared, how to check via websites\">Rajasthan PTET results 2019 declared, how to check via websites</a></h2>,\n",
       " <h2 class=\"m-article-tall@medium+__title m-article-wide@small-__title\"><a class=\"m-block-link__anchor\" data-event-id=\"\" href=\"https://indianexpress.com/article/education/rajasthan-ptet-results-2019-declared-when-and-where-to-check-ptet2019-net-ptet2019-org-5756475/\" target=\"_self\" title=\"Rajasthan PTET results 2019 declared: When and where to check\">Rajasthan PTET results 2019 declared: When and where to check</a></h2>,\n",
       " <h2 class=\"m-article-tall@medium+__title m-article-wide@small-__title\"><a class=\"m-block-link__anchor\" data-event-id=\"\" href=\"https://indianexpress.com/article/education/du-first-cut-off-2018-live-updates-first-cut-off-to-be-released-soon-at-du-ac-in-5222708/\" target=\"_self\" title=\"DU First Cut-Off 2018 Highlights: Second cut-off might see marginal tip\">DU First Cut-Off 2018 Highlights: Second cut-off might see marginal tip</a></h2>]"
      ]
     },
     "execution_count": 11,
     "metadata": {},
     "output_type": "execute_result"
    }
   ],
   "source": [
    "h2[1:4]"
   ]
  },
  {
   "cell_type": "code",
   "execution_count": 12,
   "metadata": {},
   "outputs": [
    {
     "data": {
      "text/plain": [
       "'https://indianexpress.com/article/education/rajasthan-ptet-result-2019-date-and-time-ptet2019-net-ptet2019-org-5755887/'"
      ]
     },
     "execution_count": 12,
     "metadata": {},
     "output_type": "execute_result"
    }
   ],
   "source": [
    "h2[1].text\n",
    "h2[1].find('a')['href']"
   ]
  },
  {
   "cell_type": "code",
   "execution_count": 13,
   "metadata": {},
   "outputs": [],
   "source": [
    "for record in h2[1:4]:\n",
    "    Heading = record.text\n",
    "    URL = record.find('a')['href']\n",
    "    Date,Time = get_date_time(URL)\n",
    "    #Time = get_time(URL)\n",
    "    Newspaper='Indian Express'\n",
    "    records.append((Newspaper,Heading,Date,Time,URL))"
   ]
  },
  {
   "cell_type": "code",
   "execution_count": 14,
   "metadata": {},
   "outputs": [],
   "source": [
    "h3=soup.select('.m-article-landing__title')"
   ]
  },
  {
   "cell_type": "code",
   "execution_count": 15,
   "metadata": {},
   "outputs": [
    {
     "data": {
      "text/plain": [
       "'https://indianexpress.com/article/education/du-admissions-2019-at-du-ac-in-live-updates-application-forms-documents-required-how-to-apply-eligibility-exam-dates-du-ac-in-delhi-university-5755602/'"
      ]
     },
     "execution_count": 15,
     "metadata": {},
     "output_type": "execute_result"
    }
   ],
   "source": [
    "h3[0].text\n",
    "h3[0].find('a')['href']"
   ]
  },
  {
   "cell_type": "code",
   "execution_count": 16,
   "metadata": {},
   "outputs": [],
   "source": [
    "req = requests.get('https://indianexpress.com/article/education/why-are-du-admissions-2019-being-delayed-delhi-university-du-ac-in-5739038/')\n",
    "soup_date = bs4.BeautifulSoup(req.text,'lxml')"
   ]
  },
  {
   "cell_type": "code",
   "execution_count": null,
   "metadata": {},
   "outputs": [],
   "source": []
  },
  {
   "cell_type": "code",
   "execution_count": 17,
   "metadata": {},
   "outputs": [],
   "source": [
    "for record in h3:\n",
    "    Heading = record.text\n",
    "    URL = record.find('a')['href']\n",
    "    Date,Time = get_date_time(URL)\n",
    "    #Time = get_time(URL)\n",
    "    Newspaper = 'Indian Express'\n",
    "    records.append((Newspaper,Heading,Date,Time,URL))"
   ]
  },
  {
   "cell_type": "code",
   "execution_count": 18,
   "metadata": {},
   "outputs": [],
   "source": [
    "df=pd.DataFrame(records,columns=['Newspaper','Heading','Date','Time','URL'])\n",
    "df['Date'] = pd.to_datetime(df['Date'])"
   ]
  },
  {
   "cell_type": "code",
   "execution_count": 19,
   "metadata": {},
   "outputs": [
    {
     "data": {
      "text/html": [
       "<div>\n",
       "<style scoped>\n",
       "    .dataframe tbody tr th:only-of-type {\n",
       "        vertical-align: middle;\n",
       "    }\n",
       "\n",
       "    .dataframe tbody tr th {\n",
       "        vertical-align: top;\n",
       "    }\n",
       "\n",
       "    .dataframe thead th {\n",
       "        text-align: right;\n",
       "    }\n",
       "</style>\n",
       "<table border=\"1\" class=\"dataframe\">\n",
       "  <thead>\n",
       "    <tr style=\"text-align: right;\">\n",
       "      <th></th>\n",
       "      <th>Newspaper</th>\n",
       "      <th>Heading</th>\n",
       "      <th>Date</th>\n",
       "      <th>Time</th>\n",
       "      <th>URL</th>\n",
       "    </tr>\n",
       "  </thead>\n",
       "  <tbody>\n",
       "    <tr>\n",
       "      <th>0</th>\n",
       "      <td>Indian Express</td>\n",
       "      <td>Supreme Court stays 10% EWS quota for PG medic...</td>\n",
       "      <td>2019-05-30</td>\n",
       "      <td>3:48:52 pm</td>\n",
       "      <td>https://indianexpress.com/article/education/ne...</td>\n",
       "    </tr>\n",
       "    <tr>\n",
       "      <th>1</th>\n",
       "      <td>Indian Express</td>\n",
       "      <td>Rajasthan PTET results 2019 declared, how to c...</td>\n",
       "      <td>2019-05-30</td>\n",
       "      <td>3:39:37 pm</td>\n",
       "      <td>https://indianexpress.com/article/education/ra...</td>\n",
       "    </tr>\n",
       "    <tr>\n",
       "      <th>2</th>\n",
       "      <td>Indian Express</td>\n",
       "      <td>Rajasthan PTET results 2019 declared: When and...</td>\n",
       "      <td>2019-05-30</td>\n",
       "      <td>3:38:43 pm</td>\n",
       "      <td>https://indianexpress.com/article/education/ra...</td>\n",
       "    </tr>\n",
       "    <tr>\n",
       "      <th>3</th>\n",
       "      <td>Indian Express</td>\n",
       "      <td>DU First Cut-Off 2018 Highlights: Second cut-o...</td>\n",
       "      <td>2019-05-30</td>\n",
       "      <td>3:20:36 pm</td>\n",
       "      <td>https://indianexpress.com/article/education/du...</td>\n",
       "    </tr>\n",
       "    <tr>\n",
       "      <th>4</th>\n",
       "      <td>Indian Express</td>\n",
       "      <td>LiveDelhi University admissions 2019 @du.ac.in...</td>\n",
       "      <td>2019-05-30</td>\n",
       "      <td>2:59:03 pm</td>\n",
       "      <td>https://indianexpress.com/article/education/du...</td>\n",
       "    </tr>\n",
       "    <tr>\n",
       "      <th>5</th>\n",
       "      <td>Indian Express</td>\n",
       "      <td>Bihar D.El.Ed 2019 merit list to be released t...</td>\n",
       "      <td>2019-05-30</td>\n",
       "      <td>2:45:52 pm</td>\n",
       "      <td>https://indianexpress.com/article/education/bi...</td>\n",
       "    </tr>\n",
       "    <tr>\n",
       "      <th>6</th>\n",
       "      <td>Indian Express</td>\n",
       "      <td>NEET answer key 2019 released, how to challeng...</td>\n",
       "      <td>2019-05-30</td>\n",
       "      <td>2:39:44 pm</td>\n",
       "      <td>https://indianexpress.com/article/education/ne...</td>\n",
       "    </tr>\n",
       "    <tr>\n",
       "      <th>7</th>\n",
       "      <td>Indian Express</td>\n",
       "      <td>Now, artificial intelligence to detect cheatin...</td>\n",
       "      <td>2019-05-30</td>\n",
       "      <td>1:24:26 pm</td>\n",
       "      <td>https://indianexpress.com/article/education/no...</td>\n",
       "    </tr>\n",
       "    <tr>\n",
       "      <th>8</th>\n",
       "      <td>Indian Express</td>\n",
       "      <td>JAC Delhi 2019: Counselling begins for admissi...</td>\n",
       "      <td>2019-05-30</td>\n",
       "      <td>1:17:36 pm</td>\n",
       "      <td>https://indianexpress.com/article/education/ja...</td>\n",
       "    </tr>\n",
       "    <tr>\n",
       "      <th>9</th>\n",
       "      <td>Indian Express</td>\n",
       "      <td>Come and study in India: India’s US envoy tell...</td>\n",
       "      <td>2019-05-30</td>\n",
       "      <td>1:09:05 pm</td>\n",
       "      <td>https://indianexpress.com/article/education/st...</td>\n",
       "    </tr>\n",
       "    <tr>\n",
       "      <th>10</th>\n",
       "      <td>Indian Express</td>\n",
       "      <td>LiveUK Board 10th, 11th, 12th Result 2019 Decl...</td>\n",
       "      <td>2019-05-30</td>\n",
       "      <td>12:50:57 pm</td>\n",
       "      <td>https://indianexpress.com/article/education/ut...</td>\n",
       "    </tr>\n",
       "    <tr>\n",
       "      <th>11</th>\n",
       "      <td>Indian Express</td>\n",
       "      <td>Uttarakhand Board UBSE Class 10th, 12th result...</td>\n",
       "      <td>2019-05-30</td>\n",
       "      <td>12:14:34 pm</td>\n",
       "      <td>https://indianexpress.com/article/education/ut...</td>\n",
       "    </tr>\n",
       "    <tr>\n",
       "      <th>12</th>\n",
       "      <td>Indian Express</td>\n",
       "      <td>Uttarakhand UK Board 10th, 11th, 12th results ...</td>\n",
       "      <td>2019-05-30</td>\n",
       "      <td>12:14:33 pm</td>\n",
       "      <td>https://indianexpress.com/article/education/ut...</td>\n",
       "    </tr>\n",
       "    <tr>\n",
       "      <th>13</th>\n",
       "      <td>Indian Express</td>\n",
       "      <td>Uttarakhand Board 10th, 11th, 12th results 201...</td>\n",
       "      <td>2019-05-30</td>\n",
       "      <td>12:14:28 pm</td>\n",
       "      <td>https://indianexpress.com/article/education/ut...</td>\n",
       "    </tr>\n",
       "    <tr>\n",
       "      <th>14</th>\n",
       "      <td>Indian Express</td>\n",
       "      <td>UK Board 10th, 11th, 12th Result 2019 declared...</td>\n",
       "      <td>2019-05-30</td>\n",
       "      <td>11:58:35 am</td>\n",
       "      <td>https://indianexpress.com/article/education/uk...</td>\n",
       "    </tr>\n",
       "    <tr>\n",
       "      <th>15</th>\n",
       "      <td>Indian Express</td>\n",
       "      <td>Declared! Uttarakhand Board UBSE Class 10th, 1...</td>\n",
       "      <td>2019-05-30</td>\n",
       "      <td>10:58:32 am</td>\n",
       "      <td>https://indianexpress.com/article/education/ut...</td>\n",
       "    </tr>\n",
       "  </tbody>\n",
       "</table>\n",
       "</div>"
      ],
      "text/plain": [
       "         Newspaper                                            Heading  \\\n",
       "0   Indian Express  Supreme Court stays 10% EWS quota for PG medic...   \n",
       "1   Indian Express  Rajasthan PTET results 2019 declared, how to c...   \n",
       "2   Indian Express  Rajasthan PTET results 2019 declared: When and...   \n",
       "3   Indian Express  DU First Cut-Off 2018 Highlights: Second cut-o...   \n",
       "4   Indian Express  LiveDelhi University admissions 2019 @du.ac.in...   \n",
       "5   Indian Express  Bihar D.El.Ed 2019 merit list to be released t...   \n",
       "6   Indian Express  NEET answer key 2019 released, how to challeng...   \n",
       "7   Indian Express  Now, artificial intelligence to detect cheatin...   \n",
       "8   Indian Express  JAC Delhi 2019: Counselling begins for admissi...   \n",
       "9   Indian Express  Come and study in India: India’s US envoy tell...   \n",
       "10  Indian Express  LiveUK Board 10th, 11th, 12th Result 2019 Decl...   \n",
       "11  Indian Express  Uttarakhand Board UBSE Class 10th, 12th result...   \n",
       "12  Indian Express  Uttarakhand UK Board 10th, 11th, 12th results ...   \n",
       "13  Indian Express  Uttarakhand Board 10th, 11th, 12th results 201...   \n",
       "14  Indian Express  UK Board 10th, 11th, 12th Result 2019 declared...   \n",
       "15  Indian Express  Declared! Uttarakhand Board UBSE Class 10th, 1...   \n",
       "\n",
       "         Date         Time                                                URL  \n",
       "0  2019-05-30   3:48:52 pm  https://indianexpress.com/article/education/ne...  \n",
       "1  2019-05-30   3:39:37 pm  https://indianexpress.com/article/education/ra...  \n",
       "2  2019-05-30   3:38:43 pm  https://indianexpress.com/article/education/ra...  \n",
       "3  2019-05-30   3:20:36 pm  https://indianexpress.com/article/education/du...  \n",
       "4  2019-05-30   2:59:03 pm  https://indianexpress.com/article/education/du...  \n",
       "5  2019-05-30   2:45:52 pm  https://indianexpress.com/article/education/bi...  \n",
       "6  2019-05-30   2:39:44 pm  https://indianexpress.com/article/education/ne...  \n",
       "7  2019-05-30   1:24:26 pm  https://indianexpress.com/article/education/no...  \n",
       "8  2019-05-30   1:17:36 pm  https://indianexpress.com/article/education/ja...  \n",
       "9  2019-05-30   1:09:05 pm  https://indianexpress.com/article/education/st...  \n",
       "10 2019-05-30  12:50:57 pm  https://indianexpress.com/article/education/ut...  \n",
       "11 2019-05-30  12:14:34 pm  https://indianexpress.com/article/education/ut...  \n",
       "12 2019-05-30  12:14:33 pm  https://indianexpress.com/article/education/ut...  \n",
       "13 2019-05-30  12:14:28 pm  https://indianexpress.com/article/education/ut...  \n",
       "14 2019-05-30  11:58:35 am  https://indianexpress.com/article/education/uk...  \n",
       "15 2019-05-30  10:58:32 am  https://indianexpress.com/article/education/ut...  "
      ]
     },
     "execution_count": 19,
     "metadata": {},
     "output_type": "execute_result"
    }
   ],
   "source": [
    "df"
   ]
  },
  {
   "cell_type": "code",
   "execution_count": 20,
   "metadata": {},
   "outputs": [],
   "source": [
    "outname ='IE_education-'+str(Today_date)+'.csv'\n",
    "x=r\"C:\\Users\\drago\\Documents\\GitHub\\Summer-Project\\Education\\CSV\\ \"\n",
    "date_today= Today_date +'\\ '\n",
    "outdir=x[:-1]+ date_today[:-1]\n",
    "if not os.path.exists(outdir):\n",
    "    os.mkdir(outdir)\n",
    "fullname = os.path.join(outdir, outname) "
   ]
  },
  {
   "cell_type": "code",
   "execution_count": 21,
   "metadata": {},
   "outputs": [],
   "source": [
    "df.to_csv(fullname,index=False,encoding='utf-8')"
   ]
  }
 ],
 "metadata": {
  "kernelspec": {
   "display_name": "Python 3",
   "language": "python",
   "name": "python3"
  },
  "language_info": {
   "codemirror_mode": {
    "name": "ipython",
    "version": 3
   },
   "file_extension": ".py",
   "mimetype": "text/x-python",
   "name": "python",
   "nbconvert_exporter": "python",
   "pygments_lexer": "ipython3",
   "version": "3.6.5"
  }
 },
 "nbformat": 4,
 "nbformat_minor": 2
}

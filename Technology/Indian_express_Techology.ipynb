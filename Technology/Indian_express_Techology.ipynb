{
 "cells": [
  {
   "cell_type": "code",
   "execution_count": 1,
   "metadata": {},
   "outputs": [],
   "source": [
    "import requests\n",
    "import bs4\n",
    "import pandas as pd\n",
    "import os"
   ]
  },
  {
   "cell_type": "code",
   "execution_count": 2,
   "metadata": {},
   "outputs": [],
   "source": [
    "import datetime\n",
    "\n",
    "now = datetime.datetime.now()\n",
    "\n",
    "\n",
    "Today_time = now.strftime(\"%H:%M\")\n",
    "\n",
    "Today_date = now.strftime(\"%Y-%m-%d\")\n"
   ]
  },
  {
   "cell_type": "code",
   "execution_count": 28,
   "metadata": {},
   "outputs": [],
   "source": [
    "def get_date_time(URL):\n",
    "    req = requests.get(URL)\n",
    "    soup_date = bs4.BeautifulSoup(req.text,'lxml')\n",
    "    temp = soup_date.select(\".m-story-meta__credit\")\n",
    "    time_date = temp[0].findAll('span')[-1].text\n",
    "    x=str.split(time_date)\n",
    "    date = x[1]+' '+x[2]+' '+x[3]\n",
    "    time = x[4]+' '+x[5]\n",
    "    return date,time\n"
   ]
  },
  {
   "cell_type": "code",
   "execution_count": null,
   "metadata": {},
   "outputs": [],
   "source": []
  },
  {
   "cell_type": "code",
   "execution_count": 4,
   "metadata": {},
   "outputs": [],
   "source": [
    "link = 'https://indianexpress.com/technology'"
   ]
  },
  {
   "cell_type": "code",
   "execution_count": 5,
   "metadata": {},
   "outputs": [],
   "source": [
    "res = requests.get(link)\n",
    "soup = bs4.BeautifulSoup(res.text,'lxml')"
   ]
  },
  {
   "cell_type": "code",
   "execution_count": null,
   "metadata": {},
   "outputs": [],
   "source": []
  },
  {
   "cell_type": "code",
   "execution_count": 6,
   "metadata": {},
   "outputs": [],
   "source": [
    "\n",
    "h1 = soup.select('.m-article-featured__title')"
   ]
  },
  {
   "cell_type": "code",
   "execution_count": 10,
   "metadata": {},
   "outputs": [],
   "source": [
    "records=[]\n",
    "\n",
    "h1_newspaper='Indian Express'\n",
    "h1_heading = h1[0].text\n",
    "h1_url = h1[0].find('a')['href']\n",
    "h1_date,h1_time = get_date_time(h1_url)\n",
    "#h1_time = get_time(h1_url)\n",
    "\n",
    "records.append((h1_newspaper,h1_heading,h1_date,h1_time,h1_url))"
   ]
  },
  {
   "cell_type": "code",
   "execution_count": null,
   "metadata": {},
   "outputs": [],
   "source": []
  },
  {
   "cell_type": "code",
   "execution_count": 11,
   "metadata": {},
   "outputs": [],
   "source": [
    "h2=soup.findAll('h2')"
   ]
  },
  {
   "cell_type": "code",
   "execution_count": 14,
   "metadata": {},
   "outputs": [],
   "source": [
    "for record in h2[1:-3]:\n",
    "    Heading = record.text\n",
    "    URL = record.find('a')['href']\n",
    "    Date,Time = get_date_time(URL)\n",
    "    Newspaper='Indian Express'\n",
    "    records.append((Newspaper,Heading,Date,Time,URL))"
   ]
  },
  {
   "cell_type": "code",
   "execution_count": null,
   "metadata": {},
   "outputs": [],
   "source": []
  },
  {
   "cell_type": "code",
   "execution_count": 15,
   "metadata": {},
   "outputs": [],
   "source": [
    "h3=soup.select('.m-article-landing__inner')"
   ]
  },
  {
   "cell_type": "code",
   "execution_count": 21,
   "metadata": {},
   "outputs": [],
   "source": [
    "for record in h3:\n",
    "    content = record.select(\".m-article-landing__title\")[0]\n",
    "    datetime = record.time.attrs['datetime']\n",
    "\n",
    "    Heading = content.text\n",
    "    URL = content.find('a')['href']\n",
    "    x=str.split(datetime,' ')\n",
    "    Date = x[0]\n",
    "    Time = str.split(x[1],'+')[0]+':00'\n",
    "    #Time = get_time(URL)\n",
    "    Newspaper = 'Indian Express'\n",
    "    records.append((Newspaper,Heading,Date,Time,URL))"
   ]
  },
  {
   "cell_type": "code",
   "execution_count": null,
   "metadata": {},
   "outputs": [],
   "source": []
  },
  {
   "cell_type": "code",
   "execution_count": 22,
   "metadata": {},
   "outputs": [],
   "source": [
    "df=pd.DataFrame(records,columns=['Newspaper','Heading','Date','Time','URL'])\n",
    "df['Date'] = pd.to_datetime(df['Date'])"
   ]
  },
  {
   "cell_type": "code",
   "execution_count": 23,
   "metadata": {},
   "outputs": [
    {
     "data": {
      "text/html": [
       "<div>\n",
       "<style scoped>\n",
       "    .dataframe tbody tr th:only-of-type {\n",
       "        vertical-align: middle;\n",
       "    }\n",
       "\n",
       "    .dataframe tbody tr th {\n",
       "        vertical-align: top;\n",
       "    }\n",
       "\n",
       "    .dataframe thead th {\n",
       "        text-align: right;\n",
       "    }\n",
       "</style>\n",
       "<table border=\"1\" class=\"dataframe\">\n",
       "  <thead>\n",
       "    <tr style=\"text-align: right;\">\n",
       "      <th></th>\n",
       "      <th>Newspaper</th>\n",
       "      <th>Heading</th>\n",
       "      <th>Date</th>\n",
       "      <th>Time</th>\n",
       "      <th>URL</th>\n",
       "    </tr>\n",
       "  </thead>\n",
       "  <tbody>\n",
       "    <tr>\n",
       "      <th>0</th>\n",
       "      <td>Indian Express</td>\n",
       "      <td>Xiaomi Redmi Note 7S review: This is Redmi Not...</td>\n",
       "      <td>2019-05-31</td>\n",
       "      <td>7:04:04 pm</td>\n",
       "      <td>https://indianexpress.com/article/technology/t...</td>\n",
       "    </tr>\n",
       "    <tr>\n",
       "      <th>1</th>\n",
       "      <td>Indian Express</td>\n",
       "      <td>Smartphones expected in June 2019: OnePlus 7, ...</td>\n",
       "      <td>2019-05-31</td>\n",
       "      <td>5:54:07 pm</td>\n",
       "      <td>https://indianexpress.com/article/technology/t...</td>\n",
       "    </tr>\n",
       "    <tr>\n",
       "      <th>2</th>\n",
       "      <td>Indian Express</td>\n",
       "      <td>Four biggest trends at Computex 2019 that you ...</td>\n",
       "      <td>2019-05-31</td>\n",
       "      <td>5:38:28 pm</td>\n",
       "      <td>https://indianexpress.com/article/technology/t...</td>\n",
       "    </tr>\n",
       "    <tr>\n",
       "      <th>3</th>\n",
       "      <td>Indian Express</td>\n",
       "      <td>Google: Users prefer 'keep data' settings, qui...</td>\n",
       "      <td>2019-05-31</td>\n",
       "      <td>3:06:26 pm</td>\n",
       "      <td>https://indianexpress.com/article/technology/s...</td>\n",
       "    </tr>\n",
       "    <tr>\n",
       "      <th>4</th>\n",
       "      <td>Indian Express</td>\n",
       "      <td>Redmi Note 7 Pro MIUI 10 Global Stable ROM sta...</td>\n",
       "      <td>2019-05-31</td>\n",
       "      <td>8:03:11 pm</td>\n",
       "      <td>https://indianexpress.com/article/technology/m...</td>\n",
       "    </tr>\n",
       "    <tr>\n",
       "      <th>5</th>\n",
       "      <td>Indian Express</td>\n",
       "      <td>Call of Duty: Modern Warfare reboot to be rele...</td>\n",
       "      <td>2019-05-31</td>\n",
       "      <td>6:07:01 pm</td>\n",
       "      <td>https://indianexpress.com/article/technology/g...</td>\n",
       "    </tr>\n",
       "    <tr>\n",
       "      <th>6</th>\n",
       "      <td>Indian Express</td>\n",
       "      <td>Redmi Note 7 Pro MIUI 10 Global Stable ROM sta...</td>\n",
       "      <td>2019-05-31</td>\n",
       "      <td>20:03:11:00</td>\n",
       "      <td>https://indianexpress.com/article/technology/m...</td>\n",
       "    </tr>\n",
       "    <tr>\n",
       "      <th>7</th>\n",
       "      <td>Indian Express</td>\n",
       "      <td>Oppo granted patent for smartphone with a flip...</td>\n",
       "      <td>2019-05-31</td>\n",
       "      <td>19:10:47:00</td>\n",
       "      <td>https://indianexpress.com/article/technology/m...</td>\n",
       "    </tr>\n",
       "    <tr>\n",
       "      <th>8</th>\n",
       "      <td>Indian Express</td>\n",
       "      <td>Xiaomi Redmi Note 7S review: This is Redmi Not...</td>\n",
       "      <td>2019-05-31</td>\n",
       "      <td>19:04:04:00</td>\n",
       "      <td>https://indianexpress.com/article/technology/t...</td>\n",
       "    </tr>\n",
       "    <tr>\n",
       "      <th>9</th>\n",
       "      <td>Indian Express</td>\n",
       "      <td>Call of Duty: Modern Warfare reboot to be rele...</td>\n",
       "      <td>2019-05-31</td>\n",
       "      <td>18:07:01:00</td>\n",
       "      <td>https://indianexpress.com/article/technology/g...</td>\n",
       "    </tr>\n",
       "    <tr>\n",
       "      <th>10</th>\n",
       "      <td>Indian Express</td>\n",
       "      <td>Smartphones expected in June 2019: OnePlus 7, ...</td>\n",
       "      <td>2019-05-31</td>\n",
       "      <td>17:54:07:00</td>\n",
       "      <td>https://indianexpress.com/article/technology/t...</td>\n",
       "    </tr>\n",
       "    <tr>\n",
       "      <th>11</th>\n",
       "      <td>Indian Express</td>\n",
       "      <td>Four biggest trends at Computex 2019 that you ...</td>\n",
       "      <td>2019-05-31</td>\n",
       "      <td>17:38:28:00</td>\n",
       "      <td>https://indianexpress.com/article/technology/t...</td>\n",
       "    </tr>\n",
       "    <tr>\n",
       "      <th>12</th>\n",
       "      <td>Indian Express</td>\n",
       "      <td>Indian researchers develop low-cost rubbing ma...</td>\n",
       "      <td>2019-05-31</td>\n",
       "      <td>17:03:56:00</td>\n",
       "      <td>https://indianexpress.com/article/technology/s...</td>\n",
       "    </tr>\n",
       "    <tr>\n",
       "      <th>13</th>\n",
       "      <td>Indian Express</td>\n",
       "      <td>WhatsApp beta update for iOS bans users from d...</td>\n",
       "      <td>2019-05-31</td>\n",
       "      <td>16:53:58:00</td>\n",
       "      <td>https://indianexpress.com/article/technology/s...</td>\n",
       "    </tr>\n",
       "    <tr>\n",
       "      <th>14</th>\n",
       "      <td>Indian Express</td>\n",
       "      <td>Will exit 2019 with 25% share of $4.5-bn onlin...</td>\n",
       "      <td>2019-05-31</td>\n",
       "      <td>16:13:50:00</td>\n",
       "      <td>https://indianexpress.com/article/technology/t...</td>\n",
       "    </tr>\n",
       "    <tr>\n",
       "      <th>15</th>\n",
       "      <td>Indian Express</td>\n",
       "      <td>Microsoft hints at new modern OS for invisible...</td>\n",
       "      <td>2019-05-31</td>\n",
       "      <td>15:30:53:00</td>\n",
       "      <td>https://indianexpress.com/article/technology/t...</td>\n",
       "    </tr>\n",
       "    <tr>\n",
       "      <th>16</th>\n",
       "      <td>Indian Express</td>\n",
       "      <td>Tech News of the day: Bose Noise Cancelling He...</td>\n",
       "      <td>2019-05-31</td>\n",
       "      <td>15:18:27:00</td>\n",
       "      <td>https://indianexpress.com/article/technology/g...</td>\n",
       "    </tr>\n",
       "    <tr>\n",
       "      <th>17</th>\n",
       "      <td>Indian Express</td>\n",
       "      <td>Google: Users prefer ‘keep data’ settings, qui...</td>\n",
       "      <td>2019-05-31</td>\n",
       "      <td>15:06:26:00</td>\n",
       "      <td>https://indianexpress.com/article/technology/s...</td>\n",
       "    </tr>\n",
       "  </tbody>\n",
       "</table>\n",
       "</div>"
      ],
      "text/plain": [
       "         Newspaper                                            Heading  \\\n",
       "0   Indian Express  Xiaomi Redmi Note 7S review: This is Redmi Not...   \n",
       "1   Indian Express  Smartphones expected in June 2019: OnePlus 7, ...   \n",
       "2   Indian Express  Four biggest trends at Computex 2019 that you ...   \n",
       "3   Indian Express  Google: Users prefer 'keep data' settings, qui...   \n",
       "4   Indian Express  Redmi Note 7 Pro MIUI 10 Global Stable ROM sta...   \n",
       "5   Indian Express  Call of Duty: Modern Warfare reboot to be rele...   \n",
       "6   Indian Express  Redmi Note 7 Pro MIUI 10 Global Stable ROM sta...   \n",
       "7   Indian Express  Oppo granted patent for smartphone with a flip...   \n",
       "8   Indian Express  Xiaomi Redmi Note 7S review: This is Redmi Not...   \n",
       "9   Indian Express  Call of Duty: Modern Warfare reboot to be rele...   \n",
       "10  Indian Express  Smartphones expected in June 2019: OnePlus 7, ...   \n",
       "11  Indian Express  Four biggest trends at Computex 2019 that you ...   \n",
       "12  Indian Express  Indian researchers develop low-cost rubbing ma...   \n",
       "13  Indian Express  WhatsApp beta update for iOS bans users from d...   \n",
       "14  Indian Express  Will exit 2019 with 25% share of $4.5-bn onlin...   \n",
       "15  Indian Express  Microsoft hints at new modern OS for invisible...   \n",
       "16  Indian Express  Tech News of the day: Bose Noise Cancelling He...   \n",
       "17  Indian Express  Google: Users prefer ‘keep data’ settings, qui...   \n",
       "\n",
       "         Date         Time                                                URL  \n",
       "0  2019-05-31   7:04:04 pm  https://indianexpress.com/article/technology/t...  \n",
       "1  2019-05-31   5:54:07 pm  https://indianexpress.com/article/technology/t...  \n",
       "2  2019-05-31   5:38:28 pm  https://indianexpress.com/article/technology/t...  \n",
       "3  2019-05-31   3:06:26 pm  https://indianexpress.com/article/technology/s...  \n",
       "4  2019-05-31   8:03:11 pm  https://indianexpress.com/article/technology/m...  \n",
       "5  2019-05-31   6:07:01 pm  https://indianexpress.com/article/technology/g...  \n",
       "6  2019-05-31  20:03:11:00  https://indianexpress.com/article/technology/m...  \n",
       "7  2019-05-31  19:10:47:00  https://indianexpress.com/article/technology/m...  \n",
       "8  2019-05-31  19:04:04:00  https://indianexpress.com/article/technology/t...  \n",
       "9  2019-05-31  18:07:01:00  https://indianexpress.com/article/technology/g...  \n",
       "10 2019-05-31  17:54:07:00  https://indianexpress.com/article/technology/t...  \n",
       "11 2019-05-31  17:38:28:00  https://indianexpress.com/article/technology/t...  \n",
       "12 2019-05-31  17:03:56:00  https://indianexpress.com/article/technology/s...  \n",
       "13 2019-05-31  16:53:58:00  https://indianexpress.com/article/technology/s...  \n",
       "14 2019-05-31  16:13:50:00  https://indianexpress.com/article/technology/t...  \n",
       "15 2019-05-31  15:30:53:00  https://indianexpress.com/article/technology/t...  \n",
       "16 2019-05-31  15:18:27:00  https://indianexpress.com/article/technology/g...  \n",
       "17 2019-05-31  15:06:26:00  https://indianexpress.com/article/technology/s...  "
      ]
     },
     "execution_count": 23,
     "metadata": {},
     "output_type": "execute_result"
    }
   ],
   "source": [
    "df"
   ]
  },
  {
   "cell_type": "code",
   "execution_count": null,
   "metadata": {},
   "outputs": [],
   "source": []
  },
  {
   "cell_type": "code",
   "execution_count": 24,
   "metadata": {},
   "outputs": [],
   "source": [
    "outname ='IE_technology-'+str(Today_date)+'.csv'\n",
    "x=r\"C:\\Users\\drago\\Documents\\GitHub\\Summer-Project\\Technology\\CSV\\ \"\n",
    "date_today= Today_date +'\\ '\n",
    "outdir=x[:-1]+ date_today[:-1]\n",
    "if not os.path.exists(outdir):\n",
    "    os.mkdir(outdir)\n",
    "fullname = os.path.join(outdir, outname) "
   ]
  },
  {
   "cell_type": "code",
   "execution_count": 27,
   "metadata": {},
   "outputs": [],
   "source": [
    "df.to_csv(fullname,index=False,encoding='utf-8')"
   ]
  },
  {
   "cell_type": "code",
   "execution_count": null,
   "metadata": {},
   "outputs": [],
   "source": []
  }
 ],
 "metadata": {
  "kernelspec": {
   "display_name": "Python 3",
   "language": "python",
   "name": "python3"
  },
  "language_info": {
   "codemirror_mode": {
    "name": "ipython",
    "version": 3
   },
   "file_extension": ".py",
   "mimetype": "text/x-python",
   "name": "python",
   "nbconvert_exporter": "python",
   "pygments_lexer": "ipython3",
   "version": "3.6.5"
  }
 },
 "nbformat": 4,
 "nbformat_minor": 2
}

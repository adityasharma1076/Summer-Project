{
 "cells": [
  {
   "cell_type": "code",
   "execution_count": 2,
   "metadata": {},
   "outputs": [],
   "source": [
    "import requests\n",
    "import bs4\n",
    "import pandas as pd\n",
    "import os"
   ]
  },
  {
   "cell_type": "code",
   "execution_count": 3,
   "metadata": {},
   "outputs": [],
   "source": [
    "import datetime\n",
    "\n",
    "now = datetime.datetime.now()\n",
    "\n",
    "\n",
    "Today_time = now.strftime(\"%H:%M\")\n",
    "\n",
    "Today_date = now.strftime(\"%Y-%m-%d\")\n"
   ]
  },
  {
   "cell_type": "code",
   "execution_count": 4,
   "metadata": {},
   "outputs": [],
   "source": [
    "link = 'https://www.indiatoday.in/technology'"
   ]
  },
  {
   "cell_type": "code",
   "execution_count": 5,
   "metadata": {},
   "outputs": [],
   "source": [
    "res = requests.get(link)\n",
    "soup = bs4.BeautifulSoup(res.text,'lxml')"
   ]
  },
  {
   "cell_type": "code",
   "execution_count": 6,
   "metadata": {},
   "outputs": [],
   "source": [
    "content = soup.select(\".itg-listing\")"
   ]
  },
  {
   "cell_type": "code",
   "execution_count": 7,
   "metadata": {},
   "outputs": [],
   "source": [
    "top_news=content[0].findAll('li')\n"
   ]
  },
  {
   "cell_type": "code",
   "execution_count": 8,
   "metadata": {},
   "outputs": [],
   "source": [
    "def record_URL(x):\n",
    "    y='https://timesofindia.indiatimes.com'\n",
    "    url = y+x \n",
    "    return url"
   ]
  },
  {
   "cell_type": "code",
   "execution_count": 9,
   "metadata": {},
   "outputs": [],
   "source": [
    "records=[]\n",
    "for record in top_news:\n",
    "    \n",
    "    Heading = record.text\n",
    "    URL= record_URL(record.find('a')['href'])\n",
    "    Date = Today_date\n",
    "    Time = Today_time\n",
    "    Newspaper = 'India Today'\n",
    "    records.append((Newspaper,Heading,Date,Time,URL))"
   ]
  },
  {
   "cell_type": "code",
   "execution_count": 10,
   "metadata": {},
   "outputs": [],
   "source": [
    "section_news = soup.select(\".section-ordering\")"
   ]
  },
  {
   "cell_type": "code",
   "execution_count": 11,
   "metadata": {},
   "outputs": [
    {
     "data": {
      "text/plain": [
       "[<p class=\"story section-order-1536261\" title=\"Samsung Galaxy M30 Android Pie update with One UI now rolling out\"> <a href=\"/technology/android-os/story/samsung-galaxy-m30-android-pie-update-with-one-ui-now-rolling-out-1536261-2019-05-28\">Samsung Galaxy M30 Android Pie update with One UI now rolling out</a></p>,\n",
       " <p class=\"story section-order-1534546\" title=\"OnePlus 5, OnePlus 5T will get Android Q update, could be rolled out later this year\"> <a href=\"/technology/android-os/story/oneplus-5-oneplus-5t-will-get-android-q-update-to-be-rolled-out-later-this-year-1534546-2019-05-25\">OnePlus 5, OnePlus 5T will get Android Q update, could be rolled out later this year</a></p>]"
      ]
     },
     "execution_count": 11,
     "metadata": {},
     "output_type": "execute_result"
    }
   ],
   "source": [
    "section_news[-2].findAll('p')"
   ]
  },
  {
   "cell_type": "code",
   "execution_count": null,
   "metadata": {},
   "outputs": [],
   "source": []
  },
  {
   "cell_type": "code",
   "execution_count": 12,
   "metadata": {},
   "outputs": [],
   "source": [
    "for i in section_news:\n",
    "    li = i.findAll('p')\n",
    "    for record in li:\n",
    "        Heading = record.text\n",
    "        URL= record_URL(record.find('a')['href'])\n",
    "        Date = Today_date\n",
    "        Time = Today_time\n",
    "        Newspaper = 'India Today'\n",
    "        records.append((Newspaper,Heading,Date,Time,URL))"
   ]
  },
  {
   "cell_type": "code",
   "execution_count": 13,
   "metadata": {},
   "outputs": [],
   "source": [
    "import pandas as pd\n",
    "df=pd.DataFrame(records,columns=['Newspaper','Heading','Date','Time','URL'])\n",
    "df['Date'] = pd.to_datetime(df['Date'])"
   ]
  },
  {
   "cell_type": "code",
   "execution_count": 14,
   "metadata": {},
   "outputs": [
    {
     "data": {
      "text/html": [
       "<div>\n",
       "<style scoped>\n",
       "    .dataframe tbody tr th:only-of-type {\n",
       "        vertical-align: middle;\n",
       "    }\n",
       "\n",
       "    .dataframe tbody tr th {\n",
       "        vertical-align: top;\n",
       "    }\n",
       "\n",
       "    .dataframe thead th {\n",
       "        text-align: right;\n",
       "    }\n",
       "</style>\n",
       "<table border=\"1\" class=\"dataframe\">\n",
       "  <thead>\n",
       "    <tr style=\"text-align: right;\">\n",
       "      <th></th>\n",
       "      <th>Newspaper</th>\n",
       "      <th>Heading</th>\n",
       "      <th>Date</th>\n",
       "      <th>Time</th>\n",
       "      <th>URL</th>\n",
       "    </tr>\n",
       "  </thead>\n",
       "  <tbody>\n",
       "    <tr>\n",
       "      <th>0</th>\n",
       "      <td>India Today</td>\n",
       "      <td>Redmi K20, Redmi K20 Pro launched: Price, Ind...</td>\n",
       "      <td>2019-05-31</td>\n",
       "      <td>17:07</td>\n",
       "      <td>https://timesofindia.indiatimes.com/technology...</td>\n",
       "    </tr>\n",
       "    <tr>\n",
       "      <th>1</th>\n",
       "      <td>India Today</td>\n",
       "      <td>Teenager hacked into Apple's system twice hop...</td>\n",
       "      <td>2019-05-31</td>\n",
       "      <td>17:07</td>\n",
       "      <td>https://timesofindia.indiatimes.com/technology...</td>\n",
       "    </tr>\n",
       "    <tr>\n",
       "      <th>2</th>\n",
       "      <td>India Today</td>\n",
       "      <td>Realme Summer Surprise Sale: Realme 3 Pro ope...</td>\n",
       "      <td>2019-05-31</td>\n",
       "      <td>17:07</td>\n",
       "      <td>https://timesofindia.indiatimes.com/technology...</td>\n",
       "    </tr>\n",
       "    <tr>\n",
       "      <th>3</th>\n",
       "      <td>India Today</td>\n",
       "      <td>WhatsApp says ads are coming to WhatsApp Stor...</td>\n",
       "      <td>2019-05-31</td>\n",
       "      <td>17:07</td>\n",
       "      <td>https://timesofindia.indiatimes.com/technology...</td>\n",
       "    </tr>\n",
       "    <tr>\n",
       "      <th>4</th>\n",
       "      <td>India Today</td>\n",
       "      <td>Oppo Reno to launch in India today: Specs, ex...</td>\n",
       "      <td>2019-05-31</td>\n",
       "      <td>17:07</td>\n",
       "      <td>https://timesofindia.indiatimes.com/technology...</td>\n",
       "    </tr>\n",
       "    <tr>\n",
       "      <th>5</th>\n",
       "      <td>India Today</td>\n",
       "      <td>PUBG MOBILE is borrowing one exciting feature...</td>\n",
       "      <td>2019-05-31</td>\n",
       "      <td>17:07</td>\n",
       "      <td>https://timesofindia.indiatimes.com/technology...</td>\n",
       "    </tr>\n",
       "    <tr>\n",
       "      <th>6</th>\n",
       "      <td>India Today</td>\n",
       "      <td>Xiaomi Redmi Note 7S review: A polished Redmi...</td>\n",
       "      <td>2019-05-31</td>\n",
       "      <td>17:07</td>\n",
       "      <td>https://timesofindia.indiatimes.com/technology...</td>\n",
       "    </tr>\n",
       "    <tr>\n",
       "      <th>7</th>\n",
       "      <td>India Today</td>\n",
       "      <td>WhatsApp to roll out album improvements and n...</td>\n",
       "      <td>2019-05-31</td>\n",
       "      <td>17:07</td>\n",
       "      <td>https://timesofindia.indiatimes.com/technology...</td>\n",
       "    </tr>\n",
       "    <tr>\n",
       "      <th>8</th>\n",
       "      <td>India Today</td>\n",
       "      <td>Redmi K20 to launch today: Watch livestream, ...</td>\n",
       "      <td>2019-05-31</td>\n",
       "      <td>17:07</td>\n",
       "      <td>https://timesofindia.indiatimes.com/technology...</td>\n",
       "    </tr>\n",
       "    <tr>\n",
       "      <th>9</th>\n",
       "      <td>India Today</td>\n",
       "      <td>Xiaomi Redmi Note 7S now available on open sa...</td>\n",
       "      <td>2019-05-31</td>\n",
       "      <td>17:07</td>\n",
       "      <td>https://timesofindia.indiatimes.com/technology...</td>\n",
       "    </tr>\n",
       "    <tr>\n",
       "      <th>10</th>\n",
       "      <td>India Today</td>\n",
       "      <td>Please note: Elon Musk is now called Elon Tusk</td>\n",
       "      <td>2019-05-31</td>\n",
       "      <td>17:07</td>\n",
       "      <td>https://timesofindia.indiatimes.com/technology...</td>\n",
       "    </tr>\n",
       "    <tr>\n",
       "      <th>11</th>\n",
       "      <td>India Today</td>\n",
       "      <td>Samsung Galaxy A10, Galaxy A30 and Galaxy A50...</td>\n",
       "      <td>2019-05-31</td>\n",
       "      <td>17:07</td>\n",
       "      <td>https://timesofindia.indiatimes.com/technology...</td>\n",
       "    </tr>\n",
       "    <tr>\n",
       "      <th>12</th>\n",
       "      <td>India Today</td>\n",
       "      <td>Xiaomi Mi 9: 48MP camera, Snapdragon 855, 20W...</td>\n",
       "      <td>2019-05-31</td>\n",
       "      <td>17:07</td>\n",
       "      <td>https://timesofindia.indiatimes.com/technology...</td>\n",
       "    </tr>\n",
       "    <tr>\n",
       "      <th>13</th>\n",
       "      <td>India Today</td>\n",
       "      <td>Redmi Note 7 Pro will be much more impressive...</td>\n",
       "      <td>2019-05-31</td>\n",
       "      <td>17:07</td>\n",
       "      <td>https://timesofindia.indiatimes.com/technology...</td>\n",
       "    </tr>\n",
       "    <tr>\n",
       "      <th>14</th>\n",
       "      <td>India Today</td>\n",
       "      <td>LG launches LG G8 ThinQ and LG V50 ThinQ smar...</td>\n",
       "      <td>2019-05-31</td>\n",
       "      <td>17:07</td>\n",
       "      <td>https://timesofindia.indiatimes.com/technology...</td>\n",
       "    </tr>\n",
       "    <tr>\n",
       "      <th>15</th>\n",
       "      <td>India Today</td>\n",
       "      <td>New leaks show Apple iPhone XR 2 in an altern...</td>\n",
       "      <td>2019-05-31</td>\n",
       "      <td>17:07</td>\n",
       "      <td>https://timesofindia.indiatimes.com/technology...</td>\n",
       "    </tr>\n",
       "    <tr>\n",
       "      <th>16</th>\n",
       "      <td>India Today</td>\n",
       "      <td>Xiaomi Mi 9T officially confirmed, will pack ...</td>\n",
       "      <td>2019-05-31</td>\n",
       "      <td>17:07</td>\n",
       "      <td>https://timesofindia.indiatimes.com/technology...</td>\n",
       "    </tr>\n",
       "    <tr>\n",
       "      <th>17</th>\n",
       "      <td>India Today</td>\n",
       "      <td>Samsung Galaxy M30 Android Pie update with On...</td>\n",
       "      <td>2019-05-31</td>\n",
       "      <td>17:07</td>\n",
       "      <td>https://timesofindia.indiatimes.com/technology...</td>\n",
       "    </tr>\n",
       "    <tr>\n",
       "      <th>18</th>\n",
       "      <td>India Today</td>\n",
       "      <td>OnePlus 5, OnePlus 5T will get Android Q upda...</td>\n",
       "      <td>2019-05-31</td>\n",
       "      <td>17:07</td>\n",
       "      <td>https://timesofindia.indiatimes.com/technology...</td>\n",
       "    </tr>\n",
       "    <tr>\n",
       "      <th>19</th>\n",
       "      <td>India Today</td>\n",
       "      <td>Apple's WWDC 2019 invites are out, begins on ...</td>\n",
       "      <td>2019-05-31</td>\n",
       "      <td>17:07</td>\n",
       "      <td>https://timesofindia.indiatimes.com/technology...</td>\n",
       "    </tr>\n",
       "    <tr>\n",
       "      <th>20</th>\n",
       "      <td>India Today</td>\n",
       "      <td>iOS 13 leaks: Dark mode UI, multitasking wind...</td>\n",
       "      <td>2019-05-31</td>\n",
       "      <td>17:07</td>\n",
       "      <td>https://timesofindia.indiatimes.com/technology...</td>\n",
       "    </tr>\n",
       "  </tbody>\n",
       "</table>\n",
       "</div>"
      ],
      "text/plain": [
       "      Newspaper                                            Heading       Date  \\\n",
       "0   India Today   Redmi K20, Redmi K20 Pro launched: Price, Ind... 2019-05-31   \n",
       "1   India Today   Teenager hacked into Apple's system twice hop... 2019-05-31   \n",
       "2   India Today   Realme Summer Surprise Sale: Realme 3 Pro ope... 2019-05-31   \n",
       "3   India Today   WhatsApp says ads are coming to WhatsApp Stor... 2019-05-31   \n",
       "4   India Today   Oppo Reno to launch in India today: Specs, ex... 2019-05-31   \n",
       "5   India Today   PUBG MOBILE is borrowing one exciting feature... 2019-05-31   \n",
       "6   India Today   Xiaomi Redmi Note 7S review: A polished Redmi... 2019-05-31   \n",
       "7   India Today   WhatsApp to roll out album improvements and n... 2019-05-31   \n",
       "8   India Today   Redmi K20 to launch today: Watch livestream, ... 2019-05-31   \n",
       "9   India Today   Xiaomi Redmi Note 7S now available on open sa... 2019-05-31   \n",
       "10  India Today     Please note: Elon Musk is now called Elon Tusk 2019-05-31   \n",
       "11  India Today   Samsung Galaxy A10, Galaxy A30 and Galaxy A50... 2019-05-31   \n",
       "12  India Today   Xiaomi Mi 9: 48MP camera, Snapdragon 855, 20W... 2019-05-31   \n",
       "13  India Today   Redmi Note 7 Pro will be much more impressive... 2019-05-31   \n",
       "14  India Today   LG launches LG G8 ThinQ and LG V50 ThinQ smar... 2019-05-31   \n",
       "15  India Today   New leaks show Apple iPhone XR 2 in an altern... 2019-05-31   \n",
       "16  India Today   Xiaomi Mi 9T officially confirmed, will pack ... 2019-05-31   \n",
       "17  India Today   Samsung Galaxy M30 Android Pie update with On... 2019-05-31   \n",
       "18  India Today   OnePlus 5, OnePlus 5T will get Android Q upda... 2019-05-31   \n",
       "19  India Today   Apple's WWDC 2019 invites are out, begins on ... 2019-05-31   \n",
       "20  India Today   iOS 13 leaks: Dark mode UI, multitasking wind... 2019-05-31   \n",
       "\n",
       "     Time                                                URL  \n",
       "0   17:07  https://timesofindia.indiatimes.com/technology...  \n",
       "1   17:07  https://timesofindia.indiatimes.com/technology...  \n",
       "2   17:07  https://timesofindia.indiatimes.com/technology...  \n",
       "3   17:07  https://timesofindia.indiatimes.com/technology...  \n",
       "4   17:07  https://timesofindia.indiatimes.com/technology...  \n",
       "5   17:07  https://timesofindia.indiatimes.com/technology...  \n",
       "6   17:07  https://timesofindia.indiatimes.com/technology...  \n",
       "7   17:07  https://timesofindia.indiatimes.com/technology...  \n",
       "8   17:07  https://timesofindia.indiatimes.com/technology...  \n",
       "9   17:07  https://timesofindia.indiatimes.com/technology...  \n",
       "10  17:07  https://timesofindia.indiatimes.com/technology...  \n",
       "11  17:07  https://timesofindia.indiatimes.com/technology...  \n",
       "12  17:07  https://timesofindia.indiatimes.com/technology...  \n",
       "13  17:07  https://timesofindia.indiatimes.com/technology...  \n",
       "14  17:07  https://timesofindia.indiatimes.com/technology...  \n",
       "15  17:07  https://timesofindia.indiatimes.com/technology...  \n",
       "16  17:07  https://timesofindia.indiatimes.com/technology...  \n",
       "17  17:07  https://timesofindia.indiatimes.com/technology...  \n",
       "18  17:07  https://timesofindia.indiatimes.com/technology...  \n",
       "19  17:07  https://timesofindia.indiatimes.com/technology...  \n",
       "20  17:07  https://timesofindia.indiatimes.com/technology...  "
      ]
     },
     "execution_count": 14,
     "metadata": {},
     "output_type": "execute_result"
    }
   ],
   "source": [
    "df"
   ]
  },
  {
   "cell_type": "code",
   "execution_count": 106,
   "metadata": {},
   "outputs": [],
   "source": [
    "outname ='IT_education-'+str(Today_date)+'.csv'\n",
    "x=r\"C:\\Users\\drago\\Documents\\GitHub\\Summer-Project\\Education\\CSV\\ \"\n",
    "date_today= Today_date +'\\ '\n",
    "outdir=x[:-1]+ date_today[:-1]\n",
    "if not os.path.exists(outdir):\n",
    "    os.mkdir(outdir)\n",
    "fullname = os.path.join(outdir, outname) "
   ]
  },
  {
   "cell_type": "code",
   "execution_count": 107,
   "metadata": {},
   "outputs": [
    {
     "data": {
      "text/plain": [
       "'C:\\\\Users\\\\drago\\\\Documents\\\\GitHub\\\\Summer-Project\\\\Education\\\\CSV\\\\2019-05-30\\\\'"
      ]
     },
     "execution_count": 107,
     "metadata": {},
     "output_type": "execute_result"
    }
   ],
   "source": [
    "outdir"
   ]
  },
  {
   "cell_type": "code",
   "execution_count": 108,
   "metadata": {},
   "outputs": [],
   "source": [
    "df.to_csv(fullname,index=False,encoding='utf-8')"
   ]
  },
  {
   "cell_type": "code",
   "execution_count": null,
   "metadata": {},
   "outputs": [],
   "source": []
  }
 ],
 "metadata": {
  "kernelspec": {
   "display_name": "Python 3",
   "language": "python",
   "name": "python3"
  },
  "language_info": {
   "codemirror_mode": {
    "name": "ipython",
    "version": 3
   },
   "file_extension": ".py",
   "mimetype": "text/x-python",
   "name": "python",
   "nbconvert_exporter": "python",
   "pygments_lexer": "ipython3",
   "version": "3.6.5"
  }
 },
 "nbformat": 4,
 "nbformat_minor": 2
}

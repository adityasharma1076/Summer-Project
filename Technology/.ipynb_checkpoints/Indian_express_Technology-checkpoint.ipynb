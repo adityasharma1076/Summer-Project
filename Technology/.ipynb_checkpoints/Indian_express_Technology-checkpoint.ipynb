{
 "cells": [
  {
   "cell_type": "code",
   "execution_count": 1,
   "metadata": {},
   "outputs": [],
   "source": [
    "import requests\n",
    "import bs4\n",
    "import pandas as pd\n",
    "import os"
   ]
  },
  {
   "cell_type": "code",
   "execution_count": 2,
   "metadata": {},
   "outputs": [],
   "source": [
    "import datetime\n",
    "\n",
    "now = datetime.datetime.now()\n",
    "\n",
    "\n",
    "Today_time = now.strftime(\"%H:%M\")\n",
    "\n",
    "Today_date = now.strftime(\"%Y-%m-%d\")\n"
   ]
  },
  {
   "cell_type": "code",
   "execution_count": 3,
   "metadata": {},
   "outputs": [],
   "source": [
    "def get_date_time(URL):\n",
    "    req = requests.get(URL)\n",
    "    soup_date = bs4.BeautifulSoup(req.text,'lxml')\n",
    "    temp = soup_date.select(\".m-story-meta__credit\")\n",
    "    time_date = temp[0].findAll('span')[-1].text\n",
    "    x=str.split(time_date)\n",
    "    date = x[1]+' '+x[2]+' '+x[3]\n",
    "    time = x[4]+' '+x[5]\n",
    "    return date,time\n",
    "\n",
    "def get_time(URL):\n",
    "    req = requests.get(URL)\n",
    "    soup_date = bs4.BeautifulSoup(req.text,'lxml')\n",
    "    temp = soup_date.select(\".m-story-meta__credit\")\n",
    "    time_date = temp[0].findAll('span')[-1].text\n",
    "    time = time_date[-11:]\n",
    "    return time\n"
   ]
  },
  {
   "cell_type": "code",
   "execution_count": 4,
   "metadata": {},
   "outputs": [],
   "source": [
    "link = 'https://indianexpress.com/technology'"
   ]
  },
  {
   "cell_type": "code",
   "execution_count": 5,
   "metadata": {},
   "outputs": [],
   "source": [
    "res = requests.get(link)\n",
    "soup = bs4.BeautifulSoup(res.text,'lxml')"
   ]
  },
  {
   "cell_type": "code",
   "execution_count": 6,
   "metadata": {},
   "outputs": [],
   "source": [
    "\n",
    "h1 = soup.select('.m-article-featured__title')"
   ]
  },
  {
   "cell_type": "code",
   "execution_count": 7,
   "metadata": {},
   "outputs": [
    {
     "data": {
      "text/plain": [
       "'Xiaomi Redmi Note 7S review: This is Redmi Note 7 + a 48MP camera'"
      ]
     },
     "execution_count": 7,
     "metadata": {},
     "output_type": "execute_result"
    }
   ],
   "source": [
    "h1[0].text\n"
   ]
  },
  {
   "cell_type": "code",
   "execution_count": 8,
   "metadata": {},
   "outputs": [
    {
     "data": {
      "text/plain": [
       "'https://indianexpress.com/article/technology/tech-reviews/xiaomi-redmi-note-7s-review-new-48mp-camera-but-hows-the-performance-5758374/'"
      ]
     },
     "execution_count": 8,
     "metadata": {},
     "output_type": "execute_result"
    }
   ],
   "source": [
    "h1[0].find('a')['href']"
   ]
  },
  {
   "cell_type": "code",
   "execution_count": null,
   "metadata": {},
   "outputs": [],
   "source": []
  },
  {
   "cell_type": "code",
   "execution_count": 9,
   "metadata": {},
   "outputs": [],
   "source": [
    "records=[]\n",
    "#records.append(('Indian Express',h1[0].text,h1[0].find('a')['href']))\n",
    "h1_newspaper='Indian Express'\n",
    "h1_heading = h1[0].text\n",
    "h1_url = h1[0].find('a')['href']\n",
    "h1_date,h1_time = get_date_time(h1_url)\n",
    "#h1_time = get_time(h1_url)\n",
    "\n",
    "records.append((h1_newspaper,h1_heading,h1_date,h1_time,h1_url))"
   ]
  },
  {
   "cell_type": "code",
   "execution_count": 10,
   "metadata": {},
   "outputs": [],
   "source": [
    "h2=soup.findAll('h2')"
   ]
  },
  {
   "cell_type": "code",
   "execution_count": 11,
   "metadata": {},
   "outputs": [
    {
     "data": {
      "text/plain": [
       "[<h2 class=\"m-article-small__title\"><a class=\"m-block-link__anchor\" data-event-id=\"\" href=\"https://indianexpress.com/article/technology/techook/upcoming-smartphones-in-june-2019-oneplus-7-nokia-9-pureview-redmi-k20-series-and-more-5758236/\" target=\"_self\" title=\"Smartphones expected in June 2019: OnePlus 7, Oppo Reno, Redmi K20 series and more\">Smartphones expected in June 2019: OnePlus 7, Oppo Reno, Redmi K20 series and more</a></h2>,\n",
       " <h2 class=\"m-article-small__title\"><a class=\"m-block-link__anchor\" data-event-id=\"\" href=\"https://indianexpress.com/article/technology/tech-news-technology/four-biggest-trends-at-computex-2019-that-you-missed-5758780/\" target=\"_self\" title=\"Four biggest trends at Computex 2019 that you missed\">Four biggest trends at Computex 2019 that you missed</a></h2>,\n",
       " <h2 class=\"m-article-small__title\"><a class=\"m-block-link__anchor\" data-event-id=\"\" href=\"https://indianexpress.com/article/technology/social/google-user-prefer-keep-data-settings-quicker-deletion-will-erode-user-experience-5758513/\" target=\"_self\" title=\"Google: Users prefer 'keep data' settings, quicker deletion will erode user experience\">Google: Users prefer 'keep data' settings, quicker deletion will erode user experience</a></h2>]"
      ]
     },
     "execution_count": 11,
     "metadata": {},
     "output_type": "execute_result"
    }
   ],
   "source": [
    "h2[1:4]"
   ]
  },
  {
   "cell_type": "code",
   "execution_count": 12,
   "metadata": {},
   "outputs": [
    {
     "data": {
      "text/plain": [
       "'https://indianexpress.com/article/technology/techook/upcoming-smartphones-in-june-2019-oneplus-7-nokia-9-pureview-redmi-k20-series-and-more-5758236/'"
      ]
     },
     "execution_count": 12,
     "metadata": {},
     "output_type": "execute_result"
    }
   ],
   "source": [
    "h2[1].text\n",
    "h2[1].find('a')['href']"
   ]
  },
  {
   "cell_type": "code",
   "execution_count": 13,
   "metadata": {},
   "outputs": [],
   "source": [
    "for record in h2[1:4]:\n",
    "    Heading = record.text\n",
    "    URL = record.find('a')['href']\n",
    "    Date,Time = get_date_time(URL)\n",
    "    #Time = get_time(URL)\n",
    "    Newspaper='Indian Express'\n",
    "    records.append((Newspaper,Heading,Date,Time,URL))"
   ]
  },
  {
   "cell_type": "code",
   "execution_count": 14,
   "metadata": {},
   "outputs": [],
   "source": [
    "h3=soup.select('.m-article-landing__title')"
   ]
  },
  {
   "cell_type": "code",
   "execution_count": 15,
   "metadata": {},
   "outputs": [
    {
     "data": {
      "text/plain": [
       "'https://indianexpress.com/article/technology/mobile-tabs/oppo-granted-patent-for-smartphone-with-a-flippable-selfie-camera-report-5759077/'"
      ]
     },
     "execution_count": 15,
     "metadata": {},
     "output_type": "execute_result"
    }
   ],
   "source": [
    "h3[0].text\n",
    "h3[0].find('a')['href']"
   ]
  },
  {
   "cell_type": "code",
   "execution_count": 16,
   "metadata": {},
   "outputs": [],
   "source": [
    "req = requests.get('https://indianexpress.com/article/education/why-are-du-admissions-2019-being-delayed-delhi-university-du-ac-in-5739038/')\n",
    "soup_date = bs4.BeautifulSoup(req.text,'lxml')"
   ]
  },
  {
   "cell_type": "code",
   "execution_count": null,
   "metadata": {},
   "outputs": [],
   "source": []
  },
  {
   "cell_type": "code",
   "execution_count": 17,
   "metadata": {},
   "outputs": [],
   "source": [
    "for record in h3:\n",
    "    Heading = record.text\n",
    "    URL = record.find('a')['href']\n",
    "    Date,Time = get_date_time(URL)\n",
    "    #Time = get_time(URL)\n",
    "    Newspaper = 'Indian Express'\n",
    "    records.append((Newspaper,Heading,Date,Time,URL))"
   ]
  },
  {
   "cell_type": "code",
   "execution_count": 18,
   "metadata": {},
   "outputs": [],
   "source": [
    "df=pd.DataFrame(records,columns=['Newspaper','Heading','Date','Time','URL'])\n",
    "df['Date'] = pd.to_datetime(df['Date'])"
   ]
  },
  {
   "cell_type": "code",
   "execution_count": 19,
   "metadata": {},
   "outputs": [
    {
     "data": {
      "text/html": [
       "<div>\n",
       "<style scoped>\n",
       "    .dataframe tbody tr th:only-of-type {\n",
       "        vertical-align: middle;\n",
       "    }\n",
       "\n",
       "    .dataframe tbody tr th {\n",
       "        vertical-align: top;\n",
       "    }\n",
       "\n",
       "    .dataframe thead th {\n",
       "        text-align: right;\n",
       "    }\n",
       "</style>\n",
       "<table border=\"1\" class=\"dataframe\">\n",
       "  <thead>\n",
       "    <tr style=\"text-align: right;\">\n",
       "      <th></th>\n",
       "      <th>Newspaper</th>\n",
       "      <th>Heading</th>\n",
       "      <th>Date</th>\n",
       "      <th>Time</th>\n",
       "      <th>URL</th>\n",
       "    </tr>\n",
       "  </thead>\n",
       "  <tbody>\n",
       "    <tr>\n",
       "      <th>0</th>\n",
       "      <td>Indian Express</td>\n",
       "      <td>Xiaomi Redmi Note 7S review: This is Redmi Not...</td>\n",
       "      <td>2019-05-31</td>\n",
       "      <td>7:04:04 pm</td>\n",
       "      <td>https://indianexpress.com/article/technology/t...</td>\n",
       "    </tr>\n",
       "    <tr>\n",
       "      <th>1</th>\n",
       "      <td>Indian Express</td>\n",
       "      <td>Smartphones expected in June 2019: OnePlus 7, ...</td>\n",
       "      <td>2019-05-31</td>\n",
       "      <td>5:54:07 pm</td>\n",
       "      <td>https://indianexpress.com/article/technology/t...</td>\n",
       "    </tr>\n",
       "    <tr>\n",
       "      <th>2</th>\n",
       "      <td>Indian Express</td>\n",
       "      <td>Four biggest trends at Computex 2019 that you ...</td>\n",
       "      <td>2019-05-31</td>\n",
       "      <td>5:38:28 pm</td>\n",
       "      <td>https://indianexpress.com/article/technology/t...</td>\n",
       "    </tr>\n",
       "    <tr>\n",
       "      <th>3</th>\n",
       "      <td>Indian Express</td>\n",
       "      <td>Google: Users prefer 'keep data' settings, qui...</td>\n",
       "      <td>2019-05-31</td>\n",
       "      <td>3:06:26 pm</td>\n",
       "      <td>https://indianexpress.com/article/technology/s...</td>\n",
       "    </tr>\n",
       "    <tr>\n",
       "      <th>4</th>\n",
       "      <td>Indian Express</td>\n",
       "      <td>Oppo granted patent for smartphone with a flip...</td>\n",
       "      <td>2019-05-31</td>\n",
       "      <td>7:10:47 pm</td>\n",
       "      <td>https://indianexpress.com/article/technology/m...</td>\n",
       "    </tr>\n",
       "    <tr>\n",
       "      <th>5</th>\n",
       "      <td>Indian Express</td>\n",
       "      <td>Xiaomi Redmi Note 7S review: This is Redmi Not...</td>\n",
       "      <td>2019-05-31</td>\n",
       "      <td>7:04:04 pm</td>\n",
       "      <td>https://indianexpress.com/article/technology/t...</td>\n",
       "    </tr>\n",
       "    <tr>\n",
       "      <th>6</th>\n",
       "      <td>Indian Express</td>\n",
       "      <td>Call of Duty: Modern Warfare reboot to be rele...</td>\n",
       "      <td>2019-05-31</td>\n",
       "      <td>6:07:01 pm</td>\n",
       "      <td>https://indianexpress.com/article/technology/g...</td>\n",
       "    </tr>\n",
       "    <tr>\n",
       "      <th>7</th>\n",
       "      <td>Indian Express</td>\n",
       "      <td>Smartphones expected in June 2019: OnePlus 7, ...</td>\n",
       "      <td>2019-05-31</td>\n",
       "      <td>5:54:07 pm</td>\n",
       "      <td>https://indianexpress.com/article/technology/t...</td>\n",
       "    </tr>\n",
       "    <tr>\n",
       "      <th>8</th>\n",
       "      <td>Indian Express</td>\n",
       "      <td>Four biggest trends at Computex 2019 that you ...</td>\n",
       "      <td>2019-05-31</td>\n",
       "      <td>5:38:28 pm</td>\n",
       "      <td>https://indianexpress.com/article/technology/t...</td>\n",
       "    </tr>\n",
       "    <tr>\n",
       "      <th>9</th>\n",
       "      <td>Indian Express</td>\n",
       "      <td>Indian researchers develop low-cost rubbing ma...</td>\n",
       "      <td>2019-05-31</td>\n",
       "      <td>5:03:56 pm</td>\n",
       "      <td>https://indianexpress.com/article/technology/s...</td>\n",
       "    </tr>\n",
       "    <tr>\n",
       "      <th>10</th>\n",
       "      <td>Indian Express</td>\n",
       "      <td>WhatsApp beta update for iOS bans users from d...</td>\n",
       "      <td>2019-05-31</td>\n",
       "      <td>4:53:58 pm</td>\n",
       "      <td>https://indianexpress.com/article/technology/s...</td>\n",
       "    </tr>\n",
       "    <tr>\n",
       "      <th>11</th>\n",
       "      <td>Indian Express</td>\n",
       "      <td>Will exit 2019 with 25% share of $4.5-bn onlin...</td>\n",
       "      <td>2019-05-31</td>\n",
       "      <td>4:13:50 pm</td>\n",
       "      <td>https://indianexpress.com/article/technology/t...</td>\n",
       "    </tr>\n",
       "    <tr>\n",
       "      <th>12</th>\n",
       "      <td>Indian Express</td>\n",
       "      <td>Microsoft hints at new modern OS for invisible...</td>\n",
       "      <td>2019-05-31</td>\n",
       "      <td>3:30:53 pm</td>\n",
       "      <td>https://indianexpress.com/article/technology/t...</td>\n",
       "    </tr>\n",
       "    <tr>\n",
       "      <th>13</th>\n",
       "      <td>Indian Express</td>\n",
       "      <td>Tech News of the day: Bose Noise Cancelling He...</td>\n",
       "      <td>2019-05-31</td>\n",
       "      <td>3:18:27 pm</td>\n",
       "      <td>https://indianexpress.com/article/technology/g...</td>\n",
       "    </tr>\n",
       "    <tr>\n",
       "      <th>14</th>\n",
       "      <td>Indian Express</td>\n",
       "      <td>Google: Users prefer ‘keep data’ settings, qui...</td>\n",
       "      <td>2019-05-31</td>\n",
       "      <td>3:06:26 pm</td>\n",
       "      <td>https://indianexpress.com/article/technology/s...</td>\n",
       "    </tr>\n",
       "    <tr>\n",
       "      <th>15</th>\n",
       "      <td>Indian Express</td>\n",
       "      <td>Forbidden planet discovered in Neptunian Desert</td>\n",
       "      <td>2019-05-31</td>\n",
       "      <td>2:14:06 pm</td>\n",
       "      <td>https://indianexpress.com/article/technology/s...</td>\n",
       "    </tr>\n",
       "  </tbody>\n",
       "</table>\n",
       "</div>"
      ],
      "text/plain": [
       "         Newspaper                                            Heading  \\\n",
       "0   Indian Express  Xiaomi Redmi Note 7S review: This is Redmi Not...   \n",
       "1   Indian Express  Smartphones expected in June 2019: OnePlus 7, ...   \n",
       "2   Indian Express  Four biggest trends at Computex 2019 that you ...   \n",
       "3   Indian Express  Google: Users prefer 'keep data' settings, qui...   \n",
       "4   Indian Express  Oppo granted patent for smartphone with a flip...   \n",
       "5   Indian Express  Xiaomi Redmi Note 7S review: This is Redmi Not...   \n",
       "6   Indian Express  Call of Duty: Modern Warfare reboot to be rele...   \n",
       "7   Indian Express  Smartphones expected in June 2019: OnePlus 7, ...   \n",
       "8   Indian Express  Four biggest trends at Computex 2019 that you ...   \n",
       "9   Indian Express  Indian researchers develop low-cost rubbing ma...   \n",
       "10  Indian Express  WhatsApp beta update for iOS bans users from d...   \n",
       "11  Indian Express  Will exit 2019 with 25% share of $4.5-bn onlin...   \n",
       "12  Indian Express  Microsoft hints at new modern OS for invisible...   \n",
       "13  Indian Express  Tech News of the day: Bose Noise Cancelling He...   \n",
       "14  Indian Express  Google: Users prefer ‘keep data’ settings, qui...   \n",
       "15  Indian Express    Forbidden planet discovered in Neptunian Desert   \n",
       "\n",
       "         Date        Time                                                URL  \n",
       "0  2019-05-31  7:04:04 pm  https://indianexpress.com/article/technology/t...  \n",
       "1  2019-05-31  5:54:07 pm  https://indianexpress.com/article/technology/t...  \n",
       "2  2019-05-31  5:38:28 pm  https://indianexpress.com/article/technology/t...  \n",
       "3  2019-05-31  3:06:26 pm  https://indianexpress.com/article/technology/s...  \n",
       "4  2019-05-31  7:10:47 pm  https://indianexpress.com/article/technology/m...  \n",
       "5  2019-05-31  7:04:04 pm  https://indianexpress.com/article/technology/t...  \n",
       "6  2019-05-31  6:07:01 pm  https://indianexpress.com/article/technology/g...  \n",
       "7  2019-05-31  5:54:07 pm  https://indianexpress.com/article/technology/t...  \n",
       "8  2019-05-31  5:38:28 pm  https://indianexpress.com/article/technology/t...  \n",
       "9  2019-05-31  5:03:56 pm  https://indianexpress.com/article/technology/s...  \n",
       "10 2019-05-31  4:53:58 pm  https://indianexpress.com/article/technology/s...  \n",
       "11 2019-05-31  4:13:50 pm  https://indianexpress.com/article/technology/t...  \n",
       "12 2019-05-31  3:30:53 pm  https://indianexpress.com/article/technology/t...  \n",
       "13 2019-05-31  3:18:27 pm  https://indianexpress.com/article/technology/g...  \n",
       "14 2019-05-31  3:06:26 pm  https://indianexpress.com/article/technology/s...  \n",
       "15 2019-05-31  2:14:06 pm  https://indianexpress.com/article/technology/s...  "
      ]
     },
     "execution_count": 19,
     "metadata": {},
     "output_type": "execute_result"
    }
   ],
   "source": [
    "df"
   ]
  },
  {
   "cell_type": "code",
   "execution_count": 20,
   "metadata": {},
   "outputs": [],
   "source": [
    "outname ='IE_education-'+str(Today_date)+'.csv'\n",
    "x=r\"C:\\Users\\drago\\Documents\\GitHub\\Summer-Project\\Education\\CSV\\ \"\n",
    "date_today= Today_date +'\\ '\n",
    "outdir=x[:-1]+ date_today[:-1]\n",
    "if not os.path.exists(outdir):\n",
    "    os.mkdir(outdir)\n",
    "fullname = os.path.join(outdir, outname) "
   ]
  },
  {
   "cell_type": "code",
   "execution_count": 21,
   "metadata": {},
   "outputs": [],
   "source": [
    "df.to_csv(fullname,index=False,encoding='utf-8')"
   ]
  }
 ],
 "metadata": {
  "kernelspec": {
   "display_name": "Python 3",
   "language": "python",
   "name": "python3"
  },
  "language_info": {
   "codemirror_mode": {
    "name": "ipython",
    "version": 3
   },
   "file_extension": ".py",
   "mimetype": "text/x-python",
   "name": "python",
   "nbconvert_exporter": "python",
   "pygments_lexer": "ipython3",
   "version": "3.6.5"
  }
 },
 "nbformat": 4,
 "nbformat_minor": 2
}

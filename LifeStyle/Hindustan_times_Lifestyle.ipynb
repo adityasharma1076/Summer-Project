{
 "cells": [
  {
   "cell_type": "code",
   "execution_count": 1,
   "metadata": {},
   "outputs": [],
   "source": [
    "import requests\n",
    "import bs4\n",
    "import pandas as pd\n",
    "import os"
   ]
  },
  {
   "cell_type": "code",
   "execution_count": 2,
   "metadata": {},
   "outputs": [],
   "source": [
    "import datetime\n",
    "\n",
    "now = datetime.datetime.now()\n",
    "\n",
    "\n",
    "Today_time = now.strftime(\"%H:%M\")\n",
    "\n",
    "Today_date = now.strftime(\"%Y-%m-%d\")"
   ]
  },
  {
   "cell_type": "code",
   "execution_count": 3,
   "metadata": {},
   "outputs": [],
   "source": [
    "link = 'https://www.hindustantimes.com/lifestyle/'\n",
    "res = requests.get(link)\n"
   ]
  },
  {
   "cell_type": "code",
   "execution_count": 4,
   "metadata": {},
   "outputs": [],
   "source": [
    "soup = bs4.BeautifulSoup(res.text,'lxml')"
   ]
  },
  {
   "cell_type": "code",
   "execution_count": 5,
   "metadata": {},
   "outputs": [],
   "source": [
    "content = soup.select('.media-body')\n"
   ]
  },
  {
   "cell_type": "code",
   "execution_count": 6,
   "metadata": {},
   "outputs": [
    {
     "data": {
      "text/plain": [
       "<div class=\"media-body\">\n",
       "<div class=\"media-heading headingfive\"><a href=\"https://www.hindustantimes.com/brunch/boss-girl-introducing-rhea-kapoor-bollywood-s-bulwark-against-patriarchy-misogyny-and-sexism/story-GwGKIOx52PrMdx5SIbJlCJ.html\">Boss Girl: Presenting Rhea Kapoor! Bollywood’s bulwark against patriarchy, misogyny and sexism</a></div>\n",
       "<span class=\"time-dt\">May 25, 2019 23:27 IST</span>\n",
       "</div>"
      ]
     },
     "execution_count": 6,
     "metadata": {},
     "output_type": "execute_result"
    }
   ],
   "source": [
    "content[0]"
   ]
  },
  {
   "cell_type": "code",
   "execution_count": null,
   "metadata": {},
   "outputs": [],
   "source": []
  },
  {
   "cell_type": "code",
   "execution_count": 7,
   "metadata": {},
   "outputs": [
    {
     "data": {
      "text/plain": [
       "'Boss Girl: Presenting Rhea Kapoor! Bollywood’s bulwark against patriarchy, misogyny and sexism'"
      ]
     },
     "execution_count": 7,
     "metadata": {},
     "output_type": "execute_result"
    }
   ],
   "source": [
    "content[0].find('a').text"
   ]
  },
  {
   "cell_type": "code",
   "execution_count": 8,
   "metadata": {},
   "outputs": [
    {
     "data": {
      "text/plain": [
       "'https://www.hindustantimes.com/brunch/boss-girl-introducing-rhea-kapoor-bollywood-s-bulwark-against-patriarchy-misogyny-and-sexism/story-GwGKIOx52PrMdx5SIbJlCJ.html'"
      ]
     },
     "execution_count": 8,
     "metadata": {},
     "output_type": "execute_result"
    }
   ],
   "source": [
    "content[0].find('a')['href']"
   ]
  },
  {
   "cell_type": "code",
   "execution_count": 9,
   "metadata": {},
   "outputs": [
    {
     "data": {
      "text/plain": [
       "'May 25, 2019 23:27 IST'"
      ]
     },
     "execution_count": 9,
     "metadata": {},
     "output_type": "execute_result"
    }
   ],
   "source": [
    "content[0].find('span').text"
   ]
  },
  {
   "cell_type": "code",
   "execution_count": 10,
   "metadata": {},
   "outputs": [],
   "source": [
    "x=str.split(content[0].find('span').text)"
   ]
  },
  {
   "cell_type": "code",
   "execution_count": 11,
   "metadata": {
    "scrolled": true
   },
   "outputs": [
    {
     "data": {
      "text/plain": [
       "'23:27'"
      ]
     },
     "execution_count": 11,
     "metadata": {},
     "output_type": "execute_result"
    }
   ],
   "source": [
    "x[3]"
   ]
  },
  {
   "cell_type": "code",
   "execution_count": 12,
   "metadata": {},
   "outputs": [],
   "source": [
    "records=[]\n",
    "for record in content:\n",
    "    if (len(records)>=25):\n",
    "        break\n",
    "    else:\n",
    "        Heading = record.find('a').text\n",
    "        URL = record.find('a')['href']\n",
    "        Newspaper = 'Hindiustan Times'\n",
    "        dt=str.split(record.find('span').text)\n",
    "        Date = dt[0]+' '+dt[1]+' '+dt[2]\n",
    "        Time = dt[3]+':00'\n",
    "        records.append((Newspaper,Heading,Date,Time,URL))"
   ]
  },
  {
   "cell_type": "code",
   "execution_count": 13,
   "metadata": {},
   "outputs": [],
   "source": [
    "df=pd.DataFrame(records,columns=['Newspaper','Heading','Date','Time','URL'])\n",
    "df['Date'] = pd.to_datetime(df['Date'])"
   ]
  },
  {
   "cell_type": "code",
   "execution_count": 14,
   "metadata": {},
   "outputs": [
    {
     "data": {
      "text/html": [
       "<div>\n",
       "<style scoped>\n",
       "    .dataframe tbody tr th:only-of-type {\n",
       "        vertical-align: middle;\n",
       "    }\n",
       "\n",
       "    .dataframe tbody tr th {\n",
       "        vertical-align: top;\n",
       "    }\n",
       "\n",
       "    .dataframe thead th {\n",
       "        text-align: right;\n",
       "    }\n",
       "</style>\n",
       "<table border=\"1\" class=\"dataframe\">\n",
       "  <thead>\n",
       "    <tr style=\"text-align: right;\">\n",
       "      <th></th>\n",
       "      <th>Newspaper</th>\n",
       "      <th>Heading</th>\n",
       "      <th>Date</th>\n",
       "      <th>Time</th>\n",
       "      <th>URL</th>\n",
       "    </tr>\n",
       "  </thead>\n",
       "  <tbody>\n",
       "    <tr>\n",
       "      <th>0</th>\n",
       "      <td>Hindiustan Times</td>\n",
       "      <td>Boss Girl: Presenting Rhea Kapoor! Bollywood’s...</td>\n",
       "      <td>2019-05-25</td>\n",
       "      <td>23:27:00</td>\n",
       "      <td>https://www.hindustantimes.com/brunch/boss-gir...</td>\n",
       "    </tr>\n",
       "    <tr>\n",
       "      <th>1</th>\n",
       "      <td>Hindiustan Times</td>\n",
       "      <td>Humour: Restaurants and their endless need for...</td>\n",
       "      <td>2019-05-25</td>\n",
       "      <td>23:10:00</td>\n",
       "      <td>https://www.hindustantimes.com/brunch/humour-r...</td>\n",
       "    </tr>\n",
       "    <tr>\n",
       "      <th>2</th>\n",
       "      <td>Hindiustan Times</td>\n",
       "      <td>Travel: The Serbian melting pot</td>\n",
       "      <td>2019-05-26</td>\n",
       "      <td>07:52:00</td>\n",
       "      <td>https://www.hindustantimes.com/brunch/travel-t...</td>\n",
       "    </tr>\n",
       "    <tr>\n",
       "      <th>3</th>\n",
       "      <td>Hindiustan Times</td>\n",
       "      <td>The rise of the fall: Why mobile phone buyers ...</td>\n",
       "      <td>2019-05-25</td>\n",
       "      <td>22:04:00</td>\n",
       "      <td>https://www.hindustantimes.com/brunch/the-rise...</td>\n",
       "    </tr>\n",
       "    <tr>\n",
       "      <th>4</th>\n",
       "      <td>Hindiustan Times</td>\n",
       "      <td>From street-side drug addicts to trained artists</td>\n",
       "      <td>2019-05-30</td>\n",
       "      <td>17:29:00</td>\n",
       "      <td>https://www.hindustantimes.com/more-lifestyle/...</td>\n",
       "    </tr>\n",
       "    <tr>\n",
       "      <th>5</th>\n",
       "      <td>Hindiustan Times</td>\n",
       "      <td>Sara Ali Khan’s white kurta can be recreated a...</td>\n",
       "      <td>2019-05-30</td>\n",
       "      <td>15:47:00</td>\n",
       "      <td>https://www.hindustantimes.com/fashion-and-tre...</td>\n",
       "    </tr>\n",
       "    <tr>\n",
       "      <th>6</th>\n",
       "      <td>Hindiustan Times</td>\n",
       "      <td>Summer special: For the love of lychee</td>\n",
       "      <td>2019-05-30</td>\n",
       "      <td>15:29:00</td>\n",
       "      <td>https://www.hindustantimes.com/more-lifestyle/...</td>\n",
       "    </tr>\n",
       "    <tr>\n",
       "      <th>7</th>\n",
       "      <td>Hindiustan Times</td>\n",
       "      <td>Stress during pregnancy affects reproductive f...</td>\n",
       "      <td>2019-05-30</td>\n",
       "      <td>14:32:00</td>\n",
       "      <td>https://www.hindustantimes.com/sex-and-relatio...</td>\n",
       "    </tr>\n",
       "    <tr>\n",
       "      <th>8</th>\n",
       "      <td>Hindiustan Times</td>\n",
       "      <td>Harry Styles proves it’s a fashion era for men...</td>\n",
       "      <td>2019-05-30</td>\n",
       "      <td>14:03:00</td>\n",
       "      <td>https://www.hindustantimes.com/fashion-and-tre...</td>\n",
       "    </tr>\n",
       "    <tr>\n",
       "      <th>9</th>\n",
       "      <td>Hindiustan Times</td>\n",
       "      <td>Resurgent Capital: In and around Bogota, Columbia</td>\n",
       "      <td>2019-05-30</td>\n",
       "      <td>13:37:00</td>\n",
       "      <td>https://www.hindustantimes.com/travel/resurgen...</td>\n",
       "    </tr>\n",
       "    <tr>\n",
       "      <th>10</th>\n",
       "      <td>Hindiustan Times</td>\n",
       "      <td>Priyanka Chopra, Sonam Kapoor, Dua Lipa show y...</td>\n",
       "      <td>2019-05-30</td>\n",
       "      <td>11:23:00</td>\n",
       "      <td>https://www.hindustantimes.com/fashion-and-tre...</td>\n",
       "    </tr>\n",
       "    <tr>\n",
       "      <th>11</th>\n",
       "      <td>Hindiustan Times</td>\n",
       "      <td>Deepika Padukone, Kareena Kapoor, Ananya Panda...</td>\n",
       "      <td>2019-05-30</td>\n",
       "      <td>08:00:00</td>\n",
       "      <td>https://www.hindustantimes.com/fashion-and-tre...</td>\n",
       "    </tr>\n",
       "    <tr>\n",
       "      <th>12</th>\n",
       "      <td>Hindiustan Times</td>\n",
       "      <td>Chaat is always a childhood memory — We can’t ...</td>\n",
       "      <td>2019-05-29</td>\n",
       "      <td>13:58:00</td>\n",
       "      <td>https://www.hindustantimes.com/travel/the-tast...</td>\n",
       "    </tr>\n",
       "    <tr>\n",
       "      <th>13</th>\n",
       "      <td>Hindiustan Times</td>\n",
       "      <td>Not so Aam India</td>\n",
       "      <td>2019-05-29</td>\n",
       "      <td>13:42:00</td>\n",
       "      <td>https://www.hindustantimes.com/more-lifestyle/...</td>\n",
       "    </tr>\n",
       "    <tr>\n",
       "      <th>14</th>\n",
       "      <td>Hindiustan Times</td>\n",
       "      <td>Bollywood celebrity inspired beach accessories...</td>\n",
       "      <td>2019-05-29</td>\n",
       "      <td>13:42:00</td>\n",
       "      <td>https://www.hindustantimes.com/fashion-and-tre...</td>\n",
       "    </tr>\n",
       "    <tr>\n",
       "      <th>15</th>\n",
       "      <td>Hindiustan Times</td>\n",
       "      <td>Identity quest: An art fest that goes beyond t...</td>\n",
       "      <td>2019-05-29</td>\n",
       "      <td>13:20:00</td>\n",
       "      <td>https://www.hindustantimes.com/art-and-culture...</td>\n",
       "    </tr>\n",
       "    <tr>\n",
       "      <th>16</th>\n",
       "      <td>Hindiustan Times</td>\n",
       "      <td>How to make long distance relationships work?</td>\n",
       "      <td>2019-05-29</td>\n",
       "      <td>17:33:00</td>\n",
       "      <td>https://www.hindustantimes.com/sex-and-relatio...</td>\n",
       "    </tr>\n",
       "    <tr>\n",
       "      <th>17</th>\n",
       "      <td>Hindiustan Times</td>\n",
       "      <td>What’s hot in ice cream? A scoop on new flavours</td>\n",
       "      <td>2019-05-29</td>\n",
       "      <td>11:02:00</td>\n",
       "      <td>https://www.hindustantimes.com/more-lifestyle/...</td>\n",
       "    </tr>\n",
       "    <tr>\n",
       "      <th>18</th>\n",
       "      <td>Hindiustan Times</td>\n",
       "      <td>Fifth edition of the Fetes Galantes brings Fra...</td>\n",
       "      <td>2019-05-29</td>\n",
       "      <td>10:44:00</td>\n",
       "      <td>https://www.hindustantimes.com/fashion-and-tre...</td>\n",
       "    </tr>\n",
       "    <tr>\n",
       "      <th>19</th>\n",
       "      <td>Hindiustan Times</td>\n",
       "      <td>Jaipur Wax Museum celebrates Gayatri Devi’s 10...</td>\n",
       "      <td>2019-05-29</td>\n",
       "      <td>17:54:00</td>\n",
       "      <td>https://www.hindustantimes.com/art-and-culture...</td>\n",
       "    </tr>\n",
       "    <tr>\n",
       "      <th>20</th>\n",
       "      <td>Hindiustan Times</td>\n",
       "      <td>Meet India’s first male model with autism</td>\n",
       "      <td>2019-05-29</td>\n",
       "      <td>18:01:00</td>\n",
       "      <td>https://www.hindustantimes.com/fashion-and-tre...</td>\n",
       "    </tr>\n",
       "    <tr>\n",
       "      <th>21</th>\n",
       "      <td>Hindiustan Times</td>\n",
       "      <td>Largest art museum in US to showcase works of ...</td>\n",
       "      <td>2019-05-28</td>\n",
       "      <td>12:55:00</td>\n",
       "      <td>https://www.hindustantimes.com/art-and-culture...</td>\n",
       "    </tr>\n",
       "    <tr>\n",
       "      <th>22</th>\n",
       "      <td>Hindiustan Times</td>\n",
       "      <td>Seriously Cyrus: Is the salad worth the forbid...</td>\n",
       "      <td>2019-05-28</td>\n",
       "      <td>17:44:00</td>\n",
       "      <td>https://www.hindustantimes.com/sex-and-relatio...</td>\n",
       "    </tr>\n",
       "    <tr>\n",
       "      <th>23</th>\n",
       "      <td>Hindiustan Times</td>\n",
       "      <td>Russel Peters on his worst experiences, Kolkat...</td>\n",
       "      <td>2019-05-27</td>\n",
       "      <td>18:47:00</td>\n",
       "      <td>https://www.hindustantimes.com/more-lifestyle/...</td>\n",
       "    </tr>\n",
       "    <tr>\n",
       "      <th>24</th>\n",
       "      <td>Hindiustan Times</td>\n",
       "      <td>Actors opt for outfits with plunging necklines...</td>\n",
       "      <td>2019-05-28</td>\n",
       "      <td>10:51:00</td>\n",
       "      <td>https://www.hindustantimes.com/fashion-and-tre...</td>\n",
       "    </tr>\n",
       "  </tbody>\n",
       "</table>\n",
       "</div>"
      ],
      "text/plain": [
       "           Newspaper                                            Heading  \\\n",
       "0   Hindiustan Times  Boss Girl: Presenting Rhea Kapoor! Bollywood’s...   \n",
       "1   Hindiustan Times  Humour: Restaurants and their endless need for...   \n",
       "2   Hindiustan Times                    Travel: The Serbian melting pot   \n",
       "3   Hindiustan Times  The rise of the fall: Why mobile phone buyers ...   \n",
       "4   Hindiustan Times  From street-side drug addicts to trained artists    \n",
       "5   Hindiustan Times  Sara Ali Khan’s white kurta can be recreated a...   \n",
       "6   Hindiustan Times             Summer special: For the love of lychee   \n",
       "7   Hindiustan Times  Stress during pregnancy affects reproductive f...   \n",
       "8   Hindiustan Times  Harry Styles proves it’s a fashion era for men...   \n",
       "9   Hindiustan Times  Resurgent Capital: In and around Bogota, Columbia   \n",
       "10  Hindiustan Times  Priyanka Chopra, Sonam Kapoor, Dua Lipa show y...   \n",
       "11  Hindiustan Times  Deepika Padukone, Kareena Kapoor, Ananya Panda...   \n",
       "12  Hindiustan Times  Chaat is always a childhood memory — We can’t ...   \n",
       "13  Hindiustan Times                                   Not so Aam India   \n",
       "14  Hindiustan Times  Bollywood celebrity inspired beach accessories...   \n",
       "15  Hindiustan Times  Identity quest: An art fest that goes beyond t...   \n",
       "16  Hindiustan Times     How to make long distance relationships work?    \n",
       "17  Hindiustan Times   What’s hot in ice cream? A scoop on new flavours   \n",
       "18  Hindiustan Times  Fifth edition of the Fetes Galantes brings Fra...   \n",
       "19  Hindiustan Times  Jaipur Wax Museum celebrates Gayatri Devi’s 10...   \n",
       "20  Hindiustan Times          Meet India’s first male model with autism   \n",
       "21  Hindiustan Times  Largest art museum in US to showcase works of ...   \n",
       "22  Hindiustan Times  Seriously Cyrus: Is the salad worth the forbid...   \n",
       "23  Hindiustan Times  Russel Peters on his worst experiences, Kolkat...   \n",
       "24  Hindiustan Times  Actors opt for outfits with plunging necklines...   \n",
       "\n",
       "         Date      Time                                                URL  \n",
       "0  2019-05-25  23:27:00  https://www.hindustantimes.com/brunch/boss-gir...  \n",
       "1  2019-05-25  23:10:00  https://www.hindustantimes.com/brunch/humour-r...  \n",
       "2  2019-05-26  07:52:00  https://www.hindustantimes.com/brunch/travel-t...  \n",
       "3  2019-05-25  22:04:00  https://www.hindustantimes.com/brunch/the-rise...  \n",
       "4  2019-05-30  17:29:00  https://www.hindustantimes.com/more-lifestyle/...  \n",
       "5  2019-05-30  15:47:00  https://www.hindustantimes.com/fashion-and-tre...  \n",
       "6  2019-05-30  15:29:00  https://www.hindustantimes.com/more-lifestyle/...  \n",
       "7  2019-05-30  14:32:00  https://www.hindustantimes.com/sex-and-relatio...  \n",
       "8  2019-05-30  14:03:00  https://www.hindustantimes.com/fashion-and-tre...  \n",
       "9  2019-05-30  13:37:00  https://www.hindustantimes.com/travel/resurgen...  \n",
       "10 2019-05-30  11:23:00  https://www.hindustantimes.com/fashion-and-tre...  \n",
       "11 2019-05-30  08:00:00  https://www.hindustantimes.com/fashion-and-tre...  \n",
       "12 2019-05-29  13:58:00  https://www.hindustantimes.com/travel/the-tast...  \n",
       "13 2019-05-29  13:42:00  https://www.hindustantimes.com/more-lifestyle/...  \n",
       "14 2019-05-29  13:42:00  https://www.hindustantimes.com/fashion-and-tre...  \n",
       "15 2019-05-29  13:20:00  https://www.hindustantimes.com/art-and-culture...  \n",
       "16 2019-05-29  17:33:00  https://www.hindustantimes.com/sex-and-relatio...  \n",
       "17 2019-05-29  11:02:00  https://www.hindustantimes.com/more-lifestyle/...  \n",
       "18 2019-05-29  10:44:00  https://www.hindustantimes.com/fashion-and-tre...  \n",
       "19 2019-05-29  17:54:00  https://www.hindustantimes.com/art-and-culture...  \n",
       "20 2019-05-29  18:01:00  https://www.hindustantimes.com/fashion-and-tre...  \n",
       "21 2019-05-28  12:55:00  https://www.hindustantimes.com/art-and-culture...  \n",
       "22 2019-05-28  17:44:00  https://www.hindustantimes.com/sex-and-relatio...  \n",
       "23 2019-05-27  18:47:00  https://www.hindustantimes.com/more-lifestyle/...  \n",
       "24 2019-05-28  10:51:00  https://www.hindustantimes.com/fashion-and-tre...  "
      ]
     },
     "execution_count": 14,
     "metadata": {},
     "output_type": "execute_result"
    }
   ],
   "source": [
    "df"
   ]
  },
  {
   "cell_type": "code",
   "execution_count": 15,
   "metadata": {},
   "outputs": [],
   "source": [
    "outname ='HT_Lifestyle-'+str(Today_date)+'.csv'\n",
    "x=r\"C:\\Users\\drago\\Documents\\GitHub\\Summer-Project\\Lifestyle\\CSV\\ \"\n",
    "date_today= Today_date +'\\ '\n",
    "outdir=x[:-1]+ date_today[:-1]\n",
    "if not os.path.exists(outdir):\n",
    "    os.mkdir(outdir)\n",
    "fullname = os.path.join(outdir, outname) "
   ]
  },
  {
   "cell_type": "code",
   "execution_count": 17,
   "metadata": {},
   "outputs": [],
   "source": [
    "df.to_csv(fullname,index=False,encoding='utf-8')"
   ]
  },
  {
   "cell_type": "code",
   "execution_count": null,
   "metadata": {},
   "outputs": [],
   "source": []
  },
  {
   "cell_type": "code",
   "execution_count": null,
   "metadata": {},
   "outputs": [],
   "source": []
  }
 ],
 "metadata": {
  "kernelspec": {
   "display_name": "Python 3",
   "language": "python",
   "name": "python3"
  },
  "language_info": {
   "codemirror_mode": {
    "name": "ipython",
    "version": 3
   },
   "file_extension": ".py",
   "mimetype": "text/x-python",
   "name": "python",
   "nbconvert_exporter": "python",
   "pygments_lexer": "ipython3",
   "version": "3.6.5"
  }
 },
 "nbformat": 4,
 "nbformat_minor": 2
}

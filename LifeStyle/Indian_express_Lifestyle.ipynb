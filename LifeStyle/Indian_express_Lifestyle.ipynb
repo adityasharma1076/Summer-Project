{
 "cells": [
  {
   "cell_type": "code",
   "execution_count": 1,
   "metadata": {},
   "outputs": [],
   "source": [
    "import requests\n",
    "import bs4\n",
    "import pandas as pd\n",
    "import os"
   ]
  },
  {
   "cell_type": "code",
   "execution_count": 2,
   "metadata": {},
   "outputs": [],
   "source": [
    "import datetime\n",
    "\n",
    "now = datetime.datetime.now()\n",
    "\n",
    "\n",
    "Today_time = now.strftime(\"%H:%M\")\n",
    "\n",
    "Today_date = now.strftime(\"%Y-%m-%d\")"
   ]
  },
  {
   "cell_type": "code",
   "execution_count": 3,
   "metadata": {},
   "outputs": [],
   "source": [
    "def get_date_time(URL):\n",
    "    req = requests.get(URL)\n",
    "    soup_date = bs4.BeautifulSoup(req.text,'lxml')\n",
    "    temp = soup_date.select(\".m-story-meta__credit\")\n",
    "    time_date = temp[0].findAll('span')[-1].text\n",
    "    x=str.split(time_date)\n",
    "    date = x[1]+' '+x[2]+' '+x[3]\n",
    "    time = x[4]+' '+x[5]\n",
    "    return date,time\n",
    "\n",
    "def get_time(URL):\n",
    "    req = requests.get(URL)\n",
    "    soup_date = bs4.BeautifulSoup(req.text,'lxml')\n",
    "    temp = soup_date.select(\".m-story-meta__credit\")\n",
    "    time_date = temp[0].findAll('span')[-1].text\n",
    "    time = time_date[-11:]\n",
    "    return time\n"
   ]
  },
  {
   "cell_type": "code",
   "execution_count": 4,
   "metadata": {},
   "outputs": [],
   "source": [
    "link = 'https://indianexpress.com/section/lifestyle/'"
   ]
  },
  {
   "cell_type": "code",
   "execution_count": 5,
   "metadata": {},
   "outputs": [],
   "source": [
    "res = requests.get(link)\n",
    "soup = bs4.BeautifulSoup(res.text,'lxml')"
   ]
  },
  {
   "cell_type": "code",
   "execution_count": 6,
   "metadata": {},
   "outputs": [],
   "source": [
    "h1 = soup.select('.m-article-featured__title')"
   ]
  },
  {
   "cell_type": "code",
   "execution_count": 7,
   "metadata": {},
   "outputs": [
    {
     "data": {
      "text/plain": [
       "'PM Modi takes oath in white kurta-pyjama and grey Nehru jacket'"
      ]
     },
     "execution_count": 7,
     "metadata": {},
     "output_type": "execute_result"
    }
   ],
   "source": [
    "h1[0].text\n"
   ]
  },
  {
   "cell_type": "code",
   "execution_count": 8,
   "metadata": {},
   "outputs": [
    {
     "data": {
      "text/plain": [
       "'https://indianexpress.com/article/lifestyle/fashion/prime-minister-narendra-modi-takes-oath-at-rashtrapati-bhavan-in-white-kurta-pyjama-nehru-jacket-5757031/'"
      ]
     },
     "execution_count": 8,
     "metadata": {},
     "output_type": "execute_result"
    }
   ],
   "source": [
    "h1[0].find('a')['href']"
   ]
  },
  {
   "cell_type": "code",
   "execution_count": null,
   "metadata": {},
   "outputs": [],
   "source": []
  },
  {
   "cell_type": "code",
   "execution_count": 9,
   "metadata": {},
   "outputs": [],
   "source": [
    "records=[]\n",
    "#records.append(('Indian Express',h1[0].text,h1[0].find('a')['href']))\n",
    "h1_newspaper='Indian Express'\n",
    "h1_heading = h1[0].text\n",
    "h1_url = h1[0].find('a')['href']\n",
    "h1_date,h1_time = get_date_time(h1_url)\n",
    "#h1_time = get_time(h1_url)\n",
    "\n",
    "records.append((h1_newspaper,h1_heading,h1_date,h1_time,h1_url))"
   ]
  },
  {
   "cell_type": "code",
   "execution_count": 10,
   "metadata": {},
   "outputs": [],
   "source": [
    "h2=soup.findAll('h2')"
   ]
  },
  {
   "cell_type": "code",
   "execution_count": 11,
   "metadata": {},
   "outputs": [
    {
     "data": {
      "text/plain": [
       "[<h2 class=\"m-article-tall@medium+__title m-article-wide@small-__title\"><a class=\"m-block-link__anchor\" data-event-id=\"\" href=\"https://indianexpress.com/article/lifestyle/fashion/kangana-ranaut-steps-out-in-a-raw-mango-sari-for-prime-minister-narendra-modis-swearing-in-ceremony-5756964/\" target=\"_self\" title=\"Kangana Ranaut picks a Raw Mango sari for PM Modi's swearing-in ceremony\">Kangana Ranaut picks a Raw Mango sari for PM Modi's swearing-in ceremony</a></h2>,\n",
       " <h2 class=\"m-article-tall@medium+__title m-article-wide@small-__title\"><a class=\"m-block-link__anchor\" data-event-id=\"\" href=\"https://indianexpress.com/article/lifestyle/food-wine/prime-minister-narendra-modi-swearing-in-menu-dal-raisina-5754372/\" target=\"_self\" title=\"Dal Raisina, all you need to know about the special delicacy served in Rashtrapati Bhavan\">Dal Raisina, all you need to know about the special delicacy served in Rashtrapati Bhavan</a></h2>,\n",
       " <h2 class=\"m-article-tall@medium+__title m-article-wide@small-__title\"><a class=\"m-block-link__anchor\" data-event-id=\"\" href=\"https://indianexpress.com/article/lifestyle/fashion/kareena-kapoor-khan-oozes-elegance-gives-lessons-on-power-dressing-5756749/\" target=\"_self\" title=\"Kareena Kapoor Khan oozes elegance; gives lessons on power dressing\">Kareena Kapoor Khan oozes elegance; gives lessons on power dressing</a></h2>]"
      ]
     },
     "execution_count": 11,
     "metadata": {},
     "output_type": "execute_result"
    }
   ],
   "source": [
    "h2[1:4]"
   ]
  },
  {
   "cell_type": "code",
   "execution_count": 12,
   "metadata": {},
   "outputs": [
    {
     "data": {
      "text/plain": [
       "'https://indianexpress.com/article/lifestyle/fashion/kangana-ranaut-steps-out-in-a-raw-mango-sari-for-prime-minister-narendra-modis-swearing-in-ceremony-5756964/'"
      ]
     },
     "execution_count": 12,
     "metadata": {},
     "output_type": "execute_result"
    }
   ],
   "source": [
    "h2[1].text\n",
    "h2[1].find('a')['href']"
   ]
  },
  {
   "cell_type": "code",
   "execution_count": 13,
   "metadata": {},
   "outputs": [],
   "source": [
    "for record in h2[1:4]:\n",
    "    Heading = record.text\n",
    "    URL = record.find('a')['href']\n",
    "    Date,Time = get_date_time(URL)\n",
    "    #Time = get_time(URL)\n",
    "    Newspaper='Indian Express'\n",
    "    records.append((Newspaper,Heading,Date,Time,URL))"
   ]
  },
  {
   "cell_type": "code",
   "execution_count": 14,
   "metadata": {},
   "outputs": [],
   "source": [
    "h3=soup.select('.m-article-landing__title')"
   ]
  },
  {
   "cell_type": "code",
   "execution_count": 15,
   "metadata": {},
   "outputs": [
    {
     "data": {
      "text/plain": [
       "'https://indianexpress.com/article/lifestyle/food-wine/prime-minister-narendra-modi-swearing-in-menu-dal-raisina-5754372/'"
      ]
     },
     "execution_count": 15,
     "metadata": {},
     "output_type": "execute_result"
    }
   ],
   "source": [
    "h3[0].text\n",
    "h3[0].find('a')['href']"
   ]
  },
  {
   "cell_type": "code",
   "execution_count": 16,
   "metadata": {},
   "outputs": [],
   "source": [
    "req = requests.get('https://indianexpress.com/article/education/why-are-du-admissions-2019-being-delayed-delhi-university-du-ac-in-5739038/')\n",
    "soup_date = bs4.BeautifulSoup(req.text,'lxml')"
   ]
  },
  {
   "cell_type": "code",
   "execution_count": null,
   "metadata": {},
   "outputs": [],
   "source": []
  },
  {
   "cell_type": "code",
   "execution_count": 17,
   "metadata": {},
   "outputs": [],
   "source": [
    "for record in h3:\n",
    "    Heading = record.text\n",
    "    URL = record.find('a')['href']\n",
    "    Date,Time = get_date_time(URL)\n",
    "    #Time = get_time(URL)\n",
    "    Newspaper = 'Indian Express'\n",
    "    records.append((Newspaper,Heading,Date,Time,URL))"
   ]
  },
  {
   "cell_type": "code",
   "execution_count": 18,
   "metadata": {},
   "outputs": [],
   "source": [
    "df=pd.DataFrame(records,columns=['Newspaper','Heading','Date','Time','URL'])\n",
    "df['Date'] = pd.to_datetime(df['Date'])"
   ]
  },
  {
   "cell_type": "code",
   "execution_count": null,
   "metadata": {},
   "outputs": [],
   "source": []
  },
  {
   "cell_type": "code",
   "execution_count": 19,
   "metadata": {},
   "outputs": [],
   "source": [
    "outname ='IE_lifestyle-'+str(Today_date)+'.csv'\n",
    "x=r\"C:\\Users\\drago\\Documents\\GitHub\\Summer-Project\\Lifestyle\\CSV\\ \"\n",
    "date_today= Today_date +'\\ '\n",
    "outdir=x[:-1]+ date_today[:-1]\n",
    "if not os.path.exists(outdir):\n",
    "    os.mkdir(outdir)\n",
    "fullname = os.path.join(outdir, outname) "
   ]
  },
  {
   "cell_type": "code",
   "execution_count": 20,
   "metadata": {},
   "outputs": [],
   "source": [
    "df.to_csv(fullname,index=False,encoding='utf-8')"
   ]
  },
  {
   "cell_type": "code",
   "execution_count": 21,
   "metadata": {},
   "outputs": [
    {
     "data": {
      "text/html": [
       "<div>\n",
       "<style scoped>\n",
       "    .dataframe tbody tr th:only-of-type {\n",
       "        vertical-align: middle;\n",
       "    }\n",
       "\n",
       "    .dataframe tbody tr th {\n",
       "        vertical-align: top;\n",
       "    }\n",
       "\n",
       "    .dataframe thead th {\n",
       "        text-align: right;\n",
       "    }\n",
       "</style>\n",
       "<table border=\"1\" class=\"dataframe\">\n",
       "  <thead>\n",
       "    <tr style=\"text-align: right;\">\n",
       "      <th></th>\n",
       "      <th>Newspaper</th>\n",
       "      <th>Heading</th>\n",
       "      <th>Date</th>\n",
       "      <th>Time</th>\n",
       "      <th>URL</th>\n",
       "    </tr>\n",
       "  </thead>\n",
       "  <tbody>\n",
       "    <tr>\n",
       "      <th>0</th>\n",
       "      <td>Indian Express</td>\n",
       "      <td>PM Modi takes oath in white kurta-pyjama and g...</td>\n",
       "      <td>2019-05-30</td>\n",
       "      <td>8:25:59 pm</td>\n",
       "      <td>https://indianexpress.com/article/lifestyle/fa...</td>\n",
       "    </tr>\n",
       "    <tr>\n",
       "      <th>1</th>\n",
       "      <td>Indian Express</td>\n",
       "      <td>Kangana Ranaut picks a Raw Mango sari for PM M...</td>\n",
       "      <td>2019-05-30</td>\n",
       "      <td>6:57:31 pm</td>\n",
       "      <td>https://indianexpress.com/article/lifestyle/fa...</td>\n",
       "    </tr>\n",
       "    <tr>\n",
       "      <th>2</th>\n",
       "      <td>Indian Express</td>\n",
       "      <td>Dal Raisina, all you need to know about the sp...</td>\n",
       "      <td>2019-05-30</td>\n",
       "      <td>8:32:29 pm</td>\n",
       "      <td>https://indianexpress.com/article/lifestyle/fo...</td>\n",
       "    </tr>\n",
       "    <tr>\n",
       "      <th>3</th>\n",
       "      <td>Indian Express</td>\n",
       "      <td>Kareena Kapoor Khan oozes elegance; gives less...</td>\n",
       "      <td>2019-05-30</td>\n",
       "      <td>5:56:44 pm</td>\n",
       "      <td>https://indianexpress.com/article/lifestyle/fa...</td>\n",
       "    </tr>\n",
       "    <tr>\n",
       "      <th>4</th>\n",
       "      <td>Indian Express</td>\n",
       "      <td>Dal Raisina: All you need to know about the sp...</td>\n",
       "      <td>2019-05-30</td>\n",
       "      <td>8:32:29 pm</td>\n",
       "      <td>https://indianexpress.com/article/lifestyle/fo...</td>\n",
       "    </tr>\n",
       "    <tr>\n",
       "      <th>5</th>\n",
       "      <td>Indian Express</td>\n",
       "      <td>PM Modi takes oath in white kurta-pyjama and g...</td>\n",
       "      <td>2019-05-30</td>\n",
       "      <td>8:25:59 pm</td>\n",
       "      <td>https://indianexpress.com/article/lifestyle/fa...</td>\n",
       "    </tr>\n",
       "    <tr>\n",
       "      <th>6</th>\n",
       "      <td>Indian Express</td>\n",
       "      <td>Kangana Ranaut picks Raw Mango sari for PM Mod...</td>\n",
       "      <td>2019-05-30</td>\n",
       "      <td>6:57:31 pm</td>\n",
       "      <td>https://indianexpress.com/article/lifestyle/fa...</td>\n",
       "    </tr>\n",
       "    <tr>\n",
       "      <th>7</th>\n",
       "      <td>Indian Express</td>\n",
       "      <td>Kareena Kapoor Khan oozes elegance; gives less...</td>\n",
       "      <td>2019-05-30</td>\n",
       "      <td>5:56:44 pm</td>\n",
       "      <td>https://indianexpress.com/article/lifestyle/fa...</td>\n",
       "    </tr>\n",
       "    <tr>\n",
       "      <th>8</th>\n",
       "      <td>Indian Express</td>\n",
       "      <td>Eid-ul-Fitr 2019 Date in India: When is Eid-ul...</td>\n",
       "      <td>2019-05-30</td>\n",
       "      <td>5:36:49 pm</td>\n",
       "      <td>https://indianexpress.com/article/lifestyle/li...</td>\n",
       "    </tr>\n",
       "    <tr>\n",
       "      <th>9</th>\n",
       "      <td>Indian Express</td>\n",
       "      <td>Accelerate actions to slash tobacco use across...</td>\n",
       "      <td>2019-05-30</td>\n",
       "      <td>5:12:03 pm</td>\n",
       "      <td>https://indianexpress.com/article/lifestyle/he...</td>\n",
       "    </tr>\n",
       "    <tr>\n",
       "      <th>10</th>\n",
       "      <td>Indian Express</td>\n",
       "      <td>Nursing a hangover? These smoothie recipes wil...</td>\n",
       "      <td>2019-05-30</td>\n",
       "      <td>4:24:52 pm</td>\n",
       "      <td>https://indianexpress.com/article/lifestyle/fo...</td>\n",
       "    </tr>\n",
       "    <tr>\n",
       "      <th>11</th>\n",
       "      <td>Indian Express</td>\n",
       "      <td>Young women suicide rate increased three month...</td>\n",
       "      <td>2019-05-30</td>\n",
       "      <td>2:48:15 pm</td>\n",
       "      <td>https://indianexpress.com/article/lifestyle/he...</td>\n",
       "    </tr>\n",
       "    <tr>\n",
       "      <th>12</th>\n",
       "      <td>Indian Express</td>\n",
       "      <td>From controlling diabetes to skin care: Know a...</td>\n",
       "      <td>2019-05-30</td>\n",
       "      <td>1:25:50 pm</td>\n",
       "      <td>https://indianexpress.com/article/lifestyle/he...</td>\n",
       "    </tr>\n",
       "    <tr>\n",
       "      <th>13</th>\n",
       "      <td>Indian Express</td>\n",
       "      <td>Armed conflict linked with heart attack, strok...</td>\n",
       "      <td>2019-05-30</td>\n",
       "      <td>11:47:45 am</td>\n",
       "      <td>https://indianexpress.com/article/lifestyle/he...</td>\n",
       "    </tr>\n",
       "    <tr>\n",
       "      <th>14</th>\n",
       "      <td>Indian Express</td>\n",
       "      <td>Fleabag: The unbearable lightness of sisterhood</td>\n",
       "      <td>2019-05-30</td>\n",
       "      <td>10:15:52 am</td>\n",
       "      <td>https://indianexpress.com/article/lifestyle/fe...</td>\n",
       "    </tr>\n",
       "    <tr>\n",
       "      <th>15</th>\n",
       "      <td>Indian Express</td>\n",
       "      <td>Indian writer Annie Zaidi wins $100,000 global...</td>\n",
       "      <td>2019-05-30</td>\n",
       "      <td>10:14:18 am</td>\n",
       "      <td>https://indianexpress.com/article/lifestyle/bo...</td>\n",
       "    </tr>\n",
       "  </tbody>\n",
       "</table>\n",
       "</div>"
      ],
      "text/plain": [
       "         Newspaper                                            Heading  \\\n",
       "0   Indian Express  PM Modi takes oath in white kurta-pyjama and g...   \n",
       "1   Indian Express  Kangana Ranaut picks a Raw Mango sari for PM M...   \n",
       "2   Indian Express  Dal Raisina, all you need to know about the sp...   \n",
       "3   Indian Express  Kareena Kapoor Khan oozes elegance; gives less...   \n",
       "4   Indian Express  Dal Raisina: All you need to know about the sp...   \n",
       "5   Indian Express  PM Modi takes oath in white kurta-pyjama and g...   \n",
       "6   Indian Express  Kangana Ranaut picks Raw Mango sari for PM Mod...   \n",
       "7   Indian Express  Kareena Kapoor Khan oozes elegance; gives less...   \n",
       "8   Indian Express  Eid-ul-Fitr 2019 Date in India: When is Eid-ul...   \n",
       "9   Indian Express  Accelerate actions to slash tobacco use across...   \n",
       "10  Indian Express  Nursing a hangover? These smoothie recipes wil...   \n",
       "11  Indian Express  Young women suicide rate increased three month...   \n",
       "12  Indian Express  From controlling diabetes to skin care: Know a...   \n",
       "13  Indian Express  Armed conflict linked with heart attack, strok...   \n",
       "14  Indian Express    Fleabag: The unbearable lightness of sisterhood   \n",
       "15  Indian Express  Indian writer Annie Zaidi wins $100,000 global...   \n",
       "\n",
       "         Date         Time                                                URL  \n",
       "0  2019-05-30   8:25:59 pm  https://indianexpress.com/article/lifestyle/fa...  \n",
       "1  2019-05-30   6:57:31 pm  https://indianexpress.com/article/lifestyle/fa...  \n",
       "2  2019-05-30   8:32:29 pm  https://indianexpress.com/article/lifestyle/fo...  \n",
       "3  2019-05-30   5:56:44 pm  https://indianexpress.com/article/lifestyle/fa...  \n",
       "4  2019-05-30   8:32:29 pm  https://indianexpress.com/article/lifestyle/fo...  \n",
       "5  2019-05-30   8:25:59 pm  https://indianexpress.com/article/lifestyle/fa...  \n",
       "6  2019-05-30   6:57:31 pm  https://indianexpress.com/article/lifestyle/fa...  \n",
       "7  2019-05-30   5:56:44 pm  https://indianexpress.com/article/lifestyle/fa...  \n",
       "8  2019-05-30   5:36:49 pm  https://indianexpress.com/article/lifestyle/li...  \n",
       "9  2019-05-30   5:12:03 pm  https://indianexpress.com/article/lifestyle/he...  \n",
       "10 2019-05-30   4:24:52 pm  https://indianexpress.com/article/lifestyle/fo...  \n",
       "11 2019-05-30   2:48:15 pm  https://indianexpress.com/article/lifestyle/he...  \n",
       "12 2019-05-30   1:25:50 pm  https://indianexpress.com/article/lifestyle/he...  \n",
       "13 2019-05-30  11:47:45 am  https://indianexpress.com/article/lifestyle/he...  \n",
       "14 2019-05-30  10:15:52 am  https://indianexpress.com/article/lifestyle/fe...  \n",
       "15 2019-05-30  10:14:18 am  https://indianexpress.com/article/lifestyle/bo...  "
      ]
     },
     "execution_count": 21,
     "metadata": {},
     "output_type": "execute_result"
    }
   ],
   "source": [
    "df"
   ]
  },
  {
   "cell_type": "code",
   "execution_count": null,
   "metadata": {},
   "outputs": [],
   "source": []
  }
 ],
 "metadata": {
  "kernelspec": {
   "display_name": "Python 3",
   "language": "python",
   "name": "python3"
  },
  "language_info": {
   "codemirror_mode": {
    "name": "ipython",
    "version": 3
   },
   "file_extension": ".py",
   "mimetype": "text/x-python",
   "name": "python",
   "nbconvert_exporter": "python",
   "pygments_lexer": "ipython3",
   "version": "3.6.5"
  }
 },
 "nbformat": 4,
 "nbformat_minor": 2
}

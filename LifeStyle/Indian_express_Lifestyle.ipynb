{
 "cells": [
  {
   "cell_type": "code",
   "execution_count": 1,
   "metadata": {},
   "outputs": [],
   "source": [
    "import requests\n",
    "import bs4\n",
    "import pandas as pd"
   ]
  },
  {
   "cell_type": "code",
   "execution_count": 2,
   "metadata": {},
   "outputs": [],
   "source": [
    "def get_date_time(URL):\n",
    "    req = requests.get(URL)\n",
    "    soup_date = bs4.BeautifulSoup(req.text,'lxml')\n",
    "    temp = soup_date.select(\".m-story-meta__credit\")\n",
    "    time_date = temp[0].findAll('span')[-1].text\n",
    "    x=str.split(time_date)\n",
    "    date = x[1]+' '+x[2]+' '+x[3]\n",
    "    time = x[4]+' '+x[5]\n",
    "    return date,time\n",
    "\n",
    "def get_time(URL):\n",
    "    req = requests.get(URL)\n",
    "    soup_date = bs4.BeautifulSoup(req.text,'lxml')\n",
    "    temp = soup_date.select(\".m-story-meta__credit\")\n",
    "    time_date = temp[0].findAll('span')[-1].text\n",
    "    time = time_date[-11:]\n",
    "    return time\n"
   ]
  },
  {
   "cell_type": "code",
   "execution_count": 3,
   "metadata": {},
   "outputs": [],
   "source": [
    "link = 'https://indianexpress.com/section/lifestyle/'"
   ]
  },
  {
   "cell_type": "code",
   "execution_count": 4,
   "metadata": {},
   "outputs": [],
   "source": [
    "res = requests.get(link)\n",
    "soup = bs4.BeautifulSoup(res.text,'lxml')"
   ]
  },
  {
   "cell_type": "code",
   "execution_count": 5,
   "metadata": {},
   "outputs": [],
   "source": [
    "h1 = soup.select('.m-article-featured__title')"
   ]
  },
  {
   "cell_type": "code",
   "execution_count": 6,
   "metadata": {},
   "outputs": [
    {
     "data": {
      "text/plain": [
       "'In her new piece, Swati Mohan explores belief systems that shackle the mind or set it free'"
      ]
     },
     "execution_count": 6,
     "metadata": {},
     "output_type": "execute_result"
    }
   ],
   "source": [
    "h1[0].text\n"
   ]
  },
  {
   "cell_type": "code",
   "execution_count": 7,
   "metadata": {},
   "outputs": [
    {
     "data": {
      "text/plain": [
       "'https://indianexpress.com/article/lifestyle/art-and-culture/dancer-swati-mohan-bharatanayam-lightness-of-being-5753372/'"
      ]
     },
     "execution_count": 7,
     "metadata": {},
     "output_type": "execute_result"
    }
   ],
   "source": [
    "h1[0].find('a')['href']"
   ]
  },
  {
   "cell_type": "code",
   "execution_count": null,
   "metadata": {},
   "outputs": [],
   "source": []
  },
  {
   "cell_type": "code",
   "execution_count": 8,
   "metadata": {},
   "outputs": [],
   "source": [
    "records=[]\n",
    "#records.append(('Indian Express',h1[0].text,h1[0].find('a')['href']))\n",
    "h1_newspaper='Indian Express'\n",
    "h1_heading = h1[0].text\n",
    "h1_url = h1[0].find('a')['href']\n",
    "h1_date,h1_time = get_date_time(h1_url)\n",
    "#h1_time = get_time(h1_url)\n",
    "\n",
    "records.append((h1_newspaper,h1_heading,h1_date,h1_time,h1_url))"
   ]
  },
  {
   "cell_type": "code",
   "execution_count": 9,
   "metadata": {},
   "outputs": [],
   "source": [
    "h2=soup.findAll('h2')"
   ]
  },
  {
   "cell_type": "code",
   "execution_count": 10,
   "metadata": {},
   "outputs": [
    {
     "data": {
      "text/plain": [
       "[<h2 class=\"m-article-tall@medium+__title m-article-wide@small-__title\"><a class=\"m-block-link__anchor\" data-event-id=\"\" href=\"https://indianexpress.com/article/lifestyle/life-style/inconsistent-choice-making-a-normal-part-of-how-the-brain-evaluates-options-5753781/\" target=\"_self\" title=\"Here's why your brain makes inconsistent choices\">Here's why your brain makes inconsistent choices</a></h2>,\n",
       " <h2 class=\"m-article-tall@medium+__title m-article-wide@small-__title\"><a class=\"m-block-link__anchor\" data-event-id=\"\" href=\"https://indianexpress.com/article/lifestyle/summer-fruits-mango-jamun-ice-cream-kulfi-5753357/\" target=\"_self\" title=\"Chefs across India are rediscovering the joys and challenges of India’s other native summer fruits\">Chefs across India are rediscovering the joys and challenges of India’s other native summer fruits</a></h2>,\n",
       " <h2 class=\"m-article-tall@medium+__title m-article-wide@small-__title\"><a class=\"m-block-link__anchor\" data-event-id=\"\" href=\"https://indianexpress.com/article/lifestyle/fashion/sari-modern-garment-designer-sanjay-garg-raw-mango-5751948/\" target=\"_self\" title=\"Sari is the most modern garment, one which can be perceived in so many different ways: Sanjay Garg\">Sari is the most modern garment, one which can be perceived in so many different ways: Sanjay Garg</a></h2>]"
      ]
     },
     "execution_count": 10,
     "metadata": {},
     "output_type": "execute_result"
    }
   ],
   "source": [
    "h2[1:4]"
   ]
  },
  {
   "cell_type": "code",
   "execution_count": 11,
   "metadata": {},
   "outputs": [
    {
     "data": {
      "text/plain": [
       "'https://indianexpress.com/article/lifestyle/life-style/inconsistent-choice-making-a-normal-part-of-how-the-brain-evaluates-options-5753781/'"
      ]
     },
     "execution_count": 11,
     "metadata": {},
     "output_type": "execute_result"
    }
   ],
   "source": [
    "h2[1].text\n",
    "h2[1].find('a')['href']"
   ]
  },
  {
   "cell_type": "code",
   "execution_count": 12,
   "metadata": {},
   "outputs": [],
   "source": [
    "for record in h2[1:4]:\n",
    "    Heading = record.text\n",
    "    URL = record.find('a')['href']\n",
    "    Date,Time = get_date_time(URL)\n",
    "    #Time = get_time(URL)\n",
    "    Newspaper='Indian Express'\n",
    "    records.append((Newspaper,Heading,Date,Time,URL))"
   ]
  },
  {
   "cell_type": "code",
   "execution_count": 13,
   "metadata": {},
   "outputs": [],
   "source": [
    "h3=soup.select('.m-article-landing__title')"
   ]
  },
  {
   "cell_type": "code",
   "execution_count": 14,
   "metadata": {},
   "outputs": [
    {
     "data": {
      "text/plain": [
       "'https://indianexpress.com/article/lifestyle/life-style/inconsistent-choice-making-a-normal-part-of-how-the-brain-evaluates-options-5753781/'"
      ]
     },
     "execution_count": 14,
     "metadata": {},
     "output_type": "execute_result"
    }
   ],
   "source": [
    "h3[0].text\n",
    "h3[0].find('a')['href']"
   ]
  },
  {
   "cell_type": "code",
   "execution_count": 15,
   "metadata": {},
   "outputs": [],
   "source": [
    "req = requests.get('https://indianexpress.com/article/education/why-are-du-admissions-2019-being-delayed-delhi-university-du-ac-in-5739038/')\n",
    "soup_date = bs4.BeautifulSoup(req.text,'lxml')"
   ]
  },
  {
   "cell_type": "code",
   "execution_count": null,
   "metadata": {},
   "outputs": [],
   "source": []
  },
  {
   "cell_type": "code",
   "execution_count": 16,
   "metadata": {},
   "outputs": [],
   "source": [
    "for record in h3:\n",
    "    Heading = record.text\n",
    "    URL = record.find('a')['href']\n",
    "    Date,Time = get_date_time(URL)\n",
    "    #Time = get_time(URL)\n",
    "    Newspaper = 'Indian Express'\n",
    "    records.append((Newspaper,Heading,Date,Time,URL))"
   ]
  },
  {
   "cell_type": "code",
   "execution_count": 19,
   "metadata": {},
   "outputs": [],
   "source": [
    "df=pd.DataFrame(records,columns=['Newspaper','Heading','Date','Time','URL'])\n",
    "df['Date'] = pd.to_datetime(df['Date'])\n",
    "df.to_csv('IE_lifestyle.csv',index=False,encoding='utf-8')"
   ]
  },
  {
   "cell_type": "code",
   "execution_count": 20,
   "metadata": {},
   "outputs": [
    {
     "data": {
      "text/html": [
       "<div>\n",
       "<style scoped>\n",
       "    .dataframe tbody tr th:only-of-type {\n",
       "        vertical-align: middle;\n",
       "    }\n",
       "\n",
       "    .dataframe tbody tr th {\n",
       "        vertical-align: top;\n",
       "    }\n",
       "\n",
       "    .dataframe thead th {\n",
       "        text-align: right;\n",
       "    }\n",
       "</style>\n",
       "<table border=\"1\" class=\"dataframe\">\n",
       "  <thead>\n",
       "    <tr style=\"text-align: right;\">\n",
       "      <th></th>\n",
       "      <th>Newspaper</th>\n",
       "      <th>Heading</th>\n",
       "      <th>Date</th>\n",
       "      <th>Time</th>\n",
       "      <th>URL</th>\n",
       "    </tr>\n",
       "  </thead>\n",
       "  <tbody>\n",
       "    <tr>\n",
       "      <th>0</th>\n",
       "      <td>Indian Express</td>\n",
       "      <td>In her new piece, Swati Mohan explores belief ...</td>\n",
       "      <td>2019-05-29</td>\n",
       "      <td>8:59:28 am</td>\n",
       "      <td>https://indianexpress.com/article/lifestyle/ar...</td>\n",
       "    </tr>\n",
       "    <tr>\n",
       "      <th>1</th>\n",
       "      <td>Indian Express</td>\n",
       "      <td>Here's why your brain makes inconsistent choices</td>\n",
       "      <td>2019-05-29</td>\n",
       "      <td>11:17:26 am</td>\n",
       "      <td>https://indianexpress.com/article/lifestyle/li...</td>\n",
       "    </tr>\n",
       "    <tr>\n",
       "      <th>2</th>\n",
       "      <td>Indian Express</td>\n",
       "      <td>Chefs across India are rediscovering the joys ...</td>\n",
       "      <td>2019-05-29</td>\n",
       "      <td>9:04:56 am</td>\n",
       "      <td>https://indianexpress.com/article/lifestyle/su...</td>\n",
       "    </tr>\n",
       "    <tr>\n",
       "      <th>3</th>\n",
       "      <td>Indian Express</td>\n",
       "      <td>Sari is the most modern garment, one which can...</td>\n",
       "      <td>2019-05-28</td>\n",
       "      <td>1:59:38 pm</td>\n",
       "      <td>https://indianexpress.com/article/lifestyle/fa...</td>\n",
       "    </tr>\n",
       "    <tr>\n",
       "      <th>4</th>\n",
       "      <td>Indian Express</td>\n",
       "      <td>Here’s why your brain makes inconsistent choices</td>\n",
       "      <td>2019-05-29</td>\n",
       "      <td>11:17:26 am</td>\n",
       "      <td>https://indianexpress.com/article/lifestyle/li...</td>\n",
       "    </tr>\n",
       "    <tr>\n",
       "      <th>5</th>\n",
       "      <td>Indian Express</td>\n",
       "      <td>Common mistakes that can make your skin acne-p...</td>\n",
       "      <td>2019-05-29</td>\n",
       "      <td>10:38:57 am</td>\n",
       "      <td>https://indianexpress.com/article/lifestyle/li...</td>\n",
       "    </tr>\n",
       "    <tr>\n",
       "      <th>6</th>\n",
       "      <td>Indian Express</td>\n",
       "      <td>Easy ways to save money while travelling solo</td>\n",
       "      <td>2019-05-29</td>\n",
       "      <td>9:48:38 am</td>\n",
       "      <td>https://indianexpress.com/article/lifestyle/de...</td>\n",
       "    </tr>\n",
       "    <tr>\n",
       "      <th>7</th>\n",
       "      <td>Indian Express</td>\n",
       "      <td>Chefs across India are rediscovering the joys ...</td>\n",
       "      <td>2019-05-29</td>\n",
       "      <td>9:04:56 am</td>\n",
       "      <td>https://indianexpress.com/article/lifestyle/su...</td>\n",
       "    </tr>\n",
       "    <tr>\n",
       "      <th>8</th>\n",
       "      <td>Indian Express</td>\n",
       "      <td>In her new piece, Swati Mohan explores belief ...</td>\n",
       "      <td>2019-05-29</td>\n",
       "      <td>8:59:28 am</td>\n",
       "      <td>https://indianexpress.com/article/lifestyle/ar...</td>\n",
       "    </tr>\n",
       "    <tr>\n",
       "      <th>9</th>\n",
       "      <td>Indian Express</td>\n",
       "      <td>‘Prioritise who you are and who you want to be...</td>\n",
       "      <td>2019-05-29</td>\n",
       "      <td>6:30:15 am</td>\n",
       "      <td>https://indianexpress.com/article/lifestyle/li...</td>\n",
       "    </tr>\n",
       "    <tr>\n",
       "      <th>10</th>\n",
       "      <td>Indian Express</td>\n",
       "      <td>Collectors’ Edition</td>\n",
       "      <td>2019-05-29</td>\n",
       "      <td>12:11:06 am</td>\n",
       "      <td>https://indianexpress.com/article/lifestyle/ar...</td>\n",
       "    </tr>\n",
       "    <tr>\n",
       "      <th>11</th>\n",
       "      <td>Indian Express</td>\n",
       "      <td>Sonam Kapoor Ahuja oozes elegance at cousin’s ...</td>\n",
       "      <td>2019-05-28</td>\n",
       "      <td>5:15:54 pm</td>\n",
       "      <td>https://indianexpress.com/article/lifestyle/fa...</td>\n",
       "    </tr>\n",
       "    <tr>\n",
       "      <th>12</th>\n",
       "      <td>Indian Express</td>\n",
       "      <td>Nothing says Indian summers better than delici...</td>\n",
       "      <td>2019-05-28</td>\n",
       "      <td>5:11:36 pm</td>\n",
       "      <td>https://indianexpress.com/article/lifestyle/fo...</td>\n",
       "    </tr>\n",
       "    <tr>\n",
       "      <th>13</th>\n",
       "      <td>Indian Express</td>\n",
       "      <td>Aditi Rao Hydari dazzles in this Nikhil Thampi...</td>\n",
       "      <td>2019-05-28</td>\n",
       "      <td>4:38:11 pm</td>\n",
       "      <td>https://indianexpress.com/article/lifestyle/fa...</td>\n",
       "    </tr>\n",
       "    <tr>\n",
       "      <th>14</th>\n",
       "      <td>Indian Express</td>\n",
       "      <td>From aiding digestion to skin care: Why mint s...</td>\n",
       "      <td>2019-05-28</td>\n",
       "      <td>4:01:01 pm</td>\n",
       "      <td>https://indianexpress.com/article/lifestyle/li...</td>\n",
       "    </tr>\n",
       "    <tr>\n",
       "      <th>15</th>\n",
       "      <td>Indian Express</td>\n",
       "      <td>Deepika Padukone disappoints in this yellow ru...</td>\n",
       "      <td>2019-05-28</td>\n",
       "      <td>3:31:32 pm</td>\n",
       "      <td>https://indianexpress.com/article/lifestyle/fa...</td>\n",
       "    </tr>\n",
       "  </tbody>\n",
       "</table>\n",
       "</div>"
      ],
      "text/plain": [
       "         Newspaper                                            Heading  \\\n",
       "0   Indian Express  In her new piece, Swati Mohan explores belief ...   \n",
       "1   Indian Express   Here's why your brain makes inconsistent choices   \n",
       "2   Indian Express  Chefs across India are rediscovering the joys ...   \n",
       "3   Indian Express  Sari is the most modern garment, one which can...   \n",
       "4   Indian Express   Here’s why your brain makes inconsistent choices   \n",
       "5   Indian Express  Common mistakes that can make your skin acne-p...   \n",
       "6   Indian Express      Easy ways to save money while travelling solo   \n",
       "7   Indian Express  Chefs across India are rediscovering the joys ...   \n",
       "8   Indian Express  In her new piece, Swati Mohan explores belief ...   \n",
       "9   Indian Express  ‘Prioritise who you are and who you want to be...   \n",
       "10  Indian Express                                Collectors’ Edition   \n",
       "11  Indian Express  Sonam Kapoor Ahuja oozes elegance at cousin’s ...   \n",
       "12  Indian Express  Nothing says Indian summers better than delici...   \n",
       "13  Indian Express  Aditi Rao Hydari dazzles in this Nikhil Thampi...   \n",
       "14  Indian Express  From aiding digestion to skin care: Why mint s...   \n",
       "15  Indian Express  Deepika Padukone disappoints in this yellow ru...   \n",
       "\n",
       "         Date         Time                                                URL  \n",
       "0  2019-05-29   8:59:28 am  https://indianexpress.com/article/lifestyle/ar...  \n",
       "1  2019-05-29  11:17:26 am  https://indianexpress.com/article/lifestyle/li...  \n",
       "2  2019-05-29   9:04:56 am  https://indianexpress.com/article/lifestyle/su...  \n",
       "3  2019-05-28   1:59:38 pm  https://indianexpress.com/article/lifestyle/fa...  \n",
       "4  2019-05-29  11:17:26 am  https://indianexpress.com/article/lifestyle/li...  \n",
       "5  2019-05-29  10:38:57 am  https://indianexpress.com/article/lifestyle/li...  \n",
       "6  2019-05-29   9:48:38 am  https://indianexpress.com/article/lifestyle/de...  \n",
       "7  2019-05-29   9:04:56 am  https://indianexpress.com/article/lifestyle/su...  \n",
       "8  2019-05-29   8:59:28 am  https://indianexpress.com/article/lifestyle/ar...  \n",
       "9  2019-05-29   6:30:15 am  https://indianexpress.com/article/lifestyle/li...  \n",
       "10 2019-05-29  12:11:06 am  https://indianexpress.com/article/lifestyle/ar...  \n",
       "11 2019-05-28   5:15:54 pm  https://indianexpress.com/article/lifestyle/fa...  \n",
       "12 2019-05-28   5:11:36 pm  https://indianexpress.com/article/lifestyle/fo...  \n",
       "13 2019-05-28   4:38:11 pm  https://indianexpress.com/article/lifestyle/fa...  \n",
       "14 2019-05-28   4:01:01 pm  https://indianexpress.com/article/lifestyle/li...  \n",
       "15 2019-05-28   3:31:32 pm  https://indianexpress.com/article/lifestyle/fa...  "
      ]
     },
     "execution_count": 20,
     "metadata": {},
     "output_type": "execute_result"
    }
   ],
   "source": [
    "df"
   ]
  },
  {
   "cell_type": "code",
   "execution_count": null,
   "metadata": {},
   "outputs": [],
   "source": []
  }
 ],
 "metadata": {
  "kernelspec": {
   "display_name": "Python 3",
   "language": "python",
   "name": "python3"
  },
  "language_info": {
   "codemirror_mode": {
    "name": "ipython",
    "version": 3
   },
   "file_extension": ".py",
   "mimetype": "text/x-python",
   "name": "python",
   "nbconvert_exporter": "python",
   "pygments_lexer": "ipython3",
   "version": "3.6.5"
  }
 },
 "nbformat": 4,
 "nbformat_minor": 2
}

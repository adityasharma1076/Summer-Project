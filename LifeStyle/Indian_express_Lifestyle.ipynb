{
 "cells": [
  {
   "cell_type": "code",
   "execution_count": 41,
   "metadata": {},
   "outputs": [],
   "source": [
    "import requests\n",
    "import bs4\n",
    "import pandas as pd\n",
    "import os"
   ]
  },
  {
   "cell_type": "code",
   "execution_count": 42,
   "metadata": {},
   "outputs": [],
   "source": [
    "import datetime\n",
    "\n",
    "now = datetime.datetime.now()\n",
    "\n",
    "\n",
    "Today_time = now.strftime(\"%H:%M\")\n",
    "\n",
    "Today_date = now.strftime(\"%Y-%m-%d\")"
   ]
  },
  {
   "cell_type": "code",
   "execution_count": 43,
   "metadata": {},
   "outputs": [],
   "source": [
    "def get_date_time(URL):\n",
    "    req = requests.get(URL)\n",
    "    soup_date = bs4.BeautifulSoup(req.text,'lxml')\n",
    "    temp = soup_date.select(\".m-story-meta__credit\")\n",
    "    time_date = temp[0].findAll('span')[-1].text\n",
    "    x=str.split(time_date)\n",
    "    date = x[1]+' '+x[2]+' '+x[3]\n",
    "    time = x[4]+' '+x[5]\n",
    "    return date,time\n"
   ]
  },
  {
   "cell_type": "code",
   "execution_count": null,
   "metadata": {},
   "outputs": [],
   "source": []
  },
  {
   "cell_type": "code",
   "execution_count": 44,
   "metadata": {},
   "outputs": [],
   "source": [
    "link = 'https://indianexpress.com/section/lifestyle/'"
   ]
  },
  {
   "cell_type": "code",
   "execution_count": 45,
   "metadata": {},
   "outputs": [],
   "source": [
    "res = requests.get(link)\n",
    "soup = bs4.BeautifulSoup(res.text,'lxml')"
   ]
  },
  {
   "cell_type": "code",
   "execution_count": null,
   "metadata": {},
   "outputs": [],
   "source": []
  },
  {
   "cell_type": "code",
   "execution_count": 46,
   "metadata": {},
   "outputs": [],
   "source": [
    "h1 = soup.select('.m-article-featured__title')"
   ]
  },
  {
   "cell_type": "code",
   "execution_count": 47,
   "metadata": {},
   "outputs": [],
   "source": [
    "records=[]\n",
    "h1_newspaper='Indian Express'\n",
    "h1_heading = h1[0].text\n",
    "h1_url = h1[0].find('a')['href']\n",
    "h1_date,h1_time = get_date_time(h1_url)\n",
    "\n",
    "records.append((h1_newspaper,h1_heading,h1_date,h1_time,h1_url))"
   ]
  },
  {
   "cell_type": "code",
   "execution_count": null,
   "metadata": {},
   "outputs": [],
   "source": []
  },
  {
   "cell_type": "code",
   "execution_count": 48,
   "metadata": {},
   "outputs": [],
   "source": [
    "h2=soup.findAll('h2')"
   ]
  },
  {
   "cell_type": "code",
   "execution_count": 49,
   "metadata": {},
   "outputs": [],
   "source": [
    "for record in h2[1:2]:\n",
    "    Heading = record.text\n",
    "    URL = record.find('a')['href']\n",
    "    Date,Time = get_date_time(URL)\n",
    "    #Time = get_time(URL)\n",
    "    Newspaper='Indian Express'\n",
    "    records.append((Newspaper,Heading,Date,Time,URL))"
   ]
  },
  {
   "cell_type": "code",
   "execution_count": null,
   "metadata": {},
   "outputs": [],
   "source": []
  },
  {
   "cell_type": "code",
   "execution_count": 50,
   "metadata": {},
   "outputs": [],
   "source": [
    "h3=soup.select('.m-article-landing__inner')"
   ]
  },
  {
   "cell_type": "code",
   "execution_count": 51,
   "metadata": {},
   "outputs": [
    {
     "data": {
      "text/plain": [
       "'https://indianexpress.com/article/lifestyle/fashion/gq-100-best-dressed-2019-sonam-kapoor-ahuja-katrina-kaif-5761007/'"
      ]
     },
     "execution_count": 51,
     "metadata": {},
     "output_type": "execute_result"
    }
   ],
   "source": [
    "h3[0].find('a')['href']"
   ]
  },
  {
   "cell_type": "code",
   "execution_count": 52,
   "metadata": {},
   "outputs": [],
   "source": [
    "for record in h3:\n",
    "    content = record.find('h3')\n",
    "    datetime = record.time.attrs['datetime']\n",
    "\n",
    "    Heading = content.text\n",
    "    URL = content.find('a')['href']\n",
    "    x=str.split(datetime,' ')\n",
    "    Date = x[0]\n",
    "    Time = str.split(x[1],'+')[0]+':00'\n",
    "    Newspaper = 'Indian Express'\n",
    "    records.append((Newspaper,Heading,Date,Time,URL))"
   ]
  },
  {
   "cell_type": "code",
   "execution_count": 53,
   "metadata": {},
   "outputs": [],
   "source": [
    "df=pd.DataFrame(records,columns=['Newspaper','Heading','Date','Time','URL'])\n",
    "df['Date'] = pd.to_datetime(df['Date'])"
   ]
  },
  {
   "cell_type": "code",
   "execution_count": 54,
   "metadata": {},
   "outputs": [
    {
     "data": {
      "text/html": [
       "<div>\n",
       "<style scoped>\n",
       "    .dataframe tbody tr th:only-of-type {\n",
       "        vertical-align: middle;\n",
       "    }\n",
       "\n",
       "    .dataframe tbody tr th {\n",
       "        vertical-align: top;\n",
       "    }\n",
       "\n",
       "    .dataframe thead th {\n",
       "        text-align: right;\n",
       "    }\n",
       "</style>\n",
       "<table border=\"1\" class=\"dataframe\">\n",
       "  <thead>\n",
       "    <tr style=\"text-align: right;\">\n",
       "      <th></th>\n",
       "      <th>Newspaper</th>\n",
       "      <th>Heading</th>\n",
       "      <th>Date</th>\n",
       "      <th>Time</th>\n",
       "      <th>URL</th>\n",
       "    </tr>\n",
       "  </thead>\n",
       "  <tbody>\n",
       "    <tr>\n",
       "      <th>0</th>\n",
       "      <td>Indian Express</td>\n",
       "      <td>GQ 100 Best Dressed 2019: Sonam Kapoor Ahuja, ...</td>\n",
       "      <td>2019-06-02</td>\n",
       "      <td>1:56:01 pm</td>\n",
       "      <td>https://indianexpress.com/article/lifestyle/fa...</td>\n",
       "    </tr>\n",
       "    <tr>\n",
       "      <th>1</th>\n",
       "      <td>Indian Express</td>\n",
       "      <td>Theatre director Mohit Takalkar on his debut M...</td>\n",
       "      <td>2019-06-02</td>\n",
       "      <td>10:55:03 am</td>\n",
       "      <td>https://indianexpress.com/article/lifestyle/ar...</td>\n",
       "    </tr>\n",
       "    <tr>\n",
       "      <th>2</th>\n",
       "      <td>Indian Express</td>\n",
       "      <td>GQ 100 Best Dressed 2019: Sonam Kapoor Ahuja, ...</td>\n",
       "      <td>2019-06-02</td>\n",
       "      <td>13:56:01:00</td>\n",
       "      <td>https://indianexpress.com/article/lifestyle/fa...</td>\n",
       "    </tr>\n",
       "    <tr>\n",
       "      <th>3</th>\n",
       "      <td>Indian Express</td>\n",
       "      <td>Buckwheat Canapes, for that mindful snacking</td>\n",
       "      <td>2019-06-02</td>\n",
       "      <td>13:42:46:00</td>\n",
       "      <td>https://indianexpress.com/article/lifestyle/fo...</td>\n",
       "    </tr>\n",
       "    <tr>\n",
       "      <th>4</th>\n",
       "      <td>Indian Express</td>\n",
       "      <td>Bharat promotions: Katrina Kaif keeps things c...</td>\n",
       "      <td>2019-06-02</td>\n",
       "      <td>11:33:21:00</td>\n",
       "      <td>https://indianexpress.com/article/lifestyle/fa...</td>\n",
       "    </tr>\n",
       "    <tr>\n",
       "      <th>5</th>\n",
       "      <td>Indian Express</td>\n",
       "      <td>A trifle of great importance</td>\n",
       "      <td>2019-06-02</td>\n",
       "      <td>11:01:47:00</td>\n",
       "      <td>https://indianexpress.com/article/lifestyle/fo...</td>\n",
       "    </tr>\n",
       "    <tr>\n",
       "      <th>6</th>\n",
       "      <td>Indian Express</td>\n",
       "      <td>Theatre director Mohit Takalkar on his debut M...</td>\n",
       "      <td>2019-06-02</td>\n",
       "      <td>10:55:03:00</td>\n",
       "      <td>https://indianexpress.com/article/lifestyle/ar...</td>\n",
       "    </tr>\n",
       "    <tr>\n",
       "      <th>7</th>\n",
       "      <td>Indian Express</td>\n",
       "      <td>Ravi Jadhav: From a mill worker to a National ...</td>\n",
       "      <td>2019-06-02</td>\n",
       "      <td>10:48:22:00</td>\n",
       "      <td>https://indianexpress.com/article/lifestyle/ar...</td>\n",
       "    </tr>\n",
       "    <tr>\n",
       "      <th>8</th>\n",
       "      <td>Indian Express</td>\n",
       "      <td>A journey to Bosnia and Herzegovina, where ‘Sl...</td>\n",
       "      <td>2019-06-02</td>\n",
       "      <td>10:00:50:00</td>\n",
       "      <td>https://indianexpress.com/article/lifestyle/de...</td>\n",
       "    </tr>\n",
       "    <tr>\n",
       "      <th>9</th>\n",
       "      <td>Indian Express</td>\n",
       "      <td>Eid ul Fitr 2019: Know the Last day of Ramadan</td>\n",
       "      <td>2019-06-02</td>\n",
       "      <td>09:11:11:00</td>\n",
       "      <td>https://indianexpress.com/article/lifestyle/li...</td>\n",
       "    </tr>\n",
       "    <tr>\n",
       "      <th>10</th>\n",
       "      <td>Indian Express</td>\n",
       "      <td>‘Diabetics can lead lives free from medication...</td>\n",
       "      <td>2019-06-02</td>\n",
       "      <td>04:58:05:00</td>\n",
       "      <td>https://indianexpress.com/article/lifestyle/he...</td>\n",
       "    </tr>\n",
       "    <tr>\n",
       "      <th>11</th>\n",
       "      <td>Indian Express</td>\n",
       "      <td>Simply South</td>\n",
       "      <td>2019-06-02</td>\n",
       "      <td>00:10:10:00</td>\n",
       "      <td>https://indianexpress.com/article/lifestyle/si...</td>\n",
       "    </tr>\n",
       "    <tr>\n",
       "      <th>12</th>\n",
       "      <td>Indian Express</td>\n",
       "      <td>Looking for togetherness on your family trip? ...</td>\n",
       "      <td>2019-06-01</td>\n",
       "      <td>19:01:29:00</td>\n",
       "      <td>https://indianexpress.com/article/lifestyle/de...</td>\n",
       "    </tr>\n",
       "    <tr>\n",
       "      <th>13</th>\n",
       "      <td>Indian Express</td>\n",
       "      <td>Don’t call it Darjeeling, it’s Nepali tea</td>\n",
       "      <td>2019-06-01</td>\n",
       "      <td>17:48:36:00</td>\n",
       "      <td>https://indianexpress.com/article/lifestyle/fo...</td>\n",
       "    </tr>\n",
       "  </tbody>\n",
       "</table>\n",
       "</div>"
      ],
      "text/plain": [
       "         Newspaper                                            Heading  \\\n",
       "0   Indian Express  GQ 100 Best Dressed 2019: Sonam Kapoor Ahuja, ...   \n",
       "1   Indian Express  Theatre director Mohit Takalkar on his debut M...   \n",
       "2   Indian Express  GQ 100 Best Dressed 2019: Sonam Kapoor Ahuja, ...   \n",
       "3   Indian Express       Buckwheat Canapes, for that mindful snacking   \n",
       "4   Indian Express  Bharat promotions: Katrina Kaif keeps things c...   \n",
       "5   Indian Express                       A trifle of great importance   \n",
       "6   Indian Express  Theatre director Mohit Takalkar on his debut M...   \n",
       "7   Indian Express  Ravi Jadhav: From a mill worker to a National ...   \n",
       "8   Indian Express  A journey to Bosnia and Herzegovina, where ‘Sl...   \n",
       "9   Indian Express     Eid ul Fitr 2019: Know the Last day of Ramadan   \n",
       "10  Indian Express  ‘Diabetics can lead lives free from medication...   \n",
       "11  Indian Express                                       Simply South   \n",
       "12  Indian Express  Looking for togetherness on your family trip? ...   \n",
       "13  Indian Express          Don’t call it Darjeeling, it’s Nepali tea   \n",
       "\n",
       "         Date         Time                                                URL  \n",
       "0  2019-06-02   1:56:01 pm  https://indianexpress.com/article/lifestyle/fa...  \n",
       "1  2019-06-02  10:55:03 am  https://indianexpress.com/article/lifestyle/ar...  \n",
       "2  2019-06-02  13:56:01:00  https://indianexpress.com/article/lifestyle/fa...  \n",
       "3  2019-06-02  13:42:46:00  https://indianexpress.com/article/lifestyle/fo...  \n",
       "4  2019-06-02  11:33:21:00  https://indianexpress.com/article/lifestyle/fa...  \n",
       "5  2019-06-02  11:01:47:00  https://indianexpress.com/article/lifestyle/fo...  \n",
       "6  2019-06-02  10:55:03:00  https://indianexpress.com/article/lifestyle/ar...  \n",
       "7  2019-06-02  10:48:22:00  https://indianexpress.com/article/lifestyle/ar...  \n",
       "8  2019-06-02  10:00:50:00  https://indianexpress.com/article/lifestyle/de...  \n",
       "9  2019-06-02  09:11:11:00  https://indianexpress.com/article/lifestyle/li...  \n",
       "10 2019-06-02  04:58:05:00  https://indianexpress.com/article/lifestyle/he...  \n",
       "11 2019-06-02  00:10:10:00  https://indianexpress.com/article/lifestyle/si...  \n",
       "12 2019-06-01  19:01:29:00  https://indianexpress.com/article/lifestyle/de...  \n",
       "13 2019-06-01  17:48:36:00  https://indianexpress.com/article/lifestyle/fo...  "
      ]
     },
     "execution_count": 54,
     "metadata": {},
     "output_type": "execute_result"
    }
   ],
   "source": [
    "df"
   ]
  },
  {
   "cell_type": "code",
   "execution_count": 39,
   "metadata": {},
   "outputs": [],
   "source": [
    "outname ='IE_lifestyle-'+str(Today_date)+'.csv'\n",
    "x=r\"C:\\Users\\drago\\Documents\\GitHub\\Summer-Project\\Lifestyle\\CSV\\ \"\n",
    "date_today= Today_date +'\\ '\n",
    "outdir=x[:-1]+ date_today[:-1]\n",
    "if not os.path.exists(outdir):\n",
    "    os.mkdir(outdir)\n",
    "fullname = os.path.join(outdir, outname) "
   ]
  },
  {
   "cell_type": "code",
   "execution_count": null,
   "metadata": {},
   "outputs": [],
   "source": [
    "df.to_csv(fullname,index=False,encoding='utf-8')"
   ]
  },
  {
   "cell_type": "code",
   "execution_count": null,
   "metadata": {},
   "outputs": [],
   "source": [
    "df"
   ]
  },
  {
   "cell_type": "code",
   "execution_count": null,
   "metadata": {},
   "outputs": [],
   "source": []
  }
 ],
 "metadata": {
  "kernelspec": {
   "display_name": "Python 3",
   "language": "python",
   "name": "python3"
  },
  "language_info": {
   "codemirror_mode": {
    "name": "ipython",
    "version": 3
   },
   "file_extension": ".py",
   "mimetype": "text/x-python",
   "name": "python",
   "nbconvert_exporter": "python",
   "pygments_lexer": "ipython3",
   "version": "3.6.5"
  }
 },
 "nbformat": 4,
 "nbformat_minor": 2
}

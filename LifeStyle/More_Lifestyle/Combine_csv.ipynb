{
 "cells": [
  {
   "cell_type": "code",
   "execution_count": 6,
   "metadata": {},
   "outputs": [],
   "source": [
    "import os\n",
    "import glob\n",
    "import pandas as pd\n",
    "import warnings"
   ]
  },
  {
   "cell_type": "code",
   "execution_count": 2,
   "metadata": {},
   "outputs": [],
   "source": [
    "import datetime\n",
    "\n",
    "now = datetime.datetime.now()\n",
    "\n",
    "\n",
    "Today_time = now.strftime(\"%H:%M\")\n",
    "\n",
    "Today_date = now.strftime(\"%Y-%m-%d\")"
   ]
  },
  {
   "cell_type": "code",
   "execution_count": 3,
   "metadata": {},
   "outputs": [],
   "source": [
    "%run ./India_Today_lifestyle.ipynb\n",
    "%run ./Savvy_Lifestyle.ipynb\n",
    "%run ./The_Hindu_Lifestyle.ipynb\n",
    "%run ./The_Luxecafe_Lifestyle.ipynb\n",
    "%run ./Times_of_India_lifestyle.ipynb\n"
   ]
  },
  {
   "cell_type": "code",
   "execution_count": 17,
   "metadata": {},
   "outputs": [],
   "source": [
    "extension = 'csv'\n",
    "string = 'CSV/'+Today_date+'/*.{}'\n",
    "all_filenames = [i for i in glob.glob(string.format(extension))]"
   ]
  },
  {
   "cell_type": "code",
   "execution_count": 18,
   "metadata": {},
   "outputs": [
    {
     "data": {
      "text/plain": [
       "['CSV/2019-06-20\\\\IT_lifestyle-2019-06-20.csv',\n",
       " 'CSV/2019-06-20\\\\Savvy_lifestyle-2019-06-20.csv',\n",
       " 'CSV/2019-06-20\\\\TH_lifestyle-2019-06-20.csv',\n",
       " 'CSV/2019-06-20\\\\TLC_lifestyle-2019-06-20.csv',\n",
       " 'CSV/2019-06-20\\\\TOI_lifestyle-2019-06-20.csv']"
      ]
     },
     "execution_count": 18,
     "metadata": {},
     "output_type": "execute_result"
    }
   ],
   "source": [
    "all_filenames"
   ]
  },
  {
   "cell_type": "code",
   "execution_count": 19,
   "metadata": {},
   "outputs": [],
   "source": [
    "combined_csv = pd.concat([pd.read_csv(f) for f in all_filenames ])"
   ]
  },
  {
   "cell_type": "code",
   "execution_count": 20,
   "metadata": {},
   "outputs": [],
   "source": [
    "outname = 'combined_lifestyle-'+str(Today_date)+'.csv'\n",
    "root = 'Combined CSV/'\n",
    "if not os.path.exists(root):\n",
    "    os.mkdir(root)\n",
    "#date_today= Today_date +'\\ '\n",
    "outdir=root\n",
    "if not os.path.exists(outdir):\n",
    "    os.mkdir(outdir)\n",
    "fullname = os.path.join(outdir, outname)"
   ]
  },
  {
   "cell_type": "code",
   "execution_count": 21,
   "metadata": {},
   "outputs": [],
   "source": [
    "combined_csv.to_csv(fullname, index=False, encoding='utf-8')"
   ]
  },
  {
   "cell_type": "code",
   "execution_count": 46,
   "metadata": {},
   "outputs": [],
   "source": [
    "df = pd.read_csv(fullname)"
   ]
  },
  {
   "cell_type": "code",
   "execution_count": 47,
   "metadata": {},
   "outputs": [
    {
     "data": {
      "text/plain": [
       "fashion              179\n",
       "travel               109\n",
       "parenting             98\n",
       "health & fitness      84\n",
       "relationships         70\n",
       "motoring              63\n",
       "books                 56\n",
       "life & style          39\n",
       "celebrity             36\n",
       "home & style          32\n",
       "fitness               31\n",
       "homes and gardens     31\n",
       "food                  30\n",
       "luxury                30\n",
       "life                  29\n",
       "gastronomy            16\n",
       "i believe             10\n",
       "cookbook              10\n",
       "body                  10\n",
       "beauty                10\n",
       "features              10\n",
       "Name: Category, dtype: int64"
      ]
     },
     "execution_count": 47,
     "metadata": {},
     "output_type": "execute_result"
    }
   ],
   "source": [
    "df['Category'].value_counts()"
   ]
  },
  {
   "cell_type": "code",
   "execution_count": 56,
   "metadata": {},
   "outputs": [],
   "source": [
    "def fix_cat(x):\n",
    "    if(x=='i believe'):\n",
    "        return 'others'\n",
    "    elif(x=='cookbook'):\n",
    "        return 'food'\n",
    "    elif(x=='body'):\n",
    "        return 'beauty, health & fitness'\n",
    "    elif(x=='features'):\n",
    "        return 'others'\n",
    "    elif(x=='health & fitness'):\n",
    "        return 'beauty, health & fitness'\n",
    "    elif(x=='beauty'):\n",
    "        return 'beauty, health & fitness'\n",
    "    elif(x=='fitness'):\n",
    "        return 'beauty, health & fitness'\n",
    "    elif(x=='gastronomy'):\n",
    "        return 'others'\n",
    "    else:\n",
    "        return x"
   ]
  },
  {
   "cell_type": "code",
   "execution_count": 57,
   "metadata": {},
   "outputs": [],
   "source": [
    "df['Category']=df['Category'].apply(fix_cat)"
   ]
  },
  {
   "cell_type": "code",
   "execution_count": 58,
   "metadata": {},
   "outputs": [
    {
     "data": {
      "text/plain": [
       "fashion                     179\n",
       "beauty, health & fitness    135\n",
       "travel                      109\n",
       "parenting                    98\n",
       "relationships                70\n",
       "motoring                     63\n",
       "books                        56\n",
       "food                         40\n",
       "life & style                 39\n",
       "others                       36\n",
       "celebrity                    36\n",
       "home & style                 32\n",
       "homes and gardens            31\n",
       "luxury                       30\n",
       "life                         29\n",
       "Name: Category, dtype: int64"
      ]
     },
     "execution_count": 58,
     "metadata": {},
     "output_type": "execute_result"
    }
   ],
   "source": [
    "df['Category'].value_counts()"
   ]
  },
  {
   "cell_type": "code",
   "execution_count": 59,
   "metadata": {},
   "outputs": [],
   "source": [
    "outname = 'combined_lifestyle-'+str(Today_date)+'.csv'\n",
    "root = 'Combined CSV/'\n",
    "if not os.path.exists(root):\n",
    "    os.mkdir(root)\n",
    "#date_today= Today_date +'\\ '\n",
    "outdir=root\n",
    "if not os.path.exists(outdir):\n",
    "    os.mkdir(outdir)\n",
    "fullname = os.path.join(outdir, outname)"
   ]
  },
  {
   "cell_type": "code",
   "execution_count": 60,
   "metadata": {},
   "outputs": [],
   "source": [
    "df.to_csv(fullname, index=False, encoding='utf-8')"
   ]
  },
  {
   "cell_type": "code",
   "execution_count": null,
   "metadata": {},
   "outputs": [],
   "source": []
  }
 ],
 "metadata": {
  "kernelspec": {
   "display_name": "Python 3",
   "language": "python",
   "name": "python3"
  },
  "language_info": {
   "codemirror_mode": {
    "name": "ipython",
    "version": 3
   },
   "file_extension": ".py",
   "mimetype": "text/x-python",
   "name": "python",
   "nbconvert_exporter": "python",
   "pygments_lexer": "ipython3",
   "version": "3.6.5"
  }
 },
 "nbformat": 4,
 "nbformat_minor": 2
}

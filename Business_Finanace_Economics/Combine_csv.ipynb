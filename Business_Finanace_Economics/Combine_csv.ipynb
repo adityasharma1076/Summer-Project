{
 "cells": [
  {
   "cell_type": "code",
   "execution_count": 30,
   "metadata": {},
   "outputs": [],
   "source": [
    "import os\n",
    "import glob\n",
    "import pandas as pd\n",
    "import warnings"
   ]
  },
  {
   "cell_type": "code",
   "execution_count": 31,
   "metadata": {},
   "outputs": [],
   "source": [
    "import datetime\n",
    "\n",
    "now = datetime.datetime.now()\n",
    "\n",
    "\n",
    "Today_time = now.strftime(\"%H:%M\")\n",
    "\n",
    "Today_date = now.strftime(\"%Y-%m-%d\")"
   ]
  },
  {
   "cell_type": "code",
   "execution_count": 18,
   "metadata": {},
   "outputs": [],
   "source": [
    "%run ./Business_Today.ipynb\n",
    "%run ./cnbc_tv18.ipynb\n",
    "%run ./Indian_Express_Business.ipynb\n",
    "%run ./The_Hindu_Business.ipynb\n",
    "%run ./Times_of_India_Business.ipynb\n",
    "#%run ./India_Today_Sports_more.ipynb\n",
    "#%run ./India_Times_Entertainment_more.ipynb"
   ]
  },
  {
   "cell_type": "code",
   "execution_count": 32,
   "metadata": {},
   "outputs": [],
   "source": [
    "extension = 'csv'\n",
    "string = 'CSV/'+Today_date+'/*.{}'\n",
    "all_filenames = [i for i in glob.glob(string.format(extension))]"
   ]
  },
  {
   "cell_type": "code",
   "execution_count": 33,
   "metadata": {},
   "outputs": [
    {
     "data": {
      "text/plain": [
       "['CSV/2019-06-18\\\\BT_business-2019-06-18.csv',\n",
       " 'CSV/2019-06-18\\\\CNBC_business-2019-06-18.csv',\n",
       " 'CSV/2019-06-18\\\\IE_business-2019-06-18.csv',\n",
       " 'CSV/2019-06-18\\\\TH_business-2019-06-18.csv',\n",
       " 'CSV/2019-06-18\\\\TOI_business-2019-06-18.csv']"
      ]
     },
     "execution_count": 33,
     "metadata": {},
     "output_type": "execute_result"
    }
   ],
   "source": [
    "all_filenames"
   ]
  },
  {
   "cell_type": "code",
   "execution_count": 34,
   "metadata": {},
   "outputs": [],
   "source": [
    "combined_csv = pd.concat([pd.read_csv(f) for f in all_filenames ])"
   ]
  },
  {
   "cell_type": "code",
   "execution_count": 35,
   "metadata": {},
   "outputs": [],
   "source": [
    "outname = 'combined_business-'+str(Today_date)+'.csv'\n",
    "root = 'Combined CSV/'\n",
    "if not os.path.exists(root):\n",
    "    os.mkdir(root)\n",
    "#date_today= Today_date +'\\ '\n",
    "outdir=root\n",
    "if not os.path.exists(outdir):\n",
    "    os.mkdir(outdir)\n",
    "fullname = os.path.join(outdir, outname)"
   ]
  },
  {
   "cell_type": "code",
   "execution_count": 36,
   "metadata": {},
   "outputs": [],
   "source": [
    "combined_csv.to_csv(fullname, index=False, encoding='utf-8')"
   ]
  },
  {
   "cell_type": "code",
   "execution_count": 50,
   "metadata": {},
   "outputs": [],
   "source": [
    "df = pd.read_csv(fullname)"
   ]
  },
  {
   "cell_type": "code",
   "execution_count": 51,
   "metadata": {},
   "outputs": [
    {
     "data": {
      "text/plain": [
       "economy                   102\n",
       "markets                    68\n",
       "industry                   68\n",
       "corporate                  58\n",
       "business                   58\n",
       "aviation                   42\n",
       "budget                     36\n",
       "opinion                    36\n",
       "money                      36\n",
       "infrastructure             34\n",
       "it                         34\n",
       "aviation                   34\n",
       "healthcare                 34\n",
       "auto                       34\n",
       "finance                    34\n",
       "energy                     34\n",
       "real estate                34\n",
       "economy                    34\n",
       "technology                 34\n",
       "telecom                    34\n",
       "legal                      34\n",
       "politics                   34\n",
       "agriculture                34\n",
       "retail                     34\n",
       "agri-business              32\n",
       "personal finance           30\n",
       "telecom                    30\n",
       "real estate                30\n",
       "international business     26\n",
       "companies                  24\n",
       "others                     12\n",
       "market                     12\n",
       "banking & finance          12\n",
       "Name: Category, dtype: int64"
      ]
     },
     "execution_count": 51,
     "metadata": {},
     "output_type": "execute_result"
    }
   ],
   "source": [
    "df['Category'].value_counts()"
   ]
  },
  {
   "cell_type": "code",
   "execution_count": 60,
   "metadata": {},
   "outputs": [],
   "source": [
    "def fix_cat(x):\n",
    "    if(x[-1]==' '):\n",
    "        return x[:-1]\n",
    "    else:\n",
    "        return x\n",
    "def fix_cat2(x):\n",
    "    if(x=='market'):\n",
    "        return 'markets'\n",
    "    elif(x=='finance'):\n",
    "        return 'banking & finance'\n",
    "    elif(x=='others'):\n",
    "        return 'corporate'\n",
    "    else:\n",
    "        return x"
   ]
  },
  {
   "cell_type": "code",
   "execution_count": 61,
   "metadata": {},
   "outputs": [],
   "source": [
    "df['Category']=df['Category'].apply(fix_cat)\n",
    "df['Category']=df['Category'].apply(fix_cat2)"
   ]
  },
  {
   "cell_type": "code",
   "execution_count": 62,
   "metadata": {},
   "outputs": [
    {
     "data": {
      "text/plain": [
       "economy                   136\n",
       "markets                    80\n",
       "aviation                   76\n",
       "corporate                  70\n",
       "industry                   68\n",
       "real estate                64\n",
       "telecom                    64\n",
       "business                   58\n",
       "banking & finance          46\n",
       "money                      36\n",
       "budget                     36\n",
       "opinion                    36\n",
       "energy                     34\n",
       "legal                      34\n",
       "agriculture                34\n",
       "politics                   34\n",
       "technology                 34\n",
       "auto                       34\n",
       "retail                     34\n",
       "infrastructure             34\n",
       "it                         34\n",
       "healthcare                 34\n",
       "agri-business              32\n",
       "personal finance           30\n",
       "international business     26\n",
       "companies                  24\n",
       "Name: Category, dtype: int64"
      ]
     },
     "execution_count": 62,
     "metadata": {},
     "output_type": "execute_result"
    }
   ],
   "source": [
    "df['Category'].value_counts()"
   ]
  },
  {
   "cell_type": "code",
   "execution_count": 63,
   "metadata": {},
   "outputs": [],
   "source": [
    "outname = 'combined_sectors-'+str(Today_date)+'.csv'\n",
    "root = 'Combined CSV/'\n",
    "if not os.path.exists(root):\n",
    "    os.mkdir(root)\n",
    "#date_today= Today_date +'\\ '\n",
    "outdir=root\n",
    "if not os.path.exists(outdir):\n",
    "    os.mkdir(outdir)\n",
    "fullname = os.path.join(outdir, outname)"
   ]
  },
  {
   "cell_type": "code",
   "execution_count": 64,
   "metadata": {},
   "outputs": [],
   "source": [
    "df.to_csv(fullname, index=False, encoding='utf-8')"
   ]
  },
  {
   "cell_type": "code",
   "execution_count": null,
   "metadata": {},
   "outputs": [],
   "source": []
  }
 ],
 "metadata": {
  "kernelspec": {
   "display_name": "Python 3",
   "language": "python",
   "name": "python3"
  },
  "language_info": {
   "codemirror_mode": {
    "name": "ipython",
    "version": 3
   },
   "file_extension": ".py",
   "mimetype": "text/x-python",
   "name": "python",
   "nbconvert_exporter": "python",
   "pygments_lexer": "ipython3",
   "version": "3.6.5"
  }
 },
 "nbformat": 4,
 "nbformat_minor": 2
}

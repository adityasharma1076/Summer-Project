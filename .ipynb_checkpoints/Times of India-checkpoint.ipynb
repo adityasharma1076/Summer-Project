{
 "cells": [
  {
   "cell_type": "code",
   "execution_count": 1,
   "metadata": {},
   "outputs": [],
   "source": [
    "import requests\n",
    "import bs4"
   ]
  },
  {
   "cell_type": "code",
   "execution_count": 2,
   "metadata": {},
   "outputs": [],
   "source": [
    "link ='https://timesofindia.indiatimes.com/education'\n"
   ]
  },
  {
   "cell_type": "code",
   "execution_count": null,
   "metadata": {},
   "outputs": [],
   "source": []
  },
  {
   "cell_type": "code",
   "execution_count": 3,
   "metadata": {},
   "outputs": [],
   "source": [
    "res = requests.get(link)"
   ]
  },
  {
   "cell_type": "code",
   "execution_count": 4,
   "metadata": {},
   "outputs": [],
   "source": [
    "soup =bs4.BeautifulSoup(res.text,'lxml')\n"
   ]
  },
  {
   "cell_type": "code",
   "execution_count": 5,
   "metadata": {},
   "outputs": [],
   "source": [
    "toi=soup.select(\".main-content\")\n",
    "content=toi[0].findAll(\"span\", {\"class\" : \"w_tle\"})\n",
    "#content=toi[0].findAll(\"li\")\n",
    "#content[0]"
   ]
  },
  {
   "cell_type": "code",
   "execution_count": 6,
   "metadata": {},
   "outputs": [
    {
     "data": {
      "text/plain": [
       "<span class=\"w_tle\"><a href=\"/home/education/news/ap-lawcet-2019-results-to-be-declared-today/articleshow/69407534.cms\" pg=\"Top News#City HP-4-geturl\" target=\"_blank\" title=\"AP LAWCET 2019 results to be declared today\">AP LAWCET 2019 results to be declared today</a></span>"
      ]
     },
     "execution_count": 6,
     "metadata": {},
     "output_type": "execute_result"
    }
   ],
   "source": [
    "x=content[3]\n",
    "x"
   ]
  },
  {
   "cell_type": "code",
   "execution_count": 7,
   "metadata": {},
   "outputs": [
    {
     "data": {
      "text/plain": [
       "'/home/education/news/ap-lawcet-2019-results-to-be-declared-today/articleshow/69407534.cms'"
      ]
     },
     "execution_count": 7,
     "metadata": {},
     "output_type": "execute_result"
    }
   ],
   "source": [
    "x.find('a')['href']"
   ]
  },
  {
   "cell_type": "code",
   "execution_count": 8,
   "metadata": {},
   "outputs": [
    {
     "data": {
      "text/plain": [
       "'AP LAWCET 2019 results to be declared today'"
      ]
     },
     "execution_count": 8,
     "metadata": {},
     "output_type": "execute_result"
    }
   ],
   "source": [
    "x.text"
   ]
  },
  {
   "cell_type": "code",
   "execution_count": 9,
   "metadata": {},
   "outputs": [],
   "source": [
    "def record_url(str):\n",
    "    url ='https://timesofindia.indiatimes.com'+str\n",
    "    return url\n"
   ]
  },
  {
   "cell_type": "code",
   "execution_count": 10,
   "metadata": {},
   "outputs": [],
   "source": [
    "records=[]\n",
    "for record in content:\n",
    "    Heading = record.text\n",
    "    URL= record_url(record.find('a')['href'])\n",
    "    Newspaper = 'Time of India'\n",
    "    records.append((Newspaper,Heading,URL))"
   ]
  },
  {
   "cell_type": "code",
   "execution_count": 11,
   "metadata": {},
   "outputs": [],
   "source": [
    "\n",
    "#def record_date(x):\n",
    " #   z=x[0].text\n",
    " #   date=z[:10]\n",
    " #   return date\n",
    "#def record_time(x):\n",
    "  #  z=x[0].text\n",
    "  #  time=z[11:-1]\n",
    "  #  return time \n",
    "#def record_URL(x):\n",
    "#   y='https://timesofindia.indiatimes.com'\n",
    "  #  url = y+x \n",
    "    # return url"
   ]
  },
  {
   "cell_type": "code",
   "execution_count": 12,
   "metadata": {},
   "outputs": [],
   "source": [
    "#records=[]\n",
    "#for record in toi:\n",
    "  #  Heading = record.find('span').text[1:-1]\n",
    "  #  URL = record_URL(record.find('a')['href'])\n",
    "    \n",
    "  #  span=record.find_all(\"span\",{\"class\" : \"meta\"})\n",
    "  #  date = record_date(span)\n",
    "  #  time = record_time(span)\n",
    "  #  records.append((Heading,date,time,URL))"
   ]
  },
  {
   "cell_type": "code",
   "execution_count": 13,
   "metadata": {},
   "outputs": [],
   "source": [
    "#records[0]"
   ]
  },
  {
   "cell_type": "code",
   "execution_count": null,
   "metadata": {},
   "outputs": [],
   "source": []
  },
  {
   "cell_type": "code",
   "execution_count": 14,
   "metadata": {},
   "outputs": [],
   "source": [
    "import pandas as pd\n",
    "df=pd.DataFrame(records,columns=['Newspaper','Heading','URL'])"
   ]
  },
  {
   "cell_type": "code",
   "execution_count": 15,
   "metadata": {},
   "outputs": [],
   "source": [
    "#df['Date'] = pd.to_datetime(df['Date'])"
   ]
  },
  {
   "cell_type": "code",
   "execution_count": 16,
   "metadata": {},
   "outputs": [
    {
     "data": {
      "text/html": [
       "<div>\n",
       "<style scoped>\n",
       "    .dataframe tbody tr th:only-of-type {\n",
       "        vertical-align: middle;\n",
       "    }\n",
       "\n",
       "    .dataframe tbody tr th {\n",
       "        vertical-align: top;\n",
       "    }\n",
       "\n",
       "    .dataframe thead th {\n",
       "        text-align: right;\n",
       "    }\n",
       "</style>\n",
       "<table border=\"1\" class=\"dataframe\">\n",
       "  <thead>\n",
       "    <tr style=\"text-align: right;\">\n",
       "      <th></th>\n",
       "      <th>Newspaper</th>\n",
       "      <th>Heading</th>\n",
       "      <th>URL</th>\n",
       "    </tr>\n",
       "  </thead>\n",
       "  <tbody>\n",
       "    <tr>\n",
       "      <th>0</th>\n",
       "      <td>Time of India</td>\n",
       "      <td>JEE Advanced Admit Card 2019 released on jeead...</td>\n",
       "      <td>https://timesofindia.indiatimes.com/home/educa...</td>\n",
       "    </tr>\n",
       "    <tr>\n",
       "      <th>1</th>\n",
       "      <td>Time of India</td>\n",
       "      <td>BSE Odisha 10th Result 2019 not releasing toda...</td>\n",
       "      <td>https://timesofindia.indiatimes.com/home/educa...</td>\n",
       "    </tr>\n",
       "    <tr>\n",
       "      <th>2</th>\n",
       "      <td>Time of India</td>\n",
       "      <td>JIPMER Admit Card for MBBS entrance exam 2019 ...</td>\n",
       "      <td>https://timesofindia.indiatimes.com/home/educa...</td>\n",
       "    </tr>\n",
       "    <tr>\n",
       "      <th>3</th>\n",
       "      <td>Time of India</td>\n",
       "      <td>AP LAWCET 2019 results to be declared today</td>\n",
       "      <td>https://timesofindia.indiatimes.com/home/educa...</td>\n",
       "    </tr>\n",
       "    <tr>\n",
       "      <th>4</th>\n",
       "      <td>Time of India</td>\n",
       "      <td>UBTER JEEP Result 2019: Uttarakhand Polytechni...</td>\n",
       "      <td>https://timesofindia.indiatimes.com/home/educa...</td>\n",
       "    </tr>\n",
       "  </tbody>\n",
       "</table>\n",
       "</div>"
      ],
      "text/plain": [
       "       Newspaper                                            Heading  \\\n",
       "0  Time of India  JEE Advanced Admit Card 2019 released on jeead...   \n",
       "1  Time of India  BSE Odisha 10th Result 2019 not releasing toda...   \n",
       "2  Time of India  JIPMER Admit Card for MBBS entrance exam 2019 ...   \n",
       "3  Time of India        AP LAWCET 2019 results to be declared today   \n",
       "4  Time of India  UBTER JEEP Result 2019: Uttarakhand Polytechni...   \n",
       "\n",
       "                                                 URL  \n",
       "0  https://timesofindia.indiatimes.com/home/educa...  \n",
       "1  https://timesofindia.indiatimes.com/home/educa...  \n",
       "2  https://timesofindia.indiatimes.com/home/educa...  \n",
       "3  https://timesofindia.indiatimes.com/home/educa...  \n",
       "4  https://timesofindia.indiatimes.com/home/educa...  "
      ]
     },
     "execution_count": 16,
     "metadata": {},
     "output_type": "execute_result"
    }
   ],
   "source": [
    "df.head()"
   ]
  },
  {
   "cell_type": "code",
   "execution_count": 17,
   "metadata": {},
   "outputs": [],
   "source": [
    "df.to_csv('TOI_education.csv',index=False,encoding='utf-8')"
   ]
  },
  {
   "cell_type": "code",
   "execution_count": null,
   "metadata": {},
   "outputs": [],
   "source": []
  }
 ],
 "metadata": {
  "kernelspec": {
   "display_name": "Python 3",
   "language": "python",
   "name": "python3"
  },
  "language_info": {
   "codemirror_mode": {
    "name": "ipython",
    "version": 3
   },
   "file_extension": ".py",
   "mimetype": "text/x-python",
   "name": "python",
   "nbconvert_exporter": "python",
   "pygments_lexer": "ipython3",
   "version": "3.6.5"
  }
 },
 "nbformat": 4,
 "nbformat_minor": 2
}

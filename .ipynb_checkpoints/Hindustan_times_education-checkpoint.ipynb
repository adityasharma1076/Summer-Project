{
 "cells": [
  {
   "cell_type": "code",
   "execution_count": 1,
   "metadata": {},
   "outputs": [],
   "source": [
    "import requests\n",
    "import bs4\n",
    "import pandas as pd"
   ]
  },
  {
   "cell_type": "code",
   "execution_count": 2,
   "metadata": {},
   "outputs": [],
   "source": [
    "link = 'https://www.hindustantimes.com/education/'\n",
    "res = requests.get(link)\n"
   ]
  },
  {
   "cell_type": "code",
   "execution_count": 3,
   "metadata": {},
   "outputs": [],
   "source": [
    "soup = bs4.BeautifulSoup(res.text,'lxml')"
   ]
  },
  {
   "cell_type": "code",
   "execution_count": 4,
   "metadata": {},
   "outputs": [],
   "source": [
    "content = soup.select('.media-body')\n"
   ]
  },
  {
   "cell_type": "code",
   "execution_count": 5,
   "metadata": {},
   "outputs": [
    {
     "data": {
      "text/plain": [
       "<div class=\"media-body\">\n",
       "<div class=\"media-heading headingfive\">\n",
       "<a href=\"https://www.hindustantimes.com/education/wbbse-10th-madhyamik-result-2019-4-alternate-ways-to-check-west-bengal-board-results-online-and-offline/story-WYTa3BEWVuGCRDByLxIc1N.html\">WBBSE 10th Madhyamik Result 2019: 4 alternate ways to check West Bengal Board results online and offline</a>\n",
       "</div>\n",
       "<span class=\"time-dt mb-5\">May 19, 2019 12:44</span>\n",
       "</div>"
      ]
     },
     "execution_count": 5,
     "metadata": {},
     "output_type": "execute_result"
    }
   ],
   "source": [
    "content[0]"
   ]
  },
  {
   "cell_type": "code",
   "execution_count": 6,
   "metadata": {},
   "outputs": [
    {
     "data": {
      "text/plain": [
       "'WBBSE\\u200910th Madhyamik Result 2019: 4 alternate ways to check West Bengal Board results online and offline'"
      ]
     },
     "execution_count": 6,
     "metadata": {},
     "output_type": "execute_result"
    }
   ],
   "source": [
    "content[0].find('a').text"
   ]
  },
  {
   "cell_type": "code",
   "execution_count": 7,
   "metadata": {},
   "outputs": [
    {
     "data": {
      "text/plain": [
       "'https://www.hindustantimes.com/education/wbbse-10th-madhyamik-result-2019-4-alternate-ways-to-check-west-bengal-board-results-online-and-offline/story-WYTa3BEWVuGCRDByLxIc1N.html'"
      ]
     },
     "execution_count": 7,
     "metadata": {},
     "output_type": "execute_result"
    }
   ],
   "source": [
    "content[0].find('a')['href']"
   ]
  },
  {
   "cell_type": "code",
   "execution_count": 8,
   "metadata": {},
   "outputs": [
    {
     "data": {
      "text/plain": [
       "'May 19, 2019'"
      ]
     },
     "execution_count": 8,
     "metadata": {},
     "output_type": "execute_result"
    }
   ],
   "source": [
    "content[0].find('span').text[:12]"
   ]
  },
  {
   "cell_type": "code",
   "execution_count": 14,
   "metadata": {},
   "outputs": [],
   "source": [
    "records=[]\n",
    "for record in content:\n",
    "    Heading = record.find('a').text\n",
    "    URL = record.find('a')['href']\n",
    "    Newspaper = 'Hindiustan Times'\n",
    "    #date = record.find('span').text[:12]\n",
    "    \n",
    "    records.append((Newspaper,Heading,URL))"
   ]
  },
  {
   "cell_type": "code",
   "execution_count": 15,
   "metadata": {},
   "outputs": [],
   "source": [
    "df=pd.DataFrame(records,columns=['Newspaper','Heading','URL'])\n",
    "#df['Date'] = pd.to_datetime(df['Date'])"
   ]
  },
  {
   "cell_type": "code",
   "execution_count": 16,
   "metadata": {},
   "outputs": [
    {
     "data": {
      "text/html": [
       "<div>\n",
       "<style scoped>\n",
       "    .dataframe tbody tr th:only-of-type {\n",
       "        vertical-align: middle;\n",
       "    }\n",
       "\n",
       "    .dataframe tbody tr th {\n",
       "        vertical-align: top;\n",
       "    }\n",
       "\n",
       "    .dataframe thead th {\n",
       "        text-align: right;\n",
       "    }\n",
       "</style>\n",
       "<table border=\"1\" class=\"dataframe\">\n",
       "  <thead>\n",
       "    <tr style=\"text-align: right;\">\n",
       "      <th></th>\n",
       "      <th>Newspaper</th>\n",
       "      <th>Heading</th>\n",
       "      <th>URL</th>\n",
       "    </tr>\n",
       "  </thead>\n",
       "  <tbody>\n",
       "    <tr>\n",
       "      <th>0</th>\n",
       "      <td>Hindiustan Times</td>\n",
       "      <td>WBBSE 10th Madhyamik Result 2019: 4 alternate ...</td>\n",
       "      <td>https://www.hindustantimes.com/education/wbbse...</td>\n",
       "    </tr>\n",
       "    <tr>\n",
       "      <th>1</th>\n",
       "      <td>Hindiustan Times</td>\n",
       "      <td>NIOS D.El.Ed 4th Semester Result 2019 to be de...</td>\n",
       "      <td>https://www.hindustantimes.com/education/nios-...</td>\n",
       "    </tr>\n",
       "    <tr>\n",
       "      <th>2</th>\n",
       "      <td>Hindiustan Times</td>\n",
       "      <td>‘Stop relating marks with a successful career’</td>\n",
       "      <td>https://www.hindustantimes.com/education/stop-...</td>\n",
       "    </tr>\n",
       "    <tr>\n",
       "      <th>3</th>\n",
       "      <td>Hindiustan Times</td>\n",
       "      <td>BSE Odisha 10th Result 2019 likely on May 21 o...</td>\n",
       "      <td>https://www.hindustantimes.com/education/bse-o...</td>\n",
       "    </tr>\n",
       "    <tr>\n",
       "      <th>4</th>\n",
       "      <td>Hindiustan Times</td>\n",
       "      <td>Gujarat Board Result 2019 on May 21. Alternate...</td>\n",
       "      <td>https://www.hindustantimes.com/education/gujar...</td>\n",
       "    </tr>\n",
       "  </tbody>\n",
       "</table>\n",
       "</div>"
      ],
      "text/plain": [
       "          Newspaper                                            Heading  \\\n",
       "0  Hindiustan Times  WBBSE 10th Madhyamik Result 2019: 4 alternate ...   \n",
       "1  Hindiustan Times  NIOS D.El.Ed 4th Semester Result 2019 to be de...   \n",
       "2  Hindiustan Times     ‘Stop relating marks with a successful career’   \n",
       "3  Hindiustan Times  BSE Odisha 10th Result 2019 likely on May 21 o...   \n",
       "4  Hindiustan Times  Gujarat Board Result 2019 on May 21. Alternate...   \n",
       "\n",
       "                                                 URL  \n",
       "0  https://www.hindustantimes.com/education/wbbse...  \n",
       "1  https://www.hindustantimes.com/education/nios-...  \n",
       "2  https://www.hindustantimes.com/education/stop-...  \n",
       "3  https://www.hindustantimes.com/education/bse-o...  \n",
       "4  https://www.hindustantimes.com/education/gujar...  "
      ]
     },
     "execution_count": 16,
     "metadata": {},
     "output_type": "execute_result"
    }
   ],
   "source": [
    "df.head()"
   ]
  },
  {
   "cell_type": "code",
   "execution_count": 13,
   "metadata": {},
   "outputs": [],
   "source": [
    "df.to_csv('HT_education.csv',index=False,encoding='utf-8')"
   ]
  },
  {
   "cell_type": "code",
   "execution_count": null,
   "metadata": {},
   "outputs": [],
   "source": []
  },
  {
   "cell_type": "code",
   "execution_count": null,
   "metadata": {},
   "outputs": [],
   "source": []
  }
 ],
 "metadata": {
  "kernelspec": {
   "display_name": "Python 3",
   "language": "python",
   "name": "python3"
  },
  "language_info": {
   "codemirror_mode": {
    "name": "ipython",
    "version": 3
   },
   "file_extension": ".py",
   "mimetype": "text/x-python",
   "name": "python",
   "nbconvert_exporter": "python",
   "pygments_lexer": "ipython3",
   "version": "3.6.5"
  }
 },
 "nbformat": 4,
 "nbformat_minor": 2
}

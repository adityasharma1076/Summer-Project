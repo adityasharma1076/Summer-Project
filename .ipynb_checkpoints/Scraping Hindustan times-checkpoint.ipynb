{
 "cells": [
  {
   "cell_type": "code",
   "execution_count": 1,
   "metadata": {},
   "outputs": [],
   "source": [
    "import requests\n",
    "import bs4"
   ]
  },
  {
   "cell_type": "code",
   "execution_count": 2,
   "metadata": {},
   "outputs": [
    {
     "name": "stdout",
     "output_type": "stream",
     "text": [
      "Enter the keyword you want to searcheducation\n"
     ]
    }
   ],
   "source": [
    "link ='https://www.hindustantimes.com/search?q='\n",
    "search=input(\"Search: \")"
   ]
  },
  {
   "cell_type": "code",
   "execution_count": 3,
   "metadata": {},
   "outputs": [
    {
     "data": {
      "text/plain": [
       "'https://www.hindustantimes.com/search?q=education'"
      ]
     },
     "execution_count": 3,
     "metadata": {},
     "output_type": "execute_result"
    }
   ],
   "source": [
    "ht_url=link+search\n",
    "b"
   ]
  },
  {
   "cell_type": "code",
   "execution_count": 5,
   "metadata": {},
   "outputs": [],
   "source": [
    "res = requests.get(ht_url)"
   ]
  },
  {
   "cell_type": "code",
   "execution_count": 6,
   "metadata": {},
   "outputs": [],
   "source": [
    "soup =bs4.BeautifulSoup(res.text,'lxml')\n",
    "    "
   ]
  },
  {
   "cell_type": "code",
   "execution_count": 7,
   "metadata": {},
   "outputs": [],
   "source": [
    "hi=soup.select('.media-body')"
   ]
  },
  {
   "cell_type": "code",
   "execution_count": 8,
   "metadata": {},
   "outputs": [],
   "source": [
    "#first_result = hi[0]"
   ]
  },
  {
   "cell_type": "code",
   "execution_count": 9,
   "metadata": {},
   "outputs": [],
   "source": [
    "#first_result"
   ]
  },
  {
   "cell_type": "code",
   "execution_count": 10,
   "metadata": {},
   "outputs": [],
   "source": [
    "#first_result.find('a').text"
   ]
  },
  {
   "cell_type": "code",
   "execution_count": 11,
   "metadata": {},
   "outputs": [],
   "source": [
    "#first_result.find('a')['href']"
   ]
  },
  {
   "cell_type": "code",
   "execution_count": 12,
   "metadata": {},
   "outputs": [],
   "source": [
    "#first_result.find('span').text"
   ]
  },
  {
   "cell_type": "code",
   "execution_count": null,
   "metadata": {},
   "outputs": [],
   "source": []
  },
  {
   "cell_type": "code",
   "execution_count": 13,
   "metadata": {},
   "outputs": [],
   "source": [
    "#c='https://www.hindustantimes.com/cricket/playing-reborn-in-the-usa/story-e20wV1ETIYIHBBTaeLzdDK.html'\n",
    "#req=requests.get(c)"
   ]
  },
  {
   "cell_type": "code",
   "execution_count": 14,
   "metadata": {},
   "outputs": [],
   "source": [
    "#soup_content =bs4.BeautifulSoup(req.text,'lxml')"
   ]
  },
  {
   "cell_type": "code",
   "execution_count": 15,
   "metadata": {},
   "outputs": [],
   "source": [
    "#x=soup_content.select('.story-details')\n",
    "#soup_content.select('.media-body')"
   ]
  },
  {
   "cell_type": "code",
   "execution_count": 16,
   "metadata": {},
   "outputs": [],
   "source": [
    "#mydivs = soup_content.findAll('p')\n",
    "#mydivs[0].text"
   ]
  },
  {
   "cell_type": "code",
   "execution_count": 17,
   "metadata": {},
   "outputs": [],
   "source": [
    "def get_content(url):\n",
    "    content=[]\n",
    "    req=requests.get(url)\n",
    "    soup_content = bs4.BeautifulSoup(req.text,'lxml')\n",
    "    my_content = soup_content.findAll('p')\n",
    "    for x in my_content:\n",
    "        content.append(x.text)\n",
    "        #content.append('\\n')\n",
    "    return content    "
   ]
  },
  {
   "cell_type": "code",
   "execution_count": 27,
   "metadata": {},
   "outputs": [],
   "source": [
    "records=[]\n",
    "for i in hi:\n",
    "    heading= i.find('a').text\n",
    "    date=i.find('span').text[:12]\n",
    "    time=i.find('span').text[12:]\n",
    "    url=i.find('a')['href']\n",
    "    content = get_content(url)\n",
    "    records.append((heading,date,time,url,content))"
   ]
  },
  {
   "cell_type": "code",
   "execution_count": 28,
   "metadata": {},
   "outputs": [],
   "source": [
    "#records[0]"
   ]
  },
  {
   "cell_type": "code",
   "execution_count": 29,
   "metadata": {},
   "outputs": [
    {
     "data": {
      "text/html": [
       "<div>\n",
       "<style scoped>\n",
       "    .dataframe tbody tr th:only-of-type {\n",
       "        vertical-align: middle;\n",
       "    }\n",
       "\n",
       "    .dataframe tbody tr th {\n",
       "        vertical-align: top;\n",
       "    }\n",
       "\n",
       "    .dataframe thead th {\n",
       "        text-align: right;\n",
       "    }\n",
       "</style>\n",
       "<table border=\"1\" class=\"dataframe\">\n",
       "  <thead>\n",
       "    <tr style=\"text-align: right;\">\n",
       "      <th></th>\n",
       "      <th>Heading</th>\n",
       "      <th>Date</th>\n",
       "      <th>Time</th>\n",
       "      <th>URL</th>\n",
       "      <th>Content</th>\n",
       "    </tr>\n",
       "  </thead>\n",
       "  <tbody>\n",
       "    <tr>\n",
       "      <th>0</th>\n",
       "      <td>JAC to provide sample papers for Class 10th, 1...</td>\n",
       "      <td>May 18, 2019</td>\n",
       "      <td>12:14</td>\n",
       "      <td>https://www.hindustantimes.com/education/jac-t...</td>\n",
       "      <td>[In a bid to bring further improvement in 12th...</td>\n",
       "    </tr>\n",
       "    <tr>\n",
       "      <th>1</th>\n",
       "      <td>Number of engineering seats to shrink by 2.2 l...</td>\n",
       "      <td>May 18, 2019</td>\n",
       "      <td>11:20</td>\n",
       "      <td>https://www.hindustantimes.com/education/numbe...</td>\n",
       "      <td>[, With poor demand forcing engineering colleg...</td>\n",
       "    </tr>\n",
       "    <tr>\n",
       "      <th>2</th>\n",
       "      <td>Manipur Board Result 2019: HSLC 10th result to...</td>\n",
       "      <td>May 18, 2019</td>\n",
       "      <td>11:07</td>\n",
       "      <td>https://www.hindustantimes.com/education/manip...</td>\n",
       "      <td>[The Board of School Education Manipur (BSEM o...</td>\n",
       "    </tr>\n",
       "    <tr>\n",
       "      <th>3</th>\n",
       "      <td>Manipur Board Result 2019: BSEM to declare HSL...</td>\n",
       "      <td>May 18, 2019</td>\n",
       "      <td>09:30</td>\n",
       "      <td>https://www.hindustantimes.com/education/manip...</td>\n",
       "      <td>[Board of Secondary Education, Manipur (BSEM) ...</td>\n",
       "    </tr>\n",
       "    <tr>\n",
       "      <th>4</th>\n",
       "      <td>Lok Sabha elections 2019: Congress, BJP vie fo...</td>\n",
       "      <td>May 18, 2019</td>\n",
       "      <td>09:14</td>\n",
       "      <td>https://www.hindustantimes.com/india-news/lok-...</td>\n",
       "      <td>[From Shahdol to Ratlam 800 km away, the six s...</td>\n",
       "    </tr>\n",
       "  </tbody>\n",
       "</table>\n",
       "</div>"
      ],
      "text/plain": [
       "                                             Heading          Date    Time  \\\n",
       "0  JAC to provide sample papers for Class 10th, 1...  May 18, 2019   12:14   \n",
       "1  Number of engineering seats to shrink by 2.2 l...  May 18, 2019   11:20   \n",
       "2  Manipur Board Result 2019: HSLC 10th result to...  May 18, 2019   11:07   \n",
       "3  Manipur Board Result 2019: BSEM to declare HSL...  May 18, 2019   09:30   \n",
       "4  Lok Sabha elections 2019: Congress, BJP vie fo...  May 18, 2019   09:14   \n",
       "\n",
       "                                                 URL  \\\n",
       "0  https://www.hindustantimes.com/education/jac-t...   \n",
       "1  https://www.hindustantimes.com/education/numbe...   \n",
       "2  https://www.hindustantimes.com/education/manip...   \n",
       "3  https://www.hindustantimes.com/education/manip...   \n",
       "4  https://www.hindustantimes.com/india-news/lok-...   \n",
       "\n",
       "                                             Content  \n",
       "0  [In a bid to bring further improvement in 12th...  \n",
       "1  [, With poor demand forcing engineering colleg...  \n",
       "2  [The Board of School Education Manipur (BSEM o...  \n",
       "3  [Board of Secondary Education, Manipur (BSEM) ...  \n",
       "4  [From Shahdol to Ratlam 800 km away, the six s...  "
      ]
     },
     "execution_count": 29,
     "metadata": {},
     "output_type": "execute_result"
    }
   ],
   "source": [
    "import pandas as pd\n",
    "df=pd.DataFrame(records,columns=['Heading','Date','Time','URL','Content'])\n",
    "df.head()"
   ]
  },
  {
   "cell_type": "code",
   "execution_count": 30,
   "metadata": {},
   "outputs": [],
   "source": [
    "df['Date'] = pd.to_datetime(df['Date'])"
   ]
  },
  {
   "cell_type": "code",
   "execution_count": 31,
   "metadata": {},
   "outputs": [],
   "source": [
    "df.to_csv('HT.csv',index=False,encoding='utf-8')"
   ]
  },
  {
   "cell_type": "code",
   "execution_count": 32,
   "metadata": {},
   "outputs": [],
   "source": [
    "df=pd.read_csv('HT.csv',parse_dates=['Date'],encoding='utf-8')"
   ]
  },
  {
   "cell_type": "code",
   "execution_count": 33,
   "metadata": {},
   "outputs": [
    {
     "data": {
      "text/html": [
       "<div>\n",
       "<style scoped>\n",
       "    .dataframe tbody tr th:only-of-type {\n",
       "        vertical-align: middle;\n",
       "    }\n",
       "\n",
       "    .dataframe tbody tr th {\n",
       "        vertical-align: top;\n",
       "    }\n",
       "\n",
       "    .dataframe thead th {\n",
       "        text-align: right;\n",
       "    }\n",
       "</style>\n",
       "<table border=\"1\" class=\"dataframe\">\n",
       "  <thead>\n",
       "    <tr style=\"text-align: right;\">\n",
       "      <th></th>\n",
       "      <th>Heading</th>\n",
       "      <th>Date</th>\n",
       "      <th>Time</th>\n",
       "      <th>URL</th>\n",
       "      <th>Content</th>\n",
       "    </tr>\n",
       "  </thead>\n",
       "  <tbody>\n",
       "    <tr>\n",
       "      <th>0</th>\n",
       "      <td>JAC to provide sample papers for Class 10th, 1...</td>\n",
       "      <td>2019-05-18</td>\n",
       "      <td>12:14</td>\n",
       "      <td>https://www.hindustantimes.com/education/jac-t...</td>\n",
       "      <td>['In a bid to bring further improvement in 12t...</td>\n",
       "    </tr>\n",
       "    <tr>\n",
       "      <th>1</th>\n",
       "      <td>Number of engineering seats to shrink by 2.2 l...</td>\n",
       "      <td>2019-05-18</td>\n",
       "      <td>11:20</td>\n",
       "      <td>https://www.hindustantimes.com/education/numbe...</td>\n",
       "      <td>['', 'With poor demand forcing engineering col...</td>\n",
       "    </tr>\n",
       "    <tr>\n",
       "      <th>2</th>\n",
       "      <td>Manipur Board Result 2019: HSLC 10th result to...</td>\n",
       "      <td>2019-05-18</td>\n",
       "      <td>11:07</td>\n",
       "      <td>https://www.hindustantimes.com/education/manip...</td>\n",
       "      <td>['The Board of School Education Manipur (BSEM ...</td>\n",
       "    </tr>\n",
       "    <tr>\n",
       "      <th>3</th>\n",
       "      <td>Manipur Board Result 2019: BSEM to declare HSL...</td>\n",
       "      <td>2019-05-18</td>\n",
       "      <td>09:30</td>\n",
       "      <td>https://www.hindustantimes.com/education/manip...</td>\n",
       "      <td>['Board of Secondary Education,\\u2009Manipur (...</td>\n",
       "    </tr>\n",
       "    <tr>\n",
       "      <th>4</th>\n",
       "      <td>Lok Sabha elections 2019: Congress, BJP vie fo...</td>\n",
       "      <td>2019-05-18</td>\n",
       "      <td>09:14</td>\n",
       "      <td>https://www.hindustantimes.com/india-news/lok-...</td>\n",
       "      <td>['From Shahdol to Ratlam 800 km away, the six ...</td>\n",
       "    </tr>\n",
       "  </tbody>\n",
       "</table>\n",
       "</div>"
      ],
      "text/plain": [
       "                                             Heading       Date    Time  \\\n",
       "0  JAC to provide sample papers for Class 10th, 1... 2019-05-18   12:14   \n",
       "1  Number of engineering seats to shrink by 2.2 l... 2019-05-18   11:20   \n",
       "2  Manipur Board Result 2019: HSLC 10th result to... 2019-05-18   11:07   \n",
       "3  Manipur Board Result 2019: BSEM to declare HSL... 2019-05-18   09:30   \n",
       "4  Lok Sabha elections 2019: Congress, BJP vie fo... 2019-05-18   09:14   \n",
       "\n",
       "                                                 URL  \\\n",
       "0  https://www.hindustantimes.com/education/jac-t...   \n",
       "1  https://www.hindustantimes.com/education/numbe...   \n",
       "2  https://www.hindustantimes.com/education/manip...   \n",
       "3  https://www.hindustantimes.com/education/manip...   \n",
       "4  https://www.hindustantimes.com/india-news/lok-...   \n",
       "\n",
       "                                             Content  \n",
       "0  ['In a bid to bring further improvement in 12t...  \n",
       "1  ['', 'With poor demand forcing engineering col...  \n",
       "2  ['The Board of School Education Manipur (BSEM ...  \n",
       "3  ['Board of Secondary Education,\\u2009Manipur (...  \n",
       "4  ['From Shahdol to Ratlam 800 km away, the six ...  "
      ]
     },
     "execution_count": 33,
     "metadata": {},
     "output_type": "execute_result"
    }
   ],
   "source": [
    "df.head()"
   ]
  },
  {
   "cell_type": "code",
   "execution_count": null,
   "metadata": {},
   "outputs": [],
   "source": []
  }
 ],
 "metadata": {
  "kernelspec": {
   "display_name": "Python 3",
   "language": "python",
   "name": "python3"
  },
  "language_info": {
   "codemirror_mode": {
    "name": "ipython",
    "version": 3
   },
   "file_extension": ".py",
   "mimetype": "text/x-python",
   "name": "python",
   "nbconvert_exporter": "python",
   "pygments_lexer": "ipython3",
   "version": "3.6.5"
  }
 },
 "nbformat": 4,
 "nbformat_minor": 2
}
